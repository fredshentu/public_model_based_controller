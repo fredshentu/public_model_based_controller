{
 "cells": [
  {
   "cell_type": "code",
   "execution_count": 1,
   "metadata": {
    "collapsed": false
   },
   "outputs": [],
   "source": [
    "from core import tf_util\n",
    "import tensorflow as tf\n",
    "import numpy as np\n",
    "\n",
    "sess = tf.InteractiveSession()"
   ]
  },
  {
   "cell_type": "code",
   "execution_count": 2,
   "metadata": {
    "collapsed": false
   },
   "outputs": [],
   "source": [
    "batch_size = 5\n",
    "dim = 2\n",
    "x_shape = (batch_size, dim * dim)\n",
    "xp = tf.placeholder(tf.float32, shape=x_shape)\n",
    "x = np.random.rand(*x_shape)\n",
    "\n",
    "L = tf_util.vec2lower_triangle(xp, dim)\n",
    "\n",
    "out = sess.run(L, {xp: x})"
   ]
  },
  {
   "cell_type": "code",
   "execution_count": 3,
   "metadata": {
    "collapsed": false
   },
   "outputs": [
    {
     "name": "stdout",
     "output_type": "stream",
     "text": [
      "[[[ 1.8512007   0.        ]\n",
      "  [ 0.0853904   1.5123539 ]]\n",
      "\n",
      " [[ 1.69283712  0.        ]\n",
      "  [ 0.60007709  1.91648614]]\n",
      "\n",
      " [[ 1.22441685  0.        ]\n",
      "  [ 0.52229494  2.26390576]]\n",
      "\n",
      " [[ 1.53929102  0.        ]\n",
      "  [ 0.32693222  1.2020576 ]]\n",
      "\n",
      " [[ 2.0189271   0.        ]\n",
      "  [ 0.11629831  1.01056957]]]\n",
      "[[ 0.61583449  0.99732825  0.08539039  0.41366735]\n",
      " [ 0.52640585  0.68137442  0.6000771   0.65049337]\n",
      " [ 0.20246474  0.12256656  0.52229491  0.81709155]\n",
      " [ 0.43132193  0.91351243  0.32693222  0.18403473]\n",
      " [ 0.70256622  0.16496137  0.11629831  0.01051411]]\n",
      "1.85120075581\n",
      "1.51235395933\n"
     ]
    }
   ],
   "source": [
    "print(out)\n",
    "print(x)\n",
    "print(np.exp(x[0, 0]))\n",
    "print(np.exp(x[0, 3]))"
   ]
  },
  {
   "cell_type": "code",
   "execution_count": 4,
   "metadata": {
    "collapsed": false
   },
   "outputs": [],
   "source": [
    "delta_shape = (batch_size, dim)\n",
    "delta = np.random.rand(*(delta_shape))\n",
    "delta_p = tf.placeholder(tf.float32, shape=delta_shape)\n",
    "h1 = tf.expand_dims(delta_p, 1)  # h1_shape = batch:1:dimA\n",
    "h1 = tf.batch_matmul(h1, L)    # h1_shape = batch:1:dimA\n",
    "h1 = tf.batch_matmul(\n",
    "    h1,\n",
    "    h1,\n",
    "    adj_y=True,  # Compute h1 * h1^T\n",
    ")                              # h1_shape = batch:1:1\n",
    "h1 = tf.squeeze(h1, [1])       # h1_shape = batch:1\n",
    "output = -0.5 * h1\n",
    "\n",
    "out2 = sess.run(output, {xp: x, delta_p: delta})"
   ]
  },
  {
   "cell_type": "code",
   "execution_count": 6,
   "metadata": {
    "collapsed": false
   },
   "outputs": [
    {
     "name": "stdout",
     "output_type": "stream",
     "text": [
      "[[ 3.42694402  0.15807477]\n",
      " [ 0.15807477  2.29450583]]\n",
      "[[ 0.0332264   0.93503794]]\n",
      "[[-1.00984129]]\n",
      "[-1.00984132]\n"
     ]
    }
   ],
   "source": [
    "M1 = out[0]\n",
    "P1 = np.dot(M1, M1.T)\n",
    "in1 = delta[0:1]\n",
    "print(P1)\n",
    "print(in1)\n",
    "print(-0.5 *  in1.dot(P1).dot(in1.T))\n",
    "print(out2[0])"
   ]
  }
 ],
 "metadata": {
  "kernelspec": {
   "display_name": "Python 3",
   "language": "python",
   "name": "python3"
  },
  "language_info": {
   "codemirror_mode": {
    "name": "ipython",
    "version": 3
   },
   "file_extension": ".py",
   "mimetype": "text/x-python",
   "name": "python",
   "nbconvert_exporter": "python",
   "pygments_lexer": "ipython3",
   "version": "3.5.2"
  },
  "widgets": {
   "state": {},
   "version": "1.1.2"
  }
 },
 "nbformat": 4,
 "nbformat_minor": 2
}
