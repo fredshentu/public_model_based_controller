{
 "cells": [
  {
   "cell_type": "code",
   "execution_count": 1,
   "metadata": {
    "collapsed": true
   },
   "outputs": [],
   "source": [
    "import tensorflow as tf\n",
    "\n",
    "from algos.convex_naf import ConvexNAFAlgorithm\n",
    "from algos.ddpg import DDPG as MyDDPG\n",
    "from qfunctions.nn_quadratic_qfunction import NNQuadraticQF\n",
    "from qfunctions.nn_qfunction import FeedForwardCritic\n",
    "from qfunctions.quadratic_naf_qfunction import QuadraticNAF\n",
    "from qfunctions.quadratic_qf import QuadraticQF\n",
    "from policies.nn_policy import FeedForwardPolicy\n",
    "from rllab.exploration_strategies.ou_strategy import OUStrategy\n",
    "\n",
    "from rllab.envs.box2d.cartpole_env import CartpoleEnv\n",
    "from rllab.envs.normalized_env import normalize"
   ]
  },
  {
   "cell_type": "code",
   "execution_count": 2,
   "metadata": {
    "collapsed": true
   },
   "outputs": [],
   "source": [
    "BATCH_SIZE = 128\n",
    "N_EPOCHS = 100\n",
    "EPOCH_LENGTH = 100\n",
    "EVAL_SAMPLES = 100\n",
    "DISCOUNT = 0.99\n",
    "QF_LEARNING_RATE = 1e-3\n",
    "POLICY_LEARNING_RATE = 1e-4\n",
    "BATCH_LEARNING_RATE = 1e-2\n",
    "SOFT_TARGET_TAU = 1e-2\n",
    "REPLAY_POOL_SIZE = 1000000\n",
    "MIN_POOL_SIZE = 256\n",
    "SCALE_REWARD = 1.0\n",
    "QF_WEIGHT_DECAY = 0.01\n",
    "MAX_PATH_LENGTH = 1000\n",
    "N_UPDATES_PER_TIME_STEP = 5"
   ]
  },
  {
   "cell_type": "code",
   "execution_count": 3,
   "metadata": {
    "collapsed": false
   },
   "outputs": [
    {
     "name": "stdout",
     "output_type": "stream",
     "text": [
      "/Users/vitchyr/git/rail-rl/algos/ddpg.py\n",
      "qf params =\n",
      "['feed_forward_qfunction/observation_mlp/hidden0/weights:0', 'feed_forward_qfunction/observation_mlp/hidden0/bias:0', 'feed_forward_qfunction/fusion_mlp/hidden0/weights:0', 'feed_forward_qfunction/fusion_mlp/hidden0/bias:0', 'feed_forward_qfunction/output_linear/weights:0', 'feed_forward_qfunction/output_linear/bias:0']\n",
      "/Users/vitchyr/git/rail-rl/algos/ddpg.py\n",
      "policy params =\n",
      "['policy/hidden0/weights:0', 'policy/hidden0/bias:0', 'policy/hidden1/weights:0', 'policy/hidden1/bias:0', 'policy/weights:0', 'policy/bias:0']\n"
     ]
    }
   ],
   "source": [
    "env = normalize(CartpoleEnv())\n",
    "policy_params = dict(\n",
    "    observation_hidden_sizes=(100, 100),\n",
    "    hidden_nonlinearity=tf.nn.relu,\n",
    "    output_nonlinearity=tf.nn.tanh,\n",
    ")\n",
    "algo_params = dict(\n",
    "    batch_size=BATCH_SIZE,\n",
    "    n_epochs=N_EPOCHS,\n",
    "    epoch_length=EPOCH_LENGTH,\n",
    "    eval_samples=EVAL_SAMPLES,\n",
    "    discount=DISCOUNT,\n",
    "    policy_learning_rate=POLICY_LEARNING_RATE,\n",
    "    qf_learning_rate=QF_LEARNING_RATE,\n",
    "    soft_target_tau=SOFT_TARGET_TAU,\n",
    "    replay_pool_size=REPLAY_POOL_SIZE,\n",
    "    min_pool_size=MIN_POOL_SIZE,\n",
    "    scale_reward=SCALE_REWARD,\n",
    "    max_path_length=MAX_PATH_LENGTH,\n",
    "    qf_weight_decay=QF_WEIGHT_DECAY,\n",
    ")\n",
    "\n",
    "es = OUStrategy(env_spec=env.spec)\n",
    "policy = FeedForwardPolicy(\n",
    "    name_or_scope=\"policy\",\n",
    "    env_spec=env.spec,\n",
    "    **policy_params\n",
    ")\n",
    "# qf = NNQuadraticQF(\n",
    "#     name_or_scope=\"quadratic_qfunction\",\n",
    "#     env_spec=env.spec,\n",
    "# )\n",
    "qf = FeedForwardCritic(\n",
    "    name_or_scope=\"feed_forward_qfunction\",\n",
    "    env_spec=env.spec,\n",
    ")\n",
    "algorithm = MyDDPG(\n",
    "    env,\n",
    "    es,\n",
    "    policy,\n",
    "    qf,\n",
    "    **algo_params\n",
    ")"
   ]
  },
  {
   "cell_type": "code",
   "execution_count": 4,
   "metadata": {
    "collapsed": false
   },
   "outputs": [
    {
     "name": "stdout",
     "output_type": "stream",
     "text": [
      "2016-12-15 18:18:56.086886 PST | Populating workers...\n",
      "2016-12-15 18:18:56.088392 PST | Populated\n",
      "2016-12-15 18:18:56.093610 PST | Epoch #0 | Training started\n",
      "2016-12-15 18:18:56.224525 PST | Epoch #0 | Training finished. Time: 0.12811279296875\n",
      "2016-12-15 18:18:56.225385 PST | Epoch #1 | Training started\n",
      "2016-12-15 18:18:56.302034 PST | Epoch #1 | Training finished. Time: 0.07576704025268555\n",
      "2016-12-15 18:18:56.302822 PST | Epoch #2 | Training started\n",
      "2016-12-15 18:18:56.773080 PST | Epoch #2 | Training finished. Time: 0.46953606605529785\n",
      "2016-12-15 18:18:56.774120 PST | Epoch #2 | Collecting samples for evaluation\n"
     ]
    },
    {
     "name": "stderr",
     "output_type": "stream",
     "text": [
      "0%                          100%\n",
      "[##############################] | ETA: 00:00:00"
     ]
    },
    {
     "name": "stdout",
     "output_type": "stream",
     "text": [
      "2016-12-15 18:18:56.965377 PST | Epoch #2 | Eval time: 0.1912519931793213\n",
      "2016-12-15 18:18:56.968705 PST | ----------------------  -------------\n",
      "2016-12-15 18:18:56.970270 PST | Epoch                     2\n",
      "2016-12-15 18:18:56.971405 PST | AverageReturn            79.9541\n",
      "2016-12-15 18:18:56.972743 PST | PolicySurrogateLoss      -5.63825\n",
      "2016-12-15 18:18:56.974615 PST | QfLoss                   26.4914\n",
      "2016-12-15 18:18:56.977010 PST | YsMean                    9.28026\n",
      "2016-12-15 18:18:56.978348 PST | YsStd                     3.28306\n",
      "2016-12-15 18:18:56.979472 PST | YsMax                    10.8597\n",
      "2016-12-15 18:18:56.980815 PST | YsMin                     0\n",
      "2016-12-15 18:18:56.982342 PST | PolicyOutputMean          0.0228426\n",
      "2016-12-15 18:18:56.983861 PST | PolicyOutputStd           0.00791187\n",
      "2016-12-15 18:18:56.985928 PST | PolicyOutputMax           0.0490366\n",
      "2016-12-15 18:18:56.987306 PST | PolicyOutputMin           0.00946559\n",
      "2016-12-15 18:18:56.988592 PST | TargetPolicyOutputMean    0.000964132\n",
      "2016-12-15 18:18:56.989955 PST | TargetPolicyOutputStd     0.000820499\n",
      "2016-12-15 18:18:56.991112 PST | TargetPolicyOutputMax     0.00365229\n",
      "2016-12-15 18:18:56.992618 PST | TargetPolicyOutputMin    -2.65399e-05\n",
      "2016-12-15 18:18:56.994183 PST | QfOutputMean              5.63825\n",
      "2016-12-15 18:18:56.995375 PST | QfOutputStd               0.509952\n",
      "2016-12-15 18:18:56.996530 PST | QfOutputMax               7.73549\n",
      "2016-12-15 18:18:56.997824 PST | QfOutputMin               5.0352\n",
      "2016-12-15 18:18:56.999125 PST | TargetQfOutputMean        0.430657\n",
      "2016-12-15 18:18:57.000800 PST | TargetQfOutputStd         0.132141\n",
      "2016-12-15 18:18:57.002426 PST | TargetQfOutputMax         0.887515\n",
      "2016-12-15 18:18:57.003414 PST | TargetQfOutputMin         0.271673\n",
      "2016-12-15 18:18:57.004602 PST | RewardsMean               8.88379\n",
      "2016-12-15 18:18:57.005842 PST | RewardsStd                3.1409\n",
      "2016-12-15 18:18:57.006942 PST | RewardsMax               10\n",
      "2016-12-15 18:18:57.007794 PST | RewardsMin                0\n",
      "2016-12-15 18:18:57.009014 PST | ReturnsMean              79.9541\n"
     ]
    },
    {
     "name": "stderr",
     "output_type": "stream",
     "text": [
      "\n",
      "Total time elapsed: 00:00:00\n"
     ]
    },
    {
     "name": "stdout",
     "output_type": "stream",
     "text": [
      "2016-12-15 18:18:57.010945 PST | ReturnsStd               49.8317\n",
      "2016-12-15 18:18:57.012402 PST | ReturnsMax              169.947\n",
      "2016-12-15 18:18:57.013717 PST | ReturnsMin               19.9682\n",
      "2016-12-15 18:18:57.014561 PST | DiscountedReturnsMean    76.064\n",
      "2016-12-15 18:18:57.015577 PST | DiscountedReturnsStd     45.6625\n",
      "2016-12-15 18:18:57.016793 PST | DiscountedReturnsMax    157.01\n",
      "2016-12-15 18:18:57.017914 PST | DiscountedReturnsMin     19.8684\n",
      "2016-12-15 18:18:57.018913 PST | TrainingReturnsMean      42.0744\n",
      "2016-12-15 18:18:57.019984 PST | TrainingReturnsStd       24.323\n",
      "2016-12-15 18:18:57.020766 PST | TrainingReturnsMax      119.965\n",
      "2016-12-15 18:18:57.022099 PST | TrainingReturnsMin        9.98188\n",
      "2016-12-15 18:18:57.023062 PST | ----------------------  -------------\n",
      "2016-12-15 18:18:57.023834 PST | Epoch #3 | Training started\n",
      "2016-12-15 18:18:57.572684 PST | Epoch #3 | Training finished. Time: 0.5477688312530518\n",
      "2016-12-15 18:18:57.573452 PST | Epoch #3 | Collecting samples for evaluation\n"
     ]
    },
    {
     "name": "stderr",
     "output_type": "stream",
     "text": [
      "0%                          100%\n",
      "[##############################] | ETA: 00:00:00"
     ]
    },
    {
     "name": "stdout",
     "output_type": "stream",
     "text": [
      "2016-12-15 18:18:57.722905 PST | Epoch #3 | Eval time: 0.1494457721710205\n",
      "2016-12-15 18:18:57.724711 PST | ----------------------  -----------\n",
      "2016-12-15 18:18:57.726120 PST | Epoch                     3\n",
      "2016-12-15 18:18:57.728144 PST | AverageReturn            51.0781\n",
      "2016-12-15 18:18:57.729466 PST | PolicySurrogateLoss     -10.5884\n",
      "2016-12-15 18:18:57.734904 PST | QfLoss                   24.1599\n",
      "2016-12-15 18:18:57.737346 PST | YsMean                   12.1014\n",
      "2016-12-15 18:18:57.739032 PST | YsStd                     5.40418\n",
      "2016-12-15 18:18:57.741042 PST | YsMax                    17.3271\n",
      "2016-12-15 18:18:57.742246 PST | YsMin                     0\n",
      "2016-12-15 18:18:57.744259 PST | PolicyOutputMean          0.461524\n",
      "2016-12-15 18:18:57.745014 PST | PolicyOutputStd           0.232776\n",
      "2016-12-15 18:18:57.745875 PST | PolicyOutputMax           0.958101\n",
      "2016-12-15 18:18:57.746957 PST | PolicyOutputMin           0.16524\n",
      "2016-12-15 18:18:57.747839 PST | TargetPolicyOutputMean    0.110504\n",
      "2016-12-15 18:18:57.748714 PST | TargetPolicyOutputStd     0.0835733\n",
      "2016-12-15 18:18:57.749606 PST | TargetPolicyOutputMax     0.372546\n",
      "2016-12-15 18:18:57.750649 PST | TargetPolicyOutputMin     0.0266985\n",
      "2016-12-15 18:18:57.751522 PST | QfOutputMean             10.5884\n",
      "2016-12-15 18:18:57.752779 PST | QfOutputStd               1.47835\n",
      "2016-12-15 18:18:57.753551 PST | QfOutputMax              12.3413\n",
      "2016-12-15 18:18:57.754462 PST | QfOutputMin               6.44706\n",
      "2016-12-15 18:18:57.755489 PST | TargetQfOutputMean        4.42874\n",
      "2016-12-15 18:18:57.756208 PST | TargetQfOutputStd         0.780347\n",
      "2016-12-15 18:18:57.757049 PST | TargetQfOutputMax         7.41483\n",
      "2016-12-15 18:18:57.757965 PST | TargetQfOutputMin         3.71857\n",
      "2016-12-15 18:18:57.759293 PST | RewardsMean               8.35824\n",
      "2016-12-15 18:18:57.760374 PST | RewardsStd                3.69707\n",
      "2016-12-15 18:18:57.761307 PST | RewardsMax                9.99992\n",
      "2016-12-15 18:18:57.762304 PST | RewardsMin                0\n",
      "2016-12-15 18:18:57.763148 PST | ReturnsMean              51.0781\n",
      "2016-12-15 18:18:57.770553 PST | ReturnsStd               24.2295\n",
      "2016-12-15 18:18:57.771744 PST | ReturnsMax               99.9117\n",
      "2016-12-15 18:18:57.772611 PST | ReturnsMin               19.9707\n",
      "2016-12-15 18:18:57.774043 PST | DiscountedReturnsMean    49.7588\n",
      "2016-12-15 18:18:57.775189 PST | DiscountedReturnsStd     22.944\n"
     ]
    },
    {
     "name": "stderr",
     "output_type": "stream",
     "text": [
      "\n",
      "Total time elapsed: 00:00:00\n"
     ]
    },
    {
     "name": "stdout",
     "output_type": "stream",
     "text": [
      "2016-12-15 18:18:57.775913 PST | DiscountedReturnsMax     95.5328\n",
      "2016-12-15 18:18:57.776980 PST | DiscountedReturnsMin     19.8708\n",
      "2016-12-15 18:18:57.777823 PST | TrainingReturnsMean      46.0846\n",
      "2016-12-15 18:18:57.778729 PST | TrainingReturnsStd       30.0191\n",
      "2016-12-15 18:18:57.779676 PST | TrainingReturnsMax      149.939\n",
      "2016-12-15 18:18:57.780628 PST | TrainingReturnsMin       19.9708\n",
      "2016-12-15 18:18:57.781416 PST | ----------------------  -----------\n",
      "2016-12-15 18:18:57.782329 PST | Epoch #4 | Training started\n",
      "2016-12-15 18:18:58.430352 PST | Epoch #4 | Training finished. Time: 0.6471447944641113\n",
      "2016-12-15 18:18:58.431121 PST | Epoch #4 | Collecting samples for evaluation\n"
     ]
    },
    {
     "name": "stderr",
     "output_type": "stream",
     "text": [
      "0%                          100%\n",
      "[##############################] | ETA: 00:00:00"
     ]
    },
    {
     "name": "stdout",
     "output_type": "stream",
     "text": [
      "2016-12-15 18:18:58.572370 PST | Epoch #4 | Eval time: 0.14123201370239258\n",
      "2016-12-15 18:18:58.574603 PST | ----------------------  ----------\n",
      "2016-12-15 18:18:58.576021 PST | Epoch                     4\n",
      "2016-12-15 18:18:58.577301 PST | AverageReturn            26.0535\n",
      "2016-12-15 18:18:58.578234 PST | PolicySurrogateLoss     -13.1124\n",
      "2016-12-15 18:18:58.579084 PST | QfLoss                   22.8402\n",
      "2016-12-15 18:18:58.580680 PST | YsMean                   12.9496\n",
      "2016-12-15 18:18:58.582451 PST | YsStd                     8.09417\n",
      "2016-12-15 18:18:58.584620 PST | YsMax                    20.0753\n",
      "2016-12-15 18:18:58.585962 PST | YsMin                     0\n",
      "2016-12-15 18:18:58.586989 PST | PolicyOutputMean          0.897227\n",
      "2016-12-15 18:18:58.588138 PST | PolicyOutputStd           0.12828\n",
      "2016-12-15 18:18:58.589560 PST | PolicyOutputMax           0.999999\n",
      "2016-12-15 18:18:58.590748 PST | PolicyOutputMin           0.659484\n",
      "2016-12-15 18:18:58.591823 PST | TargetPolicyOutputMean    0.591738\n",
      "2016-12-15 18:18:58.593207 PST | TargetPolicyOutputStd     0.29017\n",
      "2016-12-15 18:18:58.594092 PST | TargetPolicyOutputMax     0.984084\n",
      "2016-12-15 18:18:58.595071 PST | TargetPolicyOutputMin     0.203553\n",
      "2016-12-15 18:18:58.596220 PST | QfOutputMean             13.1124\n",
      "2016-12-15 18:18:58.597822 PST | QfOutputStd               5.97292\n",
      "2016-12-15 18:18:58.598633 PST | QfOutputMax              19.9683\n",
      "2016-12-15 18:18:58.600798 PST | QfOutputMin               1.1657\n",
      "2016-12-15 18:18:58.602325 PST | TargetQfOutputMean        8.68096\n",
      "2016-12-15 18:18:58.603226 PST | TargetQfOutputStd         1.55319\n",
      "2016-12-15 18:18:58.604584 PST | TargetQfOutputMax        10.4471\n",
      "2016-12-15 18:18:58.605639 PST | TargetQfOutputMin         5.50026\n",
      "2016-12-15 18:18:58.606798 PST | RewardsMean               7.22275\n",
      "2016-12-15 18:18:58.607618 PST | RewardsStd                4.47322\n",
      "2016-12-15 18:18:58.608472 PST | RewardsMax                9.99954\n",
      "2016-12-15 18:18:58.609710 PST | RewardsMin                0\n",
      "2016-12-15 18:18:58.610683 PST | ReturnsMean              26.0535\n",
      "2016-12-15 18:18:58.611850 PST | ReturnsStd               10.8\n",
      "2016-12-15 18:18:58.613276 PST | ReturnsMax               39.9791\n",
      "2016-12-15 18:18:58.614412 PST | ReturnsMin                9.98194\n",
      "2016-12-15 18:18:58.616006 PST | DiscountedReturnsMean    25.7872\n",
      "2016-12-15 18:18:58.618014 PST | DiscountedReturnsStd     10.5755\n",
      "2016-12-15 18:18:58.619541 PST | DiscountedReturnsMax     39.3834\n",
      "2016-12-15 18:18:58.620719 PST | DiscountedReturnsMin      9.98194\n",
      "2016-12-15 18:18:58.621894 PST | TrainingReturnsMean      30.7764\n",
      "2016-12-15 18:18:58.622983 PST | TrainingReturnsStd       14.1132\n",
      "2016-12-15 18:18:58.623804 PST | TrainingReturnsMax       69.9669\n",
      "2016-12-15 18:18:58.624560 PST | TrainingReturnsMin        9.98773\n",
      "2016-12-15 18:18:58.625614 PST | ----------------------  ----------\n",
      "2016-12-15 18:18:58.626883 PST | Epoch #5 | Training started\n"
     ]
    },
    {
     "name": "stderr",
     "output_type": "stream",
     "text": [
      "\n",
      "Total time elapsed: 00:00:00\n"
     ]
    },
    {
     "name": "stdout",
     "output_type": "stream",
     "text": [
      "2016-12-15 18:18:59.209741 PST | Epoch #5 | Training finished. Time: 0.5815231800079346\n",
      "2016-12-15 18:18:59.210602 PST | Epoch #5 | Collecting samples for evaluation\n"
     ]
    },
    {
     "name": "stderr",
     "output_type": "stream",
     "text": [
      "0%                          100%\n",
      "[##############################] | ETA: 00:00:00"
     ]
    },
    {
     "name": "stdout",
     "output_type": "stream",
     "text": [
      "2016-12-15 18:18:59.335169 PST | Epoch #5 | Eval time: 0.12456202507019043\n",
      "2016-12-15 18:18:59.336899 PST | ----------------------  -----------\n",
      "2016-12-15 18:18:59.337815 PST | Epoch                     5\n",
      "2016-12-15 18:18:59.338501 PST | AverageReturn            24.3178\n",
      "2016-12-15 18:18:59.339161 PST | PolicySurrogateLoss     -15.0432\n",
      "2016-12-15 18:18:59.340071 PST | QfLoss                   12.2569\n",
      "2016-12-15 18:18:59.341166 PST | YsMean                   14.0054\n",
      "2016-12-15 18:18:59.341964 PST | YsStd                     9.69292\n",
      "2016-12-15 18:18:59.342772 PST | YsMax                    27.7947\n",
      "2016-12-15 18:18:59.343697 PST | YsMin                     0\n",
      "2016-12-15 18:18:59.344696 PST | PolicyOutputMean          0.939151\n",
      "2016-12-15 18:18:59.345492 PST | PolicyOutputStd           0.0808254\n",
      "2016-12-15 18:18:59.346105 PST | PolicyOutputMax           1\n",
      "2016-12-15 18:18:59.346813 PST | PolicyOutputMin           0.784633\n",
      "2016-12-15 18:18:59.347514 PST | TargetPolicyOutputMean    0.841771\n",
      "2016-12-15 18:18:59.348282 PST | TargetPolicyOutputStd     0.187496\n",
      "2016-12-15 18:18:59.349357 PST | TargetPolicyOutputMax     0.999959\n",
      "2016-12-15 18:18:59.350838 PST | TargetPolicyOutputMin     0.560452\n",
      "2016-12-15 18:18:59.352242 PST | QfOutputMean             15.0432\n",
      "2016-12-15 18:18:59.353072 PST | QfOutputStd               9.20325\n",
      "2016-12-15 18:18:59.353993 PST | QfOutputMax              27.4875\n",
      "2016-12-15 18:18:59.354866 PST | QfOutputMin               0.234196\n",
      "2016-12-15 18:18:59.355548 PST | TargetQfOutputMean       12.2048\n",
      "2016-12-15 18:18:59.356415 PST | TargetQfOutputStd         5.18705\n",
      "2016-12-15 18:18:59.357210 PST | TargetQfOutputMax        17.9835\n",
      "2016-12-15 18:18:59.358339 PST | TargetQfOutputMin         1.99408\n",
      "2016-12-15 18:18:59.359193 PST | RewardsMean               7.08284\n",
      "2016-12-15 18:18:59.359868 PST | RewardsStd                4.54053\n",
      "2016-12-15 18:18:59.360872 PST | RewardsMax                9.99932\n",
      "2016-12-15 18:18:59.361778 PST | RewardsMin                0\n",
      "2016-12-15 18:18:59.362457 PST | ReturnsMean              24.3178\n",
      "2016-12-15 18:18:59.363376 PST | ReturnsStd               10.2238\n",
      "2016-12-15 18:18:59.364549 PST | ReturnsMax               39.9798\n",
      "2016-12-15 18:18:59.366310 PST | ReturnsMin                9.97957\n",
      "2016-12-15 18:18:59.367313 PST | DiscountedReturnsMean    24.0922\n",
      "2016-12-15 18:18:59.368026 PST | DiscountedReturnsStd     10.0376\n",
      "2016-12-15 18:18:59.368761 PST | DiscountedReturnsMax     39.3841\n",
      "2016-12-15 18:18:59.369489 PST | DiscountedReturnsMin      9.97957\n",
      "2016-12-15 18:18:59.370570 PST | TrainingReturnsMean      31.2288\n",
      "2016-12-15 18:18:59.371278 PST | TrainingReturnsStd       13.9312\n",
      "2016-12-15 18:18:59.371966 PST | TrainingReturnsMax       59.9625\n",
      "2016-12-15 18:18:59.372908 PST | TrainingReturnsMin        9.9822\n",
      "2016-12-15 18:18:59.373698 PST | ----------------------  -----------\n",
      "2016-12-15 18:18:59.374429 PST | Epoch #6 | Training started\n"
     ]
    },
    {
     "name": "stderr",
     "output_type": "stream",
     "text": [
      "\n",
      "Total time elapsed: 00:00:00\n"
     ]
    },
    {
     "name": "stdout",
     "output_type": "stream",
     "text": [
      "2016-12-15 18:18:59.929451 PST | Epoch #6 | Training finished. Time: 0.5539369583129883\n",
      "2016-12-15 18:18:59.930764 PST | Epoch #6 | Collecting samples for evaluation\n"
     ]
    },
    {
     "name": "stderr",
     "output_type": "stream",
     "text": [
      "0%                          100%\n",
      "[##############################] | ETA: 00:00:00"
     ]
    },
    {
     "name": "stdout",
     "output_type": "stream",
     "text": [
      "2016-12-15 18:19:00.041678 PST | Epoch #6 | Eval time: 0.11090612411499023\n",
      "2016-12-15 18:19:00.043892 PST | ----------------------  ----------\n",
      "2016-12-15 18:19:00.044853 PST | Epoch                     6\n",
      "2016-12-15 18:19:00.045626 PST | AverageReturn            50.5577\n",
      "2016-12-15 18:19:00.046320 PST | PolicySurrogateLoss     -20.5221\n",
      "2016-12-15 18:19:00.047167 PST | QfLoss                    6.84521\n",
      "2016-12-15 18:19:00.047855 PST | YsMean                   21.6831\n",
      "2016-12-15 18:19:00.048534 PST | YsStd                    11.857\n",
      "2016-12-15 18:19:00.049500 PST | YsMax                    37.4229\n",
      "2016-12-15 18:19:00.050178 PST | YsMin                     0\n",
      "2016-12-15 18:19:00.051071 PST | PolicyOutputMean          0.411452\n",
      "2016-12-15 18:19:00.052236 PST | PolicyOutputStd           0.200005\n",
      "2016-12-15 18:19:00.052990 PST | PolicyOutputMax           0.894926\n",
      "2016-12-15 18:19:00.053699 PST | PolicyOutputMin           0.179058\n",
      "2016-12-15 18:19:00.054532 PST | TargetPolicyOutputMean    0.756077\n",
      "2016-12-15 18:19:00.055244 PST | TargetPolicyOutputStd     0.185629\n",
      "2016-12-15 18:19:00.056068 PST | TargetPolicyOutputMax     0.999463\n",
      "2016-12-15 18:19:00.057324 PST | TargetPolicyOutputMin     0.496079\n",
      "2016-12-15 18:19:00.058302 PST | QfOutputMean             20.5221\n",
      "2016-12-15 18:19:00.058999 PST | QfOutputStd              11.0056\n",
      "2016-12-15 18:19:00.060086 PST | QfOutputMax              36.7225\n",
      "2016-12-15 18:19:00.060921 PST | QfOutputMin               0.096476\n",
      "2016-12-15 18:19:00.061631 PST | TargetQfOutputMean       17.5004\n",
      "2016-12-15 18:19:00.062333 PST | TargetQfOutputStd         7.61545\n",
      "2016-12-15 18:19:00.063219 PST | TargetQfOutputMax        27.7107\n",
      "2016-12-15 18:19:00.063844 PST | TargetQfOutputMin         0.340132\n",
      "2016-12-15 18:19:00.064633 PST | RewardsMean               8.34447\n",
      "2016-12-15 18:19:00.065296 PST | RewardsStd                3.71001\n",
      "2016-12-15 18:19:00.066125 PST | RewardsMax                9.99994\n",
      "2016-12-15 18:19:00.066999 PST | RewardsMin                0\n",
      "2016-12-15 18:19:00.068070 PST | ReturnsMean              50.5577\n",
      "2016-12-15 18:19:00.068878 PST | ReturnsStd               17.6439\n",
      "2016-12-15 18:19:00.069738 PST | ReturnsMax               79.9684\n",
      "2016-12-15 18:19:00.070443 PST | ReturnsMin               29.9597\n",
      "2016-12-15 18:19:00.071448 PST | DiscountedReturnsMean    49.3932\n",
      "2016-12-15 18:19:00.072098 PST | DiscountedReturnsStd     16.783\n",
      "2016-12-15 18:19:00.073093 PST | DiscountedReturnsMax     77.2255\n",
      "2016-12-15 18:19:00.074268 PST | DiscountedReturnsMin     29.6612\n",
      "2016-12-15 18:19:00.075351 PST | TrainingReturnsMean      35.2204\n",
      "2016-12-15 18:19:00.076563 PST | TrainingReturnsStd       12.9476\n",
      "2016-12-15 18:19:00.077342 PST | TrainingReturnsMax       59.9806\n",
      "2016-12-15 18:19:00.078034 PST | TrainingReturnsMin        9.98636\n",
      "2016-12-15 18:19:00.078735 PST | ----------------------  ----------\n",
      "2016-12-15 18:19:00.079468 PST | Epoch #7 | Training started\n"
     ]
    },
    {
     "name": "stderr",
     "output_type": "stream",
     "text": [
      "\n",
      "Total time elapsed: 00:00:00\n"
     ]
    },
    {
     "name": "stdout",
     "output_type": "stream",
     "text": [
      "2016-12-15 18:19:00.635606 PST | Epoch #7 | Training finished. Time: 0.5552749633789062\n",
      "2016-12-15 18:19:00.636408 PST | Epoch #7 | Collecting samples for evaluation\n"
     ]
    },
    {
     "name": "stderr",
     "output_type": "stream",
     "text": [
      "0%                          100%\n",
      "[##############################] | ETA: 00:00:00"
     ]
    },
    {
     "name": "stdout",
     "output_type": "stream",
     "text": [
      "2016-12-15 18:19:00.723539 PST | Epoch #7 | Eval time: 0.08712410926818848\n",
      "2016-12-15 18:19:00.725235 PST | ----------------------  ------------\n",
      "2016-12-15 18:19:00.726094 PST | Epoch                     7\n",
      "2016-12-15 18:19:00.726908 PST | AverageReturn            89.9468\n",
      "2016-12-15 18:19:00.727648 PST | PolicySurrogateLoss     -27.9649\n",
      "2016-12-15 18:19:00.728395 PST | QfLoss                   50.7084\n",
      "2016-12-15 18:19:00.729123 PST | YsMean                   31.0866\n",
      "2016-12-15 18:19:00.729934 PST | YsStd                    11.4971\n",
      "2016-12-15 18:19:00.730595 PST | YsMax                    40.3676\n",
      "2016-12-15 18:19:00.731331 PST | YsMin                     0\n",
      "2016-12-15 18:19:00.731999 PST | PolicyOutputMean         -0.0213871\n",
      "2016-12-15 18:19:00.732697 PST | PolicyOutputStd           0.00484344\n",
      "2016-12-15 18:19:00.733461 PST | PolicyOutputMax          -0.0147117\n",
      "2016-12-15 18:19:00.734122 PST | PolicyOutputMin          -0.0359275\n",
      "2016-12-15 18:19:00.734833 PST | TargetPolicyOutputMean    0.186481\n",
      "2016-12-15 18:19:00.735686 PST | TargetPolicyOutputStd     0.0669766\n",
      "2016-12-15 18:19:00.736398 PST | TargetPolicyOutputMax     0.394131\n",
      "2016-12-15 18:19:00.737110 PST | TargetPolicyOutputMin     0.12113\n",
      "2016-12-15 18:19:00.737751 PST | QfOutputMean             27.9649\n",
      "2016-12-15 18:19:00.738454 PST | QfOutputStd               7.33598\n",
      "2016-12-15 18:19:00.739124 PST | QfOutputMax              37.4061\n",
      "2016-12-15 18:19:00.739945 PST | QfOutputMin               6.05294\n",
      "2016-12-15 18:19:00.740609 PST | TargetQfOutputMean       25.2876\n",
      "2016-12-15 18:19:00.741415 PST | TargetQfOutputStd         5.23975\n",
      "2016-12-15 18:19:00.742217 PST | TargetQfOutputMax        30.6765\n",
      "2016-12-15 18:19:00.742968 PST | TargetQfOutputMin         9.68058\n",
      "2016-12-15 18:19:00.743692 PST | RewardsMean               8.99468\n",
      "2016-12-15 18:19:00.744374 PST | RewardsStd                2.99823\n",
      "2016-12-15 18:19:00.745158 PST | RewardsMax               10\n",
      "2016-12-15 18:19:00.745869 PST | RewardsMin                0\n",
      "2016-12-15 18:19:00.746568 PST | ReturnsMean              89.9468\n",
      "2016-12-15 18:19:00.747190 PST | ReturnsStd               57.9871\n",
      "2016-12-15 18:19:00.748208 PST | ReturnsMax              199.928\n",
      "2016-12-15 18:19:00.749283 PST | ReturnsMin               19.9672\n",
      "2016-12-15 18:19:00.750370 PST | DiscountedReturnsMean    84.8951\n",
      "2016-12-15 18:19:00.751517 PST | DiscountedReturnsStd     52.5586\n",
      "2016-12-15 18:19:00.752648 PST | DiscountedReturnsMax    182.031\n",
      "2016-12-15 18:19:00.753875 PST | DiscountedReturnsMin     19.8674\n",
      "2016-12-15 18:19:00.755047 PST | TrainingReturnsMean      53.7148\n",
      "2016-12-15 18:19:00.756167 PST | TrainingReturnsStd       34.7891\n",
      "2016-12-15 18:19:00.757447 PST | TrainingReturnsMax      129.954\n",
      "2016-12-15 18:19:00.758590 PST | TrainingReturnsMin       19.9691\n",
      "2016-12-15 18:19:00.759829 PST | ----------------------  ------------\n",
      "2016-12-15 18:19:00.761207 PST | Epoch #8 | Training started\n"
     ]
    },
    {
     "name": "stderr",
     "output_type": "stream",
     "text": [
      "\n",
      "Total time elapsed: 00:00:00\n"
     ]
    },
    {
     "name": "stdout",
     "output_type": "stream",
     "text": [
      "2016-12-15 18:19:01.341460 PST | Epoch #8 | Training finished. Time: 0.5790019035339355\n",
      "2016-12-15 18:19:01.342370 PST | Epoch #8 | Collecting samples for evaluation\n"
     ]
    },
    {
     "name": "stderr",
     "output_type": "stream",
     "text": [
      "0%                          100%\n",
      "[##############################] | ETA: 00:00:00"
     ]
    },
    {
     "name": "stdout",
     "output_type": "stream",
     "text": [
      "2016-12-15 18:19:01.455124 PST | Epoch #8 | Eval time: 0.11273884773254395\n",
      "2016-12-15 18:19:01.457216 PST | ----------------------  ------------\n",
      "2016-12-15 18:19:01.458335 PST | Epoch                     8\n",
      "2016-12-15 18:19:01.459461 PST | AverageReturn            76.6099\n",
      "2016-12-15 18:19:01.460680 PST | PolicySurrogateLoss     -32.291\n",
      "2016-12-15 18:19:01.462077 PST | QfLoss                   34.6211\n",
      "2016-12-15 18:19:01.463185 PST | YsMean                   33.9412\n",
      "2016-12-15 18:19:01.464194 PST | YsStd                    17.5417\n",
      "2016-12-15 18:19:01.465273 PST | YsMax                    64.4235\n",
      "2016-12-15 18:19:01.466623 PST | YsMin                     0\n",
      "2016-12-15 18:19:01.467357 PST | PolicyOutputMean         -0.304645\n",
      "2016-12-15 18:19:01.468229 PST | PolicyOutputStd           0.182719\n",
      "2016-12-15 18:19:01.469346 PST | PolicyOutputMax          -0.12034\n",
      "2016-12-15 18:19:01.470511 PST | PolicyOutputMin          -0.849118\n",
      "2016-12-15 18:19:01.471599 PST | TargetPolicyOutputMean   -0.0161069\n",
      "2016-12-15 18:19:01.472670 PST | TargetPolicyOutputStd     0.012547\n",
      "2016-12-15 18:19:01.473536 PST | TargetPolicyOutputMax     0.00367645\n",
      "2016-12-15 18:19:01.474603 PST | TargetPolicyOutputMin    -0.0555646\n",
      "2016-12-15 18:19:01.475627 PST | QfOutputMean             32.291\n",
      "2016-12-15 18:19:01.476738 PST | QfOutputStd              15.0125\n",
      "2016-12-15 18:19:01.477831 PST | QfOutputMax              64.2015\n",
      "2016-12-15 18:19:01.478859 PST | QfOutputMin              -0.703578\n",
      "2016-12-15 18:19:01.479704 PST | TargetQfOutputMean       29.2803\n",
      "2016-12-15 18:19:01.480600 PST | TargetQfOutputStd        12.79\n",
      "2016-12-15 18:19:01.481623 PST | TargetQfOutputMax        54.9911\n",
      "2016-12-15 18:19:01.482446 PST | TargetQfOutputMin        -0.599487\n",
      "2016-12-15 18:19:01.483491 PST | RewardsMean               8.83961\n",
      "2016-12-15 18:19:01.484582 PST | RewardsStd                3.1925\n",
      "2016-12-15 18:19:01.485487 PST | RewardsMax                9.99993\n",
      "2016-12-15 18:19:01.486514 PST | RewardsMin                0\n",
      "2016-12-15 18:19:01.487637 PST | ReturnsMean              76.6099\n",
      "2016-12-15 18:19:01.488587 PST | ReturnsStd               52.6014\n",
      "2016-12-15 18:19:01.489434 PST | ReturnsMax              179.76\n",
      "2016-12-15 18:19:01.490254 PST | ReturnsMin               19.9704\n",
      "2016-12-15 18:19:01.491290 PST | DiscountedReturnsMean    72.8255\n",
      "2016-12-15 18:19:01.492395 PST | DiscountedReturnsStd     48.0158\n",
      "2016-12-15 18:19:01.493424 PST | DiscountedReturnsMax    165.263\n",
      "2016-12-15 18:19:01.494465 PST | DiscountedReturnsMin     19.8706\n",
      "2016-12-15 18:19:01.495524 PST | TrainingReturnsMean      42.6019\n",
      "2016-12-15 18:19:01.496688 PST | TrainingReturnsStd       25.9189\n",
      "2016-12-15 18:19:01.497597 PST | TrainingReturnsMax       99.9867\n",
      "2016-12-15 18:19:01.498549 PST | TrainingReturnsMin        9.98241\n",
      "2016-12-15 18:19:01.499628 PST | ----------------------  ------------\n",
      "2016-12-15 18:19:01.500748 PST | Epoch #9 | Training started\n"
     ]
    },
    {
     "name": "stderr",
     "output_type": "stream",
     "text": [
      "\n",
      "Total time elapsed: 00:00:00\n"
     ]
    },
    {
     "name": "stdout",
     "output_type": "stream",
     "text": [
      "2016-12-15 18:19:02.275483 PST | Epoch #9 | Training finished. Time: 0.7736639976501465\n",
      "2016-12-15 18:19:02.276253 PST | Epoch #9 | Collecting samples for evaluation\n"
     ]
    },
    {
     "name": "stderr",
     "output_type": "stream",
     "text": [
      "0%                          100%\n",
      "[##############################] | ETA: 00:00:00"
     ]
    },
    {
     "name": "stdout",
     "output_type": "stream",
     "text": [
      "2016-12-15 18:19:02.444093 PST | Epoch #9 | Eval time: 0.1678321361541748\n",
      "2016-12-15 18:19:02.445898 PST | ----------------------  ----------\n",
      "2016-12-15 18:19:02.446651 PST | Epoch                     9\n",
      "2016-12-15 18:19:02.447667 PST | AverageReturn            27.0186\n",
      "2016-12-15 18:19:02.448781 PST | PolicySurrogateLoss     -22.3353\n",
      "2016-12-15 18:19:02.449764 PST | QfLoss                   66.5747\n",
      "2016-12-15 18:19:02.451155 PST | YsMean                   19.149\n",
      "2016-12-15 18:19:02.452347 PST | YsStd                    16.2897\n",
      "2016-12-15 18:19:02.454407 PST | YsMax                    48.4964\n",
      "2016-12-15 18:19:02.456660 PST | YsMin                     0\n",
      "2016-12-15 18:19:02.457810 PST | PolicyOutputMean         -0.737854\n",
      "2016-12-15 18:19:02.458776 PST | PolicyOutputStd           0.211372\n",
      "2016-12-15 18:19:02.460188 PST | PolicyOutputMax          -0.433073\n",
      "2016-12-15 18:19:02.461351 PST | PolicyOutputMin          -0.999188\n",
      "2016-12-15 18:19:02.462447 PST | TargetPolicyOutputMean   -0.414408\n",
      "2016-12-15 18:19:02.463230 PST | TargetPolicyOutputStd     0.239583\n",
      "2016-12-15 18:19:02.464286 PST | TargetPolicyOutputMax    -0.155042\n",
      "2016-12-15 18:19:02.465476 PST | TargetPolicyOutputMin    -0.901841\n",
      "2016-12-15 18:19:02.466397 PST | QfOutputMean             22.3353\n",
      "2016-12-15 18:19:02.467816 PST | QfOutputStd              17.0664\n",
      "2016-12-15 18:19:02.469802 PST | QfOutputMax              46.9186\n",
      "2016-12-15 18:19:02.471441 PST | QfOutputMin              -2.73707\n",
      "2016-12-15 18:19:02.473370 PST | TargetQfOutputMean       22.1196\n",
      "2016-12-15 18:19:02.474921 PST | TargetQfOutputStd        14.8552\n",
      "2016-12-15 18:19:02.477243 PST | TargetQfOutputMax        38.8933\n"
     ]
    },
    {
     "name": "stderr",
     "output_type": "stream",
     "text": [
      "\n",
      "Total time elapsed: 00:00:00\n"
     ]
    },
    {
     "name": "stdout",
     "output_type": "stream",
     "text": [
      "2016-12-15 18:19:02.480455 PST | TargetQfOutputMin        -1.68308\n",
      "2016-12-15 18:19:02.481767 PST | RewardsMean               7.29502\n",
      "2016-12-15 18:19:02.483131 PST | RewardsStd                4.43657\n",
      "2016-12-15 18:19:02.484481 PST | RewardsMax                9.99979\n",
      "2016-12-15 18:19:02.486249 PST | RewardsMin                0\n",
      "2016-12-15 18:19:02.487815 PST | ReturnsMean              27.0186\n",
      "2016-12-15 18:19:02.489542 PST | ReturnsStd               11.4858\n",
      "2016-12-15 18:19:02.490813 PST | ReturnsMax               49.9718\n",
      "2016-12-15 18:19:02.492271 PST | ReturnsMin                9.98075\n",
      "2016-12-15 18:19:02.494519 PST | DiscountedReturnsMean    26.7242\n",
      "2016-12-15 18:19:02.495960 PST | DiscountedReturnsStd     11.2344\n",
      "2016-12-15 18:19:02.497550 PST | DiscountedReturnsMax     48.9826\n",
      "2016-12-15 18:19:02.498887 PST | DiscountedReturnsMin      9.98075\n",
      "2016-12-15 18:19:02.500839 PST | TrainingReturnsMean      51.1411\n",
      "2016-12-15 18:19:02.501963 PST | TrainingReturnsStd       31.5884\n",
      "2016-12-15 18:19:02.503469 PST | TrainingReturnsMax      129.947\n",
      "2016-12-15 18:19:02.504714 PST | TrainingReturnsMin        9.98365\n",
      "2016-12-15 18:19:02.506109 PST | ----------------------  ----------\n",
      "2016-12-15 18:19:02.507178 PST | Epoch #10 | Training started\n",
      "2016-12-15 18:19:03.281883 PST | Epoch #10 | Training finished. Time: 0.7735528945922852\n",
      "2016-12-15 18:19:03.282647 PST | Epoch #10 | Collecting samples for evaluation\n"
     ]
    },
    {
     "name": "stderr",
     "output_type": "stream",
     "text": [
      "0%                          100%\n",
      "[##############################] | ETA: 00:00:00"
     ]
    },
    {
     "name": "stdout",
     "output_type": "stream",
     "text": [
      "2016-12-15 18:19:03.442094 PST | Epoch #10 | Eval time: 0.15943694114685059\n",
      "2016-12-15 18:19:03.444446 PST | ----------------------  ----------\n",
      "2016-12-15 18:19:03.445418 PST | Epoch                    10\n",
      "2016-12-15 18:19:03.446387 PST | AverageReturn            28.8247\n",
      "2016-12-15 18:19:03.447438 PST | PolicySurrogateLoss     -21.2348\n",
      "2016-12-15 18:19:03.448406 PST | QfLoss                   59.4365\n",
      "2016-12-15 18:19:03.449380 PST | YsMean                   18.0227\n",
      "2016-12-15 18:19:03.450324 PST | YsStd                    15.934\n",
      "2016-12-15 18:19:03.451385 PST | YsMax                    52.5811\n",
      "2016-12-15 18:19:03.452332 PST | YsMin                     0\n",
      "2016-12-15 18:19:03.453370 PST | PolicyOutputMean         -0.814505\n",
      "2016-12-15 18:19:03.454328 PST | PolicyOutputStd           0.174275\n",
      "2016-12-15 18:19:03.455384 PST | PolicyOutputMax          -0.536355\n",
      "2016-12-15 18:19:03.456471 PST | PolicyOutputMin          -0.999835\n",
      "2016-12-15 18:19:03.457449 PST | TargetPolicyOutputMean   -0.704029\n",
      "2016-12-15 18:19:03.458410 PST | TargetPolicyOutputStd     0.242179\n",
      "2016-12-15 18:19:03.459296 PST | TargetPolicyOutputMax    -0.373447\n",
      "2016-12-15 18:19:03.460238 PST | TargetPolicyOutputMin    -0.998008\n",
      "2016-12-15 18:19:03.461133 PST | QfOutputMean             21.2348\n",
      "2016-12-15 18:19:03.462210 PST | QfOutputStd              16.4706\n",
      "2016-12-15 18:19:03.463101 PST | QfOutputMax              44.6548\n",
      "2016-12-15 18:19:03.464174 PST | QfOutputMin              -1.24999\n",
      "2016-12-15 18:19:03.465065 PST | TargetQfOutputMean       21.0416\n",
      "2016-12-15 18:19:03.466190 PST | TargetQfOutputStd        16.4463\n",
      "2016-12-15 18:19:03.467190 PST | TargetQfOutputMax        43.0205\n",
      "2016-12-15 18:19:03.468014 PST | TargetQfOutputMin        -1.63206\n",
      "2016-12-15 18:19:03.469110 PST | RewardsMean               7.42022\n",
      "2016-12-15 18:19:03.470181 PST | RewardsStd                4.36891\n",
      "2016-12-15 18:19:03.471091 PST | RewardsMax                9.99959\n",
      "2016-12-15 18:19:03.471932 PST | RewardsMin                0\n",
      "2016-12-15 18:19:03.472983 PST | ReturnsMean              28.8247\n",
      "2016-12-15 18:19:03.473944 PST | ReturnsStd                9.73565\n",
      "2016-12-15 18:19:03.474732 PST | ReturnsMax               49.9628\n",
      "2016-12-15 18:19:03.475697 PST | ReturnsMin                9.9799\n",
      "2016-12-15 18:19:03.476513 PST | DiscountedReturnsMean    28.5074\n",
      "2016-12-15 18:19:03.477589 PST | DiscountedReturnsStd      9.51828\n",
      "2016-12-15 18:19:03.478452 PST | DiscountedReturnsMax     48.9737\n",
      "2016-12-15 18:19:03.479360 PST | DiscountedReturnsMin      9.9799\n",
      "2016-12-15 18:19:03.480514 PST | TrainingReturnsMean      33.1594\n",
      "2016-12-15 18:19:03.481770 PST | TrainingReturnsStd       12.9229\n",
      "2016-12-15 18:19:03.482869 PST | TrainingReturnsMax       59.9672\n",
      "2016-12-15 18:19:03.483711 PST | TrainingReturnsMin        9.98479\n",
      "2016-12-15 18:19:03.484798 PST | ----------------------  ----------\n"
     ]
    },
    {
     "name": "stderr",
     "output_type": "stream",
     "text": [
      "\n",
      "Total time elapsed: 00:00:00\n"
     ]
    },
    {
     "name": "stdout",
     "output_type": "stream",
     "text": [
      "2016-12-15 18:19:03.485724 PST | Epoch #11 | Training started\n",
      "2016-12-15 18:19:04.077366 PST | Epoch #11 | Training finished. Time: 0.5903830528259277\n",
      "2016-12-15 18:19:04.078128 PST | Epoch #11 | Collecting samples for evaluation\n"
     ]
    },
    {
     "name": "stderr",
     "output_type": "stream",
     "text": [
      "0%                          100%\n",
      "[##############################] | ETA: 00:00:00"
     ]
    },
    {
     "name": "stdout",
     "output_type": "stream",
     "text": [
      "2016-12-15 18:19:04.194121 PST | Epoch #11 | Eval time: 0.1159830093383789\n",
      "2016-12-15 18:19:04.196019 PST | ----------------------  ----------\n",
      "2016-12-15 18:19:04.196954 PST | Epoch                    11\n",
      "2016-12-15 18:19:04.198159 PST | AverageReturn            54.9698\n",
      "2016-12-15 18:19:04.199388 PST | PolicySurrogateLoss     -23.5257\n",
      "2016-12-15 18:19:04.200589 PST | QfLoss                   32.374\n",
      "2016-12-15 18:19:04.201646 PST | YsMean                   26.4297\n",
      "2016-12-15 18:19:04.202730 PST | YsStd                    18.1265\n",
      "2016-12-15 18:19:04.203587 PST | YsMax                    58.4655\n",
      "2016-12-15 18:19:04.204831 PST | YsMin                     0\n",
      "2016-12-15 18:19:04.205965 PST | PolicyOutputMean         -0.412198\n",
      "2016-12-15 18:19:04.207095 PST | PolicyOutputStd           0.161975\n",
      "2016-12-15 18:19:04.207976 PST | PolicyOutputMax          -0.185998\n",
      "2016-12-15 18:19:04.208831 PST | PolicyOutputMin          -0.821232\n",
      "2016-12-15 18:19:04.209944 PST | TargetPolicyOutputMean   -0.658254\n",
      "2016-12-15 18:19:04.210994 PST | TargetPolicyOutputStd     0.209938\n",
      "2016-12-15 18:19:04.212199 PST | TargetPolicyOutputMax    -0.349148\n",
      "2016-12-15 18:19:04.213276 PST | TargetPolicyOutputMin    -0.987975\n",
      "2016-12-15 18:19:04.214295 PST | QfOutputMean             23.5257\n",
      "2016-12-15 18:19:04.215402 PST | QfOutputStd              15.6816\n",
      "2016-12-15 18:19:04.216494 PST | QfOutputMax              48.5597\n",
      "2016-12-15 18:19:04.217608 PST | QfOutputMin              -1.24302\n",
      "2016-12-15 18:19:04.218513 PST | TargetQfOutputMean       24.3936\n",
      "2016-12-15 18:19:04.219334 PST | TargetQfOutputStd        15.9084\n",
      "2016-12-15 18:19:04.220287 PST | TargetQfOutputMax        48.9641\n",
      "2016-12-15 18:19:04.221417 PST | TargetQfOutputMin        -1.22171\n",
      "2016-12-15 18:19:04.222485 PST | RewardsMean               8.45689\n",
      "2016-12-15 18:19:04.223549 PST | RewardsStd                3.60603\n",
      "2016-12-15 18:19:04.224485 PST | RewardsMax                9.99987\n",
      "2016-12-15 18:19:04.225273 PST | RewardsMin                0\n",
      "2016-12-15 18:19:04.226406 PST | ReturnsMean              54.9698\n",
      "2016-12-15 18:19:04.227523 PST | ReturnsStd               15.8036\n",
      "2016-12-15 18:19:04.228619 PST | ReturnsMax               99.9191\n",
      "2016-12-15 18:19:04.229470 PST | ReturnsMin               29.9591\n",
      "2016-12-15 18:19:04.230632 PST | DiscountedReturnsMean    53.6287\n",
      "2016-12-15 18:19:04.231522 PST | DiscountedReturnsStd     14.9206\n",
      "2016-12-15 18:19:04.232439 PST | DiscountedReturnsMax     95.5402\n",
      "2016-12-15 18:19:04.233512 PST | DiscountedReturnsMin     29.6605\n",
      "2016-12-15 18:19:04.234406 PST | TrainingReturnsMean      41.9733\n",
      "2016-12-15 18:19:04.235466 PST | TrainingReturnsStd       29.4203\n",
      "2016-12-15 18:19:04.236209 PST | TrainingReturnsMax      149.943\n",
      "2016-12-15 18:19:04.237087 PST | TrainingReturnsMin        9.98357\n",
      "2016-12-15 18:19:04.238227 PST | ----------------------  ----------\n",
      "2016-12-15 18:19:04.239319 PST | Epoch #12 | Training started\n"
     ]
    },
    {
     "name": "stderr",
     "output_type": "stream",
     "text": [
      "\n",
      "Total time elapsed: 00:00:00\n"
     ]
    },
    {
     "name": "stdout",
     "output_type": "stream",
     "text": [
      "2016-12-15 18:19:04.856019 PST | Epoch #12 | Training finished. Time: 0.6152200698852539\n",
      "2016-12-15 18:19:04.856803 PST | Epoch #12 | Collecting samples for evaluation\n"
     ]
    },
    {
     "name": "stderr",
     "output_type": "stream",
     "text": [
      "0%                          100%\n",
      "[##############################] | ETA: 00:00:00"
     ]
    },
    {
     "name": "stdout",
     "output_type": "stream",
     "text": [
      "2016-12-15 18:19:04.940471 PST | Epoch #12 | Eval time: 0.08365702629089355\n",
      "2016-12-15 18:19:04.942344 PST | ----------------------  -----------\n",
      "2016-12-15 18:19:04.943229 PST | Epoch                    12\n",
      "2016-12-15 18:19:04.944410 PST | AverageReturn           264.912\n",
      "2016-12-15 18:19:04.945445 PST | PolicySurrogateLoss     -36.4391\n",
      "2016-12-15 18:19:04.946664 PST | QfLoss                  126.452\n",
      "2016-12-15 18:19:04.947926 PST | YsMean                   44.6691\n",
      "2016-12-15 18:19:04.948986 PST | YsStd                    14.411\n",
      "2016-12-15 18:19:04.949898 PST | YsMax                    64.5015\n",
      "2016-12-15 18:19:04.950950 PST | YsMin                     0\n",
      "2016-12-15 18:19:04.952200 PST | PolicyOutputMean         -0.0230535\n",
      "2016-12-15 18:19:04.953375 PST | PolicyOutputStd           0.0509255\n",
      "2016-12-15 18:19:04.954581 PST | PolicyOutputMax           0.0791631\n",
      "2016-12-15 18:19:04.955699 PST | PolicyOutputMin          -0.15466\n",
      "2016-12-15 18:19:04.956834 PST | TargetPolicyOutputMean   -0.229005\n",
      "2016-12-15 18:19:04.958083 PST | TargetPolicyOutputStd     0.0602508\n",
      "2016-12-15 18:19:04.959041 PST | TargetPolicyOutputMax    -0.165964\n",
      "2016-12-15 18:19:04.960310 PST | TargetPolicyOutputMin    -0.437269\n",
      "2016-12-15 18:19:04.961680 PST | QfOutputMean             36.4391\n",
      "2016-12-15 18:19:04.962519 PST | QfOutputStd              12.3641\n",
      "2016-12-15 18:19:04.963470 PST | QfOutputMax              54.4775\n",
      "2016-12-15 18:19:04.964683 PST | QfOutputMin              -1.86474\n",
      "2016-12-15 18:19:04.965856 PST | TargetQfOutputMean       36.878\n",
      "2016-12-15 18:19:04.966770 PST | TargetQfOutputStd        11.6465\n",
      "2016-12-15 18:19:04.967885 PST | TargetQfOutputMax        55.0701\n",
      "2016-12-15 18:19:04.969085 PST | TargetQfOutputMin        -1.20456\n",
      "2016-12-15 18:19:04.969877 PST | RewardsMean               9.63318\n",
      "2016-12-15 18:19:04.971028 PST | RewardsStd                1.87132\n",
      "2016-12-15 18:19:04.972058 PST | RewardsMax               10\n",
      "2016-12-15 18:19:04.973035 PST | RewardsMin                0\n",
      "2016-12-15 18:19:04.974317 PST | ReturnsMean             264.912\n",
      "2016-12-15 18:19:04.975283 PST | ReturnsStd              176.434\n",
      "2016-12-15 18:19:04.976518 PST | ReturnsMax              519.924\n",
      "2016-12-15 18:19:04.977648 PST | ReturnsMin               59.9109\n",
      "2016-12-15 18:19:04.978521 PST | DiscountedReturnsMean   221.868\n",
      "2016-12-15 18:19:04.979673 PST | DiscountedReturnsStd    133.558\n",
      "2016-12-15 18:19:04.980476 PST | DiscountedReturnsMax    406.984\n",
      "2016-12-15 18:19:04.981637 PST | DiscountedReturnsMin     58.4331\n",
      "2016-12-15 18:19:04.982805 PST | TrainingReturnsMean      59.1994\n",
      "2016-12-15 18:19:04.983902 PST | TrainingReturnsStd       30.737\n",
      "2016-12-15 18:19:04.985183 PST | TrainingReturnsMax      119.909\n",
      "2016-12-15 18:19:04.986245 PST | TrainingReturnsMin       19.9779\n",
      "2016-12-15 18:19:04.987370 PST | ----------------------  -----------\n",
      "2016-12-15 18:19:04.988571 PST | Epoch #13 | Training started\n"
     ]
    },
    {
     "name": "stderr",
     "output_type": "stream",
     "text": [
      "\n",
      "Total time elapsed: 00:00:00\n"
     ]
    },
    {
     "name": "stdout",
     "output_type": "stream",
     "text": [
      "2016-12-15 18:19:05.674556 PST | Epoch #13 | Training finished. Time: 0.6848390102386475\n",
      "2016-12-15 18:19:05.675419 PST | Epoch #13 | Collecting samples for evaluation\n"
     ]
    },
    {
     "name": "stderr",
     "output_type": "stream",
     "text": [
      "0%                          100%\n",
      "[##############################] | ETA: 00:00:00"
     ]
    },
    {
     "name": "stdout",
     "output_type": "stream",
     "text": [
      "2016-12-15 18:19:05.757158 PST | Epoch #13 | Eval time: 0.08172798156738281\n",
      "2016-12-15 18:19:05.759244 PST | ----------------------  ------------\n",
      "2016-12-15 18:19:05.760062 PST | Epoch                    13\n",
      "2016-12-15 18:19:05.761002 PST | AverageReturn           333.235\n",
      "2016-12-15 18:19:05.762055 PST | PolicySurrogateLoss     -33.0392\n",
      "2016-12-15 18:19:05.763645 PST | QfLoss                   90.1537\n",
      "2016-12-15 18:19:05.764956 PST | YsMean                   39.4132\n",
      "2016-12-15 18:19:05.766262 PST | YsStd                    12.9434\n",
      "2016-12-15 18:19:05.767622 PST | YsMax                    51.5155\n",
      "2016-12-15 18:19:05.768536 PST | YsMin                     0\n",
      "2016-12-15 18:19:05.769734 PST | PolicyOutputMean          0.00599262\n",
      "2016-12-15 18:19:05.770731 PST | PolicyOutputStd           0.0852503\n",
      "2016-12-15 18:19:05.771564 PST | PolicyOutputMax           0.287915\n",
      "2016-12-15 18:19:05.772865 PST | PolicyOutputMin          -0.394874\n",
      "2016-12-15 18:19:05.773951 PST | TargetPolicyOutputMean   -0.193178\n",
      "2016-12-15 18:19:05.775242 PST | TargetPolicyOutputStd     0.0915231\n",
      "2016-12-15 18:19:05.776436 PST | TargetPolicyOutputMax     0.0280875\n",
      "2016-12-15 18:19:05.777980 PST | TargetPolicyOutputMin    -0.452854\n",
      "2016-12-15 18:19:05.779382 PST | QfOutputMean             33.0392\n",
      "2016-12-15 18:19:05.781154 PST | QfOutputStd              10.4145\n",
      "2016-12-15 18:19:05.782789 PST | QfOutputMax              42.8025\n",
      "2016-12-15 18:19:05.784272 PST | QfOutputMin              13.1497\n",
      "2016-12-15 18:19:05.785840 PST | TargetQfOutputMean       31.2299\n",
      "2016-12-15 18:19:05.787400 PST | TargetQfOutputStd        11.2616\n",
      "2016-12-15 18:19:05.788711 PST | TargetQfOutputMax        41.9728\n",
      "2016-12-15 18:19:05.790468 PST | TargetQfOutputMin         9.76511\n",
      "2016-12-15 18:19:05.791494 PST | RewardsMean               9.70589\n",
      "2016-12-15 18:19:05.792927 PST | RewardsStd                1.68111\n",
      "2016-12-15 18:19:05.794195 PST | RewardsMax               10\n",
      "2016-12-15 18:19:05.795666 PST | RewardsMin                0\n",
      "2016-12-15 18:19:05.796854 PST | ReturnsMean             333.235\n",
      "2016-12-15 18:19:05.798345 PST | ReturnsStd              181.143\n",
      "2016-12-15 18:19:05.799356 PST | ReturnsMax              579.864\n",
      "2016-12-15 18:19:05.806691 PST | ReturnsMin              149.92\n",
      "2016-12-15 18:19:05.807870 PST | DiscountedReturnsMean   273.038\n",
      "2016-12-15 18:19:05.809198 PST | DiscountedReturnsStd    125.724\n",
      "2016-12-15 18:19:05.810237 PST | DiscountedReturnsMax    441.649\n",
      "2016-12-15 18:19:05.811674 PST | DiscountedReturnsMin    139.869\n",
      "2016-12-15 18:19:05.812626 PST | TrainingReturnsMean      96.9506\n",
      "2016-12-15 18:19:05.813786 PST | TrainingReturnsStd       95.0686\n",
      "2016-12-15 18:19:05.815115 PST | TrainingReturnsMax      359.908\n",
      "2016-12-15 18:19:05.816356 PST | TrainingReturnsMin        9.984\n",
      "2016-12-15 18:19:05.817437 PST | ----------------------  ------------\n",
      "2016-12-15 18:19:05.818766 PST | Epoch #14 | Training started\n"
     ]
    },
    {
     "name": "stderr",
     "output_type": "stream",
     "text": [
      "\n",
      "Total time elapsed: 00:00:00\n"
     ]
    },
    {
     "name": "stdout",
     "output_type": "stream",
     "text": [
      "2016-12-15 18:19:06.508729 PST | Epoch #14 | Training finished. Time: 0.689054012298584\n",
      "2016-12-15 18:19:06.509496 PST | Epoch #14 | Collecting samples for evaluation\n"
     ]
    },
    {
     "name": "stderr",
     "output_type": "stream",
     "text": [
      "0%                          100%\n",
      "[##############################] | ETA: 00:00:00"
     ]
    },
    {
     "name": "stdout",
     "output_type": "stream",
     "text": [
      "2016-12-15 18:19:06.591843 PST | Epoch #14 | Eval time: 0.08233499526977539\n",
      "2016-12-15 18:19:06.593692 PST | ----------------------  -----------\n",
      "2016-12-15 18:19:06.594750 PST | Epoch                    14\n",
      "2016-12-15 18:19:06.595887 PST | AverageReturn           326.547\n",
      "2016-12-15 18:19:06.597614 PST | PolicySurrogateLoss     -44.2493\n",
      "2016-12-15 18:19:06.598593 PST | QfLoss                  133.087\n",
      "2016-12-15 18:19:06.599693 PST | YsMean                   48.9185\n",
      "2016-12-15 18:19:06.600841 PST | YsStd                     9.86277\n",
      "2016-12-15 18:19:06.601793 PST | YsMax                    65.6703\n",
      "2016-12-15 18:19:06.602977 PST | YsMin                     0\n",
      "2016-12-15 18:19:06.604117 PST | PolicyOutputMean          0.0274779\n",
      "2016-12-15 18:19:06.605022 PST | PolicyOutputStd           0.28727\n",
      "2016-12-15 18:19:06.606026 PST | PolicyOutputMax           0.454373\n",
      "2016-12-15 18:19:06.607024 PST | PolicyOutputMin          -0.479775\n",
      "2016-12-15 18:19:06.608291 PST | TargetPolicyOutputMean    0.010555\n",
      "2016-12-15 18:19:06.609462 PST | TargetPolicyOutputStd     0.175153\n",
      "2016-12-15 18:19:06.610731 PST | TargetPolicyOutputMax     0.286625\n",
      "2016-12-15 18:19:06.611700 PST | TargetPolicyOutputMin    -0.320407\n",
      "2016-12-15 18:19:06.612856 PST | QfOutputMean             44.2493\n",
      "2016-12-15 18:19:06.613724 PST | QfOutputStd               3.99946\n",
      "2016-12-15 18:19:06.614740 PST | QfOutputMax              56.4705\n",
      "2016-12-15 18:19:06.615731 PST | QfOutputMin              35.3528\n",
      "2016-12-15 18:19:06.617011 PST | TargetQfOutputMean       40.9128\n",
      "2016-12-15 18:19:06.618159 PST | TargetQfOutputStd         4.97531\n",
      "2016-12-15 18:19:06.618993 PST | TargetQfOutputMax        56.252\n",
      "2016-12-15 18:19:06.620377 PST | TargetQfOutputMin        31.9646\n",
      "2016-12-15 18:19:06.621546 PST | RewardsMean               9.69941\n",
      "2016-12-15 18:19:06.622738 PST | RewardsStd                1.69705\n",
      "2016-12-15 18:19:06.624042 PST | RewardsMax                9.99993\n",
      "2016-12-15 18:19:06.625752 PST | RewardsMin                0\n",
      "2016-12-15 18:19:06.626690 PST | ReturnsMean             326.547\n",
      "2016-12-15 18:19:06.627869 PST | ReturnsStd              201.391\n",
      "2016-12-15 18:19:06.628782 PST | ReturnsMax              609.891\n",
      "2016-12-15 18:19:06.630092 PST | ReturnsMin              159.883\n",
      "2016-12-15 18:19:06.631221 PST | DiscountedReturnsMean   265.614\n",
      "2016-12-15 18:19:06.632237 PST | DiscountedReturnsStd    137.275\n",
      "2016-12-15 18:19:06.633123 PST | DiscountedReturnsMax    458.251\n",
      "2016-12-15 18:19:06.634271 PST | DiscountedReturnsMin    148.437\n",
      "2016-12-15 18:19:06.635255 PST | TrainingReturnsMean     119.941\n",
      "2016-12-15 18:19:06.636314 PST | TrainingReturnsStd       80.6892\n",
      "2016-12-15 18:19:06.637348 PST | TrainingReturnsMax      239.926\n",
      "2016-12-15 18:19:06.638354 PST | TrainingReturnsMin       19.9682\n",
      "2016-12-15 18:19:06.639207 PST | ----------------------  -----------\n",
      "2016-12-15 18:19:06.640493 PST | Epoch #15 | Training started\n"
     ]
    },
    {
     "name": "stderr",
     "output_type": "stream",
     "text": [
      "\n",
      "Total time elapsed: 00:00:00\n"
     ]
    },
    {
     "name": "stdout",
     "output_type": "stream",
     "text": [
      "2016-12-15 18:19:07.432030 PST | Epoch #15 | Training finished. Time: 0.7902979850769043\n",
      "2016-12-15 18:19:07.432922 PST | Epoch #15 | Collecting samples for evaluation\n"
     ]
    },
    {
     "name": "stderr",
     "output_type": "stream",
     "text": [
      "0%                          100%\n",
      "[##############################] | ETA: 00:00:00"
     ]
    },
    {
     "name": "stdout",
     "output_type": "stream",
     "text": [
      "2016-12-15 18:19:07.525072 PST | Epoch #15 | Eval time: 0.09214210510253906\n",
      "2016-12-15 18:19:07.526962 PST | ----------------------  -----------\n",
      "2016-12-15 18:19:07.528205 PST | Epoch                    15\n",
      "2016-12-15 18:19:07.529151 PST | AverageReturn           207.872\n",
      "2016-12-15 18:19:07.530179 PST | PolicySurrogateLoss     -48.8349\n",
      "2016-12-15 18:19:07.531412 PST | QfLoss                  235.262\n",
      "2016-12-15 18:19:07.532164 PST | YsMean                   53.2473\n",
      "2016-12-15 18:19:07.533229 PST | YsStd                    13.7751\n",
      "2016-12-15 18:19:07.534360 PST | YsMax                    74.9368\n",
      "2016-12-15 18:19:07.535847 PST | YsMin                     0\n",
      "2016-12-15 18:19:07.537039 PST | PolicyOutputMean          0.0117528\n",
      "2016-12-15 18:19:07.538211 PST | PolicyOutputStd           0.380456\n",
      "2016-12-15 18:19:07.539348 PST | PolicyOutputMax           0.619109\n",
      "2016-12-15 18:19:07.540453 PST | PolicyOutputMin          -0.678238\n",
      "2016-12-15 18:19:07.541333 PST | TargetPolicyOutputMean    0.0534289\n",
      "2016-12-15 18:19:07.542332 PST | TargetPolicyOutputStd     0.285298\n",
      "2016-12-15 18:19:07.543532 PST | TargetPolicyOutputMax     0.504013\n",
      "2016-12-15 18:19:07.544993 PST | TargetPolicyOutputMin    -0.534733\n",
      "2016-12-15 18:19:07.545913 PST | QfOutputMean             48.8349\n",
      "2016-12-15 18:19:07.546957 PST | QfOutputStd               6.64654\n",
      "2016-12-15 18:19:07.548238 PST | QfOutputMax              65.0309\n",
      "2016-12-15 18:19:07.549099 PST | QfOutputMin              37.2092\n",
      "2016-12-15 18:19:07.550273 PST | TargetQfOutputMean       46.2629\n",
      "2016-12-15 18:19:07.551547 PST | TargetQfOutputStd         7.38615\n",
      "2016-12-15 18:19:07.552469 PST | TargetQfOutputMax        65.6105\n",
      "2016-12-15 18:19:07.553668 PST | TargetQfOutputMin        34.3412\n",
      "2016-12-15 18:19:07.554763 PST | RewardsMean               9.5354\n",
      "2016-12-15 18:19:07.555814 PST | RewardsStd                2.09078\n",
      "2016-12-15 18:19:07.557025 PST | RewardsMax                9.99948\n",
      "2016-12-15 18:19:07.558492 PST | RewardsMin                0\n",
      "2016-12-15 18:19:07.559800 PST | ReturnsMean             207.872\n",
      "2016-12-15 18:19:07.561223 PST | ReturnsStd               20.4015\n",
      "2016-12-15 18:19:07.564404 PST | ReturnsMax              239.881\n",
      "2016-12-15 18:19:07.567392 PST | ReturnsMin              179.86\n",
      "2016-12-15 18:19:07.570126 PST | DiscountedReturnsMean   188.361\n",
      "2016-12-15 18:19:07.575239 PST | DiscountedReturnsStd     16.5956\n",
      "2016-12-15 18:19:07.577112 PST | DiscountedReturnsMax    214.222\n",
      "2016-12-15 18:19:07.579116 PST | DiscountedReturnsMin    165.36\n",
      "2016-12-15 18:19:07.581341 PST | TrainingReturnsMean     193.871\n",
      "2016-12-15 18:19:07.583762 PST | TrainingReturnsStd       70.561\n",
      "2016-12-15 18:19:07.586790 PST | TrainingReturnsMax      269.869\n",
      "2016-12-15 18:19:07.588175 PST | TrainingReturnsMin       59.9527\n",
      "2016-12-15 18:19:07.589762 PST | ----------------------  -----------\n",
      "2016-12-15 18:19:07.591345 PST | Epoch #16 | Training started\n"
     ]
    },
    {
     "name": "stderr",
     "output_type": "stream",
     "text": [
      "\n",
      "Total time elapsed: 00:00:00\n"
     ]
    },
    {
     "name": "stdout",
     "output_type": "stream",
     "text": [
      "2016-12-15 18:19:08.201802 PST | Epoch #16 | Training finished. Time: 0.6093311309814453\n",
      "2016-12-15 18:19:08.202866 PST | Epoch #16 | Collecting samples for evaluation\n"
     ]
    },
    {
     "name": "stderr",
     "output_type": "stream",
     "text": [
      "0%                          100%\n",
      "[##############################] | ETA: 00:00:00"
     ]
    },
    {
     "name": "stdout",
     "output_type": "stream",
     "text": [
      "2016-12-15 18:19:08.304504 PST | Epoch #16 | Eval time: 0.10166788101196289\n",
      "2016-12-15 18:19:08.306561 PST | ----------------------  -----------\n",
      "2016-12-15 18:19:08.307426 PST | Epoch                    16\n",
      "2016-12-15 18:19:08.308565 PST | AverageReturn           242.345\n",
      "2016-12-15 18:19:08.309996 PST | PolicySurrogateLoss     -52.5762\n",
      "2016-12-15 18:19:08.311616 PST | QfLoss                  198.298\n",
      "2016-12-15 18:19:08.312430 PST | YsMean                   56.1288\n",
      "2016-12-15 18:19:08.313643 PST | YsStd                    12.8216\n",
      "2016-12-15 18:19:08.314632 PST | YsMax                    78.0762\n",
      "2016-12-15 18:19:08.315530 PST | YsMin                     0\n",
      "2016-12-15 18:19:08.316731 PST | PolicyOutputMean          0.0107568\n",
      "2016-12-15 18:19:08.317850 PST | PolicyOutputStd           0.432187\n",
      "2016-12-15 18:19:08.318774 PST | PolicyOutputMax           0.654917\n",
      "2016-12-15 18:19:08.319816 PST | PolicyOutputMin          -0.78605\n",
      "2016-12-15 18:19:08.320882 PST | TargetPolicyOutputMean   -0.0426994\n",
      "2016-12-15 18:19:08.322064 PST | TargetPolicyOutputStd     0.383157\n",
      "2016-12-15 18:19:08.323356 PST | TargetPolicyOutputMax     0.54585\n",
      "2016-12-15 18:19:08.324397 PST | TargetPolicyOutputMin    -0.78847\n",
      "2016-12-15 18:19:08.325498 PST | QfOutputMean             52.5762\n",
      "2016-12-15 18:19:08.326531 PST | QfOutputStd               5.86984\n",
      "2016-12-15 18:19:08.327644 PST | QfOutputMax              70.7647\n",
      "2016-12-15 18:19:08.328484 PST | QfOutputMin              42.8505\n",
      "2016-12-15 18:19:08.329669 PST | TargetQfOutputMean       48.9416\n",
      "2016-12-15 18:19:08.330599 PST | TargetQfOutputStd         5.93398\n",
      "2016-12-15 18:19:08.331795 PST | TargetQfOutputMax        68.7839\n",
      "2016-12-15 18:19:08.332976 PST | TargetQfOutputMin        38.4119\n",
      "2016-12-15 18:19:08.334245 PST | RewardsMean               9.59784\n",
      "2016-12-15 18:19:08.335372 PST | RewardsStd                1.94903\n",
      "2016-12-15 18:19:08.336425 PST | RewardsMax                9.99973\n",
      "2016-12-15 18:19:08.337614 PST | RewardsMin                0\n",
      "2016-12-15 18:19:08.338461 PST | ReturnsMean             242.345\n",
      "2016-12-15 18:19:08.339593 PST | ReturnsStd              103.313\n",
      "2016-12-15 18:19:08.340399 PST | ReturnsMax              409.884\n",
      "2016-12-15 18:19:08.341519 PST | ReturnsMin              129.824\n",
      "2016-12-15 18:19:08.342569 PST | DiscountedReturnsMean   212.035\n",
      "2016-12-15 18:19:08.343692 PST | DiscountedReturnsStd     78.6838\n",
      "2016-12-15 18:19:08.344660 PST | DiscountedReturnsMax    337.635\n",
      "2016-12-15 18:19:08.345939 PST | DiscountedReturnsMin    122.314\n",
      "2016-12-15 18:19:08.346791 PST | TrainingReturnsMean     147.381\n",
      "2016-12-15 18:19:08.347603 PST | TrainingReturnsStd       62.9588\n",
      "2016-12-15 18:19:08.348618 PST | TrainingReturnsMax      199.744\n",
      "2016-12-15 18:19:08.349744 PST | TrainingReturnsMin       39.9317\n",
      "2016-12-15 18:19:08.350757 PST | ----------------------  -----------\n",
      "2016-12-15 18:19:08.351754 PST | Epoch #17 | Training started\n"
     ]
    },
    {
     "name": "stderr",
     "output_type": "stream",
     "text": [
      "\n",
      "Total time elapsed: 00:00:00\n"
     ]
    },
    {
     "name": "stdout",
     "output_type": "stream",
     "text": [
      "2016-12-15 18:19:08.989975 PST | Epoch #17 | Training finished. Time: 0.6372799873352051\n",
      "2016-12-15 18:19:08.991713 PST | Epoch #17 | Collecting samples for evaluation\n"
     ]
    },
    {
     "name": "stderr",
     "output_type": "stream",
     "text": [
      "0%                          100%\n",
      "[##############################] | ETA: 00:00:00"
     ]
    },
    {
     "name": "stdout",
     "output_type": "stream",
     "text": [
      "2016-12-15 18:19:09.097626 PST | Epoch #17 | Eval time: 0.10590386390686035\n",
      "2016-12-15 18:19:09.099614 PST | ----------------------  -----------\n",
      "2016-12-15 18:19:09.100588 PST | Epoch                    17\n",
      "2016-12-15 18:19:09.101790 PST | AverageReturn           419.875\n",
      "2016-12-15 18:19:09.103306 PST | PolicySurrogateLoss     -50.6804\n",
      "2016-12-15 18:19:09.104526 PST | QfLoss                  129.028\n",
      "2016-12-15 18:19:09.105624 PST | YsMean                   56.1804\n",
      "2016-12-15 18:19:09.106985 PST | YsStd                     9.33375\n",
      "2016-12-15 18:19:09.108082 PST | YsMax                    68.6768\n",
      "2016-12-15 18:19:09.109133 PST | YsMin                     0\n",
      "2016-12-15 18:19:09.110202 PST | PolicyOutputMean          0.0109645\n",
      "2016-12-15 18:19:09.111370 PST | PolicyOutputStd           0.626152\n",
      "2016-12-15 18:19:09.112563 PST | PolicyOutputMax           0.889143\n",
      "2016-12-15 18:19:09.113573 PST | PolicyOutputMin          -0.730136\n",
      "2016-12-15 18:19:09.114592 PST | TargetPolicyOutputMean    0.0311599\n",
      "2016-12-15 18:19:09.115902 PST | TargetPolicyOutputStd     0.578595\n",
      "2016-12-15 18:19:09.116913 PST | TargetPolicyOutputMax     0.86155\n",
      "2016-12-15 18:19:09.117979 PST | TargetPolicyOutputMin    -0.661184\n",
      "2016-12-15 18:19:09.118783 PST | QfOutputMean             50.6804\n",
      "2016-12-15 18:19:09.119780 PST | QfOutputStd               3.67784\n",
      "2016-12-15 18:19:09.120634 PST | QfOutputMax              61.2258\n",
      "2016-12-15 18:19:09.121866 PST | QfOutputMin              38.5203\n",
      "2016-12-15 18:19:09.122898 PST | TargetQfOutputMean       48.1043\n",
      "2016-12-15 18:19:09.123894 PST | TargetQfOutputStd         3.55851\n",
      "2016-12-15 18:19:09.125197 PST | TargetQfOutputMax        59.2854\n",
      "2016-12-15 18:19:09.126255 PST | TargetQfOutputMin        38.8332\n",
      "2016-12-15 18:19:09.127422 PST | RewardsMean               9.76455\n",
      "2016-12-15 18:19:09.128452 PST | RewardsStd                1.50671\n",
      "2016-12-15 18:19:09.129302 PST | RewardsMax                9.99979\n",
      "2016-12-15 18:19:09.130129 PST | RewardsMin                0\n",
      "2016-12-15 18:19:09.131317 PST | ReturnsMean             419.875\n",
      "2016-12-15 18:19:09.132089 PST | ReturnsStd               21.594\n",
      "2016-12-15 18:19:09.132853 PST | ReturnsMax              449.864\n",
      "2016-12-15 18:19:09.133965 PST | ReturnsMin              399.884\n",
      "2016-12-15 18:19:09.134881 PST | DiscountedReturnsMean   344.098\n",
      "2016-12-15 18:19:09.135842 PST | DiscountedReturnsStd     14.1407\n",
      "2016-12-15 18:19:09.136979 PST | DiscountedReturnsMax    363.719\n",
      "2016-12-15 18:19:09.138180 PST | DiscountedReturnsMin    330.943\n",
      "2016-12-15 18:19:09.139069 PST | TrainingReturnsMean     214.889\n",
      "2016-12-15 18:19:09.140166 PST | TrainingReturnsStd      202.801\n",
      "2016-12-15 18:19:09.141152 PST | TrainingReturnsMax      589.762\n",
      "2016-12-15 18:19:09.142131 PST | TrainingReturnsMin       19.9714\n",
      "2016-12-15 18:19:09.142952 PST | ----------------------  -----------\n",
      "2016-12-15 18:19:09.143843 PST | Epoch #18 | Training started\n"
     ]
    },
    {
     "name": "stderr",
     "output_type": "stream",
     "text": [
      "\n",
      "Total time elapsed: 00:00:00\n"
     ]
    },
    {
     "name": "stdout",
     "output_type": "stream",
     "text": [
      "2016-12-15 18:19:09.783525 PST | Epoch #18 | Training finished. Time: 0.6385190486907959\n",
      "2016-12-15 18:19:09.784322 PST | Epoch #18 | Collecting samples for evaluation\n"
     ]
    },
    {
     "name": "stderr",
     "output_type": "stream",
     "text": [
      "0%                          100%\n",
      "[##############################] | ETA: 00:00:00"
     ]
    },
    {
     "name": "stdout",
     "output_type": "stream",
     "text": [
      "2016-12-15 18:19:09.874176 PST | Epoch #18 | Eval time: 0.08984589576721191\n",
      "2016-12-15 18:19:09.876048 PST | ----------------------  -----------\n",
      "2016-12-15 18:19:09.876989 PST | Epoch                    18\n",
      "2016-12-15 18:19:09.878279 PST | AverageReturn           223.842\n",
      "2016-12-15 18:19:09.879543 PST | PolicySurrogateLoss     -60.8846\n",
      "2016-12-15 18:19:09.880848 PST | QfLoss                  263.956\n",
      "2016-12-15 18:19:09.881835 PST | YsMean                   63.6171\n",
      "2016-12-15 18:19:09.882747 PST | YsStd                    16.0313\n",
      "2016-12-15 18:19:09.885141 PST | YsMax                    82.9088\n",
      "2016-12-15 18:19:09.886492 PST | YsMin                     0\n",
      "2016-12-15 18:19:09.888288 PST | PolicyOutputMean         -0.0260896\n",
      "2016-12-15 18:19:09.889822 PST | PolicyOutputStd           0.651586\n",
      "2016-12-15 18:19:09.894638 PST | PolicyOutputMax           0.842768\n",
      "2016-12-15 18:19:09.896808 PST | PolicyOutputMin          -0.939693\n",
      "2016-12-15 18:19:09.898265 PST | TargetPolicyOutputMean   -0.0419963\n",
      "2016-12-15 18:19:09.899315 PST | TargetPolicyOutputStd     0.607871\n",
      "2016-12-15 18:19:09.900261 PST | TargetPolicyOutputMax     0.754033\n",
      "2016-12-15 18:19:09.901392 PST | TargetPolicyOutputMin    -0.904798\n",
      "2016-12-15 18:19:09.902498 PST | QfOutputMean             60.8846\n",
      "2016-12-15 18:19:09.903364 PST | QfOutputStd               7.2844\n",
      "2016-12-15 18:19:09.904361 PST | QfOutputMax              74.0234\n",
      "2016-12-15 18:19:09.905435 PST | QfOutputMin              37.3318\n",
      "2016-12-15 18:19:09.907137 PST | TargetQfOutputMean       57.0119\n",
      "2016-12-15 18:19:09.908313 PST | TargetQfOutputStd         8.82716\n",
      "2016-12-15 18:19:09.909114 PST | TargetQfOutputMax        73.6608\n",
      "2016-12-15 18:19:09.910390 PST | TargetQfOutputMin        32.1258\n",
      "2016-12-15 18:19:09.912675 PST | RewardsMean               9.5659\n",
      "2016-12-15 18:19:09.913556 PST | RewardsStd                2.02117\n",
      "2016-12-15 18:19:09.914756 PST | RewardsMax                9.99934\n",
      "2016-12-15 18:19:09.915679 PST | RewardsMin                0\n",
      "2016-12-15 18:19:09.916750 PST | ReturnsMean             223.842\n",
      "2016-12-15 18:19:09.917999 PST | ReturnsStd               85.95\n",
      "2016-12-15 18:19:09.919226 PST | ReturnsMax              389.876\n",
      "2016-12-15 18:19:09.920096 PST | ReturnsMin              149.807\n",
      "2016-12-15 18:19:09.921219 PST | DiscountedReturnsMean   198.571\n",
      "2016-12-15 18:19:09.922124 PST | DiscountedReturnsStd     65.4901\n",
      "2016-12-15 18:19:09.923303 PST | DiscountedReturnsMax    324.179\n",
      "2016-12-15 18:19:09.924334 PST | DiscountedReturnsMin    139.762\n",
      "2016-12-15 18:19:09.925346 PST | TrainingReturnsMean     207.875\n",
      "2016-12-15 18:19:09.926177 PST | TrainingReturnsStd      101.868\n",
      "2016-12-15 18:19:09.927284 PST | TrainingReturnsMax      379.926\n",
      "2016-12-15 18:19:09.928291 PST | TrainingReturnsMin       99.8453\n",
      "2016-12-15 18:19:09.929297 PST | ----------------------  -----------\n",
      "2016-12-15 18:19:09.930572 PST | Epoch #19 | Training started\n"
     ]
    },
    {
     "name": "stderr",
     "output_type": "stream",
     "text": [
      "\n",
      "Total time elapsed: 00:00:00\n"
     ]
    },
    {
     "name": "stdout",
     "output_type": "stream",
     "text": [
      "2016-12-15 18:19:10.574740 PST | Epoch #19 | Training finished. Time: 0.6432180404663086\n",
      "2016-12-15 18:19:10.575510 PST | Epoch #19 | Collecting samples for evaluation\n"
     ]
    },
    {
     "name": "stderr",
     "output_type": "stream",
     "text": [
      "0%                          100%\n",
      "[##############################] | ETA: 00:00:00"
     ]
    },
    {
     "name": "stdout",
     "output_type": "stream",
     "text": [
      "2016-12-15 18:19:10.669367 PST | Epoch #19 | Eval time: 0.09384584426879883\n",
      "2016-12-15 18:19:10.671188 PST | ----------------------  -----------\n",
      "2016-12-15 18:19:10.672299 PST | Epoch                    19\n",
      "2016-12-15 18:19:10.673105 PST | AverageReturn           314.845\n",
      "2016-12-15 18:19:10.674199 PST | PolicySurrogateLoss     -60.8963\n",
      "2016-12-15 18:19:10.674991 PST | QfLoss                  341.703\n",
      "2016-12-15 18:19:10.676118 PST | YsMean                   62.9248\n",
      "2016-12-15 18:19:10.676953 PST | YsStd                    13.3687\n",
      "2016-12-15 18:19:10.678074 PST | YsMax                    80.5158\n",
      "2016-12-15 18:19:10.678857 PST | YsMin                     0\n",
      "2016-12-15 18:19:10.679935 PST | PolicyOutputMean          0.0515386\n",
      "2016-12-15 18:19:10.680942 PST | PolicyOutputStd           0.869751\n",
      "2016-12-15 18:19:10.681919 PST | PolicyOutputMax           0.958952\n",
      "2016-12-15 18:19:10.683278 PST | PolicyOutputMin          -0.96397\n",
      "2016-12-15 18:19:10.684232 PST | TargetPolicyOutputMean    0.0758886\n",
      "2016-12-15 18:19:10.685306 PST | TargetPolicyOutputStd     0.789348\n",
      "2016-12-15 18:19:10.686665 PST | TargetPolicyOutputMax     0.920358\n",
      "2016-12-15 18:19:10.687529 PST | TargetPolicyOutputMin    -0.908935\n",
      "2016-12-15 18:19:10.688743 PST | QfOutputMean             60.8963\n",
      "2016-12-15 18:19:10.689499 PST | QfOutputStd               8.38569\n",
      "2016-12-15 18:19:10.690570 PST | QfOutputMax              79.4615\n",
      "2016-12-15 18:19:10.691662 PST | QfOutputMin              43.4753\n",
      "2016-12-15 18:19:10.692778 PST | TargetQfOutputMean       55.6593\n",
      "2016-12-15 18:19:10.694001 PST | TargetQfOutputStd         7.4216\n",
      "2016-12-15 18:19:10.695247 PST | TargetQfOutputMax        71.237\n",
      "2016-12-15 18:19:10.696271 PST | TargetQfOutputMin        41.7772\n",
      "2016-12-15 18:19:10.697281 PST | RewardsMean               9.68753\n",
      "2016-12-15 18:19:10.698522 PST | RewardsStd                1.72608\n",
      "2016-12-15 18:19:10.699771 PST | RewardsMax                9.99938\n",
      "2016-12-15 18:19:10.700561 PST | RewardsMin                0\n",
      "2016-12-15 18:19:10.701343 PST | ReturnsMean             314.845\n",
      "2016-12-15 18:19:10.702395 PST | ReturnsStd              166.527\n",
      "2016-12-15 18:19:10.703610 PST | ReturnsMax              539.865\n",
      "2016-12-15 18:19:10.704555 PST | ReturnsMin              149.82\n",
      "2016-12-15 18:19:10.705609 PST | DiscountedReturnsMean   261.131\n",
      "2016-12-15 18:19:10.706802 PST | DiscountedReturnsStd    120.551\n",
      "2016-12-15 18:19:10.707703 PST | DiscountedReturnsMax    418.743\n",
      "2016-12-15 18:19:10.708534 PST | DiscountedReturnsMin    139.775\n",
      "2016-12-15 18:19:10.709479 PST | TrainingReturnsMean     249.879\n",
      "2016-12-15 18:19:10.710631 PST | TrainingReturnsStd      133.943\n",
      "2016-12-15 18:19:10.711742 PST | TrainingReturnsMax      379.871\n",
      "2016-12-15 18:19:10.712529 PST | TrainingReturnsMin       29.9479\n",
      "2016-12-15 18:19:10.713325 PST | ----------------------  -----------\n",
      "2016-12-15 18:19:10.714301 PST | Epoch #20 | Training started\n"
     ]
    },
    {
     "name": "stderr",
     "output_type": "stream",
     "text": [
      "\n",
      "Total time elapsed: 00:00:00\n"
     ]
    },
    {
     "name": "stdout",
     "output_type": "stream",
     "text": [
      "2016-12-15 18:19:11.312361 PST | Epoch #20 | Training finished. Time: 0.5969469547271729\n",
      "2016-12-15 18:19:11.313207 PST | Epoch #20 | Collecting samples for evaluation\n"
     ]
    },
    {
     "name": "stderr",
     "output_type": "stream",
     "text": [
      "0%                          100%\n",
      "[##############################] | ETA: 00:00:00"
     ]
    },
    {
     "name": "stdout",
     "output_type": "stream",
     "text": [
      "2016-12-15 18:19:11.393548 PST | Epoch #20 | Eval time: 0.08033084869384766\n",
      "2016-12-15 18:19:11.395545 PST | ----------------------  ------------\n",
      "2016-12-15 18:19:11.396869 PST | Epoch                    20\n",
      "2016-12-15 18:19:11.397644 PST | AverageReturn           193.836\n",
      "2016-12-15 18:19:11.398548 PST | PolicySurrogateLoss     -69.2088\n",
      "2016-12-15 18:19:11.399594 PST | QfLoss                  644.718\n",
      "2016-12-15 18:19:11.400410 PST | YsMean                   68.0469\n",
      "2016-12-15 18:19:11.401479 PST | YsStd                    18.5981\n",
      "2016-12-15 18:19:11.402289 PST | YsMax                    87.5273\n",
      "2016-12-15 18:19:11.403301 PST | YsMin                     0\n",
      "2016-12-15 18:19:11.404144 PST | PolicyOutputMean          0.00318754\n",
      "2016-12-15 18:19:11.405197 PST | PolicyOutputStd           0.87897\n",
      "2016-12-15 18:19:11.406033 PST | PolicyOutputMax           0.999003\n",
      "2016-12-15 18:19:11.407063 PST | PolicyOutputMin          -0.994972\n",
      "2016-12-15 18:19:11.407803 PST | TargetPolicyOutputMean   -0.108026\n",
      "2016-12-15 18:19:11.408951 PST | TargetPolicyOutputStd     0.803626\n",
      "2016-12-15 18:19:11.409966 PST | TargetPolicyOutputMax     0.991806\n",
      "2016-12-15 18:19:11.410751 PST | TargetPolicyOutputMin    -0.99112\n",
      "2016-12-15 18:19:11.411782 PST | QfOutputMean             69.2088\n",
      "2016-12-15 18:19:11.412626 PST | QfOutputStd              11.5909\n",
      "2016-12-15 18:19:11.413410 PST | QfOutputMax              87.7396\n",
      "2016-12-15 18:19:11.414527 PST | QfOutputMin              43.9981\n",
      "2016-12-15 18:19:11.415361 PST | TargetQfOutputMean       62.3734\n",
      "2016-12-15 18:19:11.416182 PST | TargetQfOutputStd        10.4913\n",
      "2016-12-15 18:19:11.417079 PST | TargetQfOutputMax        78.3211\n",
      "2016-12-15 18:19:11.418170 PST | TargetQfOutputMin        39.685\n",
      "2016-12-15 18:19:11.418942 PST | RewardsMean               9.50175\n",
      "2016-12-15 18:19:11.419981 PST | RewardsStd                2.15727\n",
      "2016-12-15 18:19:11.420793 PST | RewardsMax                9.99771\n",
      "2016-12-15 18:19:11.421864 PST | RewardsMin                0\n",
      "2016-12-15 18:19:11.422653 PST | ReturnsMean             193.836\n",
      "2016-12-15 18:19:11.423698 PST | ReturnsStd               33.8256\n",
      "2016-12-15 18:19:11.424697 PST | ReturnsMax              229.848\n",
      "2016-12-15 18:19:11.425804 PST | ReturnsMin              139.824\n",
      "2016-12-15 18:19:11.426624 PST | DiscountedReturnsMean   176.522\n",
      "2016-12-15 18:19:11.427388 PST | DiscountedReturnsStd     28.155\n",
      "2016-12-15 18:19:11.428230 PST | DiscountedReturnsMax    206.253\n",
      "2016-12-15 18:19:11.429159 PST | DiscountedReturnsMin    131.09\n",
      "2016-12-15 18:19:11.430230 PST | TrainingReturnsMean     273.212\n",
      "2016-12-15 18:19:11.431041 PST | TrainingReturnsStd       32.9807\n",
      "2016-12-15 18:19:11.432107 PST | TrainingReturnsMax      319.853\n",
      "2016-12-15 18:19:11.432951 PST | TrainingReturnsMin      249.857\n",
      "2016-12-15 18:19:11.433784 PST | ----------------------  ------------\n",
      "2016-12-15 18:19:11.435184 PST | Epoch #21 | Training started\n"
     ]
    },
    {
     "name": "stderr",
     "output_type": "stream",
     "text": [
      "\n",
      "Total time elapsed: 00:00:00\n"
     ]
    },
    {
     "name": "stdout",
     "output_type": "stream",
     "text": [
      "2016-12-15 18:19:12.045351 PST | Epoch #21 | Training finished. Time: 0.6092419624328613\n",
      "2016-12-15 18:19:12.046137 PST | Epoch #21 | Collecting samples for evaluation\n"
     ]
    },
    {
     "name": "stderr",
     "output_type": "stream",
     "text": [
      "0%                          100%\n",
      "[##############################] | ETA: 00:00:00"
     ]
    },
    {
     "name": "stdout",
     "output_type": "stream",
     "text": [
      "2016-12-15 18:19:12.145555 PST | Epoch #21 | Eval time: 0.09940481185913086\n",
      "2016-12-15 18:19:12.147412 PST | ----------------------  -----------\n",
      "2016-12-15 18:19:12.148299 PST | Epoch                    21\n",
      "2016-12-15 18:19:12.149292 PST | AverageReturn           249.83\n",
      "2016-12-15 18:19:12.150280 PST | PolicySurrogateLoss     -72.5458\n",
      "2016-12-15 18:19:12.151106 PST | QfLoss                  497.662\n",
      "2016-12-15 18:19:12.152332 PST | YsMean                   73.4074\n",
      "2016-12-15 18:19:12.153173 PST | YsStd                    17.4374\n",
      "2016-12-15 18:19:12.154248 PST | YsMax                    92.0217\n",
      "2016-12-15 18:19:12.155488 PST | YsMin                     0\n",
      "2016-12-15 18:19:12.156524 PST | PolicyOutputMean          0.0114646\n",
      "2016-12-15 18:19:12.157379 PST | PolicyOutputStd           0.896786\n",
      "2016-12-15 18:19:12.158637 PST | PolicyOutputMax           0.999547\n",
      "2016-12-15 18:19:12.159456 PST | PolicyOutputMin          -0.999879\n",
      "2016-12-15 18:19:12.160463 PST | TargetPolicyOutputMean    0.0109515\n",
      "2016-12-15 18:19:12.161207 PST | TargetPolicyOutputStd     0.856908\n",
      "2016-12-15 18:19:12.162263 PST | TargetPolicyOutputMax     0.996367\n",
      "2016-12-15 18:19:12.163290 PST | TargetPolicyOutputMin    -0.999283\n",
      "2016-12-15 18:19:12.164282 PST | QfOutputMean             72.5458\n",
      "2016-12-15 18:19:12.165470 PST | QfOutputStd               9.70473\n",
      "2016-12-15 18:19:12.166474 PST | QfOutputMax              87.6485\n",
      "2016-12-15 18:19:12.167230 PST | QfOutputMin              54.4683\n",
      "2016-12-15 18:19:12.168201 PST | TargetQfOutputMean       67.2086\n",
      "2016-12-15 18:19:12.168967 PST | TargetQfOutputStd         9.54835\n",
      "2016-12-15 18:19:12.170127 PST | TargetQfOutputMax        82.8559\n",
      "2016-12-15 18:19:12.170926 PST | TargetQfOutputMin        50.8005\n",
      "2016-12-15 18:19:12.171932 PST | RewardsMean               9.60883\n",
      "2016-12-15 18:19:12.172937 PST | RewardsStd                1.92177\n",
      "2016-12-15 18:19:12.173724 PST | RewardsMax                9.99976\n",
      "2016-12-15 18:19:12.174782 PST | RewardsMin                0\n",
      "2016-12-15 18:19:12.175555 PST | ReturnsMean             249.83\n",
      "2016-12-15 18:19:12.176366 PST | ReturnsStd               54.0441\n",
      "2016-12-15 18:19:12.177445 PST | ReturnsMax              349.831\n",
      "2016-12-15 18:19:12.178236 PST | ReturnsMin              199.807\n",
      "2016-12-15 18:19:12.179086 PST | DiscountedReturnsMean   220.907\n",
      "2016-12-15 18:19:12.180153 PST | DiscountedReturnsStd     41.1468\n",
      "2016-12-15 18:19:12.181172 PST | DiscountedReturnsMax    296.421\n",
      "2016-12-15 18:19:12.181958 PST | DiscountedReturnsMin    181.921\n",
      "2016-12-15 18:19:12.182901 PST | TrainingReturnsMean     165.872\n",
      "2016-12-15 18:19:12.183710 PST | TrainingReturnsStd       53.1172\n",
      "2016-12-15 18:19:12.184920 PST | TrainingReturnsMax      259.862\n",
      "2016-12-15 18:19:12.186032 PST | TrainingReturnsMin      119.926\n",
      "2016-12-15 18:19:12.187187 PST | ----------------------  -----------\n",
      "2016-12-15 18:19:12.188224 PST | Epoch #22 | Training started\n"
     ]
    },
    {
     "name": "stderr",
     "output_type": "stream",
     "text": [
      "\n",
      "Total time elapsed: 00:00:00\n"
     ]
    },
    {
     "name": "stdout",
     "output_type": "stream",
     "text": [
      "2016-12-15 18:19:12.781981 PST | Epoch #22 | Training finished. Time: 0.5925428867340088\n",
      "2016-12-15 18:19:12.783038 PST | Epoch #22 | Collecting samples for evaluation\n"
     ]
    },
    {
     "name": "stderr",
     "output_type": "stream",
     "text": [
      "0%                          100%\n",
      "[##############################] | ETA: 00:00:00"
     ]
    },
    {
     "name": "stdout",
     "output_type": "stream",
     "text": [
      "2016-12-15 18:19:12.863420 PST | Epoch #22 | Eval time: 0.08037519454956055\n",
      "2016-12-15 18:19:12.865296 PST | ----------------------  -----------\n",
      "2016-12-15 18:19:12.866393 PST | Epoch                    22\n",
      "2016-12-15 18:19:12.867274 PST | AverageReturn           242.332\n",
      "2016-12-15 18:19:12.868291 PST | PolicySurrogateLoss     -80.3837\n",
      "2016-12-15 18:19:12.869282 PST | QfLoss                  490.635\n",
      "2016-12-15 18:19:12.870445 PST | YsMean                   78.6612\n",
      "2016-12-15 18:19:12.871258 PST | YsStd                    18.9734\n",
      "2016-12-15 18:19:12.872362 PST | YsMax                   101.98\n",
      "2016-12-15 18:19:12.873194 PST | YsMin                     0\n",
      "2016-12-15 18:19:12.875158 PST | PolicyOutputMean          0.0352482\n",
      "2016-12-15 18:19:12.876103 PST | PolicyOutputStd           0.896834\n",
      "2016-12-15 18:19:12.877346 PST | PolicyOutputMax           0.999987\n",
      "2016-12-15 18:19:12.878213 PST | PolicyOutputMin          -0.999987\n",
      "2016-12-15 18:19:12.879386 PST | TargetPolicyOutputMean    0.0853979\n",
      "2016-12-15 18:19:12.880205 PST | TargetPolicyOutputStd     0.847722\n",
      "2016-12-15 18:19:12.881371 PST | TargetPolicyOutputMax     0.9999\n",
      "2016-12-15 18:19:12.882459 PST | TargetPolicyOutputMin    -0.999867\n",
      "2016-12-15 18:19:12.883562 PST | QfOutputMean             80.3837\n",
      "2016-12-15 18:19:12.884441 PST | QfOutputStd              11.405\n",
      "2016-12-15 18:19:12.885887 PST | QfOutputMax             101.705\n",
      "2016-12-15 18:19:12.886847 PST | QfOutputMin              55.7352\n",
      "2016-12-15 18:19:12.887710 PST | TargetQfOutputMean       72.88\n",
      "2016-12-15 18:19:12.888816 PST | TargetQfOutputStd        10.4086\n",
      "2016-12-15 18:19:12.889956 PST | TargetQfOutputMax        92.9165\n",
      "2016-12-15 18:19:12.891180 PST | TargetQfOutputMin        54.4755\n",
      "2016-12-15 18:19:12.892079 PST | RewardsMean               9.59729\n",
      "2016-12-15 18:19:12.893498 PST | RewardsStd                1.94892\n",
      "2016-12-15 18:19:12.894688 PST | RewardsMax                9.99978\n",
      "2016-12-15 18:19:12.895586 PST | RewardsMin                0\n",
      "2016-12-15 18:19:12.896851 PST | ReturnsMean             242.332\n",
      "2016-12-15 18:19:12.897751 PST | ReturnsStd               51.1705\n",
      "2016-12-15 18:19:12.898719 PST | ReturnsMax              299.829\n",
      "2016-12-15 18:19:12.899608 PST | ReturnsMin              159.835\n",
      "2016-12-15 18:19:12.900693 PST | DiscountedReturnsMean   215.101\n",
      "2016-12-15 18:19:12.905356 PST | DiscountedReturnsStd     41.0635\n",
      "2016-12-15 18:19:12.906209 PST | DiscountedReturnsMax    260.16\n",
      "2016-12-15 18:19:12.907434 PST | DiscountedReturnsMin    148.391\n",
      "2016-12-15 18:19:12.908615 PST | TrainingReturnsMean     186.568\n",
      "2016-12-15 18:19:12.909641 PST | TrainingReturnsStd       82.3992\n",
      "2016-12-15 18:19:12.910451 PST | TrainingReturnsMax      299.953\n",
      "2016-12-15 18:19:12.911505 PST | TrainingReturnsMin       79.9745\n",
      "2016-12-15 18:19:12.912564 PST | ----------------------  -----------\n",
      "2016-12-15 18:19:12.913565 PST | Epoch #23 | Training started\n"
     ]
    },
    {
     "name": "stderr",
     "output_type": "stream",
     "text": [
      "\n",
      "Total time elapsed: 00:00:00\n"
     ]
    },
    {
     "name": "stdout",
     "output_type": "stream",
     "text": [
      "2016-12-15 18:19:13.464415 PST | Epoch #23 | Training finished. Time: 0.5500249862670898\n",
      "2016-12-15 18:19:13.465311 PST | Epoch #23 | Collecting samples for evaluation\n"
     ]
    },
    {
     "name": "stderr",
     "output_type": "stream",
     "text": [
      "0%                          100%\n",
      "[##############################] | ETA: 00:00:00"
     ]
    },
    {
     "name": "stdout",
     "output_type": "stream",
     "text": [
      "2016-12-15 18:19:13.564930 PST | Epoch #23 | Eval time: 0.0996100902557373\n",
      "2016-12-15 18:19:13.566746 PST | ----------------------  -----------\n",
      "2016-12-15 18:19:13.567686 PST | Epoch                    23\n",
      "2016-12-15 18:19:13.568928 PST | AverageReturn           254.824\n",
      "2016-12-15 18:19:13.570037 PST | PolicySurrogateLoss     -84.6143\n",
      "2016-12-15 18:19:13.571318 PST | QfLoss                  349.834\n",
      "2016-12-15 18:19:13.572154 PST | YsMean                   83.7331\n",
      "2016-12-15 18:19:13.573297 PST | YsStd                    21.0462\n",
      "2016-12-15 18:19:13.574533 PST | YsMax                   114.787\n",
      "2016-12-15 18:19:13.575591 PST | YsMin                     0\n",
      "2016-12-15 18:19:13.576588 PST | PolicyOutputMean         -0.0297579\n",
      "2016-12-15 18:19:13.577951 PST | PolicyOutputStd           0.918398\n",
      "2016-12-15 18:19:13.578767 PST | PolicyOutputMax           1\n",
      "2016-12-15 18:19:13.580045 PST | PolicyOutputMin          -0.999989\n",
      "2016-12-15 18:19:13.581076 PST | TargetPolicyOutputMean   -0.0763226\n",
      "2016-12-15 18:19:13.581992 PST | TargetPolicyOutputStd     0.886197\n",
      "2016-12-15 18:19:13.583084 PST | TargetPolicyOutputMax     1\n",
      "2016-12-15 18:19:13.584148 PST | TargetPolicyOutputMin    -0.999962\n",
      "2016-12-15 18:19:13.585459 PST | QfOutputMean             84.6143\n",
      "2016-12-15 18:19:13.586622 PST | QfOutputStd              14.8601\n",
      "2016-12-15 18:19:13.587729 PST | QfOutputMax             114.548\n",
      "2016-12-15 18:19:13.588574 PST | QfOutputMin              41.6218\n",
      "2016-12-15 18:19:13.589782 PST | TargetQfOutputMean       78.1187\n",
      "2016-12-15 18:19:13.590788 PST | TargetQfOutputStd        13.1867\n",
      "2016-12-15 18:19:13.591958 PST | TargetQfOutputMax       105.852\n",
      "2016-12-15 18:19:13.592971 PST | TargetQfOutputMin        42.1042\n",
      "2016-12-15 18:19:13.594068 PST | RewardsMean               9.61601\n",
      "2016-12-15 18:19:13.594926 PST | RewardsStd                1.90426\n",
      "2016-12-15 18:19:13.595742 PST | RewardsMax                9.9999\n",
      "2016-12-15 18:19:13.596952 PST | RewardsMin                0\n",
      "2016-12-15 18:19:13.597821 PST | ReturnsMean             254.824\n",
      "2016-12-15 18:19:13.598944 PST | ReturnsStd               26.9229\n",
      "2016-12-15 18:19:13.600042 PST | ReturnsMax              289.8\n",
      "2016-12-15 18:19:13.601275 PST | ReturnsMin              219.846\n",
      "2016-12-15 18:19:13.602360 PST | DiscountedReturnsMean   225.643\n",
      "2016-12-15 18:19:13.603529 PST | DiscountedReturnsStd     20.9504\n",
      "2016-12-15 18:19:13.604495 PST | DiscountedReturnsMax    252.664\n",
      "2016-12-15 18:19:13.605624 PST | DiscountedReturnsMin    198.234\n",
      "2016-12-15 18:19:13.606740 PST | TrainingReturnsMean     279.783\n",
      "2016-12-15 18:19:13.607735 PST | TrainingReturnsStd       16.3646\n",
      "2016-12-15 18:19:13.608772 PST | TrainingReturnsMax      299.802\n",
      "2016-12-15 18:19:13.609804 PST | TrainingReturnsMin      259.717\n",
      "2016-12-15 18:19:13.610698 PST | ----------------------  -----------\n",
      "2016-12-15 18:19:13.611770 PST | Epoch #24 | Training started\n"
     ]
    },
    {
     "name": "stderr",
     "output_type": "stream",
     "text": [
      "\n",
      "Total time elapsed: 00:00:00\n"
     ]
    },
    {
     "name": "stdout",
     "output_type": "stream",
     "text": [
      "2016-12-15 18:19:14.142409 PST | Epoch #24 | Training finished. Time: 0.5294880867004395\n",
      "2016-12-15 18:19:14.143175 PST | Epoch #24 | Collecting samples for evaluation\n"
     ]
    },
    {
     "name": "stderr",
     "output_type": "stream",
     "text": [
      "0%                          100%\n",
      "[##############################] | ETA: 00:00:00"
     ]
    },
    {
     "name": "stdout",
     "output_type": "stream",
     "text": [
      "2016-12-15 18:19:14.217897 PST | Epoch #24 | Eval time: 0.07471108436584473\n",
      "2016-12-15 18:19:14.219832 PST | ----------------------  -----------\n",
      "2016-12-15 18:19:14.220646 PST | Epoch                    24\n",
      "2016-12-15 18:19:14.221442 PST | AverageReturn           323.122\n",
      "2016-12-15 18:19:14.222340 PST | PolicySurrogateLoss     -84.9959\n",
      "2016-12-15 18:19:14.223280 PST | QfLoss                  272.6\n",
      "2016-12-15 18:19:14.224510 PST | YsMean                   86.3629\n",
      "2016-12-15 18:19:14.225444 PST | YsStd                    24.509\n",
      "2016-12-15 18:19:14.226641 PST | YsMax                   122.412\n",
      "2016-12-15 18:19:14.227796 PST | YsMin                     0\n",
      "2016-12-15 18:19:14.228670 PST | PolicyOutputMean          0.0427214\n",
      "2016-12-15 18:19:14.229648 PST | PolicyOutputStd           0.921453\n",
      "2016-12-15 18:19:14.230444 PST | PolicyOutputMax           1\n",
      "2016-12-15 18:19:14.231684 PST | PolicyOutputMin          -0.999994\n",
      "2016-12-15 18:19:14.232750 PST | TargetPolicyOutputMean   -0.0384437\n",
      "2016-12-15 18:19:14.233826 PST | TargetPolicyOutputStd     0.91395\n",
      "2016-12-15 18:19:14.234975 PST | TargetPolicyOutputMax     1\n",
      "2016-12-15 18:19:14.235889 PST | TargetPolicyOutputMin    -0.999997\n",
      "2016-12-15 18:19:14.236920 PST | QfOutputMean             84.9959\n",
      "2016-12-15 18:19:14.237884 PST | QfOutputStd              22.3502\n",
      "2016-12-15 18:19:14.239054 PST | QfOutputMax             121.212\n",
      "2016-12-15 18:19:14.240355 PST | QfOutputMin              31.9531\n",
      "2016-12-15 18:19:14.241461 PST | TargetQfOutputMean       80.2633\n",
      "2016-12-15 18:19:14.242685 PST | TargetQfOutputStd        19.5754\n",
      "2016-12-15 18:19:14.243743 PST | TargetQfOutputMax       113.553\n",
      "2016-12-15 18:19:14.244613 PST | TargetQfOutputMin        30.9477\n",
      "2016-12-15 18:19:14.245775 PST | RewardsMean               9.69366\n",
      "2016-12-15 18:19:14.246642 PST | RewardsStd                1.70476\n",
      "2016-12-15 18:19:14.247722 PST | RewardsMax                9.99896\n",
      "2016-12-15 18:19:14.248866 PST | RewardsMin                0\n",
      "2016-12-15 18:19:14.249963 PST | ReturnsMean             323.122\n",
      "2016-12-15 18:19:14.250728 PST | ReturnsStd               30.9429\n",
      "2016-12-15 18:19:14.251907 PST | ReturnsMax              349.825\n",
      "2016-12-15 18:19:14.252939 PST | ReturnsMin              279.747\n",
      "2016-12-15 18:19:14.254221 PST | DiscountedReturnsMean   276.92\n",
      "2016-12-15 18:19:14.255240 PST | DiscountedReturnsStd     22.7134\n",
      "2016-12-15 18:19:14.256370 PST | DiscountedReturnsMax    296.416\n",
      "2016-12-15 18:19:14.257382 PST | DiscountedReturnsMin    245.064\n",
      "2016-12-15 18:19:14.258515 PST | TrainingReturnsMean     259.82\n",
      "2016-12-15 18:19:14.259486 PST | TrainingReturnsStd      235.424\n",
      "2016-12-15 18:19:14.260331 PST | TrainingReturnsMax      579.721\n",
      "2016-12-15 18:19:14.261154 PST | TrainingReturnsMin       19.97\n",
      "2016-12-15 18:19:14.261949 PST | ----------------------  -----------\n",
      "2016-12-15 18:19:14.262820 PST | Epoch #25 | Training started\n"
     ]
    },
    {
     "name": "stderr",
     "output_type": "stream",
     "text": [
      "\n",
      "Total time elapsed: 00:00:00\n"
     ]
    },
    {
     "name": "stdout",
     "output_type": "stream",
     "text": [
      "2016-12-15 18:19:14.846456 PST | Epoch #25 | Training finished. Time: 0.5824480056762695\n",
      "2016-12-15 18:19:14.847277 PST | Epoch #25 | Collecting samples for evaluation\n"
     ]
    },
    {
     "name": "stderr",
     "output_type": "stream",
     "text": [
      "0%                          100%\n",
      "[##############################] | ETA: 00:00:00"
     ]
    },
    {
     "name": "stdout",
     "output_type": "stream",
     "text": [
      "2016-12-15 18:19:14.939031 PST | Epoch #25 | Eval time: 0.09174585342407227\n",
      "2016-12-15 18:19:14.940953 PST | ----------------------  -----------\n",
      "2016-12-15 18:19:14.942056 PST | Epoch                    25\n",
      "2016-12-15 18:19:14.942972 PST | AverageReturn           366.456\n",
      "2016-12-15 18:19:14.944353 PST | PolicySurrogateLoss     -96.6909\n",
      "2016-12-15 18:19:14.945325 PST | QfLoss                  198.916\n",
      "2016-12-15 18:19:14.946462 PST | YsMean                   95.0214\n",
      "2016-12-15 18:19:14.947336 PST | YsStd                    29.0182\n",
      "2016-12-15 18:19:14.948652 PST | YsMax                   134.194\n",
      "2016-12-15 18:19:14.949652 PST | YsMin                     0\n",
      "2016-12-15 18:19:14.950613 PST | PolicyOutputMean          0.0365178\n",
      "2016-12-15 18:19:14.951680 PST | PolicyOutputStd           0.932466\n",
      "2016-12-15 18:19:14.952626 PST | PolicyOutputMax           1\n",
      "2016-12-15 18:19:14.953920 PST | PolicyOutputMin          -0.999997\n",
      "2016-12-15 18:19:14.954944 PST | TargetPolicyOutputMean   -0.0537149\n",
      "2016-12-15 18:19:14.955780 PST | TargetPolicyOutputStd     0.936965\n",
      "2016-12-15 18:19:14.957058 PST | TargetPolicyOutputMax     1\n",
      "2016-12-15 18:19:14.958285 PST | TargetPolicyOutputMin    -0.999999\n",
      "2016-12-15 18:19:14.959159 PST | QfOutputMean             96.6909\n",
      "2016-12-15 18:19:14.960452 PST | QfOutputStd              28.7141\n",
      "2016-12-15 18:19:14.961981 PST | QfOutputMax             135.147\n",
      "2016-12-15 18:19:14.962951 PST | QfOutputMin              17.72\n",
      "2016-12-15 18:19:14.963776 PST | TargetQfOutputMean       88.8842\n",
      "2016-12-15 18:19:14.964859 PST | TargetQfOutputStd        24.7596\n",
      "2016-12-15 18:19:14.966011 PST | TargetQfOutputMax       125.455\n",
      "2016-12-15 18:19:14.967194 PST | TargetQfOutputMin        19.7489\n",
      "2016-12-15 18:19:14.968115 PST | RewardsMean               9.72892\n",
      "2016-12-15 18:19:14.969249 PST | RewardsStd                1.60669\n",
      "2016-12-15 18:19:14.970057 PST | RewardsMax                9.99907\n",
      "2016-12-15 18:19:14.970948 PST | RewardsMin                0\n",
      "2016-12-15 18:19:14.971905 PST | ReturnsMean             366.456\n",
      "2016-12-15 18:19:14.973259 PST | ReturnsStd              150.599\n",
      "2016-12-15 18:19:14.974061 PST | ReturnsMax              569.756\n",
      "2016-12-15 18:19:14.974931 PST | ReturnsMin              209.836\n",
      "2016-12-15 18:19:14.976121 PST | DiscountedReturnsMean   300.297\n",
      "2016-12-15 18:19:14.977026 PST | DiscountedReturnsStd    101.954\n",
      "2016-12-15 18:19:14.978189 PST | DiscountedReturnsMax    435.935\n",
      "2016-12-15 18:19:14.979091 PST | DiscountedReturnsMin    190.126\n",
      "2016-12-15 18:19:14.980078 PST | TrainingReturnsMean     373.221\n",
      "2016-12-15 18:19:14.981221 PST | TrainingReturnsStd      195.984\n",
      "2016-12-15 18:19:14.982320 PST | TrainingReturnsMax      609.871\n",
      "2016-12-15 18:19:14.983200 PST | TrainingReturnsMin      129.948\n",
      "2016-12-15 18:19:14.984132 PST | ----------------------  -----------\n",
      "2016-12-15 18:19:14.985324 PST | Epoch #26 | Training started\n"
     ]
    },
    {
     "name": "stderr",
     "output_type": "stream",
     "text": [
      "\n",
      "Total time elapsed: 00:00:00\n"
     ]
    },
    {
     "name": "stdout",
     "output_type": "stream",
     "text": [
      "2016-12-15 18:19:15.575858 PST | Epoch #26 | Training finished. Time: 0.589730978012085\n",
      "2016-12-15 18:19:15.576882 PST | Epoch #26 | Collecting samples for evaluation\n"
     ]
    },
    {
     "name": "stderr",
     "output_type": "stream",
     "text": [
      "0%                          100%\n",
      "[##############################] | ETA: 00:00:00"
     ]
    },
    {
     "name": "stdout",
     "output_type": "stream",
     "text": [
      "2016-12-15 18:19:15.652195 PST | Epoch #26 | Eval time: 0.07530403137207031\n",
      "2016-12-15 18:19:15.654202 PST | ----------------------  ------------\n",
      "2016-12-15 18:19:15.655229 PST | Epoch                     26\n",
      "2016-12-15 18:19:15.656640 PST | AverageReturn            333.148\n",
      "2016-12-15 18:19:15.657788 PST | PolicySurrogateLoss     -108.357\n",
      "2016-12-15 18:19:15.659033 PST | QfLoss                   488.525\n",
      "2016-12-15 18:19:15.660039 PST | YsMean                   100.364\n",
      "2016-12-15 18:19:15.660930 PST | YsStd                     29.5381\n",
      "2016-12-15 18:19:15.662109 PST | YsMax                    145.418\n",
      "2016-12-15 18:19:15.663052 PST | YsMin                      0\n",
      "2016-12-15 18:19:15.663909 PST | PolicyOutputMean           0.0274829\n",
      "2016-12-15 18:19:15.664705 PST | PolicyOutputStd            0.930007\n",
      "2016-12-15 18:19:15.665567 PST | PolicyOutputMax            1\n",
      "2016-12-15 18:19:15.666585 PST | PolicyOutputMin           -1\n",
      "2016-12-15 18:19:15.667625 PST | TargetPolicyOutputMean    -0.0403799\n",
      "2016-12-15 18:19:15.668652 PST | TargetPolicyOutputStd      0.922077\n",
      "2016-12-15 18:19:15.669944 PST | TargetPolicyOutputMax      1\n",
      "2016-12-15 18:19:15.670747 PST | TargetPolicyOutputMin     -1\n",
      "2016-12-15 18:19:15.671812 PST | QfOutputMean             108.357\n",
      "2016-12-15 18:19:15.672774 PST | QfOutputStd               25.656\n",
      "2016-12-15 18:19:15.673905 PST | QfOutputMax              151.067\n",
      "2016-12-15 18:19:15.674808 PST | QfOutputMin               34.0997\n",
      "2016-12-15 18:19:15.675906 PST | TargetQfOutputMean        94.8937\n",
      "2016-12-15 18:19:15.676701 PST | TargetQfOutputStd         24.3429\n",
      "2016-12-15 18:19:15.677718 PST | TargetQfOutputMax        136.794\n",
      "2016-12-15 18:19:15.678830 PST | TargetQfOutputMin         22.6715\n",
      "2016-12-15 18:19:15.680037 PST | RewardsMean                9.70334\n",
      "2016-12-15 18:19:15.681073 PST | RewardsStd                 1.68067\n",
      "2016-12-15 18:19:15.682072 PST | RewardsMax                 9.99937\n",
      "2016-12-15 18:19:15.683175 PST | RewardsMin                 0\n",
      "2016-12-15 18:19:15.684284 PST | ReturnsMean              333.148\n",
      "2016-12-15 18:19:15.685121 PST | ReturnsStd                63.4393\n",
      "2016-12-15 18:19:15.685952 PST | ReturnsMax               419.853\n",
      "2016-12-15 18:19:15.686980 PST | ReturnsMin               269.833\n",
      "2016-12-15 18:19:15.687963 PST | DiscountedReturnsMean    283.079\n",
      "2016-12-15 18:19:15.689200 PST | DiscountedReturnsStd      44.9358\n",
      "2016-12-15 18:19:15.689985 PST | DiscountedReturnsMax     344.225\n",
      "2016-12-15 18:19:15.690763 PST | DiscountedReturnsMin     237.517\n",
      "2016-12-15 18:19:15.691783 PST | TrainingReturnsMean      333.122\n",
      "2016-12-15 18:19:15.692870 PST | TrainingReturnsStd        32.9523\n",
      "2016-12-15 18:19:15.693924 PST | TrainingReturnsMax       369.824\n",
      "2016-12-15 18:19:15.694975 PST | TrainingReturnsMin       289.901\n",
      "2016-12-15 18:19:15.695833 PST | ----------------------  ------------\n",
      "2016-12-15 18:19:15.696943 PST | Epoch #27 | Training started\n"
     ]
    },
    {
     "name": "stderr",
     "output_type": "stream",
     "text": [
      "\n",
      "Total time elapsed: 00:00:00\n"
     ]
    },
    {
     "name": "stdout",
     "output_type": "stream",
     "text": [
      "2016-12-15 18:19:16.233962 PST | Epoch #27 | Training finished. Time: 0.5359330177307129\n",
      "2016-12-15 18:19:16.235029 PST | Epoch #27 | Collecting samples for evaluation\n"
     ]
    },
    {
     "name": "stderr",
     "output_type": "stream",
     "text": [
      "0%                          100%\n",
      "[##############################] | ETA: 00:00:00"
     ]
    },
    {
     "name": "stdout",
     "output_type": "stream",
     "text": [
      "2016-12-15 18:19:16.315775 PST | Epoch #27 | Eval time: 0.08073997497558594\n",
      "2016-12-15 18:19:16.317659 PST | ----------------------  -------------\n",
      "2016-12-15 18:19:16.318621 PST | Epoch                     27\n",
      "2016-12-15 18:19:16.319722 PST | AverageReturn            363.155\n",
      "2016-12-15 18:19:16.320821 PST | PolicySurrogateLoss     -109.785\n",
      "2016-12-15 18:19:16.322029 PST | QfLoss                   178.809\n",
      "2016-12-15 18:19:16.323094 PST | YsMean                   109.172\n",
      "2016-12-15 18:19:16.324249 PST | YsStd                     30.8748\n",
      "2016-12-15 18:19:16.325362 PST | YsMax                    145.61\n",
      "2016-12-15 18:19:16.326284 PST | YsMin                      0\n",
      "2016-12-15 18:19:16.327532 PST | PolicyOutputMean          -0.00714838\n",
      "2016-12-15 18:19:16.328820 PST | PolicyOutputStd            0.942384\n",
      "2016-12-15 18:19:16.329746 PST | PolicyOutputMax            1\n",
      "2016-12-15 18:19:16.330851 PST | PolicyOutputMin           -1\n",
      "2016-12-15 18:19:16.331931 PST | TargetPolicyOutputMean     0.0351797\n",
      "2016-12-15 18:19:16.332902 PST | TargetPolicyOutputStd      0.940669\n",
      "2016-12-15 18:19:16.333941 PST | TargetPolicyOutputMax      1\n",
      "2016-12-15 18:19:16.335006 PST | TargetPolicyOutputMin     -1\n",
      "2016-12-15 18:19:16.336159 PST | QfOutputMean             109.785\n",
      "2016-12-15 18:19:16.337272 PST | QfOutputStd               28.981\n",
      "2016-12-15 18:19:16.338375 PST | QfOutputMax              145.773\n",
      "2016-12-15 18:19:16.339470 PST | QfOutputMin               25.1167\n",
      "2016-12-15 18:19:16.340544 PST | TargetQfOutputMean       103.793\n",
      "2016-12-15 18:19:16.341892 PST | TargetQfOutputStd         25.4939\n",
      "2016-12-15 18:19:16.342986 PST | TargetQfOutputMax        136.985\n",
      "2016-12-15 18:19:16.344145 PST | TargetQfOutputMin         26.1686\n",
      "2016-12-15 18:19:16.345198 PST | RewardsMean                9.72738\n",
      "2016-12-15 18:19:16.346229 PST | RewardsStd                 1.61378\n",
      "2016-12-15 18:19:16.347321 PST | RewardsMax                 9.99918\n",
      "2016-12-15 18:19:16.348386 PST | RewardsMin                 0\n",
      "2016-12-15 18:19:16.349491 PST | ReturnsMean              363.155\n",
      "2016-12-15 18:19:16.350395 PST | ReturnsStd                74.0706\n",
      "2016-12-15 18:19:16.351418 PST | ReturnsMax               459.778\n",
      "2016-12-15 18:19:16.352574 PST | ReturnsMin               279.805\n",
      "2016-12-15 18:19:16.353751 PST | DiscountedReturnsMean    303.863\n",
      "2016-12-15 18:19:16.354574 PST | DiscountedReturnsStd      51.2578\n",
      "2016-12-15 18:19:16.355649 PST | DiscountedReturnsMax     370.016\n",
      "2016-12-15 18:19:16.356829 PST | DiscountedReturnsMin     245.118\n",
      "2016-12-15 18:19:16.357697 PST | TrainingReturnsMean      309.823\n",
      "2016-12-15 18:19:16.358781 PST | TrainingReturnsStd        69.9919\n",
      "2016-12-15 18:19:16.359862 PST | TrainingReturnsMax       379.815\n",
      "2016-12-15 18:19:16.360803 PST | TrainingReturnsMin       239.831\n",
      "2016-12-15 18:19:16.361717 PST | ----------------------  -------------\n",
      "2016-12-15 18:19:16.362945 PST | Epoch #28 | Training started\n"
     ]
    },
    {
     "name": "stderr",
     "output_type": "stream",
     "text": [
      "\n",
      "Total time elapsed: 00:00:00\n"
     ]
    },
    {
     "name": "stdout",
     "output_type": "stream",
     "text": [
      "2016-12-15 18:19:16.944527 PST | Epoch #28 | Training finished. Time: 0.5805978775024414\n",
      "2016-12-15 18:19:16.945292 PST | Epoch #28 | Collecting samples for evaluation\n"
     ]
    },
    {
     "name": "stderr",
     "output_type": "stream",
     "text": [
      "0%                          100%\n",
      "[##############################] | ETA: 00:00:00"
     ]
    },
    {
     "name": "stdout",
     "output_type": "stream",
     "text": [
      "2016-12-15 18:19:17.043568 PST | Epoch #28 | Eval time: 0.09823989868164062\n",
      "2016-12-15 18:19:17.046289 PST | ----------------------  ------------\n",
      "2016-12-15 18:19:17.048664 PST | Epoch                     28\n",
      "2016-12-15 18:19:17.050343 PST | AverageReturn            389.825\n",
      "2016-12-15 18:19:17.052199 PST | PolicySurrogateLoss     -119.566\n",
      "2016-12-15 18:19:17.053505 PST | QfLoss                   236.586\n",
      "2016-12-15 18:19:17.055070 PST | YsMean                   116.942\n",
      "2016-12-15 18:19:17.056516 PST | YsStd                     32.5855\n",
      "2016-12-15 18:19:17.057696 PST | YsMax                    159.147\n",
      "2016-12-15 18:19:17.058888 PST | YsMin                      0\n",
      "2016-12-15 18:19:17.060035 PST | PolicyOutputMean           0.0230219\n",
      "2016-12-15 18:19:17.061356 PST | PolicyOutputStd            0.942248\n",
      "2016-12-15 18:19:17.062656 PST | PolicyOutputMax            1\n",
      "2016-12-15 18:19:17.063950 PST | PolicyOutputMin           -1\n",
      "2016-12-15 18:19:17.064953 PST | TargetPolicyOutputMean     0.0764963\n",
      "2016-12-15 18:19:17.065864 PST | TargetPolicyOutputStd      0.929402\n",
      "2016-12-15 18:19:17.067488 PST | TargetPolicyOutputMax      1\n",
      "2016-12-15 18:19:17.068742 PST | TargetPolicyOutputMin     -1\n",
      "2016-12-15 18:19:17.069847 PST | QfOutputMean             119.566\n",
      "2016-12-15 18:19:17.071259 PST | QfOutputStd               30.4381\n",
      "2016-12-15 18:19:17.072759 PST | QfOutputMax              162.253\n",
      "2016-12-15 18:19:17.074147 PST | QfOutputMin               35.8086\n",
      "2016-12-15 18:19:17.075713 PST | TargetQfOutputMean       111.651\n",
      "2016-12-15 18:19:17.077296 PST | TargetQfOutputStd         27.1899\n",
      "2016-12-15 18:19:17.078834 PST | TargetQfOutputMax        150.658\n",
      "2016-12-15 18:19:17.081777 PST | TargetQfOutputMin         35.9551\n",
      "2016-12-15 18:19:17.082827 PST | RewardsMean                9.74562\n",
      "2016-12-15 18:19:17.083847 PST | RewardsStd                 1.56055\n",
      "2016-12-15 18:19:17.086110 PST | RewardsMax                 9.99948\n",
      "2016-12-15 18:19:17.087306 PST | RewardsMin                 0\n",
      "2016-12-15 18:19:17.088228 PST | ReturnsMean              389.825\n",
      "2016-12-15 18:19:17.089363 PST | ReturnsStd                40.8413\n",
      "2016-12-15 18:19:17.090456 PST | ReturnsMax               439.871\n",
      "2016-12-15 18:19:17.091877 PST | ReturnsMin               339.831\n",
      "2016-12-15 18:19:17.092863 PST | DiscountedReturnsMean    323.565\n",
      "2016-12-15 18:19:17.093711 PST | DiscountedReturnsStd      27.7535\n",
      "2016-12-15 18:19:17.094767 PST | DiscountedReturnsMax     357.289\n",
      "2016-12-15 18:19:17.095929 PST | DiscountedReturnsMin     289.313\n",
      "2016-12-15 18:19:17.096804 PST | TrainingReturnsMean      499.88\n",
      "2016-12-15 18:19:17.098092 PST | TrainingReturnsStd       369.948\n",
      "2016-12-15 18:19:17.099036 PST | TrainingReturnsMax       869.827\n",
      "2016-12-15 18:19:17.100320 PST | TrainingReturnsMin       129.932\n",
      "2016-12-15 18:19:17.101491 PST | ----------------------  ------------\n",
      "2016-12-15 18:19:17.102936 PST | Epoch #29 | Training started\n"
     ]
    },
    {
     "name": "stderr",
     "output_type": "stream",
     "text": [
      "\n",
      "Total time elapsed: 00:00:00\n"
     ]
    },
    {
     "name": "stdout",
     "output_type": "stream",
     "text": [
      "2016-12-15 18:19:17.722929 PST | Epoch #29 | Training finished. Time: 0.6190121173858643\n",
      "2016-12-15 18:19:17.723855 PST | Epoch #29 | Collecting samples for evaluation\n"
     ]
    },
    {
     "name": "stderr",
     "output_type": "stream",
     "text": [
      "0%                          100%\n",
      "[##############################] | ETA: 00:00:00"
     ]
    },
    {
     "name": "stdout",
     "output_type": "stream",
     "text": [
      "2016-12-15 18:19:17.817617 PST | Epoch #29 | Eval time: 0.09375381469726562\n",
      "2016-12-15 18:19:17.819511 PST | ----------------------  ------------\n",
      "2016-12-15 18:19:17.820369 PST | Epoch                     29\n",
      "2016-12-15 18:19:17.822120 PST | AverageReturn            376.446\n",
      "2016-12-15 18:19:17.823197 PST | PolicySurrogateLoss     -118.445\n",
      "2016-12-15 18:19:17.824064 PST | QfLoss                   313.736\n",
      "2016-12-15 18:19:17.825089 PST | YsMean                   122.778\n",
      "2016-12-15 18:19:17.826097 PST | YsStd                     43.4481\n",
      "2016-12-15 18:19:17.827421 PST | YsMax                    185.241\n",
      "2016-12-15 18:19:17.828993 PST | YsMin                      0\n",
      "2016-12-15 18:19:17.831715 PST | PolicyOutputMean           0.0767106\n",
      "2016-12-15 18:19:17.833055 PST | PolicyOutputStd            0.955785\n",
      "2016-12-15 18:19:17.833954 PST | PolicyOutputMax            1\n",
      "2016-12-15 18:19:17.834833 PST | PolicyOutputMin           -1\n",
      "2016-12-15 18:19:17.835978 PST | TargetPolicyOutputMean     0.0674663\n",
      "2016-12-15 18:19:17.837090 PST | TargetPolicyOutputStd      0.950617\n",
      "2016-12-15 18:19:17.838185 PST | TargetPolicyOutputMax      1\n",
      "2016-12-15 18:19:17.839286 PST | TargetPolicyOutputMin     -1\n",
      "2016-12-15 18:19:17.840335 PST | QfOutputMean             118.445\n",
      "2016-12-15 18:19:17.841257 PST | QfOutputStd               45.4016\n",
      "2016-12-15 18:19:17.842120 PST | QfOutputMax              184.175\n",
      "2016-12-15 18:19:17.843294 PST | QfOutputMin               10.8076\n",
      "2016-12-15 18:19:17.844143 PST | TargetQfOutputMean       117.94\n",
      "2016-12-15 18:19:17.845379 PST | TargetQfOutputStd         39.2072\n",
      "2016-12-15 18:19:17.846635 PST | TargetQfOutputMax        177.027\n",
      "2016-12-15 18:19:17.847881 PST | TargetQfOutputMin         20.3504\n",
      "2016-12-15 18:19:17.848811 PST | RewardsMean                9.73567\n",
      "2016-12-15 18:19:17.849679 PST | RewardsStd                 1.58631\n",
      "2016-12-15 18:19:17.850758 PST | RewardsMax                 9.999\n",
      "2016-12-15 18:19:17.851899 PST | RewardsMin                 0\n",
      "2016-12-15 18:19:17.852786 PST | ReturnsMean              376.446\n",
      "2016-12-15 18:19:17.854083 PST | ReturnsStd                54.3774\n",
      "2016-12-15 18:19:17.855079 PST | ReturnsMax               419.786\n",
      "2016-12-15 18:19:17.856211 PST | ReturnsMin               299.761\n",
      "2016-12-15 18:19:17.857107 PST | DiscountedReturnsMean    313.944\n",
      "2016-12-15 18:19:17.858288 PST | DiscountedReturnsStd      38.1744\n",
      "2016-12-15 18:19:17.859376 PST | DiscountedReturnsMax     344.181\n",
      "2016-12-15 18:19:17.860240 PST | DiscountedReturnsMin     260.093\n",
      "2016-12-15 18:19:17.861143 PST | TrainingReturnsMean      503.186\n",
      "2016-12-15 18:19:17.862225 PST | TrainingReturnsStd       151.086\n",
      "2016-12-15 18:19:17.863169 PST | TrainingReturnsMax       689.894\n",
      "2016-12-15 18:19:17.864331 PST | TrainingReturnsMin       319.856\n",
      "2016-12-15 18:19:17.865210 PST | ----------------------  ------------\n",
      "2016-12-15 18:19:17.866962 PST | Epoch #30 | Training started\n"
     ]
    },
    {
     "name": "stderr",
     "output_type": "stream",
     "text": [
      "\n",
      "Total time elapsed: 00:00:00\n"
     ]
    },
    {
     "name": "stdout",
     "output_type": "stream",
     "text": [
      "2016-12-15 18:19:18.462834 PST | Epoch #30 | Training finished. Time: 0.5947690010070801\n",
      "2016-12-15 18:19:18.463635 PST | Epoch #30 | Collecting samples for evaluation\n"
     ]
    },
    {
     "name": "stderr",
     "output_type": "stream",
     "text": [
      "0%                          100%\n",
      "[##############################] | ETA: 00:00:00"
     ]
    },
    {
     "name": "stdout",
     "output_type": "stream",
     "text": [
      "2016-12-15 18:19:18.557139 PST | Epoch #30 | Eval time: 0.09349489212036133\n",
      "2016-12-15 18:19:18.559186 PST | ----------------------  ------------\n",
      "2016-12-15 18:19:18.560301 PST | Epoch                     30\n",
      "2016-12-15 18:19:18.561192 PST | AverageReturn            302.34\n",
      "2016-12-15 18:19:18.562205 PST | PolicySurrogateLoss     -131.423\n",
      "2016-12-15 18:19:18.563459 PST | QfLoss                   199.168\n",
      "2016-12-15 18:19:18.564324 PST | YsMean                   127.753\n",
      "2016-12-15 18:19:18.565215 PST | YsStd                     38.4625\n",
      "2016-12-15 18:19:18.566558 PST | YsMax                    175.278\n",
      "2016-12-15 18:19:18.568399 PST | YsMin                      0\n",
      "2016-12-15 18:19:18.570459 PST | PolicyOutputMean          -0.0586815\n",
      "2016-12-15 18:19:18.571385 PST | PolicyOutputStd            0.933459\n",
      "2016-12-15 18:19:18.572495 PST | PolicyOutputMax            1\n",
      "2016-12-15 18:19:18.573431 PST | PolicyOutputMin           -1\n",
      "2016-12-15 18:19:18.574472 PST | TargetPolicyOutputMean    -0.0094754\n",
      "2016-12-15 18:19:18.575833 PST | TargetPolicyOutputStd      0.936728\n",
      "2016-12-15 18:19:18.576873 PST | TargetPolicyOutputMax      1\n",
      "2016-12-15 18:19:18.578036 PST | TargetPolicyOutputMin     -1\n",
      "2016-12-15 18:19:18.579113 PST | QfOutputMean             131.423\n",
      "2016-12-15 18:19:18.580122 PST | QfOutputStd               34.5409\n",
      "2016-12-15 18:19:18.581458 PST | QfOutputMax              176.432\n",
      "2016-12-15 18:19:18.582500 PST | QfOutputMin               32.9323\n",
      "2016-12-15 18:19:18.583709 PST | TargetQfOutputMean       124.282\n",
      "2016-12-15 18:19:18.584596 PST | TargetQfOutputStd         31.5169\n",
      "2016-12-15 18:19:18.585781 PST | TargetQfOutputMax        166.955\n",
      "2016-12-15 18:19:18.586752 PST | TargetQfOutputMin         31.3827\n",
      "2016-12-15 18:19:18.587626 PST | RewardsMean                9.67488\n",
      "2016-12-15 18:19:18.588847 PST | RewardsStd                 1.75907\n",
      "2016-12-15 18:19:18.590374 PST | RewardsMax                 9.99991\n",
      "2016-12-15 18:19:18.591448 PST | RewardsMin                 0\n",
      "2016-12-15 18:19:18.592657 PST | ReturnsMean              302.34\n",
      "2016-12-15 18:19:18.593785 PST | ReturnsStd                29.5097\n",
      "2016-12-15 18:19:18.594669 PST | ReturnsMax               329.895\n",
      "2016-12-15 18:19:18.595696 PST | ReturnsMin               259.783\n",
      "2016-12-15 18:19:18.596652 PST | DiscountedReturnsMean    261.696\n",
      "2016-12-15 18:19:18.597712 PST | DiscountedReturnsStd      22.0118\n",
      "2016-12-15 18:19:18.598970 PST | DiscountedReturnsMax     282.183\n",
      "2016-12-15 18:19:18.600310 PST | DiscountedReturnsMin     229.77\n",
      "2016-12-15 18:19:18.601502 PST | TrainingReturnsMean      424.844\n",
      "2016-12-15 18:19:18.602607 PST | TrainingReturnsStd        84.9821\n",
      "2016-12-15 18:19:18.603610 PST | TrainingReturnsMax       509.826\n",
      "2016-12-15 18:19:18.604567 PST | TrainingReturnsMin       339.862\n",
      "2016-12-15 18:19:18.605727 PST | ----------------------  ------------\n",
      "2016-12-15 18:19:18.606706 PST | Epoch #31 | Training started\n"
     ]
    },
    {
     "name": "stderr",
     "output_type": "stream",
     "text": [
      "\n",
      "Total time elapsed: 00:00:00\n"
     ]
    },
    {
     "name": "stdout",
     "output_type": "stream",
     "text": [
      "2016-12-15 18:19:19.163118 PST | Epoch #31 | Training finished. Time: 0.5551831722259521\n",
      "2016-12-15 18:19:19.163885 PST | Epoch #31 | Collecting samples for evaluation\n"
     ]
    },
    {
     "name": "stderr",
     "output_type": "stream",
     "text": [
      "0%                          100%\n",
      "[##############################] | ETA: 00:00:00"
     ]
    },
    {
     "name": "stdout",
     "output_type": "stream",
     "text": [
      "2016-12-15 18:19:19.237239 PST | Epoch #31 | Eval time: 0.07334685325622559\n",
      "2016-12-15 18:19:19.239127 PST | ----------------------  ------------\n",
      "2016-12-15 18:19:19.240066 PST | Epoch                     31\n",
      "2016-12-15 18:19:19.242748 PST | AverageReturn            509.793\n",
      "2016-12-15 18:19:19.244458 PST | PolicySurrogateLoss     -158.126\n",
      "2016-12-15 18:19:19.245989 PST | QfLoss                   155.507\n",
      "2016-12-15 18:19:19.247135 PST | YsMean                   153.086\n",
      "2016-12-15 18:19:19.251601 PST | YsStd                     40.4849\n",
      "2016-12-15 18:19:19.253298 PST | YsMax                    191.581\n",
      "2016-12-15 18:19:19.254216 PST | YsMin                      0\n",
      "2016-12-15 18:19:19.255209 PST | PolicyOutputMean          -0.0412712\n",
      "2016-12-15 18:19:19.256101 PST | PolicyOutputStd            0.944835\n",
      "2016-12-15 18:19:19.257061 PST | PolicyOutputMax            1\n",
      "2016-12-15 18:19:19.258384 PST | PolicyOutputMin           -1\n",
      "2016-12-15 18:19:19.259414 PST | TargetPolicyOutputMean    -0.0370642\n",
      "2016-12-15 18:19:19.260305 PST | TargetPolicyOutputStd      0.941529\n",
      "2016-12-15 18:19:19.261463 PST | TargetPolicyOutputMax      1\n",
      "2016-12-15 18:19:19.262334 PST | TargetPolicyOutputMin     -1\n",
      "2016-12-15 18:19:19.263477 PST | QfOutputMean             158.126\n",
      "2016-12-15 18:19:19.264643 PST | QfOutputStd               39.0761\n",
      "2016-12-15 18:19:19.265855 PST | QfOutputMax              198.874\n",
      "2016-12-15 18:19:19.266889 PST | QfOutputMin               38.4096\n",
      "2016-12-15 18:19:19.267702 PST | TargetQfOutputMean       147.948\n",
      "2016-12-15 18:19:19.268923 PST | TargetQfOutputStd         34.7927\n",
      "2016-12-15 18:19:19.269786 PST | TargetQfOutputMax        183.416\n",
      "2016-12-15 18:19:19.271033 PST | TargetQfOutputMin         39.8041\n",
      "2016-12-15 18:19:19.272173 PST | RewardsMean                9.80371\n",
      "2016-12-15 18:19:19.273048 PST | RewardsStd                 1.3728\n",
      "2016-12-15 18:19:19.273958 PST | RewardsMax                 9.99953\n",
      "2016-12-15 18:19:19.275039 PST | RewardsMin                 0\n",
      "2016-12-15 18:19:19.275950 PST | ReturnsMean              509.793\n",
      "2016-12-15 18:19:19.276853 PST | ReturnsStd                79.9891\n",
      "2016-12-15 18:19:19.277951 PST | ReturnsMax               589.782\n",
      "2016-12-15 18:19:19.278776 PST | ReturnsMin               429.804\n",
      "2016-12-15 18:19:19.280005 PST | DiscountedReturnsMean    398.964\n",
      "2016-12-15 18:19:19.280840 PST | DiscountedReturnsStd      48.2102\n",
      "2016-12-15 18:19:19.282006 PST | DiscountedReturnsMax     447.174\n",
      "2016-12-15 18:19:19.282888 PST | DiscountedReturnsMin     350.754\n",
      "2016-12-15 18:19:19.284068 PST | TrainingReturnsMean      514.829\n",
      "2016-12-15 18:19:19.284966 PST | TrainingReturnsStd        24.9706\n",
      "2016-12-15 18:19:19.285985 PST | TrainingReturnsMax       539.8\n",
      "2016-12-15 18:19:19.287152 PST | TrainingReturnsMin       489.859\n",
      "2016-12-15 18:19:19.288032 PST | ----------------------  ------------\n",
      "2016-12-15 18:19:19.288951 PST | Epoch #32 | Training started\n"
     ]
    },
    {
     "name": "stderr",
     "output_type": "stream",
     "text": [
      "\n",
      "Total time elapsed: 00:00:00\n"
     ]
    },
    {
     "name": "stdout",
     "output_type": "stream",
     "text": [
      "2016-12-15 18:19:19.843317 PST | Epoch #32 | Training finished. Time: 0.5527560710906982\n",
      "2016-12-15 18:19:19.844085 PST | Epoch #32 | Collecting samples for evaluation\n"
     ]
    },
    {
     "name": "stderr",
     "output_type": "stream",
     "text": [
      "0%                          100%\n",
      "[##############################] | ETA: 00:00:00"
     ]
    },
    {
     "name": "stdout",
     "output_type": "stream",
     "text": [
      "2016-12-15 18:19:19.918768 PST | Epoch #32 | Eval time: 0.07467007637023926\n",
      "2016-12-15 18:19:19.920659 PST | ----------------------  --------------\n",
      "2016-12-15 18:19:19.921613 PST | Epoch                     32\n",
      "2016-12-15 18:19:19.922840 PST | AverageReturn            524.823\n",
      "2016-12-15 18:19:19.923803 PST | PolicySurrogateLoss     -175.45\n",
      "2016-12-15 18:19:19.924977 PST | QfLoss                   336.983\n",
      "2016-12-15 18:19:19.925974 PST | YsMean                   169.647\n",
      "2016-12-15 18:19:19.927009 PST | YsStd                     40.451\n",
      "2016-12-15 18:19:19.928212 PST | YsMax                    209.501\n",
      "2016-12-15 18:19:19.929462 PST | YsMin                      0\n",
      "2016-12-15 18:19:19.930453 PST | PolicyOutputMean          -0.000103137\n",
      "2016-12-15 18:19:19.931553 PST | PolicyOutputStd            0.977959\n",
      "2016-12-15 18:19:19.932748 PST | PolicyOutputMax            1\n",
      "2016-12-15 18:19:19.933645 PST | PolicyOutputMin           -1\n",
      "2016-12-15 18:19:19.934471 PST | TargetPolicyOutputMean     0.0140246\n",
      "2016-12-15 18:19:19.935655 PST | TargetPolicyOutputStd      0.97488\n",
      "2016-12-15 18:19:19.936530 PST | TargetPolicyOutputMax      1\n",
      "2016-12-15 18:19:19.937625 PST | TargetPolicyOutputMin     -1\n",
      "2016-12-15 18:19:19.938635 PST | QfOutputMean             175.45\n",
      "2016-12-15 18:19:19.939519 PST | QfOutputStd               36.386\n",
      "2016-12-15 18:19:19.940650 PST | QfOutputMax              214.343\n",
      "2016-12-15 18:19:19.941545 PST | QfOutputMin               58.7386\n",
      "2016-12-15 18:19:19.942492 PST | TargetQfOutputMean       164.8\n",
      "2016-12-15 18:19:19.943667 PST | TargetQfOutputStd         33.3754\n",
      "2016-12-15 18:19:19.944594 PST | TargetQfOutputMax        201.532\n",
      "2016-12-15 18:19:19.945733 PST | TargetQfOutputMin         58.3043\n",
      "2016-12-15 18:19:19.946714 PST | RewardsMean                9.80977\n",
      "2016-12-15 18:19:19.947864 PST | RewardsStd                 1.35388\n",
      "2016-12-15 18:19:19.948896 PST | RewardsMax                 9.99981\n",
      "2016-12-15 18:19:19.949893 PST | RewardsMin                 0\n",
      "2016-12-15 18:19:19.951080 PST | ReturnsMean              524.823\n",
      "2016-12-15 18:19:19.951884 PST | ReturnsStd               274.999\n",
      "2016-12-15 18:19:19.952894 PST | ReturnsMax               799.821\n",
      "2016-12-15 18:19:19.954103 PST | ReturnsMin               249.824\n",
      "2016-12-15 18:19:19.954932 PST | DiscountedReturnsMean    387.196\n",
      "2016-12-15 18:19:19.955994 PST | DiscountedReturnsStd     165.175\n",
      "2016-12-15 18:19:19.957016 PST | DiscountedReturnsMax     552.371\n",
      "2016-12-15 18:19:19.957876 PST | DiscountedReturnsMin     222.022\n",
      "2016-12-15 18:19:19.958978 PST | TrainingReturnsMean      369.858\n",
      "2016-12-15 18:19:19.960036 PST | TrainingReturnsStd       199.906\n",
      "2016-12-15 18:19:19.961343 PST | TrainingReturnsMax       569.764\n",
      "2016-12-15 18:19:19.962331 PST | TrainingReturnsMin       169.952\n",
      "2016-12-15 18:19:19.963353 PST | ----------------------  --------------\n",
      "2016-12-15 18:19:19.964484 PST | Epoch #33 | Training started\n"
     ]
    },
    {
     "name": "stderr",
     "output_type": "stream",
     "text": [
      "\n",
      "Total time elapsed: 00:00:00\n"
     ]
    },
    {
     "name": "stdout",
     "output_type": "stream",
     "text": [
      "2016-12-15 18:19:20.601138 PST | Epoch #33 | Training finished. Time: 0.6357190608978271\n",
      "2016-12-15 18:19:20.601908 PST | Epoch #33 | Collecting samples for evaluation\n"
     ]
    },
    {
     "name": "stderr",
     "output_type": "stream",
     "text": [
      "0%                          100%\n",
      "[##############################] | ETA: 00:00:00"
     ]
    },
    {
     "name": "stdout",
     "output_type": "stream",
     "text": [
      "2016-12-15 18:19:20.692529 PST | Epoch #33 | Eval time: 0.09059786796569824\n",
      "2016-12-15 18:19:20.695582 PST | ----------------------  -------------\n",
      "2016-12-15 18:19:20.696853 PST | Epoch                     33\n",
      "2016-12-15 18:19:20.698167 PST | AverageReturn            403.166\n",
      "2016-12-15 18:19:20.699463 PST | PolicySurrogateLoss     -178.669\n",
      "2016-12-15 18:19:20.700714 PST | QfLoss                   296.327\n",
      "2016-12-15 18:19:20.702094 PST | YsMean                   170.42\n",
      "2016-12-15 18:19:20.703188 PST | YsStd                     47.3694\n",
      "2016-12-15 18:19:20.704087 PST | YsMax                    219.582\n",
      "2016-12-15 18:19:20.704946 PST | YsMin                      0\n",
      "2016-12-15 18:19:20.706157 PST | PolicyOutputMean          -0.0380476\n",
      "2016-12-15 18:19:20.707030 PST | PolicyOutputStd            0.972081\n",
      "2016-12-15 18:19:20.708061 PST | PolicyOutputMax            1\n",
      "2016-12-15 18:19:20.709062 PST | PolicyOutputMin           -1\n",
      "2016-12-15 18:19:20.709896 PST | TargetPolicyOutputMean    -0.00866838\n",
      "2016-12-15 18:19:20.710718 PST | TargetPolicyOutputStd      0.962471\n",
      "2016-12-15 18:19:20.711705 PST | TargetPolicyOutputMax      1\n",
      "2016-12-15 18:19:20.713046 PST | TargetPolicyOutputMin     -1\n",
      "2016-12-15 18:19:20.714106 PST | QfOutputMean             178.669\n",
      "2016-12-15 18:19:20.714990 PST | QfOutputStd               41.5304\n",
      "2016-12-15 18:19:20.716083 PST | QfOutputMax              222.737\n",
      "2016-12-15 18:19:20.717183 PST | QfOutputMin               54.43\n",
      "2016-12-15 18:19:20.718251 PST | TargetQfOutputMean       166.916\n",
      "2016-12-15 18:19:20.719312 PST | TargetQfOutputStd         39.6121\n",
      "2016-12-15 18:19:20.720087 PST | TargetQfOutputMax        211.708\n",
      "2016-12-15 18:19:20.721178 PST | TargetQfOutputMin         49.1148\n",
      "2016-12-15 18:19:20.722014 PST | RewardsMean                9.75402\n",
      "2016-12-15 18:19:20.723147 PST | RewardsStd                 1.53587\n",
      "2016-12-15 18:19:20.724447 PST | RewardsMax                 9.99967\n",
      "2016-12-15 18:19:20.725650 PST | RewardsMin                 0\n",
      "2016-12-15 18:19:20.726675 PST | ReturnsMean              403.166\n",
      "2016-12-15 18:19:20.727830 PST | ReturnsStd                95.6869\n",
      "2016-12-15 18:19:20.729030 PST | ReturnsMax               489.839\n",
      "2016-12-15 18:19:20.729858 PST | ReturnsMin               269.83\n",
      "2016-12-15 18:19:20.730939 PST | DiscountedReturnsMean    329.99\n",
      "2016-12-15 18:19:20.731994 PST | DiscountedReturnsStd      66.1885\n",
      "2016-12-15 18:19:20.732867 PST | DiscountedReturnsMax     388.768\n",
      "2016-12-15 18:19:20.733742 PST | DiscountedReturnsMin     237.512\n",
      "2016-12-15 18:19:20.734832 PST | TrainingReturnsMean      227.428\n",
      "2016-12-15 18:19:20.735756 PST | TrainingReturnsStd       164.5\n",
      "2016-12-15 18:19:20.736840 PST | TrainingReturnsMax       399.938\n",
      "2016-12-15 18:19:20.737846 PST | TrainingReturnsMin        29.9562\n",
      "2016-12-15 18:19:20.738744 PST | ----------------------  -------------\n",
      "2016-12-15 18:19:20.739609 PST | Epoch #34 | Training started\n"
     ]
    },
    {
     "name": "stderr",
     "output_type": "stream",
     "text": [
      "\n",
      "Total time elapsed: 00:00:00\n"
     ]
    },
    {
     "name": "stdout",
     "output_type": "stream",
     "text": [
      "2016-12-15 18:19:21.343519 PST | Epoch #34 | Training finished. Time: 0.6030430793762207\n",
      "2016-12-15 18:19:21.345032 PST | Epoch #34 | Collecting samples for evaluation\n"
     ]
    },
    {
     "name": "stderr",
     "output_type": "stream",
     "text": [
      "0%                          100%\n",
      "[##############################] | ETA: 00:00:00"
     ]
    },
    {
     "name": "stdout",
     "output_type": "stream",
     "text": [
      "2016-12-15 18:19:21.430557 PST | Epoch #34 | Eval time: 0.0855250358581543\n",
      "2016-12-15 18:19:21.432409 PST | ----------------------  ------------\n",
      "2016-12-15 18:19:21.433410 PST | Epoch                     34\n",
      "2016-12-15 18:19:21.434630 PST | AverageReturn            389.827\n",
      "2016-12-15 18:19:21.435568 PST | PolicySurrogateLoss     -183.27\n",
      "2016-12-15 18:19:21.436573 PST | QfLoss                   406.056\n",
      "2016-12-15 18:19:21.437648 PST | YsMean                   173.304\n",
      "2016-12-15 18:19:21.438660 PST | YsStd                     52.6072\n",
      "2016-12-15 18:19:21.439916 PST | YsMax                    229.189\n",
      "2016-12-15 18:19:21.441000 PST | YsMin                      0\n",
      "2016-12-15 18:19:21.442234 PST | PolicyOutputMean          -0.0171289\n",
      "2016-12-15 18:19:21.443433 PST | PolicyOutputStd            0.94164\n",
      "2016-12-15 18:19:21.444372 PST | PolicyOutputMax            1\n",
      "2016-12-15 18:19:21.445491 PST | PolicyOutputMin           -1\n",
      "2016-12-15 18:19:21.446585 PST | TargetPolicyOutputMean     0.0164521\n",
      "2016-12-15 18:19:21.447422 PST | TargetPolicyOutputStd      0.934596\n",
      "2016-12-15 18:19:21.448623 PST | TargetPolicyOutputMax      1\n",
      "2016-12-15 18:19:21.449487 PST | TargetPolicyOutputMin     -1\n",
      "2016-12-15 18:19:21.450712 PST | QfOutputMean             183.27\n",
      "2016-12-15 18:19:21.451900 PST | QfOutputStd               49.3776\n",
      "2016-12-15 18:19:21.452760 PST | QfOutputMax              237.974\n",
      "2016-12-15 18:19:21.454032 PST | QfOutputMin               48.259\n",
      "2016-12-15 18:19:21.455193 PST | TargetQfOutputMean       170.314\n",
      "2016-12-15 18:19:21.456227 PST | TargetQfOutputStd         45.464\n",
      "2016-12-15 18:19:21.457029 PST | TargetQfOutputMax        221.405\n",
      "2016-12-15 18:19:21.458092 PST | TargetQfOutputMin         43.1214\n",
      "2016-12-15 18:19:21.458887 PST | RewardsMean                9.74568\n",
      "2016-12-15 18:19:21.460003 PST | RewardsStd                 1.56056\n",
      "2016-12-15 18:19:21.461136 PST | RewardsMax                 9.99985\n",
      "2016-12-15 18:19:21.462295 PST | RewardsMin                 0\n",
      "2016-12-15 18:19:21.463424 PST | ReturnsMean              389.827\n",
      "2016-12-15 18:19:21.464612 PST | ReturnsStd                77.8772\n",
      "2016-12-15 18:19:21.465644 PST | ReturnsMax               479.799\n",
      "2016-12-15 18:19:21.466638 PST | ReturnsMin               289.831\n",
      "2016-12-15 18:19:21.467832 PST | DiscountedReturnsMean    322.054\n",
      "2016-12-15 18:19:21.468838 PST | DiscountedReturnsStd      53.3936\n",
      "2016-12-15 18:19:21.469907 PST | DiscountedReturnsMax     382.566\n",
      "2016-12-15 18:19:21.470768 PST | DiscountedReturnsMin     252.682\n",
      "2016-12-15 18:19:21.471648 PST | TrainingReturnsMean      403.2\n",
      "2016-12-15 18:19:21.472534 PST | TrainingReturnsStd        77.6284\n",
      "2016-12-15 18:19:21.473561 PST | TrainingReturnsMax       499.87\n",
      "2016-12-15 18:19:21.474375 PST | TrainingReturnsMin       309.804\n",
      "2016-12-15 18:19:21.475309 PST | ----------------------  ------------\n",
      "2016-12-15 18:19:21.476639 PST | Epoch #35 | Training started\n"
     ]
    },
    {
     "name": "stderr",
     "output_type": "stream",
     "text": [
      "\n",
      "Total time elapsed: 00:00:00\n"
     ]
    },
    {
     "name": "stdout",
     "output_type": "stream",
     "text": [
      "2016-12-15 18:19:22.026506 PST | Epoch #35 | Training finished. Time: 0.5490329265594482\n",
      "2016-12-15 18:19:22.027356 PST | Epoch #35 | Collecting samples for evaluation\n"
     ]
    },
    {
     "name": "stderr",
     "output_type": "stream",
     "text": [
      "0%                          100%\n",
      "[##############################] | ETA: 00:00:00"
     ]
    },
    {
     "name": "stdout",
     "output_type": "stream",
     "text": [
      "2016-12-15 18:19:22.130324 PST | Epoch #35 | Eval time: 0.10296511650085449\n",
      "2016-12-15 18:19:22.132185 PST | ----------------------  ------------\n",
      "2016-12-15 18:19:22.133254 PST | Epoch                     35\n",
      "2016-12-15 18:19:22.134540 PST | AverageReturn           1189.68\n",
      "2016-12-15 18:19:22.135540 PST | PolicySurrogateLoss     -217.639\n",
      "2016-12-15 18:19:22.136696 PST | QfLoss                   152.401\n",
      "2016-12-15 18:19:22.137577 PST | YsMean                   210.703\n",
      "2016-12-15 18:19:22.138623 PST | YsStd                     49.6215\n",
      "2016-12-15 18:19:22.140371 PST | YsMax                    243.969\n",
      "2016-12-15 18:19:22.141343 PST | YsMin                      0\n",
      "2016-12-15 18:19:22.142186 PST | PolicyOutputMean           0.0185168\n",
      "2016-12-15 18:19:22.143351 PST | PolicyOutputStd            0.950019\n",
      "2016-12-15 18:19:22.144205 PST | PolicyOutputMax            1\n",
      "2016-12-15 18:19:22.145485 PST | PolicyOutputMin           -1\n",
      "2016-12-15 18:19:22.146485 PST | TargetPolicyOutputMean    -0.0472702\n",
      "2016-12-15 18:19:22.147557 PST | TargetPolicyOutputStd      0.948468\n",
      "2016-12-15 18:19:22.148457 PST | TargetPolicyOutputMax      1\n",
      "2016-12-15 18:19:22.149791 PST | TargetPolicyOutputMin     -1\n",
      "2016-12-15 18:19:22.151018 PST | QfOutputMean             217.639\n",
      "2016-12-15 18:19:22.152187 PST | QfOutputStd               50.5229\n",
      "2016-12-15 18:19:22.153079 PST | QfOutputMax              249.921\n",
      "2016-12-15 18:19:22.154172 PST | QfOutputMin                5.00729\n",
      "2016-12-15 18:19:22.155346 PST | TargetQfOutputMean       204.626\n",
      "2016-12-15 18:19:22.156169 PST | TargetQfOutputStd         46.1807\n",
      "2016-12-15 18:19:22.157609 PST | TargetQfOutputMax        236.333\n",
      "2016-12-15 18:19:22.159580 PST | TargetQfOutputMin         13.1061\n",
      "2016-12-15 18:19:22.160918 PST | RewardsMean                9.91399\n",
      "2016-12-15 18:19:22.161856 PST | RewardsStd                 0.90882\n",
      "2016-12-15 18:19:22.162930 PST | RewardsMax                 9.99995\n",
      "2016-12-15 18:19:22.163787 PST | RewardsMin                 0\n",
      "2016-12-15 18:19:22.165014 PST | ReturnsMean             1189.68\n",
      "2016-12-15 18:19:22.166162 PST | ReturnsStd                 0\n",
      "2016-12-15 18:19:22.167384 PST | ReturnsMax              1189.68\n",
      "2016-12-15 18:19:22.168510 PST | ReturnsMin              1189.68\n",
      "2016-12-15 18:19:22.169602 PST | DiscountedReturnsMean    697.445\n",
      "2016-12-15 18:19:22.170504 PST | DiscountedReturnsStd       0\n",
      "2016-12-15 18:19:22.171431 PST | DiscountedReturnsMax     697.445\n",
      "2016-12-15 18:19:22.172675 PST | DiscountedReturnsMin     697.445\n",
      "2016-12-15 18:19:22.173538 PST | TrainingReturnsMean      439.836\n",
      "2016-12-15 18:19:22.174668 PST | TrainingReturnsStd        79.9349\n",
      "2016-12-15 18:19:22.175760 PST | TrainingReturnsMax       519.771\n",
      "2016-12-15 18:19:22.176660 PST | TrainingReturnsMin       359.901\n",
      "2016-12-15 18:19:22.177913 PST | ----------------------  ------------\n",
      "2016-12-15 18:19:22.179109 PST | Epoch #36 | Training started\n"
     ]
    },
    {
     "name": "stderr",
     "output_type": "stream",
     "text": [
      "\n",
      "Total time elapsed: 00:00:00\n"
     ]
    },
    {
     "name": "stdout",
     "output_type": "stream",
     "text": [
      "2016-12-15 18:19:22.790759 PST | Epoch #36 | Training finished. Time: 0.6107571125030518\n",
      "2016-12-15 18:19:22.791886 PST | Epoch #36 | Collecting samples for evaluation\n"
     ]
    },
    {
     "name": "stderr",
     "output_type": "stream",
     "text": [
      "0%                          100%\n",
      "[##############################] | ETA: 00:00:00"
     ]
    },
    {
     "name": "stdout",
     "output_type": "stream",
     "text": [
      "2016-12-15 18:19:22.900910 PST | Epoch #36 | Eval time: 0.10903286933898926\n",
      "2016-12-15 18:19:22.902833 PST | ----------------------  ------------\n",
      "2016-12-15 18:19:22.904440 PST | Epoch                     36\n",
      "2016-12-15 18:19:22.905576 PST | AverageReturn            589.797\n",
      "2016-12-15 18:19:22.907070 PST | PolicySurrogateLoss     -204.614\n",
      "2016-12-15 18:19:22.908122 PST | QfLoss                   135.512\n",
      "2016-12-15 18:19:22.909574 PST | YsMean                   201.988\n",
      "2016-12-15 18:19:22.910805 PST | YsStd                     61.7785\n",
      "2016-12-15 18:19:22.912490 PST | YsMax                    265.167\n",
      "2016-12-15 18:19:22.914182 PST | YsMin                      0\n",
      "2016-12-15 18:19:22.917326 PST | PolicyOutputMean           0.0312059\n",
      "2016-12-15 18:19:22.919569 PST | PolicyOutputStd            0.96664\n",
      "2016-12-15 18:19:22.921179 PST | PolicyOutputMax            1\n",
      "2016-12-15 18:19:22.923011 PST | PolicyOutputMin           -1\n",
      "2016-12-15 18:19:22.924055 PST | TargetPolicyOutputMean    -0.040363\n",
      "2016-12-15 18:19:22.925728 PST | TargetPolicyOutputStd      0.942021\n",
      "2016-12-15 18:19:22.929011 PST | TargetPolicyOutputMax      1\n",
      "2016-12-15 18:19:22.930111 PST | TargetPolicyOutputMin     -1\n",
      "2016-12-15 18:19:22.931611 PST | QfOutputMean             204.614\n",
      "2016-12-15 18:19:22.939161 PST | QfOutputStd               59.4757\n",
      "2016-12-15 18:19:22.942521 PST | QfOutputMax              266.431\n",
      "2016-12-15 18:19:22.944081 PST | QfOutputMin               18.6882\n",
      "2016-12-15 18:19:22.945718 PST | TargetQfOutputMean       197.911\n",
      "2016-12-15 18:19:22.946942 PST | TargetQfOutputStd         56.6057\n",
      "2016-12-15 18:19:22.948389 PST | TargetQfOutputMax        257.75\n",
      "2016-12-15 18:19:22.949746 PST | TargetQfOutputMin         26.1923\n",
      "2016-12-15 18:19:22.950784 PST | RewardsMean                9.82994\n",
      "2016-12-15 18:19:22.956088 PST | RewardsStd                 1.27976\n",
      "2016-12-15 18:19:22.957211 PST | RewardsMax                 9.99988\n",
      "2016-12-15 18:19:22.958560 PST | RewardsMin                 0\n",
      "2016-12-15 18:19:22.959957 PST | ReturnsMean              589.797\n",
      "2016-12-15 18:19:22.961144 PST | ReturnsStd                49.9886\n",
      "2016-12-15 18:19:22.963161 PST | ReturnsMax               639.785\n",
      "2016-12-15 18:19:22.964682 PST | ReturnsMin               539.808\n",
      "2016-12-15 18:19:22.965860 PST | DiscountedReturnsMean    446.481\n",
      "2016-12-15 18:19:22.968220 PST | DiscountedReturnsStd      27.7831\n",
      "2016-12-15 18:19:22.969536 PST | DiscountedReturnsMax     474.264\n",
      "2016-12-15 18:19:22.971052 PST | DiscountedReturnsMin     418.698\n",
      "2016-12-15 18:19:22.972453 PST | TrainingReturnsMean      217.901\n",
      "2016-12-15 18:19:22.973835 PST | TrainingReturnsStd       137.404\n",
      "2016-12-15 18:19:22.975432 PST | TrainingReturnsMax       439.794\n",
      "2016-12-15 18:19:22.980517 PST | TrainingReturnsMin        59.9767\n",
      "2016-12-15 18:19:22.983860 PST | ----------------------  ------------\n",
      "2016-12-15 18:19:22.985380 PST | Epoch #37 | Training started\n"
     ]
    },
    {
     "name": "stderr",
     "output_type": "stream",
     "text": [
      "\n",
      "Total time elapsed: 00:00:00\n"
     ]
    },
    {
     "name": "stdout",
     "output_type": "stream",
     "text": [
      "2016-12-15 18:19:23.662161 PST | Epoch #37 | Training finished. Time: 0.6752259731292725\n",
      "2016-12-15 18:19:23.662946 PST | Epoch #37 | Collecting samples for evaluation\n"
     ]
    },
    {
     "name": "stderr",
     "output_type": "stream",
     "text": [
      "0%                          100%\n",
      "[##############################] | ETA: 00:00:00"
     ]
    },
    {
     "name": "stdout",
     "output_type": "stream",
     "text": [
      "2016-12-15 18:19:23.734413 PST | Epoch #37 | Eval time: 0.0714559555053711\n",
      "2016-12-15 18:19:23.736408 PST | ----------------------  -------------\n",
      "2016-12-15 18:19:23.737353 PST | Epoch                     37\n",
      "2016-12-15 18:19:23.738564 PST | AverageReturn            499.815\n",
      "2016-12-15 18:19:23.739478 PST | PolicySurrogateLoss     -209.013\n",
      "2016-12-15 18:19:23.740409 PST | QfLoss                   184.48\n",
      "2016-12-15 18:19:23.741433 PST | YsMean                   204.071\n",
      "2016-12-15 18:19:23.742496 PST | YsStd                     68.2452\n",
      "2016-12-15 18:19:23.743727 PST | YsMax                    267.989\n",
      "2016-12-15 18:19:23.744723 PST | YsMin                      0\n",
      "2016-12-15 18:19:23.745853 PST | PolicyOutputMean          -0.0471066\n",
      "2016-12-15 18:19:23.746913 PST | PolicyOutputStd            0.959773\n",
      "2016-12-15 18:19:23.748021 PST | PolicyOutputMax            1\n",
      "2016-12-15 18:19:23.749033 PST | PolicyOutputMin           -1\n",
      "2016-12-15 18:19:23.750584 PST | TargetPolicyOutputMean     0.00961708\n",
      "2016-12-15 18:19:23.751335 PST | TargetPolicyOutputStd      0.965308\n",
      "2016-12-15 18:19:23.752310 PST | TargetPolicyOutputMax      1\n",
      "2016-12-15 18:19:23.753280 PST | TargetPolicyOutputMin     -1\n",
      "2016-12-15 18:19:23.755325 PST | QfOutputMean             209.013\n",
      "2016-12-15 18:19:23.756328 PST | QfOutputStd               67.1901\n",
      "2016-12-15 18:19:23.757281 PST | QfOutputMax              272.712\n",
      "2016-12-15 18:19:23.758146 PST | QfOutputMin               17.0016\n",
      "2016-12-15 18:19:23.759140 PST | TargetQfOutputMean       200.967\n",
      "2016-12-15 18:19:23.760128 PST | TargetQfOutputStd         62.7254\n",
      "2016-12-15 18:19:23.761292 PST | TargetQfOutputMax        260.595\n",
      "2016-12-15 18:19:23.762302 PST | TargetQfOutputMin         17.8881\n",
      "2016-12-15 18:19:23.763067 PST | RewardsMean                9.8003\n",
      "2016-12-15 18:19:23.764150 PST | RewardsStd                 1.38598\n",
      "2016-12-15 18:19:23.765114 PST | RewardsMax                 9.99992\n",
      "2016-12-15 18:19:23.766448 PST | RewardsMin                 0\n",
      "2016-12-15 18:19:23.767583 PST | ReturnsMean              499.815\n",
      "2016-12-15 18:19:23.768670 PST | ReturnsStd               180.002\n",
      "2016-12-15 18:19:23.769645 PST | ReturnsMax               679.818\n",
      "2016-12-15 18:19:23.770541 PST | ReturnsMin               319.813\n",
      "2016-12-15 18:19:23.771602 PST | DiscountedReturnsMean    384.931\n",
      "2016-12-15 18:19:23.772345 PST | DiscountedReturnsStd     110.066\n",
      "2016-12-15 18:19:23.773531 PST | DiscountedReturnsMax     494.997\n",
      "2016-12-15 18:19:23.774292 PST | DiscountedReturnsMin     274.866\n",
      "2016-12-15 18:19:23.775386 PST | TrainingReturnsMean      286.566\n",
      "2016-12-15 18:19:23.776451 PST | TrainingReturnsStd       165.74\n",
      "2016-12-15 18:19:23.777508 PST | TrainingReturnsMax       519.817\n",
      "2016-12-15 18:19:23.778535 PST | TrainingReturnsMin       149.933\n",
      "2016-12-15 18:19:23.779806 PST | ----------------------  -------------\n",
      "2016-12-15 18:19:23.780976 PST | Epoch #38 | Training started\n"
     ]
    },
    {
     "name": "stderr",
     "output_type": "stream",
     "text": [
      "\n",
      "Total time elapsed: 00:00:00\n"
     ]
    },
    {
     "name": "stdout",
     "output_type": "stream",
     "text": [
      "2016-12-15 18:19:24.407786 PST | Epoch #38 | Training finished. Time: 0.6258518695831299\n",
      "2016-12-15 18:19:24.409079 PST | Epoch #38 | Collecting samples for evaluation\n"
     ]
    },
    {
     "name": "stderr",
     "output_type": "stream",
     "text": [
      "0%                          100%\n",
      "[##############################] | ETA: 00:00:00"
     ]
    },
    {
     "name": "stdout",
     "output_type": "stream",
     "text": [
      "2016-12-15 18:19:24.486544 PST | Epoch #38 | Eval time: 0.0774698257446289\n",
      "2016-12-15 18:19:24.489002 PST | ----------------------  ------------\n",
      "2016-12-15 18:19:24.490322 PST | Epoch                     38\n",
      "2016-12-15 18:19:24.491451 PST | AverageReturn            549.791\n",
      "2016-12-15 18:19:24.492505 PST | PolicySurrogateLoss     -232.233\n",
      "2016-12-15 18:19:24.493716 PST | QfLoss                   537.69\n",
      "2016-12-15 18:19:24.494866 PST | YsMean                   221.585\n",
      "2016-12-15 18:19:24.495800 PST | YsStd                     61.6279\n",
      "2016-12-15 18:19:24.496591 PST | YsMax                    295.348\n",
      "2016-12-15 18:19:24.497672 PST | YsMin                      0\n",
      "2016-12-15 18:19:24.498769 PST | PolicyOutputMean           0.0378797\n",
      "2016-12-15 18:19:24.499960 PST | PolicyOutputStd            0.965796\n",
      "2016-12-15 18:19:24.500835 PST | PolicyOutputMax            1\n",
      "2016-12-15 18:19:24.501669 PST | PolicyOutputMin           -1\n",
      "2016-12-15 18:19:24.502503 PST | TargetPolicyOutputMean     0.0439862\n",
      "2016-12-15 18:19:24.503821 PST | TargetPolicyOutputStd      0.957876\n",
      "2016-12-15 18:19:24.504897 PST | TargetPolicyOutputMax      1\n",
      "2016-12-15 18:19:24.506193 PST | TargetPolicyOutputMin     -1\n",
      "2016-12-15 18:19:24.507476 PST | QfOutputMean             232.233\n",
      "2016-12-15 18:19:24.508849 PST | QfOutputStd               57.2543\n",
      "2016-12-15 18:19:24.510082 PST | QfOutputMax              303.615\n",
      "2016-12-15 18:19:24.512144 PST | QfOutputMin               51.2007\n",
      "2016-12-15 18:19:24.516805 PST | TargetQfOutputMean       218.444\n",
      "2016-12-15 18:19:24.518889 PST | TargetQfOutputStd         54.6531\n",
      "2016-12-15 18:19:24.521649 PST | TargetQfOutputMax        288.238\n",
      "2016-12-15 18:19:24.523038 PST | TargetQfOutputMin         46.4441\n",
      "2016-12-15 18:19:24.524080 PST | RewardsMean                9.8177\n",
      "2016-12-15 18:19:24.525236 PST | RewardsStd                 1.32383\n",
      "2016-12-15 18:19:24.526391 PST | RewardsMax                 9.99991\n",
      "2016-12-15 18:19:24.527441 PST | RewardsMin                 0\n",
      "2016-12-15 18:19:24.528477 PST | ReturnsMean              549.791\n",
      "2016-12-15 18:19:24.529704 PST | ReturnsStd                29.9996\n",
      "2016-12-15 18:19:24.531077 PST | ReturnsMax               579.791\n",
      "2016-12-15 18:19:24.532125 PST | ReturnsMin               519.792\n",
      "2016-12-15 18:19:24.533484 PST | DiscountedReturnsMean    424.237\n",
      "2016-12-15 18:19:24.534965 PST | DiscountedReturnsStd      17.3553\n",
      "2016-12-15 18:19:24.536072 PST | DiscountedReturnsMax     441.593\n",
      "2016-12-15 18:19:24.537420 PST | DiscountedReturnsMin     406.882\n",
      "2016-12-15 18:19:24.538372 PST | TrainingReturnsMean      544.826\n",
      "2016-12-15 18:19:24.539180 PST | TrainingReturnsStd       204.982\n",
      "2016-12-15 18:19:24.540400 PST | TrainingReturnsMax       749.807\n",
      "2016-12-15 18:19:24.541327 PST | TrainingReturnsMin       339.844\n",
      "2016-12-15 18:19:24.542413 PST | ----------------------  ------------\n",
      "2016-12-15 18:19:24.543365 PST | Epoch #39 | Training started\n"
     ]
    },
    {
     "name": "stderr",
     "output_type": "stream",
     "text": [
      "\n",
      "Total time elapsed: 00:00:00\n"
     ]
    },
    {
     "name": "stdout",
     "output_type": "stream",
     "text": [
      "2016-12-15 18:19:25.179681 PST | Epoch #39 | Training finished. Time: 0.6351280212402344\n",
      "2016-12-15 18:19:25.180608 PST | Epoch #39 | Collecting samples for evaluation\n"
     ]
    },
    {
     "name": "stderr",
     "output_type": "stream",
     "text": [
      "0%                          100%\n",
      "[##############################] | ETA: 00:00:00\n",
      "Total time elapsed: 00:00:00\n"
     ]
    },
    {
     "name": "stdout",
     "output_type": "stream",
     "text": [
      "2016-12-15 18:19:25.384281 PST | Epoch #39 | Eval time: 0.20364999771118164\n",
      "2016-12-15 18:19:25.387561 PST | ----------------------  ------------\n",
      "2016-12-15 18:19:25.388733 PST | Epoch                     39\n",
      "2016-12-15 18:19:25.389784 PST | AverageReturn           1414.67\n",
      "2016-12-15 18:19:25.390888 PST | PolicySurrogateLoss     -264.642\n",
      "2016-12-15 18:19:25.392008 PST | QfLoss                   124.237\n",
      "2016-12-15 18:19:25.393093 PST | YsMean                   260.634\n",
      "2016-12-15 18:19:25.394210 PST | YsStd                     57.5265\n",
      "2016-12-15 18:19:25.395296 PST | YsMax                    303.539\n",
      "2016-12-15 18:19:25.397219 PST | YsMin                      0\n",
      "2016-12-15 18:19:25.398282 PST | PolicyOutputMean           0.0157892\n",
      "2016-12-15 18:19:25.399428 PST | PolicyOutputStd            0.959264\n",
      "2016-12-15 18:19:25.400422 PST | PolicyOutputMax            1\n",
      "2016-12-15 18:19:25.401674 PST | PolicyOutputMin           -1\n",
      "2016-12-15 18:19:25.402815 PST | TargetPolicyOutputMean     0.0131974\n",
      "2016-12-15 18:19:25.403867 PST | TargetPolicyOutputStd      0.956826\n",
      "2016-12-15 18:19:25.404786 PST | TargetPolicyOutputMax      1\n",
      "2016-12-15 18:19:25.405956 PST | TargetPolicyOutputMin     -1\n",
      "2016-12-15 18:19:25.406869 PST | QfOutputMean             264.642\n",
      "2016-12-15 18:19:25.408083 PST | QfOutputStd               57.0785\n",
      "2016-12-15 18:19:25.409209 PST | QfOutputMax              310.12\n",
      "2016-12-15 18:19:25.410381 PST | QfOutputMin               -0.46816\n",
      "2016-12-15 18:19:25.411309 PST | TargetQfOutputMean       255.112\n",
      "2016-12-15 18:19:25.412347 PST | TargetQfOutputStd         53.7341\n",
      "2016-12-15 18:19:25.413486 PST | TargetQfOutputMax        296.506\n",
      "2016-12-15 18:19:25.414398 PST | TargetQfOutputMin          2.189\n",
      "2016-12-15 18:19:25.415471 PST | RewardsMean                9.92749\n",
      "2016-12-15 18:19:25.416592 PST | RewardsStd                 0.834572\n",
      "2016-12-15 18:19:25.417804 PST | RewardsMax                 9.99996\n",
      "2016-12-15 18:19:25.419031 PST | RewardsMin                 0\n",
      "2016-12-15 18:19:25.419854 PST | ReturnsMean             1414.67\n",
      "2016-12-15 18:19:25.421121 PST | ReturnsStd               634.927\n",
      "2016-12-15 18:19:25.422055 PST | ReturnsMax              2049.59\n",
      "2016-12-15 18:19:25.423278 PST | ReturnsMin               779.74\n",
      "2016-12-15 18:19:25.424273 PST | DiscountedReturnsMean    707.848\n",
      "2016-12-15 18:19:25.425438 PST | DiscountedReturnsStd     164.608\n",
      "2016-12-15 18:19:25.426906 PST | DiscountedReturnsMax     872.456\n",
      "2016-12-15 18:19:25.427948 PST | DiscountedReturnsMin     543.24\n",
      "2016-12-15 18:19:25.428764 PST | TrainingReturnsMean      333.193\n",
      "2016-12-15 18:19:25.429535 PST | TrainingReturnsStd       146.988\n",
      "2016-12-15 18:19:25.430446 PST | TrainingReturnsMax       509.782\n",
      "2016-12-15 18:19:25.431616 PST | TrainingReturnsMin       149.923\n",
      "2016-12-15 18:19:25.432778 PST | ----------------------  ------------\n",
      "2016-12-15 18:19:25.433829 PST | Epoch #40 | Training started\n",
      "2016-12-15 18:19:26.087440 PST | Epoch #40 | Training finished. Time: 0.6525650024414062\n",
      "2016-12-15 18:19:26.088337 PST | Epoch #40 | Collecting samples for evaluation\n"
     ]
    },
    {
     "name": "stderr",
     "output_type": "stream",
     "text": [
      "0%                          100%\n",
      "[##############################] | ETA: 00:00:00"
     ]
    },
    {
     "name": "stdout",
     "output_type": "stream",
     "text": [
      "2016-12-15 18:19:26.163523 PST | Epoch #40 | Eval time: 0.0751800537109375\n",
      "2016-12-15 18:19:26.165577 PST | ----------------------  ------------\n",
      "2016-12-15 18:19:26.168183 PST | Epoch                     40\n",
      "2016-12-15 18:19:26.169708 PST | AverageReturn            499.784\n",
      "2016-12-15 18:19:26.170953 PST | PolicySurrogateLoss     -234.186\n",
      "2016-12-15 18:19:26.171859 PST | QfLoss                   174.026\n",
      "2016-12-15 18:19:26.172879 PST | YsMean                   227.753\n",
      "2016-12-15 18:19:26.174190 PST | YsStd                     86.5844\n",
      "2016-12-15 18:19:26.175421 PST | YsMax                    318.024\n",
      "2016-12-15 18:19:26.177086 PST | YsMin                      0\n",
      "2016-12-15 18:19:26.178813 PST | PolicyOutputMean           0.0456468\n",
      "2016-12-15 18:19:26.181627 PST | PolicyOutputStd            0.941881\n",
      "2016-12-15 18:19:26.183060 PST | PolicyOutputMax            1\n",
      "2016-12-15 18:19:26.183930 PST | PolicyOutputMin           -1\n",
      "2016-12-15 18:19:26.185178 PST | TargetPolicyOutputMean     0.0204447\n",
      "2016-12-15 18:19:26.189079 PST | TargetPolicyOutputStd      0.939066\n",
      "2016-12-15 18:19:26.191862 PST | TargetPolicyOutputMax      1\n",
      "2016-12-15 18:19:26.193636 PST | TargetPolicyOutputMin     -1\n",
      "2016-12-15 18:19:26.194757 PST | QfOutputMean             234.186\n",
      "2016-12-15 18:19:26.195936 PST | QfOutputStd               85.8785\n",
      "2016-12-15 18:19:26.199112 PST | QfOutputMax              325.264\n",
      "2016-12-15 18:19:26.200084 PST | QfOutputMin               -3.95495\n",
      "2016-12-15 18:19:26.201054 PST | TargetQfOutputMean       225.627\n",
      "2016-12-15 18:19:26.202429 PST | TargetQfOutputStd         81.5289\n",
      "2016-12-15 18:19:26.204911 PST | TargetQfOutputMax        311.14\n",
      "2016-12-15 18:19:26.207721 PST | TargetQfOutputMin         -2.84126\n",
      "2016-12-15 18:19:26.208758 PST | RewardsMean                9.79969\n",
      "2016-12-15 18:19:26.210025 PST | RewardsStd                 1.38589\n",
      "2016-12-15 18:19:26.211328 PST | RewardsMax                 9.99987\n",
      "2016-12-15 18:19:26.212538 PST | RewardsMin                 0\n",
      "2016-12-15 18:19:26.213741 PST | ReturnsMean              499.784\n",
      "2016-12-15 18:19:26.215173 PST | ReturnsStd                59.9663\n",
      "2016-12-15 18:19:26.216122 PST | ReturnsMax               559.751\n",
      "2016-12-15 18:19:26.217388 PST | ReturnsMin               439.818\n",
      "2016-12-15 18:19:26.218435 PST | DiscountedReturnsMean    393.742\n",
      "2016-12-15 18:19:26.219622 PST | DiscountedReturnsStd      36.4894\n",
      "2016-12-15 18:19:26.220721 PST | DiscountedReturnsMax     430.232\n",
      "2016-12-15 18:19:26.222060 PST | DiscountedReturnsMin     357.253\n",
      "2016-12-15 18:19:26.227019 PST | TrainingReturnsMean      333.188\n",
      "2016-12-15 18:19:26.228130 PST | TrainingReturnsStd       135.912\n",
      "2016-12-15 18:19:26.229091 PST | TrainingReturnsMax       519.778\n",
      "2016-12-15 18:19:26.230386 PST | TrainingReturnsMin       199.941\n",
      "2016-12-15 18:19:26.232461 PST | ----------------------  ------------\n",
      "2016-12-15 18:19:26.235000 PST | Epoch #41 | Training started\n"
     ]
    },
    {
     "name": "stderr",
     "output_type": "stream",
     "text": [
      "\n",
      "Total time elapsed: 00:00:00\n"
     ]
    },
    {
     "name": "stdout",
     "output_type": "stream",
     "text": [
      "2016-12-15 18:19:26.877714 PST | Epoch #41 | Training finished. Time: 0.6413800716400146\n",
      "2016-12-15 18:19:26.878830 PST | Epoch #41 | Collecting samples for evaluation\n"
     ]
    },
    {
     "name": "stderr",
     "output_type": "stream",
     "text": [
      "0%                          100%\n",
      "[##############################] | ETA: 00:00:00"
     ]
    },
    {
     "name": "stdout",
     "output_type": "stream",
     "text": [
      "2016-12-15 18:19:26.972610 PST | Epoch #41 | Eval time: 0.09377098083496094\n",
      "2016-12-15 18:19:26.974589 PST | ----------------------  ------------\n",
      "2016-12-15 18:19:26.975465 PST | Epoch                     41\n",
      "2016-12-15 18:19:26.976873 PST | AverageReturn            423.133\n",
      "2016-12-15 18:19:26.978322 PST | PolicySurrogateLoss     -242.505\n",
      "2016-12-15 18:19:26.979371 PST | QfLoss                  1024.67\n",
      "2016-12-15 18:19:26.980532 PST | YsMean                   227.41\n",
      "2016-12-15 18:19:26.981764 PST | YsStd                     89.0403\n",
      "2016-12-15 18:19:26.983024 PST | YsMax                    342.376\n",
      "2016-12-15 18:19:26.984172 PST | YsMin                      0\n",
      "2016-12-15 18:19:26.985389 PST | PolicyOutputMean           0.0560487\n",
      "2016-12-15 18:19:26.986429 PST | PolicyOutputStd            0.953172\n",
      "2016-12-15 18:19:26.987578 PST | PolicyOutputMax            1\n",
      "2016-12-15 18:19:26.988451 PST | PolicyOutputMin           -1\n",
      "2016-12-15 18:19:26.989563 PST | TargetPolicyOutputMean     0.0777236\n",
      "2016-12-15 18:19:26.990710 PST | TargetPolicyOutputStd      0.9448\n",
      "2016-12-15 18:19:26.991648 PST | TargetPolicyOutputMax      1\n",
      "2016-12-15 18:19:26.992741 PST | TargetPolicyOutputMin     -1\n",
      "2016-12-15 18:19:26.993653 PST | QfOutputMean             242.505\n",
      "2016-12-15 18:19:26.994850 PST | QfOutputStd               87.4797\n",
      "2016-12-15 18:19:26.995758 PST | QfOutputMax              358.798\n",
      "2016-12-15 18:19:26.996750 PST | QfOutputMin                4.09406\n",
      "2016-12-15 18:19:26.998004 PST | TargetQfOutputMean       226.578\n",
      "2016-12-15 18:19:26.998912 PST | TargetQfOutputStd         83.3239\n",
      "2016-12-15 18:19:26.999974 PST | TargetQfOutputMax        335.743\n",
      "2016-12-15 18:19:27.001364 PST | TargetQfOutputMin          3.39032\n",
      "2016-12-15 18:19:27.002713 PST | RewardsMean                9.76462\n",
      "2016-12-15 18:19:27.003613 PST | RewardsStd                 1.50078\n",
      "2016-12-15 18:19:27.004535 PST | RewardsMax                 9.99994\n",
      "2016-12-15 18:19:27.005372 PST | RewardsMin                 0\n",
      "2016-12-15 18:19:27.006335 PST | ReturnsMean              423.133\n",
      "2016-12-15 18:19:27.007484 PST | ReturnsStd                36.825\n",
      "2016-12-15 18:19:27.008367 PST | ReturnsMax               469.826\n",
      "2016-12-15 18:19:27.009220 PST | ReturnsMin               379.813\n",
      "2016-12-15 18:19:27.010369 PST | DiscountedReturnsMean    345.928\n",
      "2016-12-15 18:19:27.011501 PST | DiscountedReturnsStd      24.1397\n",
      "2016-12-15 18:19:27.012421 PST | DiscountedReturnsMax     376.342\n",
      "2016-12-15 18:19:27.014496 PST | DiscountedReturnsMin     317.292\n",
      "2016-12-15 18:19:27.016504 PST | TrainingReturnsMean      259.902\n",
      "2016-12-15 18:19:27.017664 PST | TrainingReturnsStd        71.1758\n",
      "2016-12-15 18:19:27.018568 PST | TrainingReturnsMax       319.862\n",
      "2016-12-15 18:19:27.019621 PST | TrainingReturnsMin       159.903\n",
      "2016-12-15 18:19:27.020631 PST | ----------------------  ------------\n",
      "2016-12-15 18:19:27.022045 PST | Epoch #42 | Training started\n"
     ]
    },
    {
     "name": "stderr",
     "output_type": "stream",
     "text": [
      "\n",
      "Total time elapsed: 00:00:00\n"
     ]
    },
    {
     "name": "stdout",
     "output_type": "stream",
     "text": [
      "2016-12-15 18:19:27.695597 PST | Epoch #42 | Training finished. Time: 0.6715371608734131\n",
      "2016-12-15 18:19:27.698149 PST | Epoch #42 | Collecting samples for evaluation\n"
     ]
    },
    {
     "name": "stderr",
     "output_type": "stream",
     "text": [
      "0%                          100%\n",
      "[##############################] | ETA: 00:00:00"
     ]
    },
    {
     "name": "stdout",
     "output_type": "stream",
     "text": [
      "2016-12-15 18:19:27.829570 PST | Epoch #42 | Eval time: 0.13142108917236328\n",
      "2016-12-15 18:19:27.832435 PST | ----------------------  -------------\n",
      "2016-12-15 18:19:27.833628 PST | Epoch                     42\n",
      "2016-12-15 18:19:27.834835 PST | AverageReturn            919.781\n",
      "2016-12-15 18:19:27.836038 PST | PolicySurrogateLoss     -291.882\n",
      "2016-12-15 18:19:27.837521 PST | QfLoss                   334.934\n",
      "2016-12-15 18:19:27.841487 PST | YsMean                   280.416\n",
      "2016-12-15 18:19:27.842912 PST | YsStd                     74.4533\n",
      "2016-12-15 18:19:27.843982 PST | YsMax                    351.193\n",
      "2016-12-15 18:19:27.845271 PST | YsMin                      0\n",
      "2016-12-15 18:19:27.847175 PST | PolicyOutputMean          -0.0200247\n",
      "2016-12-15 18:19:27.848607 PST | PolicyOutputStd            0.972701\n",
      "2016-12-15 18:19:27.850055 PST | PolicyOutputMax            1\n",
      "2016-12-15 18:19:27.852771 PST | PolicyOutputMin           -1\n",
      "2016-12-15 18:19:27.856369 PST | TargetPolicyOutputMean    -0.00760209\n",
      "2016-12-15 18:19:27.858575 PST | TargetPolicyOutputStd      0.969413\n",
      "2016-12-15 18:19:27.860363 PST | TargetPolicyOutputMax      1\n",
      "2016-12-15 18:19:27.861671 PST | TargetPolicyOutputMin     -1\n",
      "2016-12-15 18:19:27.862892 PST | QfOutputMean             291.882\n",
      "2016-12-15 18:19:27.863869 PST | QfOutputStd               72.4324\n",
      "2016-12-15 18:19:27.865733 PST | QfOutputMax              364.609\n",
      "2016-12-15 18:19:27.866518 PST | QfOutputMin               20.1102\n",
      "2016-12-15 18:19:27.867396 PST | TargetQfOutputMean       276.533\n",
      "2016-12-15 18:19:27.868805 PST | TargetQfOutputStd         69.2237\n",
      "2016-12-15 18:19:27.870057 PST | TargetQfOutputMax        344.645\n",
      "2016-12-15 18:19:27.871313 PST | TargetQfOutputMin         18.9925\n",
      "2016-12-15 18:19:27.872173 PST | RewardsMean                9.89012\n",
      "2016-12-15 18:19:27.873329 PST | RewardsStd                 1.03112\n",
      "2016-12-15 18:19:27.874395 PST | RewardsMax                 9.9995\n",
      "2016-12-15 18:19:27.875667 PST | RewardsMin                 0\n",
      "2016-12-15 18:19:27.876891 PST | ReturnsMean              919.781\n",
      "2016-12-15 18:19:27.878051 PST | ReturnsStd                99.9371\n",
      "2016-12-15 18:19:27.879275 PST | ReturnsMax              1019.72\n",
      "2016-12-15 18:19:27.880414 PST | ReturnsMin               819.844\n",
      "2016-12-15 18:19:27.881727 PST | DiscountedReturnsMean    601.195\n",
      "2016-12-15 18:19:27.883181 PST | DiscountedReturnsStd      39.9089\n",
      "2016-12-15 18:19:27.884327 PST | DiscountedReturnsMax     641.104\n",
      "2016-12-15 18:19:27.885342 PST | DiscountedReturnsMin     561.286\n",
      "2016-12-15 18:19:27.886370 PST | TrainingReturnsMean      269.914\n",
      "2016-12-15 18:19:27.887757 PST | TrainingReturnsStd       212.68\n",
      "2016-12-15 18:19:27.888976 PST | TrainingReturnsMax       519.803\n",
      "2016-12-15 18:19:27.890414 PST | TrainingReturnsMin         0\n",
      "2016-12-15 18:19:27.892303 PST | ----------------------  -------------\n",
      "2016-12-15 18:19:27.893486 PST | Epoch #43 | Training started\n"
     ]
    },
    {
     "name": "stderr",
     "output_type": "stream",
     "text": [
      "\n",
      "Total time elapsed: 00:00:00\n"
     ]
    },
    {
     "name": "stdout",
     "output_type": "stream",
     "text": [
      "2016-12-15 18:19:28.524743 PST | Epoch #43 | Training finished. Time: 0.630094051361084\n",
      "2016-12-15 18:19:28.525603 PST | Epoch #43 | Collecting samples for evaluation\n"
     ]
    },
    {
     "name": "stderr",
     "output_type": "stream",
     "text": [
      "0%                          100%\n",
      "[##############################] | ETA: 00:00:00"
     ]
    },
    {
     "name": "stdout",
     "output_type": "stream",
     "text": [
      "2016-12-15 18:19:28.621123 PST | Epoch #43 | Eval time: 0.09551191329956055\n",
      "2016-12-15 18:19:28.623013 PST | ----------------------  ------------\n",
      "2016-12-15 18:19:28.624019 PST | Epoch                     43\n",
      "2016-12-15 18:19:28.624879 PST | AverageReturn            539.79\n",
      "2016-12-15 18:19:28.626039 PST | PolicySurrogateLoss     -269.036\n",
      "2016-12-15 18:19:28.627338 PST | QfLoss                   421.946\n",
      "2016-12-15 18:19:28.628672 PST | YsMean                   259.124\n",
      "2016-12-15 18:19:28.629868 PST | YsStd                     90.2559\n",
      "2016-12-15 18:19:28.631395 PST | YsMax                    342.988\n",
      "2016-12-15 18:19:28.632990 PST | YsMin                      0\n",
      "2016-12-15 18:19:28.634006 PST | PolicyOutputMean          -0.0388319\n",
      "2016-12-15 18:19:28.635438 PST | PolicyOutputStd            0.963812\n",
      "2016-12-15 18:19:28.636734 PST | PolicyOutputMax            1\n",
      "2016-12-15 18:19:28.637780 PST | PolicyOutputMin           -1\n",
      "2016-12-15 18:19:28.638610 PST | TargetPolicyOutputMean    -0.0109758\n",
      "2016-12-15 18:19:28.639279 PST | TargetPolicyOutputStd      0.957828\n",
      "2016-12-15 18:19:28.640594 PST | TargetPolicyOutputMax      1\n",
      "2016-12-15 18:19:28.642012 PST | TargetPolicyOutputMin     -1\n",
      "2016-12-15 18:19:28.643742 PST | QfOutputMean             269.036\n",
      "2016-12-15 18:19:28.645129 PST | QfOutputStd               87.4246\n",
      "2016-12-15 18:19:28.646584 PST | QfOutputMax              350.733\n",
      "2016-12-15 18:19:28.647729 PST | QfOutputMin               28.6408\n",
      "2016-12-15 18:19:28.649002 PST | TargetQfOutputMean       257.594\n",
      "2016-12-15 18:19:28.650283 PST | TargetQfOutputStd         84.3077\n",
      "2016-12-15 18:19:28.651397 PST | TargetQfOutputMax        336.354\n",
      "2016-12-15 18:19:28.652644 PST | TargetQfOutputMin         26.604\n",
      "2016-12-15 18:19:28.654038 PST | RewardsMean                9.81437\n",
      "2016-12-15 18:19:28.655445 PST | RewardsStd                 1.33558\n",
      "2016-12-15 18:19:28.656602 PST | RewardsMax                 9.99992\n",
      "2016-12-15 18:19:28.658048 PST | RewardsMin                 0\n",
      "2016-12-15 18:19:28.659457 PST | ReturnsMean              539.79\n",
      "2016-12-15 18:19:28.660650 PST | ReturnsStd                39.9963\n",
      "2016-12-15 18:19:28.661881 PST | ReturnsMax               579.787\n",
      "2016-12-15 18:19:28.663101 PST | ReturnsMin               499.794\n",
      "2016-12-15 18:19:28.664158 PST | DiscountedReturnsMean    418.222\n",
      "2016-12-15 18:19:28.665364 PST | DiscountedReturnsStd      23.37\n",
      "2016-12-15 18:19:28.666434 PST | DiscountedReturnsMax     441.592\n",
      "2016-12-15 18:19:28.667451 PST | DiscountedReturnsMin     394.852\n",
      "2016-12-15 18:19:28.668745 PST | TrainingReturnsMean      324.858\n",
      "2016-12-15 18:19:28.669735 PST | TrainingReturnsStd       155.898\n",
      "2016-12-15 18:19:28.670842 PST | TrainingReturnsMax       469.785\n",
      "2016-12-15 18:19:28.671993 PST | TrainingReturnsMin        79.9672\n",
      "2016-12-15 18:19:28.673085 PST | ----------------------  ------------\n",
      "2016-12-15 18:19:28.674241 PST | Epoch #44 | Training started\n"
     ]
    },
    {
     "name": "stderr",
     "output_type": "stream",
     "text": [
      "\n",
      "Total time elapsed: 00:00:00\n"
     ]
    },
    {
     "name": "stdout",
     "output_type": "stream",
     "text": [
      "2016-12-15 18:19:29.254908 PST | Epoch #44 | Training finished. Time: 0.579448938369751\n",
      "2016-12-15 18:19:29.255676 PST | Epoch #44 | Collecting samples for evaluation\n"
     ]
    },
    {
     "name": "stderr",
     "output_type": "stream",
     "text": [
      "0%                          100%\n",
      "[##############################] | ETA: 00:00:00"
     ]
    },
    {
     "name": "stdout",
     "output_type": "stream",
     "text": [
      "2016-12-15 18:19:29.360413 PST | Epoch #44 | Eval time: 0.10472488403320312\n",
      "2016-12-15 18:19:29.362359 PST | ----------------------  ------------\n",
      "2016-12-15 18:19:29.363370 PST | Epoch                     44\n",
      "2016-12-15 18:19:29.364482 PST | AverageReturn            679.79\n",
      "2016-12-15 18:19:29.365805 PST | PolicySurrogateLoss     -293.348\n",
      "2016-12-15 18:19:29.366756 PST | QfLoss                   239.013\n",
      "2016-12-15 18:19:29.368041 PST | YsMean                   288.772\n",
      "2016-12-15 18:19:29.369197 PST | YsStd                     83.9005\n",
      "2016-12-15 18:19:29.370394 PST | YsMax                    362.978\n",
      "2016-12-15 18:19:29.371206 PST | YsMin                      0\n",
      "2016-12-15 18:19:29.372044 PST | PolicyOutputMean          -0.035362\n",
      "2016-12-15 18:19:29.373242 PST | PolicyOutputStd            0.97032\n",
      "2016-12-15 18:19:29.373992 PST | PolicyOutputMax            1\n",
      "2016-12-15 18:19:29.375205 PST | PolicyOutputMin           -1\n",
      "2016-12-15 18:19:29.376249 PST | TargetPolicyOutputMean     0.0156922\n",
      "2016-12-15 18:19:29.377330 PST | TargetPolicyOutputStd      0.965983\n",
      "2016-12-15 18:19:29.378556 PST | TargetPolicyOutputMax      1\n",
      "2016-12-15 18:19:29.379772 PST | TargetPolicyOutputMin     -1\n",
      "2016-12-15 18:19:29.380663 PST | QfOutputMean             293.348\n",
      "2016-12-15 18:19:29.381795 PST | QfOutputStd               82.4193\n",
      "2016-12-15 18:19:29.382865 PST | QfOutputMax              373.344\n",
      "2016-12-15 18:19:29.383792 PST | QfOutputMin               30.7313\n",
      "2016-12-15 18:19:29.384807 PST | TargetQfOutputMean       286.525\n",
      "2016-12-15 18:19:29.385574 PST | TargetQfOutputStd         77.1928\n",
      "2016-12-15 18:19:29.386702 PST | TargetQfOutputMax        356.544\n",
      "2016-12-15 18:19:29.387594 PST | TargetQfOutputMin         29.7202\n",
      "2016-12-15 18:19:29.388742 PST | RewardsMean                9.85204\n",
      "2016-12-15 18:19:29.389588 PST | RewardsStd                 1.19474\n",
      "2016-12-15 18:19:29.390586 PST | RewardsMax                 9.99995\n",
      "2016-12-15 18:19:29.391537 PST | RewardsMin                 0\n",
      "2016-12-15 18:19:29.392398 PST | ReturnsMean              679.79\n",
      "2016-12-15 18:19:29.393155 PST | ReturnsStd               209.968\n",
      "2016-12-15 18:19:29.393995 PST | ReturnsMax               889.758\n",
      "2016-12-15 18:19:29.394889 PST | ReturnsMin               469.823\n",
      "2016-12-15 18:19:29.396254 PST | DiscountedReturnsMean    483.696\n",
      "2016-12-15 18:19:29.397329 PST | DiscountedReturnsStd     107.349\n",
      "2016-12-15 18:19:29.398222 PST | DiscountedReturnsMax     591.045\n",
      "2016-12-15 18:19:29.399167 PST | DiscountedReturnsMin     376.346\n",
      "2016-12-15 18:19:29.400434 PST | TrainingReturnsMean      409.828\n",
      "2016-12-15 18:19:29.401689 PST | TrainingReturnsStd         0\n",
      "2016-12-15 18:19:29.402968 PST | TrainingReturnsMax       409.828\n",
      "2016-12-15 18:19:29.404250 PST | TrainingReturnsMin       409.828\n",
      "2016-12-15 18:19:29.405297 PST | ----------------------  ------------\n",
      "2016-12-15 18:19:29.406458 PST | Epoch #45 | Training started\n"
     ]
    },
    {
     "name": "stderr",
     "output_type": "stream",
     "text": [
      "\n",
      "Total time elapsed: 00:00:00\n"
     ]
    },
    {
     "name": "stdout",
     "output_type": "stream",
     "text": [
      "2016-12-15 18:19:29.980786 PST | Epoch #45 | Training finished. Time: 0.5733320713043213\n",
      "2016-12-15 18:19:29.981751 PST | Epoch #45 | Collecting samples for evaluation\n"
     ]
    },
    {
     "name": "stderr",
     "output_type": "stream",
     "text": [
      "0%                          100%\n",
      "[##############################] | ETA: 00:00:00"
     ]
    },
    {
     "name": "stdout",
     "output_type": "stream",
     "text": [
      "2016-12-15 18:19:30.073421 PST | Epoch #45 | Eval time: 0.09166097640991211\n",
      "2016-12-15 18:19:30.075234 PST | ----------------------  ------------\n",
      "2016-12-15 18:19:30.076151 PST | Epoch                     45\n",
      "2016-12-15 18:19:30.077140 PST | AverageReturn           1109.59\n",
      "2016-12-15 18:19:30.078241 PST | PolicySurrogateLoss     -306.962\n",
      "2016-12-15 18:19:30.079742 PST | QfLoss                   303.223\n",
      "2016-12-15 18:19:30.081276 PST | YsMean                   296.55\n",
      "2016-12-15 18:19:30.082958 PST | YsStd                    110.432\n",
      "2016-12-15 18:19:30.084536 PST | YsMax                    383.582\n",
      "2016-12-15 18:19:30.085957 PST | YsMin                      0\n",
      "2016-12-15 18:19:30.087491 PST | PolicyOutputMean           0.0326097\n",
      "2016-12-15 18:19:30.088705 PST | PolicyOutputStd            0.980577\n",
      "2016-12-15 18:19:30.089868 PST | PolicyOutputMax            1\n",
      "2016-12-15 18:19:30.091136 PST | PolicyOutputMin           -1\n",
      "2016-12-15 18:19:30.092621 PST | TargetPolicyOutputMean     0.0341095\n",
      "2016-12-15 18:19:30.093977 PST | TargetPolicyOutputStd      0.97088\n",
      "2016-12-15 18:19:30.095452 PST | TargetPolicyOutputMax      1\n",
      "2016-12-15 18:19:30.096578 PST | TargetPolicyOutputMin     -1\n",
      "2016-12-15 18:19:30.097867 PST | QfOutputMean             306.962\n",
      "2016-12-15 18:19:30.099081 PST | QfOutputStd              113.065\n",
      "2016-12-15 18:19:30.100282 PST | QfOutputMax              395.55\n",
      "2016-12-15 18:19:30.101452 PST | QfOutputMin               -3.62964\n",
      "2016-12-15 18:19:30.102904 PST | TargetQfOutputMean       292.607\n",
      "2016-12-15 18:19:30.105103 PST | TargetQfOutputStd        107.968\n",
      "2016-12-15 18:19:30.106377 PST | TargetQfOutputMax        377.356\n",
      "2016-12-15 18:19:30.107454 PST | TargetQfOutputMin         -2.82407\n",
      "2016-12-15 18:19:30.108482 PST | RewardsMean                9.90704\n",
      "2016-12-15 18:19:30.109544 PST | RewardsStd                 0.940347\n",
      "2016-12-15 18:19:30.110775 PST | RewardsMax                 9.99982\n",
      "2016-12-15 18:19:30.111670 PST | RewardsMin                 0\n",
      "2016-12-15 18:19:30.112504 PST | ReturnsMean             1109.59\n",
      "2016-12-15 18:19:30.113597 PST | ReturnsStd                 0\n",
      "2016-12-15 18:19:30.114714 PST | ReturnsMax              1109.59\n",
      "2016-12-15 18:19:30.115916 PST | ReturnsMin              1109.59\n",
      "2016-12-15 18:19:30.117108 PST | DiscountedReturnsMean    672.092\n",
      "2016-12-15 18:19:30.118212 PST | DiscountedReturnsStd       0\n",
      "2016-12-15 18:19:30.119276 PST | DiscountedReturnsMax     672.092\n",
      "2016-12-15 18:19:30.120189 PST | DiscountedReturnsMin     672.092\n",
      "2016-12-15 18:19:30.121253 PST | TrainingReturnsMean      476.527\n",
      "2016-12-15 18:19:30.122436 PST | TrainingReturnsStd       178.167\n",
      "2016-12-15 18:19:30.123377 PST | TrainingReturnsMax       669.848\n",
      "2016-12-15 18:19:30.124443 PST | TrainingReturnsMin       239.918\n",
      "2016-12-15 18:19:30.125522 PST | ----------------------  ------------\n",
      "2016-12-15 18:19:30.126419 PST | Epoch #46 | Training started\n"
     ]
    },
    {
     "name": "stderr",
     "output_type": "stream",
     "text": [
      "\n",
      "Total time elapsed: 00:00:00\n"
     ]
    },
    {
     "name": "stdout",
     "output_type": "stream",
     "text": [
      "2016-12-15 18:19:30.693850 PST | Epoch #46 | Training finished. Time: 0.5661849975585938\n",
      "2016-12-15 18:19:30.694615 PST | Epoch #46 | Collecting samples for evaluation\n"
     ]
    },
    {
     "name": "stderr",
     "output_type": "stream",
     "text": [
      "0%                          100%\n",
      "[##############################] | ETA: 00:00:00"
     ]
    },
    {
     "name": "stdout",
     "output_type": "stream",
     "text": [
      "2016-12-15 18:19:30.769422 PST | Epoch #46 | Eval time: 0.07479500770568848\n",
      "2016-12-15 18:19:30.771776 PST | ----------------------  -------------\n",
      "2016-12-15 18:19:30.772787 PST | Epoch                     46\n",
      "2016-12-15 18:19:30.774108 PST | AverageReturn            504.843\n",
      "2016-12-15 18:19:30.775378 PST | PolicySurrogateLoss     -296.658\n",
      "2016-12-15 18:19:30.776441 PST | QfLoss                   555.249\n",
      "2016-12-15 18:19:30.777555 PST | YsMean                   283.741\n",
      "2016-12-15 18:19:30.778613 PST | YsStd                     91.4199\n",
      "2016-12-15 18:19:30.780046 PST | YsMax                    385.92\n",
      "2016-12-15 18:19:30.781256 PST | YsMin                      0\n",
      "2016-12-15 18:19:30.782205 PST | PolicyOutputMean          -0.0402232\n",
      "2016-12-15 18:19:30.783505 PST | PolicyOutputStd            0.97688\n",
      "2016-12-15 18:19:30.784639 PST | PolicyOutputMax            1\n",
      "2016-12-15 18:19:30.785586 PST | PolicyOutputMin           -1\n",
      "2016-12-15 18:19:30.786499 PST | TargetPolicyOutputMean     0.00123674\n",
      "2016-12-15 18:19:30.788630 PST | TargetPolicyOutputStd      0.969019\n",
      "2016-12-15 18:19:30.789742 PST | TargetPolicyOutputMax      1\n",
      "2016-12-15 18:19:30.791188 PST | TargetPolicyOutputMin     -1\n",
      "2016-12-15 18:19:30.792386 PST | QfOutputMean             296.658\n",
      "2016-12-15 18:19:30.796204 PST | QfOutputStd               87.5136\n",
      "2016-12-15 18:19:30.797767 PST | QfOutputMax              398.331\n",
      "2016-12-15 18:19:30.803783 PST | QfOutputMin               44.4973\n",
      "2016-12-15 18:19:30.804882 PST | TargetQfOutputMean       283.634\n",
      "2016-12-15 18:19:30.806168 PST | TargetQfOutputStd         83.7042\n",
      "2016-12-15 18:19:30.807337 PST | TargetQfOutputMax        379.719\n",
      "2016-12-15 18:19:30.808988 PST | TargetQfOutputMin         41.0703\n",
      "2016-12-15 18:19:30.810219 PST | RewardsMean                9.80277\n",
      "2016-12-15 18:19:30.811625 PST | RewardsStd                 1.37945\n",
      "2016-12-15 18:19:30.813129 PST | RewardsMax                 9.99966\n",
      "2016-12-15 18:19:30.814410 PST | RewardsMin                 0\n",
      "2016-12-15 18:19:30.815864 PST | ReturnsMean              504.843\n",
      "2016-12-15 18:19:30.817082 PST | ReturnsStd                45.0228\n",
      "2016-12-15 18:19:30.818607 PST | ReturnsMax               549.866\n",
      "2016-12-15 18:19:30.820113 PST | ReturnsMin               459.82\n",
      "2016-12-15 18:19:30.821476 PST | DiscountedReturnsMean    397.296\n",
      "2016-12-15 18:19:30.822424 PST | DiscountedReturnsStd      27.2539\n",
      "2016-12-15 18:19:30.823750 PST | DiscountedReturnsMax     424.55\n",
      "2016-12-15 18:19:30.824745 PST | DiscountedReturnsMin     370.042\n",
      "2016-12-15 18:19:30.826419 PST | TrainingReturnsMean      434.824\n",
      "2016-12-15 18:19:30.827923 PST | TrainingReturnsStd        35.0356\n",
      "2016-12-15 18:19:30.828896 PST | TrainingReturnsMax       469.86\n",
      "2016-12-15 18:19:30.830454 PST | TrainingReturnsMin       399.789\n",
      "2016-12-15 18:19:30.831526 PST | ----------------------  -------------\n",
      "2016-12-15 18:19:30.832796 PST | Epoch #47 | Training started\n"
     ]
    },
    {
     "name": "stderr",
     "output_type": "stream",
     "text": [
      "\n",
      "Total time elapsed: 00:00:00\n"
     ]
    },
    {
     "name": "stdout",
     "output_type": "stream",
     "text": [
      "2016-12-15 18:19:31.398155 PST | Epoch #47 | Training finished. Time: 0.5643980503082275\n",
      "2016-12-15 18:19:31.398957 PST | Epoch #47 | Collecting samples for evaluation\n"
     ]
    },
    {
     "name": "stderr",
     "output_type": "stream",
     "text": [
      "0%                          100%\n",
      "[##############################] | ETA: 00:00:00"
     ]
    },
    {
     "name": "stdout",
     "output_type": "stream",
     "text": [
      "2016-12-15 18:19:31.514230 PST | Epoch #47 | Eval time: 0.11526107788085938\n",
      "2016-12-15 18:19:31.516375 PST | ----------------------  -------------\n",
      "2016-12-15 18:19:31.517144 PST | Epoch                     47\n",
      "2016-12-15 18:19:31.518260 PST | AverageReturn            824.738\n",
      "2016-12-15 18:19:31.519395 PST | PolicySurrogateLoss     -322.188\n",
      "2016-12-15 18:19:31.520634 PST | QfLoss                   875.054\n",
      "2016-12-15 18:19:31.521605 PST | YsMean                   310.033\n",
      "2016-12-15 18:19:31.522764 PST | YsStd                    112.183\n",
      "2016-12-15 18:19:31.524403 PST | YsMax                    423.391\n",
      "2016-12-15 18:19:31.525799 PST | YsMin                      0\n",
      "2016-12-15 18:19:31.526913 PST | PolicyOutputMean           0.0353928\n",
      "2016-12-15 18:19:31.528399 PST | PolicyOutputStd            0.969078\n",
      "2016-12-15 18:19:31.530194 PST | PolicyOutputMax            1\n",
      "2016-12-15 18:19:31.531225 PST | PolicyOutputMin           -1\n",
      "2016-12-15 18:19:31.532326 PST | TargetPolicyOutputMean     0.00293479\n",
      "2016-12-15 18:19:31.533540 PST | TargetPolicyOutputStd      0.964041\n",
      "2016-12-15 18:19:31.534365 PST | TargetPolicyOutputMax      1\n",
      "2016-12-15 18:19:31.535552 PST | TargetPolicyOutputMin     -1\n",
      "2016-12-15 18:19:31.536666 PST | QfOutputMean             322.188\n",
      "2016-12-15 18:19:31.537575 PST | QfOutputStd              111.574\n",
      "2016-12-15 18:19:31.538838 PST | QfOutputMax              433.359\n",
      "2016-12-15 18:19:31.539954 PST | QfOutputMin                2.30981\n",
      "2016-12-15 18:19:31.541121 PST | TargetQfOutputMean       307.615\n",
      "2016-12-15 18:19:31.542330 PST | TargetQfOutputStd        108.157\n",
      "2016-12-15 18:19:31.543131 PST | TargetQfOutputMax        417.572\n",
      "2016-12-15 18:19:31.544005 PST | TargetQfOutputMin          1.14557\n",
      "2016-12-15 18:19:31.545081 PST | RewardsMean                9.8771\n",
      "2016-12-15 18:19:31.546258 PST | RewardsStd                 1.08744\n",
      "2016-12-15 18:19:31.547120 PST | RewardsMax                 9.9999\n",
      "2016-12-15 18:19:31.548200 PST | RewardsMin                 0\n",
      "2016-12-15 18:19:31.549022 PST | ReturnsMean              824.738\n",
      "2016-12-15 18:19:31.550171 PST | ReturnsStd                44.9329\n",
      "2016-12-15 18:19:31.551162 PST | ReturnsMax               869.671\n",
      "2016-12-15 18:19:31.552366 PST | ReturnsMin               779.805\n",
      "2016-12-15 18:19:31.553267 PST | DiscountedReturnsMean    562.978\n",
      "2016-12-15 18:19:31.554441 PST | DiscountedReturnsStd      19.7095\n",
      "2016-12-15 18:19:31.555562 PST | DiscountedReturnsMax     582.687\n",
      "2016-12-15 18:19:31.556705 PST | DiscountedReturnsMin     543.268\n",
      "2016-12-15 18:19:31.557615 PST | TrainingReturnsMean      359.909\n",
      "2016-12-15 18:19:31.558593 PST | TrainingReturnsStd       179.962\n",
      "2016-12-15 18:19:31.559681 PST | TrainingReturnsMax       539.871\n",
      "2016-12-15 18:19:31.560603 PST | TrainingReturnsMin       179.947\n",
      "2016-12-15 18:19:31.561879 PST | ----------------------  -------------\n",
      "2016-12-15 18:19:31.563046 PST | Epoch #48 | Training started\n"
     ]
    },
    {
     "name": "stderr",
     "output_type": "stream",
     "text": [
      "\n",
      "Total time elapsed: 00:00:00\n"
     ]
    },
    {
     "name": "stdout",
     "output_type": "stream",
     "text": [
      "2016-12-15 18:19:32.120605 PST | Epoch #48 | Training finished. Time: 0.5561320781707764\n",
      "2016-12-15 18:19:32.121540 PST | Epoch #48 | Collecting samples for evaluation\n"
     ]
    },
    {
     "name": "stderr",
     "output_type": "stream",
     "text": [
      "0%                          100%\n",
      "[##############################] | ETA: 00:00:00"
     ]
    },
    {
     "name": "stdout",
     "output_type": "stream",
     "text": [
      "2016-12-15 18:19:32.237782 PST | Epoch #48 | Eval time: 0.11623311042785645\n",
      "2016-12-15 18:19:32.239622 PST | ----------------------  ------------\n",
      "2016-12-15 18:19:32.240603 PST | Epoch                     48\n",
      "2016-12-15 18:19:32.242132 PST | AverageReturn            859.681\n",
      "2016-12-15 18:19:32.243332 PST | PolicySurrogateLoss     -324.623\n",
      "2016-12-15 18:19:32.244236 PST | QfLoss                   472.813\n",
      "2016-12-15 18:19:32.245354 PST | YsMean                   312.979\n",
      "2016-12-15 18:19:32.246597 PST | YsStd                    126.575\n",
      "2016-12-15 18:19:32.247487 PST | YsMax                    433.315\n",
      "2016-12-15 18:19:32.248559 PST | YsMin                      0\n",
      "2016-12-15 18:19:32.249662 PST | PolicyOutputMean           0.0120521\n",
      "2016-12-15 18:19:32.250966 PST | PolicyOutputStd            0.954187\n",
      "2016-12-15 18:19:32.251833 PST | PolicyOutputMax            1\n",
      "2016-12-15 18:19:32.252866 PST | PolicyOutputMin           -1\n",
      "2016-12-15 18:19:32.254035 PST | TargetPolicyOutputMean    -0.034249\n",
      "2016-12-15 18:19:32.254881 PST | TargetPolicyOutputStd      0.956525\n",
      "2016-12-15 18:19:32.255953 PST | TargetPolicyOutputMax      1\n",
      "2016-12-15 18:19:32.256797 PST | TargetPolicyOutputMin     -1\n",
      "2016-12-15 18:19:32.257588 PST | QfOutputMean             324.623\n",
      "2016-12-15 18:19:32.258794 PST | QfOutputStd              127.882\n",
      "2016-12-15 18:19:32.259961 PST | QfOutputMax              449.643\n",
      "2016-12-15 18:19:32.261189 PST | QfOutputMin                4.25819\n",
      "2016-12-15 18:19:32.262184 PST | TargetQfOutputMean       310.562\n",
      "2016-12-15 18:19:32.263310 PST | TargetQfOutputStd        123.469\n",
      "2016-12-15 18:19:32.264348 PST | TargetQfOutputMax        427.593\n",
      "2016-12-15 18:19:32.265320 PST | TargetQfOutputMin         -8.49312\n",
      "2016-12-15 18:19:32.266573 PST | RewardsMean                9.88139\n",
      "2016-12-15 18:19:32.267886 PST | RewardsStd                 1.06555\n",
      "2016-12-15 18:19:32.268749 PST | RewardsMax                 9.99977\n",
      "2016-12-15 18:19:32.269776 PST | RewardsMin                 0\n",
      "2016-12-15 18:19:32.270685 PST | ReturnsMean              859.681\n",
      "2016-12-15 18:19:32.271827 PST | ReturnsStd               160.026\n",
      "2016-12-15 18:19:32.272914 PST | ReturnsMax              1019.71\n",
      "2016-12-15 18:19:32.274127 PST | ReturnsMin               699.655\n",
      "2016-12-15 18:19:32.275181 PST | DiscountedReturnsMean    573.023\n",
      "2016-12-15 18:19:32.276376 PST | DiscountedReturnsStd      68.0774\n",
      "2016-12-15 18:19:32.277344 PST | DiscountedReturnsMax     641.1\n",
      "2016-12-15 18:19:32.278155 PST | DiscountedReturnsMin     504.945\n",
      "2016-12-15 18:19:32.279096 PST | TrainingReturnsMean      674.829\n",
      "2016-12-15 18:19:32.280133 PST | TrainingReturnsStd       674.829\n",
      "2016-12-15 18:19:32.281044 PST | TrainingReturnsMax      1349.66\n",
      "2016-12-15 18:19:32.281990 PST | TrainingReturnsMin         0\n",
      "2016-12-15 18:19:32.283329 PST | ----------------------  ------------\n",
      "2016-12-15 18:19:32.284495 PST | Epoch #49 | Training started\n"
     ]
    },
    {
     "name": "stderr",
     "output_type": "stream",
     "text": [
      "\n",
      "Total time elapsed: 00:00:00\n"
     ]
    },
    {
     "name": "stdout",
     "output_type": "stream",
     "text": [
      "2016-12-15 18:19:32.861181 PST | Epoch #49 | Training finished. Time: 0.5754671096801758\n",
      "2016-12-15 18:19:32.862124 PST | Epoch #49 | Collecting samples for evaluation\n"
     ]
    },
    {
     "name": "stderr",
     "output_type": "stream",
     "text": [
      "0%                          100%\n",
      "[##############################] | ETA: 00:00:00"
     ]
    },
    {
     "name": "stdout",
     "output_type": "stream",
     "text": [
      "2016-12-15 18:19:32.968644 PST | Epoch #49 | Eval time: 0.10651302337646484\n",
      "2016-12-15 18:19:32.971011 PST | ----------------------  -------------\n",
      "2016-12-15 18:19:32.972151 PST | Epoch                     49\n",
      "2016-12-15 18:19:32.973388 PST | AverageReturn            749.729\n",
      "2016-12-15 18:19:32.974626 PST | PolicySurrogateLoss     -329.277\n",
      "2016-12-15 18:19:32.975545 PST | QfLoss                   529.085\n",
      "2016-12-15 18:19:32.976574 PST | YsMean                   316.906\n",
      "2016-12-15 18:19:32.978045 PST | YsStd                    128.322\n",
      "2016-12-15 18:19:32.979511 PST | YsMax                    442.639\n",
      "2016-12-15 18:19:32.980732 PST | YsMin                      0\n",
      "2016-12-15 18:19:32.981667 PST | PolicyOutputMean           0.00947079\n",
      "2016-12-15 18:19:32.982793 PST | PolicyOutputStd            0.969462\n",
      "2016-12-15 18:19:32.983683 PST | PolicyOutputMax            1\n",
      "2016-12-15 18:19:32.984941 PST | PolicyOutputMin           -1\n",
      "2016-12-15 18:19:32.986367 PST | TargetPolicyOutputMean     0.00961837\n",
      "2016-12-15 18:19:32.987225 PST | TargetPolicyOutputStd      0.965909\n",
      "2016-12-15 18:19:32.988380 PST | TargetPolicyOutputMax      1\n",
      "2016-12-15 18:19:32.989424 PST | TargetPolicyOutputMin     -1\n",
      "2016-12-15 18:19:32.990719 PST | QfOutputMean             329.277\n",
      "2016-12-15 18:19:32.991589 PST | QfOutputStd              129.689\n",
      "2016-12-15 18:19:32.992602 PST | QfOutputMax              456.241\n",
      "2016-12-15 18:19:32.993796 PST | QfOutputMin               -1.23745\n",
      "2016-12-15 18:19:32.995132 PST | TargetQfOutputMean       315.343\n",
      "2016-12-15 18:19:32.996212 PST | TargetQfOutputStd        124.575\n",
      "2016-12-15 18:19:32.997361 PST | TargetQfOutputMax        437.01\n",
      "2016-12-15 18:19:32.998523 PST | TargetQfOutputMin         -0.0459761\n",
      "2016-12-15 18:19:32.999581 PST | RewardsMean                9.86485\n",
      "2016-12-15 18:19:33.001023 PST | RewardsStd                 1.1391\n",
      "2016-12-15 18:19:33.002522 PST | RewardsMax                 9.9997\n",
      "2016-12-15 18:19:33.003441 PST | RewardsMin                 0\n",
      "2016-12-15 18:19:33.004501 PST | ReturnsMean              749.729\n",
      "2016-12-15 18:19:33.005386 PST | ReturnsStd               109.924\n",
      "2016-12-15 18:19:33.006350 PST | ReturnsMax               859.653\n",
      "2016-12-15 18:19:33.007560 PST | ReturnsMin               639.805\n",
      "2016-12-15 18:19:33.009521 PST | DiscountedReturnsMean    526.378\n",
      "2016-12-15 18:19:33.010866 PST | DiscountedReturnsStd      52.1013\n",
      "2016-12-15 18:19:33.012150 PST | DiscountedReturnsMax     578.479\n",
      "2016-12-15 18:19:33.013295 PST | DiscountedReturnsMin     474.277\n",
      "2016-12-15 18:19:33.014481 PST | TrainingReturnsMean      399.731\n",
      "2016-12-15 18:19:33.015600 PST | TrainingReturnsStd       129.924\n",
      "2016-12-15 18:19:33.016689 PST | TrainingReturnsMax       529.655\n",
      "2016-12-15 18:19:33.017597 PST | TrainingReturnsMin       269.807\n",
      "2016-12-15 18:19:33.018734 PST | ----------------------  -------------\n",
      "2016-12-15 18:19:33.019923 PST | Epoch #50 | Training started\n"
     ]
    },
    {
     "name": "stderr",
     "output_type": "stream",
     "text": [
      "\n",
      "Total time elapsed: 00:00:00\n"
     ]
    },
    {
     "name": "stdout",
     "output_type": "stream",
     "text": [
      "2016-12-15 18:19:33.603228 PST | Epoch #50 | Training finished. Time: 0.5823531150817871\n",
      "2016-12-15 18:19:33.604217 PST | Epoch #50 | Collecting samples for evaluation\n"
     ]
    },
    {
     "name": "stderr",
     "output_type": "stream",
     "text": [
      "0%                          100%\n",
      "[##############################] | ETA: 00:00:00"
     ]
    },
    {
     "name": "stdout",
     "output_type": "stream",
     "text": [
      "2016-12-15 18:19:33.695696 PST | Epoch #50 | Eval time: 0.09147310256958008\n",
      "2016-12-15 18:19:33.697566 PST | ----------------------  ------------\n",
      "2016-12-15 18:19:33.698618 PST | Epoch                     50\n",
      "2016-12-15 18:19:33.699447 PST | AverageReturn            654.751\n",
      "2016-12-15 18:19:33.700447 PST | PolicySurrogateLoss     -332.66\n",
      "2016-12-15 18:19:33.701590 PST | QfLoss                   806.931\n",
      "2016-12-15 18:19:33.702968 PST | YsMean                   326.398\n",
      "2016-12-15 18:19:33.704125 PST | YsStd                    119.42\n",
      "2016-12-15 18:19:33.705346 PST | YsMax                    453.426\n",
      "2016-12-15 18:19:33.706342 PST | YsMin                      0\n",
      "2016-12-15 18:19:33.707460 PST | PolicyOutputMean           0.002943\n",
      "2016-12-15 18:19:33.708617 PST | PolicyOutputStd            0.969966\n",
      "2016-12-15 18:19:33.709849 PST | PolicyOutputMax            1\n",
      "2016-12-15 18:19:33.711111 PST | PolicyOutputMin           -1\n",
      "2016-12-15 18:19:33.712210 PST | TargetPolicyOutputMean     0.0064789\n",
      "2016-12-15 18:19:33.713115 PST | TargetPolicyOutputStd      0.966928\n",
      "2016-12-15 18:19:33.713952 PST | TargetPolicyOutputMax      1\n",
      "2016-12-15 18:19:33.714819 PST | TargetPolicyOutputMin     -1\n",
      "2016-12-15 18:19:33.715844 PST | QfOutputMean             332.66\n",
      "2016-12-15 18:19:33.716907 PST | QfOutputStd              116.369\n",
      "2016-12-15 18:19:33.717927 PST | QfOutputMax              456.02\n",
      "2016-12-15 18:19:33.719285 PST | QfOutputMin                2.71816\n",
      "2016-12-15 18:19:33.720393 PST | TargetQfOutputMean       325.897\n",
      "2016-12-15 18:19:33.721441 PST | TargetQfOutputStd        113.996\n",
      "2016-12-15 18:19:33.722601 PST | TargetQfOutputMax        447.907\n",
      "2016-12-15 18:19:33.723937 PST | TargetQfOutputMin          4.8854\n",
      "2016-12-15 18:19:33.724944 PST | RewardsMean                9.84588\n",
      "2016-12-15 18:19:33.726212 PST | RewardsStd                 1.21657\n",
      "2016-12-15 18:19:33.727592 PST | RewardsMax                10\n",
      "2016-12-15 18:19:33.728564 PST | RewardsMin                 0\n",
      "2016-12-15 18:19:33.729426 PST | ReturnsMean              654.751\n",
      "2016-12-15 18:19:33.730460 PST | ReturnsStd               224.968\n",
      "2016-12-15 18:19:33.731322 PST | ReturnsMax               879.719\n",
      "2016-12-15 18:19:33.732408 PST | ReturnsMin               429.783\n",
      "2016-12-15 18:19:33.733438 PST | DiscountedReturnsMean    468.813\n",
      "2016-12-15 18:19:33.734664 PST | DiscountedReturnsStd     118.085\n",
      "2016-12-15 18:19:33.735489 PST | DiscountedReturnsMax     586.898\n",
      "2016-12-15 18:19:33.736650 PST | DiscountedReturnsMin     350.728\n",
      "2016-12-15 18:19:33.737508 PST | TrainingReturnsMean      406.513\n",
      "2016-12-15 18:19:33.738528 PST | TrainingReturnsStd        61.2007\n",
      "2016-12-15 18:19:33.739704 PST | TrainingReturnsMax       479.717\n",
      "2016-12-15 18:19:33.740705 PST | TrainingReturnsMin       329.922\n",
      "2016-12-15 18:19:33.741859 PST | ----------------------  ------------\n",
      "2016-12-15 18:19:33.743182 PST | Epoch #51 | Training started\n"
     ]
    },
    {
     "name": "stderr",
     "output_type": "stream",
     "text": [
      "\n",
      "Total time elapsed: 00:00:00\n"
     ]
    },
    {
     "name": "stdout",
     "output_type": "stream",
     "text": [
      "2016-12-15 18:19:34.369909 PST | Epoch #51 | Training finished. Time: 0.6256659030914307\n",
      "2016-12-15 18:19:34.370677 PST | Epoch #51 | Collecting samples for evaluation\n"
     ]
    },
    {
     "name": "stderr",
     "output_type": "stream",
     "text": [
      "0%                          100%\n",
      "[##############################] | ETA: 00:00:00"
     ]
    },
    {
     "name": "stdout",
     "output_type": "stream",
     "text": [
      "2016-12-15 18:19:34.460750 PST | Epoch #51 | Eval time: 0.09006381034851074\n",
      "2016-12-15 18:19:34.463079 PST | ----------------------  -------------\n",
      "2016-12-15 18:19:34.464085 PST | Epoch                     51\n",
      "2016-12-15 18:19:34.464921 PST | AverageReturn            499.789\n",
      "2016-12-15 18:19:34.465615 PST | PolicySurrogateLoss     -307.143\n",
      "2016-12-15 18:19:34.466576 PST | QfLoss                  1495.84\n",
      "2016-12-15 18:19:34.467312 PST | YsMean                   299.584\n",
      "2016-12-15 18:19:34.468700 PST | YsStd                    137.642\n",
      "2016-12-15 18:19:34.469868 PST | YsMax                    488.738\n",
      "2016-12-15 18:19:34.470774 PST | YsMin                      0\n",
      "2016-12-15 18:19:34.471523 PST | PolicyOutputMean           0.00301695\n",
      "2016-12-15 18:19:34.472222 PST | PolicyOutputStd            0.970094\n",
      "2016-12-15 18:19:34.473287 PST | PolicyOutputMax            1\n",
      "2016-12-15 18:19:34.474411 PST | PolicyOutputMin           -1\n",
      "2016-12-15 18:19:34.475260 PST | TargetPolicyOutputMean     0.0167024\n",
      "2016-12-15 18:19:34.476439 PST | TargetPolicyOutputStd      0.965267\n",
      "2016-12-15 18:19:34.477222 PST | TargetPolicyOutputMax      1\n",
      "2016-12-15 18:19:34.478080 PST | TargetPolicyOutputMin     -1\n",
      "2016-12-15 18:19:34.478736 PST | QfOutputMean             307.143\n",
      "2016-12-15 18:19:34.479608 PST | QfOutputStd              135.359\n",
      "2016-12-15 18:19:34.480319 PST | QfOutputMax              493.291\n",
      "2016-12-15 18:19:34.481435 PST | QfOutputMin                9.11248\n",
      "2016-12-15 18:19:34.482311 PST | TargetQfOutputMean       300.997\n",
      "2016-12-15 18:19:34.483217 PST | TargetQfOutputStd        133.392\n",
      "2016-12-15 18:19:34.484091 PST | TargetQfOutputMax        483.579\n",
      "2016-12-15 18:19:34.484944 PST | TargetQfOutputMin          9.87777\n",
      "2016-12-15 18:19:34.486216 PST | RewardsMean                9.79978\n",
      "2016-12-15 18:19:34.487192 PST | RewardsStd                 1.3859\n",
      "2016-12-15 18:19:34.488463 PST | RewardsMax                 9.99962\n",
      "2016-12-15 18:19:34.489752 PST | RewardsMin                 0\n",
      "2016-12-15 18:19:34.490780 PST | ReturnsMean              499.789\n",
      "2016-12-15 18:19:34.491700 PST | ReturnsStd                 9.99209\n",
      "2016-12-15 18:19:34.492944 PST | ReturnsMax               509.781\n",
      "2016-12-15 18:19:34.494635 PST | ReturnsMin               489.797\n",
      "2016-12-15 18:19:34.495828 PST | DiscountedReturnsMean    394.804\n",
      "2016-12-15 18:19:34.496929 PST | DiscountedReturnsStd       6.07818\n",
      "2016-12-15 18:19:34.497803 PST | DiscountedReturnsMax     400.882\n",
      "2016-12-15 18:19:34.498956 PST | DiscountedReturnsMin     388.726\n",
      "2016-12-15 18:19:34.499897 PST | TrainingReturnsMean      254.895\n",
      "2016-12-15 18:19:34.500736 PST | TrainingReturnsStd       171.199\n",
      "2016-12-15 18:19:34.502115 PST | TrainingReturnsMax       499.812\n",
      "2016-12-15 18:19:34.502942 PST | TrainingReturnsMin        49.9323\n",
      "2016-12-15 18:19:34.503792 PST | ----------------------  -------------\n",
      "2016-12-15 18:19:34.505139 PST | Epoch #52 | Training started\n"
     ]
    },
    {
     "name": "stderr",
     "output_type": "stream",
     "text": [
      "\n",
      "Total time elapsed: 00:00:00\n"
     ]
    },
    {
     "name": "stdout",
     "output_type": "stream",
     "text": [
      "2016-12-15 18:19:35.104617 PST | Epoch #52 | Training finished. Time: 0.598301887512207\n",
      "2016-12-15 18:19:35.105504 PST | Epoch #52 | Collecting samples for evaluation\n"
     ]
    },
    {
     "name": "stderr",
     "output_type": "stream",
     "text": [
      "0%                          100%\n",
      "[##############################] | ETA: 00:00:00"
     ]
    },
    {
     "name": "stdout",
     "output_type": "stream",
     "text": [
      "2016-12-15 18:19:35.212977 PST | Epoch #52 | Eval time: 0.10746288299560547\n",
      "2016-12-15 18:19:35.214898 PST | ----------------------  ------------\n",
      "2016-12-15 18:19:35.216126 PST | Epoch                     52\n",
      "2016-12-15 18:19:35.217221 PST | AverageReturn            779.715\n",
      "2016-12-15 18:19:35.218340 PST | PolicySurrogateLoss     -342.615\n",
      "2016-12-15 18:19:35.219271 PST | QfLoss                   844.13\n",
      "2016-12-15 18:19:35.220041 PST | YsMean                   335.334\n",
      "2016-12-15 18:19:35.220862 PST | YsStd                    142.017\n",
      "2016-12-15 18:19:35.221556 PST | YsMax                    474.93\n",
      "2016-12-15 18:19:35.222297 PST | YsMin                      0\n",
      "2016-12-15 18:19:35.223028 PST | PolicyOutputMean           0.0194314\n",
      "2016-12-15 18:19:35.223672 PST | PolicyOutputStd            0.957065\n",
      "2016-12-15 18:19:35.224371 PST | PolicyOutputMax            1\n",
      "2016-12-15 18:19:35.225138 PST | PolicyOutputMin           -1\n",
      "2016-12-15 18:19:35.226041 PST | TargetPolicyOutputMean    -0.0221294\n",
      "2016-12-15 18:19:35.226911 PST | TargetPolicyOutputStd      0.9453\n",
      "2016-12-15 18:19:35.227660 PST | TargetPolicyOutputMax      1\n",
      "2016-12-15 18:19:35.228376 PST | TargetPolicyOutputMin     -1\n",
      "2016-12-15 18:19:35.229117 PST | QfOutputMean             342.615\n",
      "2016-12-15 18:19:35.229817 PST | QfOutputStd              142.491\n",
      "2016-12-15 18:19:35.230527 PST | QfOutputMax              481.944\n",
      "2016-12-15 18:19:35.231377 PST | QfOutputMin               14.1312\n",
      "2016-12-15 18:19:35.232185 PST | TargetQfOutputMean       334.255\n",
      "2016-12-15 18:19:35.232928 PST | TargetQfOutputStd        138.694\n",
      "2016-12-15 18:19:35.233671 PST | TargetQfOutputMax        469.632\n",
      "2016-12-15 18:19:35.234810 PST | TargetQfOutputMin          8.37208\n",
      "2016-12-15 18:19:35.235865 PST | RewardsMean                9.8698\n",
      "2016-12-15 18:19:35.236975 PST | RewardsStd                 1.11754\n",
      "2016-12-15 18:19:35.237985 PST | RewardsMax                 9.99975\n",
      "2016-12-15 18:19:35.238978 PST | RewardsMin                 0\n",
      "2016-12-15 18:19:35.240108 PST | ReturnsMean              779.715\n",
      "2016-12-15 18:19:35.241262 PST | ReturnsStd               159.941\n",
      "2016-12-15 18:19:35.242728 PST | ReturnsMax               939.655\n",
      "2016-12-15 18:19:35.243773 PST | ReturnsMin               619.774\n",
      "2016-12-15 18:19:35.244905 PST | DiscountedReturnsMean    537.306\n",
      "2016-12-15 18:19:35.246082 PST | DiscountedReturnsStd      73.7234\n",
      "2016-12-15 18:19:35.247211 PST | DiscountedReturnsMax     611.03\n",
      "2016-12-15 18:19:35.248350 PST | DiscountedReturnsMin     463.583\n",
      "2016-12-15 18:19:35.249268 PST | TrainingReturnsMean      185.912\n",
      "2016-12-15 18:19:35.250291 PST | TrainingReturnsStd       174.816\n",
      "2016-12-15 18:19:35.251588 PST | TrainingReturnsMax       509.778\n",
      "2016-12-15 18:19:35.252567 PST | TrainingReturnsMin        19.9624\n",
      "2016-12-15 18:19:35.253553 PST | ----------------------  ------------\n",
      "2016-12-15 18:19:35.254756 PST | Epoch #53 | Training started\n"
     ]
    },
    {
     "name": "stderr",
     "output_type": "stream",
     "text": [
      "\n",
      "Total time elapsed: 00:00:00\n"
     ]
    },
    {
     "name": "stdout",
     "output_type": "stream",
     "text": [
      "2016-12-15 18:19:35.831305 PST | Epoch #53 | Training finished. Time: 0.5753231048583984\n",
      "2016-12-15 18:19:35.832213 PST | Epoch #53 | Collecting samples for evaluation\n"
     ]
    },
    {
     "name": "stderr",
     "output_type": "stream",
     "text": [
      "0%                          100%\n",
      "[##############################] | ETA: 00:00:00"
     ]
    },
    {
     "name": "stdout",
     "output_type": "stream",
     "text": [
      "2016-12-15 18:19:35.934750 PST | Epoch #53 | Eval time: 0.10252881050109863\n",
      "2016-12-15 18:19:35.936609 PST | ----------------------  ------------\n",
      "2016-12-15 18:19:35.937523 PST | Epoch                     53\n",
      "2016-12-15 18:19:35.938615 PST | AverageReturn            749.73\n",
      "2016-12-15 18:19:35.939320 PST | PolicySurrogateLoss     -366.166\n",
      "2016-12-15 18:19:35.940295 PST | QfLoss                   626.869\n",
      "2016-12-15 18:19:35.941046 PST | YsMean                   352.402\n",
      "2016-12-15 18:19:35.942031 PST | YsStd                    149.016\n",
      "2016-12-15 18:19:35.943002 PST | YsMax                    509.365\n",
      "2016-12-15 18:19:35.944100 PST | YsMin                      0\n",
      "2016-12-15 18:19:35.945173 PST | PolicyOutputMean           0.010006\n",
      "2016-12-15 18:19:35.946024 PST | PolicyOutputStd            0.963823\n",
      "2016-12-15 18:19:35.947150 PST | PolicyOutputMax            1\n",
      "2016-12-15 18:19:35.947931 PST | PolicyOutputMin           -1\n",
      "2016-12-15 18:19:35.948985 PST | TargetPolicyOutputMean     0.0334136\n",
      "2016-12-15 18:19:35.949903 PST | TargetPolicyOutputStd      0.964598\n",
      "2016-12-15 18:19:35.951124 PST | TargetPolicyOutputMax      1\n",
      "2016-12-15 18:19:35.951927 PST | TargetPolicyOutputMin     -1\n",
      "2016-12-15 18:19:35.952946 PST | QfOutputMean             366.166\n",
      "2016-12-15 18:19:35.953724 PST | QfOutputStd              149.574\n",
      "2016-12-15 18:19:35.954584 PST | QfOutputMax              523.988\n",
      "2016-12-15 18:19:35.955428 PST | QfOutputMin               10.5149\n",
      "2016-12-15 18:19:35.956552 PST | TargetQfOutputMean       351.883\n",
      "2016-12-15 18:19:35.957604 PST | TargetQfOutputStd        145.217\n",
      "2016-12-15 18:19:35.958866 PST | TargetQfOutputMax        504.414\n",
      "2016-12-15 18:19:35.960065 PST | TargetQfOutputMin          8.58496\n",
      "2016-12-15 18:19:35.961060 PST | RewardsMean                9.86487\n",
      "2016-12-15 18:19:35.962219 PST | RewardsStd                 1.1391\n",
      "2016-12-15 18:19:35.963379 PST | RewardsMax                10\n",
      "2016-12-15 18:19:35.964418 PST | RewardsMin                 0\n",
      "2016-12-15 18:19:35.965324 PST | ReturnsMean              749.73\n",
      "2016-12-15 18:19:35.966408 PST | ReturnsStd               339.928\n",
      "2016-12-15 18:19:35.967450 PST | ReturnsMax              1089.66\n",
      "2016-12-15 18:19:35.968487 PST | ReturnsMin               409.802\n",
      "2016-12-15 18:19:35.969610 PST | DiscountedReturnsMean    501.509\n",
      "2016-12-15 18:19:35.970675 PST | DiscountedReturnsStd     163.945\n",
      "2016-12-15 18:19:35.971870 PST | DiscountedReturnsMax     665.454\n",
      "2016-12-15 18:19:35.972855 PST | DiscountedReturnsMin     337.564\n",
      "2016-12-15 18:19:35.973909 PST | TrainingReturnsMean      919.744\n",
      "2016-12-15 18:19:35.974889 PST | TrainingReturnsStd         0\n",
      "2016-12-15 18:19:35.975974 PST | TrainingReturnsMax       919.744\n",
      "2016-12-15 18:19:35.977003 PST | TrainingReturnsMin       919.744\n",
      "2016-12-15 18:19:35.978224 PST | ----------------------  ------------\n",
      "2016-12-15 18:19:35.979189 PST | Epoch #54 | Training started\n"
     ]
    },
    {
     "name": "stderr",
     "output_type": "stream",
     "text": [
      "\n",
      "Total time elapsed: 00:00:00\n"
     ]
    },
    {
     "name": "stdout",
     "output_type": "stream",
     "text": [
      "2016-12-15 18:19:36.613187 PST | Epoch #54 | Training finished. Time: 0.6331770420074463\n",
      "2016-12-15 18:19:36.613949 PST | Epoch #54 | Collecting samples for evaluation\n"
     ]
    },
    {
     "name": "stderr",
     "output_type": "stream",
     "text": [
      "0%                          100%\n",
      "[##############################] | ETA: 00:00:00"
     ]
    },
    {
     "name": "stdout",
     "output_type": "stream",
     "text": [
      "2016-12-15 18:19:36.712163 PST | Epoch #54 | Eval time: 0.09819698333740234\n",
      "2016-12-15 18:19:36.714133 PST | ----------------------  ------------\n",
      "2016-12-15 18:19:36.715135 PST | Epoch                     54\n",
      "2016-12-15 18:19:36.715868 PST | AverageReturn            684.725\n",
      "2016-12-15 18:19:36.716684 PST | PolicySurrogateLoss     -342.688\n",
      "2016-12-15 18:19:36.717490 PST | QfLoss                  1185.47\n",
      "2016-12-15 18:19:36.718222 PST | YsMean                   330.532\n",
      "2016-12-15 18:19:36.719011 PST | YsStd                    166.46\n",
      "2016-12-15 18:19:36.719667 PST | YsMax                    526.808\n",
      "2016-12-15 18:19:36.720308 PST | YsMin                      0\n",
      "2016-12-15 18:19:36.721054 PST | PolicyOutputMean           0.0490131\n",
      "2016-12-15 18:19:36.721789 PST | PolicyOutputStd            0.966497\n",
      "2016-12-15 18:19:36.722575 PST | PolicyOutputMax            1\n",
      "2016-12-15 18:19:36.723492 PST | PolicyOutputMin           -1\n",
      "2016-12-15 18:19:36.724183 PST | TargetPolicyOutputMean     0.0392811\n",
      "2016-12-15 18:19:36.724900 PST | TargetPolicyOutputStd      0.964445\n",
      "2016-12-15 18:19:36.725610 PST | TargetPolicyOutputMax      1\n",
      "2016-12-15 18:19:36.726513 PST | TargetPolicyOutputMin     -1\n",
      "2016-12-15 18:19:36.727304 PST | QfOutputMean             342.688\n",
      "2016-12-15 18:19:36.728035 PST | QfOutputStd              171.091\n",
      "2016-12-15 18:19:36.728741 PST | QfOutputMax              541.391\n",
      "2016-12-15 18:19:36.729522 PST | QfOutputMin               -0.570618\n",
      "2016-12-15 18:19:36.731226 PST | TargetQfOutputMean       330.538\n",
      "2016-12-15 18:19:36.732258 PST | TargetQfOutputStd        163.976\n",
      "2016-12-15 18:19:36.733514 PST | TargetQfOutputMax        522.038\n",
      "2016-12-15 18:19:36.734641 PST | TargetQfOutputMin         -0.0365917\n",
      "2016-12-15 18:19:36.735840 PST | RewardsMean                9.85216\n",
      "2016-12-15 18:19:36.737239 PST | RewardsStd                 1.19039\n",
      "2016-12-15 18:19:36.738354 PST | RewardsMax                 9.99953\n",
      "2016-12-15 18:19:36.739687 PST | RewardsMin                 0\n",
      "2016-12-15 18:19:36.740576 PST | ReturnsMean              684.725\n",
      "2016-12-15 18:19:36.741684 PST | ReturnsStd                35.0147\n",
      "2016-12-15 18:19:36.742530 PST | ReturnsMax               719.74\n",
      "2016-12-15 18:19:36.743537 PST | ReturnsMin               649.711\n",
      "2016-12-15 18:19:36.744610 PST | DiscountedReturnsMean    497.159\n",
      "2016-12-15 18:19:36.745781 PST | DiscountedReturnsStd      17.6938\n",
      "2016-12-15 18:19:36.746979 PST | DiscountedReturnsMax     514.852\n",
      "2016-12-15 18:19:36.748013 PST | DiscountedReturnsMin     479.465\n",
      "2016-12-15 18:19:36.749098 PST | TrainingReturnsMean      233.242\n",
      "2016-12-15 18:19:36.750236 PST | TrainingReturnsStd       165.131\n",
      "2016-12-15 18:19:36.751157 PST | TrainingReturnsMax       359.894\n",
      "2016-12-15 18:19:36.752285 PST | TrainingReturnsMin         0\n",
      "2016-12-15 18:19:36.753605 PST | ----------------------  ------------\n",
      "2016-12-15 18:19:36.754950 PST | Epoch #55 | Training started\n"
     ]
    },
    {
     "name": "stderr",
     "output_type": "stream",
     "text": [
      "\n",
      "Total time elapsed: 00:00:00\n"
     ]
    },
    {
     "name": "stdout",
     "output_type": "stream",
     "text": [
      "2016-12-15 18:19:37.343812 PST | Epoch #55 | Training finished. Time: 0.5877227783203125\n",
      "2016-12-15 18:19:37.344929 PST | Epoch #55 | Collecting samples for evaluation\n"
     ]
    },
    {
     "name": "stderr",
     "output_type": "stream",
     "text": [
      "0%                          100%\n",
      "[##############################] | ETA: 00:00:00"
     ]
    },
    {
     "name": "stdout",
     "output_type": "stream",
     "text": [
      "2016-12-15 18:19:37.460536 PST | Epoch #55 | Eval time: 0.1156010627746582\n",
      "2016-12-15 18:19:37.463077 PST | ----------------------  ------------\n",
      "2016-12-15 18:19:37.463899 PST | Epoch                     55\n",
      "2016-12-15 18:19:37.465517 PST | AverageReturn            729.778\n",
      "2016-12-15 18:19:37.466464 PST | PolicySurrogateLoss     -404.444\n",
      "2016-12-15 18:19:37.467663 PST | QfLoss                   772.677\n",
      "2016-12-15 18:19:37.468613 PST | YsMean                   396.693\n",
      "2016-12-15 18:19:37.469796 PST | YsStd                    125.693\n",
      "2016-12-15 18:19:37.470783 PST | YsMax                    513.391\n",
      "2016-12-15 18:19:37.471767 PST | YsMin                      0\n",
      "2016-12-15 18:19:37.473083 PST | PolicyOutputMean          -0.0302861\n",
      "2016-12-15 18:19:37.474105 PST | PolicyOutputStd            0.968163\n",
      "2016-12-15 18:19:37.475210 PST | PolicyOutputMax            1\n",
      "2016-12-15 18:19:37.476060 PST | PolicyOutputMin           -1\n",
      "2016-12-15 18:19:37.476981 PST | TargetPolicyOutputMean     0.0121869\n",
      "2016-12-15 18:19:37.478320 PST | TargetPolicyOutputStd      0.959485\n",
      "2016-12-15 18:19:37.479527 PST | TargetPolicyOutputMax      1\n",
      "2016-12-15 18:19:37.480524 PST | TargetPolicyOutputMin     -1\n",
      "2016-12-15 18:19:37.481576 PST | QfOutputMean             404.444\n",
      "2016-12-15 18:19:37.482577 PST | QfOutputStd              122.97\n",
      "2016-12-15 18:19:37.483809 PST | QfOutputMax              519.557\n",
      "2016-12-15 18:19:37.484881 PST | QfOutputMin               23.6121\n",
      "2016-12-15 18:19:37.486046 PST | TargetQfOutputMean       397.129\n",
      "2016-12-15 18:19:37.487164 PST | TargetQfOutputStd        118.313\n",
      "2016-12-15 18:19:37.488191 PST | TargetQfOutputMax        508.476\n",
      "2016-12-15 18:19:37.489488 PST | TargetQfOutputMin         29.9469\n",
      "2016-12-15 18:19:37.490849 PST | RewardsMean                9.86186\n",
      "2016-12-15 18:19:37.491940 PST | RewardsStd                 1.15425\n",
      "2016-12-15 18:19:37.493089 PST | RewardsMax                 9.99994\n",
      "2016-12-15 18:19:37.494156 PST | RewardsMin                 0\n",
      "2016-12-15 18:19:37.495117 PST | ReturnsMean              729.778\n",
      "2016-12-15 18:19:37.496195 PST | ReturnsStd                49.9983\n",
      "2016-12-15 18:19:37.497191 PST | ReturnsMax               779.776\n",
      "2016-12-15 18:19:37.498218 PST | ReturnsMin               679.779\n",
      "2016-12-15 18:19:37.499271 PST | DiscountedReturnsMean    519.117\n",
      "2016-12-15 18:19:37.500427 PST | DiscountedReturnsStd      24.1418\n",
      "2016-12-15 18:19:37.501471 PST | DiscountedReturnsMax     543.259\n",
      "2016-12-15 18:19:37.502388 PST | DiscountedReturnsMin     494.976\n",
      "2016-12-15 18:19:37.503568 PST | TrainingReturnsMean      409.77\n",
      "2016-12-15 18:19:37.504712 PST | TrainingReturnsStd       219.874\n",
      "2016-12-15 18:19:37.505519 PST | TrainingReturnsMax       629.643\n",
      "2016-12-15 18:19:37.506497 PST | TrainingReturnsMin       189.896\n",
      "2016-12-15 18:19:37.507625 PST | ----------------------  ------------\n",
      "2016-12-15 18:19:37.508730 PST | Epoch #56 | Training started\n"
     ]
    },
    {
     "name": "stderr",
     "output_type": "stream",
     "text": [
      "\n",
      "Total time elapsed: 00:00:00\n"
     ]
    },
    {
     "name": "stdout",
     "output_type": "stream",
     "text": [
      "2016-12-15 18:19:38.122735 PST | Epoch #56 | Training finished. Time: 0.613070011138916\n",
      "2016-12-15 18:19:38.123620 PST | Epoch #56 | Collecting samples for evaluation\n"
     ]
    },
    {
     "name": "stderr",
     "output_type": "stream",
     "text": [
      "0%                          100%\n",
      "[##############################] | ETA: 00:00:00"
     ]
    },
    {
     "name": "stdout",
     "output_type": "stream",
     "text": [
      "2016-12-15 18:19:38.219940 PST | Epoch #56 | Eval time: 0.09631705284118652\n",
      "2016-12-15 18:19:38.221848 PST | ----------------------  ------------\n",
      "2016-12-15 18:19:38.222724 PST | Epoch                     56\n",
      "2016-12-15 18:19:38.223449 PST | AverageReturn            619.771\n",
      "2016-12-15 18:19:38.224316 PST | PolicySurrogateLoss     -380.496\n",
      "2016-12-15 18:19:38.225104 PST | QfLoss                   984.851\n",
      "2016-12-15 18:19:38.225870 PST | YsMean                   366.093\n",
      "2016-12-15 18:19:38.226608 PST | YsStd                    160.125\n",
      "2016-12-15 18:19:38.227441 PST | YsMax                    555.208\n",
      "2016-12-15 18:19:38.228131 PST | YsMin                      0\n",
      "2016-12-15 18:19:38.228805 PST | PolicyOutputMean           0.0562001\n",
      "2016-12-15 18:19:38.229503 PST | PolicyOutputStd            0.962475\n",
      "2016-12-15 18:19:38.230141 PST | PolicyOutputMax            1\n",
      "2016-12-15 18:19:38.230967 PST | PolicyOutputMin           -1\n",
      "2016-12-15 18:19:38.231664 PST | TargetPolicyOutputMean     0.067969\n",
      "2016-12-15 18:19:38.232384 PST | TargetPolicyOutputStd      0.958481\n",
      "2016-12-15 18:19:38.233137 PST | TargetPolicyOutputMax      1\n",
      "2016-12-15 18:19:38.233978 PST | TargetPolicyOutputMin     -1\n",
      "2016-12-15 18:19:38.234654 PST | QfOutputMean             380.496\n",
      "2016-12-15 18:19:38.235464 PST | QfOutputStd              158.685\n",
      "2016-12-15 18:19:38.236295 PST | QfOutputMax              572.383\n",
      "2016-12-15 18:19:38.236998 PST | QfOutputMin               17.1647\n",
      "2016-12-15 18:19:38.237780 PST | TargetQfOutputMean       367.572\n",
      "2016-12-15 18:19:38.238451 PST | TargetQfOutputStd        155.503\n",
      "2016-12-15 18:19:38.239199 PST | TargetQfOutputMax        550.718\n",
      "2016-12-15 18:19:38.240038 PST | TargetQfOutputMin         14.7275\n",
      "2016-12-15 18:19:38.241106 PST | RewardsMean                9.83764\n",
      "2016-12-15 18:19:38.242435 PST | RewardsStd                 1.24939\n",
      "2016-12-15 18:19:38.243986 PST | RewardsMax                 9.99988\n",
      "2016-12-15 18:19:38.245506 PST | RewardsMin                 0\n",
      "2016-12-15 18:19:38.246840 PST | ReturnsMean              619.771\n",
      "2016-12-15 18:19:38.248072 PST | ReturnsStd                39.9852\n",
      "2016-12-15 18:19:38.249377 PST | ReturnsMax               659.756\n",
      "2016-12-15 18:19:38.250637 PST | ReturnsMin               579.786\n",
      "2016-12-15 18:19:38.251723 PST | DiscountedReturnsMean    463.147\n",
      "2016-12-15 18:19:38.253051 PST | DiscountedReturnsStd      21.5588\n",
      "2016-12-15 18:19:38.254187 PST | DiscountedReturnsMax     484.706\n",
      "2016-12-15 18:19:38.255627 PST | DiscountedReturnsMin     441.589\n",
      "2016-12-15 18:19:38.256888 PST | TrainingReturnsMean      343.205\n",
      "2016-12-15 18:19:38.257752 PST | TrainingReturnsStd       308.923\n",
      "2016-12-15 18:19:38.258797 PST | TrainingReturnsMax       779.745\n",
      "2016-12-15 18:19:38.259992 PST | TrainingReturnsMin       109.954\n",
      "2016-12-15 18:19:38.260854 PST | ----------------------  ------------\n",
      "2016-12-15 18:19:38.261760 PST | Epoch #57 | Training started\n"
     ]
    },
    {
     "name": "stderr",
     "output_type": "stream",
     "text": [
      "\n",
      "Total time elapsed: 00:00:00\n"
     ]
    },
    {
     "name": "stdout",
     "output_type": "stream",
     "text": [
      "2016-12-15 18:19:38.845391 PST | Epoch #57 | Training finished. Time: 0.5824439525604248\n",
      "2016-12-15 18:19:38.846283 PST | Epoch #57 | Collecting samples for evaluation\n"
     ]
    },
    {
     "name": "stderr",
     "output_type": "stream",
     "text": [
      "0%                          100%\n",
      "[##############################] | ETA: 00:00:00"
     ]
    },
    {
     "name": "stdout",
     "output_type": "stream",
     "text": [
      "2016-12-15 18:19:38.938489 PST | Epoch #57 | Eval time: 0.09220194816589355\n",
      "2016-12-15 18:19:38.940261 PST | ----------------------  ------------\n",
      "2016-12-15 18:19:38.941534 PST | Epoch                     57\n",
      "2016-12-15 18:19:38.943016 PST | AverageReturn            674.776\n",
      "2016-12-15 18:19:38.944329 PST | PolicySurrogateLoss     -397.027\n",
      "2016-12-15 18:19:38.945479 PST | QfLoss                   654.889\n",
      "2016-12-15 18:19:38.946572 PST | YsMean                   386.729\n",
      "2016-12-15 18:19:38.947605 PST | YsStd                    153.061\n",
      "2016-12-15 18:19:38.948586 PST | YsMax                    546.538\n",
      "2016-12-15 18:19:38.949461 PST | YsMin                      0\n",
      "2016-12-15 18:19:38.950644 PST | PolicyOutputMean          -0.0327725\n",
      "2016-12-15 18:19:38.951679 PST | PolicyOutputStd            0.962557\n",
      "2016-12-15 18:19:38.952834 PST | PolicyOutputMax            1\n",
      "2016-12-15 18:19:38.953975 PST | PolicyOutputMin           -1\n",
      "2016-12-15 18:19:38.955102 PST | TargetPolicyOutputMean     0.0339803\n",
      "2016-12-15 18:19:38.956002 PST | TargetPolicyOutputStd      0.948864\n",
      "2016-12-15 18:19:38.957160 PST | TargetPolicyOutputMax      1\n",
      "2016-12-15 18:19:38.958386 PST | TargetPolicyOutputMin     -1\n",
      "2016-12-15 18:19:38.959442 PST | QfOutputMean             397.027\n",
      "2016-12-15 18:19:38.960620 PST | QfOutputStd              152.233\n",
      "2016-12-15 18:19:38.961599 PST | QfOutputMax              554.374\n",
      "2016-12-15 18:19:38.962810 PST | QfOutputMin               -1.11047\n",
      "2016-12-15 18:19:38.963940 PST | TargetQfOutputMean       387.974\n",
      "2016-12-15 18:19:38.965030 PST | TargetQfOutputStd        147.734\n",
      "2016-12-15 18:19:38.965953 PST | TargetQfOutputMax        541.958\n",
      "2016-12-15 18:19:38.967047 PST | TargetQfOutputMin         -0.15121\n",
      "2016-12-15 18:19:38.968184 PST | RewardsMean                9.85075\n",
      "2016-12-15 18:19:38.969267 PST | RewardsStd                 1.199\n",
      "2016-12-15 18:19:38.970363 PST | RewardsMax                 9.99995\n",
      "2016-12-15 18:19:38.971240 PST | RewardsMin                 0\n",
      "2016-12-15 18:19:38.972110 PST | ReturnsMean              674.776\n",
      "2016-12-15 18:19:38.973183 PST | ReturnsStd               165.015\n",
      "2016-12-15 18:19:38.974136 PST | ReturnsMax               839.791\n",
      "2016-12-15 18:19:38.975254 PST | ReturnsMin               509.761\n",
      "2016-12-15 18:19:38.976082 PST | DiscountedReturnsMean    485.432\n",
      "2016-12-15 18:19:38.977044 PST | DiscountedReturnsStd      84.556\n",
      "2016-12-15 18:19:38.978070 PST | DiscountedReturnsMax     569.988\n",
      "2016-12-15 18:19:38.979233 PST | DiscountedReturnsMin     400.876\n",
      "2016-12-15 18:19:38.980333 PST | TrainingReturnsMean      424.856\n",
      "2016-12-15 18:19:38.981164 PST | TrainingReturnsStd       104.911\n",
      "2016-12-15 18:19:38.982118 PST | TrainingReturnsMax       529.767\n",
      "2016-12-15 18:19:38.983224 PST | TrainingReturnsMin       319.944\n",
      "2016-12-15 18:19:38.984111 PST | ----------------------  ------------\n",
      "2016-12-15 18:19:38.985311 PST | Epoch #58 | Training started\n"
     ]
    },
    {
     "name": "stderr",
     "output_type": "stream",
     "text": [
      "\n",
      "Total time elapsed: 00:00:00\n"
     ]
    },
    {
     "name": "stdout",
     "output_type": "stream",
     "text": [
      "2016-12-15 18:19:39.588819 PST | Epoch #58 | Training finished. Time: 0.60235595703125\n",
      "2016-12-15 18:19:39.589857 PST | Epoch #58 | Collecting samples for evaluation\n"
     ]
    },
    {
     "name": "stderr",
     "output_type": "stream",
     "text": [
      "0%                          100%\n",
      "[##############################] | ETA: 00:00:00"
     ]
    },
    {
     "name": "stdout",
     "output_type": "stream",
     "text": [
      "2016-12-15 18:19:39.699512 PST | Epoch #58 | Eval time: 0.10964703559875488\n",
      "2016-12-15 18:19:39.701535 PST | ----------------------  -----------\n",
      "2016-12-15 18:19:39.702874 PST | Epoch                     58\n",
      "2016-12-15 18:19:39.704085 PST | AverageReturn            526.487\n",
      "2016-12-15 18:19:39.705438 PST | PolicySurrogateLoss     -396.876\n",
      "2016-12-15 18:19:39.706381 PST | QfLoss                  1365.39\n",
      "2016-12-15 18:19:39.708018 PST | YsMean                   385.767\n",
      "2016-12-15 18:19:39.709632 PST | YsStd                    175.906\n",
      "2016-12-15 18:19:39.712056 PST | YsMax                    568.298\n",
      "2016-12-15 18:19:39.713238 PST | YsMin                      0\n",
      "2016-12-15 18:19:39.714560 PST | PolicyOutputMean           0.012538\n",
      "2016-12-15 18:19:39.715567 PST | PolicyOutputStd            0.960496\n",
      "2016-12-15 18:19:39.717908 PST | PolicyOutputMax            1\n",
      "2016-12-15 18:19:39.720321 PST | PolicyOutputMin           -1\n",
      "2016-12-15 18:19:39.722783 PST | TargetPolicyOutputMean     0.031825\n",
      "2016-12-15 18:19:39.725377 PST | TargetPolicyOutputStd      0.958815\n",
      "2016-12-15 18:19:39.727732 PST | TargetPolicyOutputMax      1\n",
      "2016-12-15 18:19:39.728921 PST | TargetPolicyOutputMin     -1\n",
      "2016-12-15 18:19:39.731861 PST | QfOutputMean             396.876\n",
      "2016-12-15 18:19:39.733122 PST | QfOutputStd              173.703\n",
      "2016-12-15 18:19:39.734548 PST | QfOutputMax              575.724\n",
      "2016-12-15 18:19:39.735556 PST | QfOutputMin               -0.845057\n",
      "2016-12-15 18:19:39.737048 PST | TargetQfOutputMean       389.314\n",
      "2016-12-15 18:19:39.738962 PST | TargetQfOutputStd        170.228\n",
      "2016-12-15 18:19:39.740521 PST | TargetQfOutputMax        563.938\n",
      "2016-12-15 18:19:39.742747 PST | TargetQfOutputMin         -0.464283\n",
      "2016-12-15 18:19:39.744017 PST | RewardsMean                9.81031\n",
      "2016-12-15 18:19:39.745598 PST | RewardsStd                 1.35181\n",
      "2016-12-15 18:19:39.747050 PST | RewardsMax                 9.99998\n",
      "2016-12-15 18:19:39.748649 PST | RewardsMin                 0\n",
      "2016-12-15 18:19:39.749963 PST | ReturnsMean              526.487\n",
      "2016-12-15 18:19:39.750685 PST | ReturnsStd               371.751\n",
      "2016-12-15 18:19:39.751893 PST | ReturnsMax               869.679\n",
      "2016-12-15 18:19:39.753338 PST | ReturnsMin                 9.9809\n",
      "2016-12-15 18:19:39.754671 PST | DiscountedReturnsMean    365.908\n",
      "2016-12-15 18:19:39.755559 PST | DiscountedReturnsStd     253.668\n",
      "2016-12-15 18:19:39.756672 PST | DiscountedReturnsMax     582.705\n",
      "2016-12-15 18:19:39.757831 PST | DiscountedReturnsMin       9.9809\n",
      "2016-12-15 18:19:39.758585 PST | TrainingReturnsMean      739.742\n",
      "2016-12-15 18:19:39.759374 PST | TrainingReturnsStd       199.883\n",
      "2016-12-15 18:19:39.760590 PST | TrainingReturnsMax       939.624\n",
      "2016-12-15 18:19:39.761981 PST | TrainingReturnsMin       539.859\n",
      "2016-12-15 18:19:39.763340 PST | ----------------------  -----------\n",
      "2016-12-15 18:19:39.764633 PST | Epoch #59 | Training started\n"
     ]
    },
    {
     "name": "stderr",
     "output_type": "stream",
     "text": [
      "\n",
      "Total time elapsed: 00:00:00\n"
     ]
    },
    {
     "name": "stdout",
     "output_type": "stream",
     "text": [
      "2016-12-15 18:19:40.373496 PST | Epoch #59 | Training finished. Time: 0.6075332164764404\n",
      "2016-12-15 18:19:40.374351 PST | Epoch #59 | Collecting samples for evaluation\n"
     ]
    },
    {
     "name": "stderr",
     "output_type": "stream",
     "text": [
      "0%                          100%\n",
      "[##############################] | ETA: 00:00:00"
     ]
    },
    {
     "name": "stdout",
     "output_type": "stream",
     "text": [
      "2016-12-15 18:19:40.459718 PST | Epoch #59 | Eval time: 0.08535909652709961\n",
      "2016-12-15 18:19:40.462339 PST | ----------------------  ------------\n",
      "2016-12-15 18:19:40.463304 PST | Epoch                     59\n",
      "2016-12-15 18:19:40.464753 PST | AverageReturn            564.708\n",
      "2016-12-15 18:19:40.465714 PST | PolicySurrogateLoss     -355.603\n",
      "2016-12-15 18:19:40.466725 PST | QfLoss                  2048.73\n",
      "2016-12-15 18:19:40.467831 PST | YsMean                   347.921\n",
      "2016-12-15 18:19:40.468940 PST | YsStd                    175.497\n",
      "2016-12-15 18:19:40.469843 PST | YsMax                    605.162\n",
      "2016-12-15 18:19:40.470806 PST | YsMin                      0\n",
      "2016-12-15 18:19:40.471527 PST | PolicyOutputMean           0.0111495\n",
      "2016-12-15 18:19:40.472526 PST | PolicyOutputStd            0.967694\n",
      "2016-12-15 18:19:40.473476 PST | PolicyOutputMax            1\n",
      "2016-12-15 18:19:40.474346 PST | PolicyOutputMin           -1\n",
      "2016-12-15 18:19:40.475024 PST | TargetPolicyOutputMean     0.010678\n",
      "2016-12-15 18:19:40.476086 PST | TargetPolicyOutputStd      0.963058\n",
      "2016-12-15 18:19:40.476793 PST | TargetPolicyOutputMax      1\n",
      "2016-12-15 18:19:40.477482 PST | TargetPolicyOutputMin     -1\n",
      "2016-12-15 18:19:40.478340 PST | QfOutputMean             355.603\n",
      "2016-12-15 18:19:40.479013 PST | QfOutputStd              176.313\n",
      "2016-12-15 18:19:40.479732 PST | QfOutputMax              613.197\n",
      "2016-12-15 18:19:40.480586 PST | QfOutputMin               16.1968\n",
      "2016-12-15 18:19:40.481391 PST | TargetQfOutputMean       350.716\n",
      "2016-12-15 18:19:40.482095 PST | TargetQfOutputStd        172.628\n",
      "2016-12-15 18:19:40.483119 PST | TargetQfOutputMax        601.191\n",
      "2016-12-15 18:19:40.483851 PST | TargetQfOutputMin         14.2709\n",
      "2016-12-15 18:19:40.484603 PST | RewardsMean                9.82101\n",
      "2016-12-15 18:19:40.485326 PST | RewardsStd                 1.30658\n",
      "2016-12-15 18:19:40.486125 PST | RewardsMax                 9.99923\n",
      "2016-12-15 18:19:40.486822 PST | RewardsMin                 0\n",
      "2016-12-15 18:19:40.487574 PST | ReturnsMean              564.708\n",
      "2016-12-15 18:19:40.488457 PST | ReturnsStd                34.9683\n",
      "2016-12-15 18:19:40.489411 PST | ReturnsMax               599.676\n",
      "2016-12-15 18:19:40.490112 PST | ReturnsMin               529.74\n",
      "2016-12-15 18:19:40.490802 PST | DiscountedReturnsMean    432.692\n",
      "2016-12-15 18:19:40.491649 PST | DiscountedReturnsStd      19.9143\n",
      "2016-12-15 18:19:40.492330 PST | DiscountedReturnsMax     452.607\n",
      "2016-12-15 18:19:40.493027 PST | DiscountedReturnsMin     412.778\n",
      "2016-12-15 18:19:40.493702 PST | TrainingReturnsMean      384.792\n",
      "2016-12-15 18:19:40.494641 PST | TrainingReturnsStd       144.912\n",
      "2016-12-15 18:19:40.495777 PST | TrainingReturnsMax       529.703\n",
      "2016-12-15 18:19:40.497162 PST | TrainingReturnsMin       239.88\n",
      "2016-12-15 18:19:40.498185 PST | ----------------------  ------------\n",
      "2016-12-15 18:19:40.499120 PST | Epoch #60 | Training started\n"
     ]
    },
    {
     "name": "stderr",
     "output_type": "stream",
     "text": [
      "\n",
      "Total time elapsed: 00:00:00\n"
     ]
    },
    {
     "name": "stdout",
     "output_type": "stream",
     "text": [
      "2016-12-15 18:19:41.168261 PST | Epoch #60 | Training finished. Time: 0.6679420471191406\n",
      "2016-12-15 18:19:41.169021 PST | Epoch #60 | Collecting samples for evaluation\n"
     ]
    },
    {
     "name": "stderr",
     "output_type": "stream",
     "text": [
      "0%                          100%\n",
      "[##############################] | ETA: 00:00:00"
     ]
    },
    {
     "name": "stdout",
     "output_type": "stream",
     "text": [
      "2016-12-15 18:19:41.283853 PST | Epoch #60 | Eval time: 0.11482405662536621\n",
      "2016-12-15 18:19:41.285561 PST | ----------------------  ------------\n",
      "2016-12-15 18:19:41.286355 PST | Epoch                     60\n",
      "2016-12-15 18:19:41.287247 PST | AverageReturn            829.784\n",
      "2016-12-15 18:19:41.288268 PST | PolicySurrogateLoss     -467.587\n",
      "2016-12-15 18:19:41.288992 PST | QfLoss                   852.291\n",
      "2016-12-15 18:19:41.290092 PST | YsMean                   461.444\n",
      "2016-12-15 18:19:41.290891 PST | YsStd                    140.005\n",
      "2016-12-15 18:19:41.291606 PST | YsMax                    588.353\n",
      "2016-12-15 18:19:41.292571 PST | YsMin                      0\n",
      "2016-12-15 18:19:41.293366 PST | PolicyOutputMean          -0.021478\n",
      "2016-12-15 18:19:41.294022 PST | PolicyOutputStd            0.962747\n",
      "2016-12-15 18:19:41.294841 PST | PolicyOutputMax            1\n",
      "2016-12-15 18:19:41.296456 PST | PolicyOutputMin           -1\n",
      "2016-12-15 18:19:41.297481 PST | TargetPolicyOutputMean    -0.0114799\n",
      "2016-12-15 18:19:41.298360 PST | TargetPolicyOutputStd      0.956506\n",
      "2016-12-15 18:19:41.299346 PST | TargetPolicyOutputMax      1\n",
      "2016-12-15 18:19:41.300392 PST | TargetPolicyOutputMin     -1\n",
      "2016-12-15 18:19:41.301448 PST | QfOutputMean             467.587\n",
      "2016-12-15 18:19:41.302343 PST | QfOutputStd              140.226\n",
      "2016-12-15 18:19:41.303177 PST | QfOutputMax              600.068\n",
      "2016-12-15 18:19:41.304661 PST | QfOutputMin               27.3653\n",
      "2016-12-15 18:19:41.305618 PST | TargetQfOutputMean       462.589\n",
      "2016-12-15 18:19:41.306506 PST | TargetQfOutputStd        132.132\n",
      "2016-12-15 18:19:41.307793 PST | TargetQfOutputMax        584.197\n",
      "2016-12-15 18:19:41.309118 PST | TargetQfOutputMin         29.0601\n",
      "2016-12-15 18:19:41.310333 PST | RewardsMean                9.87838\n",
      "2016-12-15 18:19:41.311516 PST | RewardsStd                 1.0843\n",
      "2016-12-15 18:19:41.312844 PST | RewardsMax                 9.99992\n",
      "2016-12-15 18:19:41.313736 PST | RewardsMin                 0\n",
      "2016-12-15 18:19:41.314949 PST | ReturnsMean              829.784\n",
      "2016-12-15 18:19:41.316087 PST | ReturnsStd               119.98\n",
      "2016-12-15 18:19:41.317260 PST | ReturnsMax               949.764\n",
      "2016-12-15 18:19:41.318237 PST | ReturnsMin               709.804\n",
      "2016-12-15 18:19:41.319062 PST | DiscountedReturnsMean    562.483\n",
      "2016-12-15 18:19:41.320336 PST | DiscountedReturnsStd      52.4951\n",
      "2016-12-15 18:19:41.321574 PST | DiscountedReturnsMax     614.978\n",
      "2016-12-15 18:19:41.322531 PST | DiscountedReturnsMin     509.988\n",
      "2016-12-15 18:19:41.323404 PST | TrainingReturnsMean      669.747\n",
      "2016-12-15 18:19:41.324282 PST | TrainingReturnsStd        20.0613\n",
      "2016-12-15 18:19:41.325247 PST | TrainingReturnsMax       689.808\n",
      "2016-12-15 18:19:41.326072 PST | TrainingReturnsMin       649.685\n",
      "2016-12-15 18:19:41.327099 PST | ----------------------  ------------\n",
      "2016-12-15 18:19:41.328583 PST | Epoch #61 | Training started\n"
     ]
    },
    {
     "name": "stderr",
     "output_type": "stream",
     "text": [
      "\n",
      "Total time elapsed: 00:00:00\n"
     ]
    },
    {
     "name": "stdout",
     "output_type": "stream",
     "text": [
      "2016-12-15 18:19:41.887719 PST | Epoch #61 | Training finished. Time: 0.5582950115203857\n",
      "2016-12-15 18:19:41.888481 PST | Epoch #61 | Collecting samples for evaluation\n"
     ]
    },
    {
     "name": "stderr",
     "output_type": "stream",
     "text": [
      "0%                          100%\n",
      "[##############################] | ETA: 00:00:00"
     ]
    },
    {
     "name": "stdout",
     "output_type": "stream",
     "text": [
      "2016-12-15 18:19:41.972331 PST | Epoch #61 | Eval time: 0.08384108543395996\n",
      "2016-12-15 18:19:41.974258 PST | ----------------------  -------------\n",
      "2016-12-15 18:19:41.974997 PST | Epoch                     61\n",
      "2016-12-15 18:19:41.975906 PST | AverageReturn            594.758\n",
      "2016-12-15 18:19:41.976871 PST | PolicySurrogateLoss     -422.42\n",
      "2016-12-15 18:19:41.977729 PST | QfLoss                  1548.88\n",
      "2016-12-15 18:19:41.978584 PST | YsMean                   411.187\n",
      "2016-12-15 18:19:41.979279 PST | YsStd                    158.092\n",
      "2016-12-15 18:19:41.980164 PST | YsMax                    577.346\n",
      "2016-12-15 18:19:41.981105 PST | YsMin                      0\n",
      "2016-12-15 18:19:41.982195 PST | PolicyOutputMean          -0.0481256\n",
      "2016-12-15 18:19:41.982966 PST | PolicyOutputStd            0.965448\n",
      "2016-12-15 18:19:41.983647 PST | PolicyOutputMax            1\n",
      "2016-12-15 18:19:41.984832 PST | PolicyOutputMin           -1\n",
      "2016-12-15 18:19:41.985556 PST | TargetPolicyOutputMean    -0.00608788\n",
      "2016-12-15 18:19:41.986399 PST | TargetPolicyOutputStd      0.962208\n",
      "2016-12-15 18:19:41.987108 PST | TargetPolicyOutputMax      1\n",
      "2016-12-15 18:19:41.987776 PST | TargetPolicyOutputMin     -1\n",
      "2016-12-15 18:19:41.988625 PST | QfOutputMean             422.42\n",
      "2016-12-15 18:19:41.989678 PST | QfOutputStd              156.919\n",
      "2016-12-15 18:19:41.990408 PST | QfOutputMax              591.319\n",
      "2016-12-15 18:19:41.991131 PST | QfOutputMin               10.4274\n",
      "2016-12-15 18:19:41.991878 PST | TargetQfOutputMean       414.6\n",
      "2016-12-15 18:19:41.992810 PST | TargetQfOutputStd        151.446\n",
      "2016-12-15 18:19:41.993547 PST | TargetQfOutputMax        573.079\n",
      "2016-12-15 18:19:41.994250 PST | TargetQfOutputMin         13.8145\n",
      "2016-12-15 18:19:41.995248 PST | RewardsMean                9.83071\n",
      "2016-12-15 18:19:41.996202 PST | RewardsStd                 1.27447\n",
      "2016-12-15 18:19:41.997501 PST | RewardsMax                 9.99958\n",
      "2016-12-15 18:19:41.998656 PST | RewardsMin                 0\n",
      "2016-12-15 18:19:41.999586 PST | ReturnsMean              594.758\n",
      "2016-12-15 18:19:42.001090 PST | ReturnsStd                54.9985\n",
      "2016-12-15 18:19:42.002594 PST | ReturnsMax               649.756\n",
      "2016-12-15 18:19:42.004345 PST | ReturnsMin               539.759\n",
      "2016-12-15 18:19:42.006225 PST | DiscountedReturnsMean    449.077\n",
      "2016-12-15 18:19:42.007324 PST | DiscountedReturnsStd      30.4176\n",
      "2016-12-15 18:19:42.008384 PST | DiscountedReturnsMax     479.495\n",
      "2016-12-15 18:19:42.009267 PST | DiscountedReturnsMin     418.659\n",
      "2016-12-15 18:19:42.010498 PST | TrainingReturnsMean      424.874\n",
      "2016-12-15 18:19:42.011413 PST | TrainingReturnsStd       334.916\n",
      "2016-12-15 18:19:42.012713 PST | TrainingReturnsMax       759.79\n",
      "2016-12-15 18:19:42.013878 PST | TrainingReturnsMin        89.9574\n",
      "2016-12-15 18:19:42.014748 PST | ----------------------  -------------\n",
      "2016-12-15 18:19:42.015833 PST | Epoch #62 | Training started\n"
     ]
    },
    {
     "name": "stderr",
     "output_type": "stream",
     "text": [
      "\n",
      "Total time elapsed: 00:00:00\n"
     ]
    },
    {
     "name": "stdout",
     "output_type": "stream",
     "text": [
      "2016-12-15 18:19:42.586346 PST | Epoch #62 | Training finished. Time: 0.569411039352417\n",
      "2016-12-15 18:19:42.587207 PST | Epoch #62 | Collecting samples for evaluation\n"
     ]
    },
    {
     "name": "stderr",
     "output_type": "stream",
     "text": [
      "0%                          100%\n",
      "[##############################] | ETA: 00:00:00"
     ]
    },
    {
     "name": "stdout",
     "output_type": "stream",
     "text": [
      "2016-12-15 18:19:42.668964 PST | Epoch #62 | Eval time: 0.08174896240234375\n",
      "2016-12-15 18:19:42.670896 PST | ----------------------  ------------\n",
      "2016-12-15 18:19:42.672009 PST | Epoch                     62\n",
      "2016-12-15 18:19:42.673167 PST | AverageReturn           1239.71\n",
      "2016-12-15 18:19:42.674051 PST | PolicySurrogateLoss     -473.689\n",
      "2016-12-15 18:19:42.675160 PST | QfLoss                   529.682\n",
      "2016-12-15 18:19:42.676209 PST | YsMean                   467.047\n",
      "2016-12-15 18:19:42.677302 PST | YsStd                    185.948\n",
      "2016-12-15 18:19:42.678382 PST | YsMax                    630.634\n",
      "2016-12-15 18:19:42.679577 PST | YsMin                      0\n",
      "2016-12-15 18:19:42.680601 PST | PolicyOutputMean           0.0265128\n",
      "2016-12-15 18:19:42.681422 PST | PolicyOutputStd            0.956467\n",
      "2016-12-15 18:19:42.682498 PST | PolicyOutputMax            1\n",
      "2016-12-15 18:19:42.683286 PST | PolicyOutputMin           -1\n",
      "2016-12-15 18:19:42.684487 PST | TargetPolicyOutputMean     0.0785235\n",
      "2016-12-15 18:19:42.685525 PST | TargetPolicyOutputStd      0.954562\n",
      "2016-12-15 18:19:42.686301 PST | TargetPolicyOutputMax      1\n",
      "2016-12-15 18:19:42.687422 PST | TargetPolicyOutputMin     -1\n",
      "2016-12-15 18:19:42.688635 PST | QfOutputMean             473.689\n",
      "2016-12-15 18:19:42.689681 PST | QfOutputStd              188.305\n",
      "2016-12-15 18:19:42.690690 PST | QfOutputMax              636.362\n",
      "2016-12-15 18:19:42.691854 PST | QfOutputMin               43.3321\n",
      "2016-12-15 18:19:42.693119 PST | TargetQfOutputMean       466.335\n",
      "2016-12-15 18:19:42.694200 PST | TargetQfOutputStd        183.237\n",
      "2016-12-15 18:19:42.695009 PST | TargetQfOutputMax        626.904\n",
      "2016-12-15 18:19:42.695850 PST | TargetQfOutputMin         42.9394\n",
      "2016-12-15 18:19:42.696680 PST | RewardsMean                9.91771\n",
      "2016-12-15 18:19:42.697554 PST | RewardsStd                 0.890641\n",
      "2016-12-15 18:19:42.698750 PST | RewardsMax                10\n",
      "2016-12-15 18:19:42.699954 PST | RewardsMin                 0\n",
      "2016-12-15 18:19:42.701220 PST | ReturnsMean             1239.71\n",
      "2016-12-15 18:19:42.702047 PST | ReturnsStd                 0\n",
      "2016-12-15 18:19:42.702840 PST | ReturnsMax              1239.71\n",
      "2016-12-15 18:19:42.703804 PST | ReturnsMin              1239.71\n",
      "2016-12-15 18:19:42.704624 PST | DiscountedReturnsMean    712.284\n",
      "2016-12-15 18:19:42.705653 PST | DiscountedReturnsStd       0\n",
      "2016-12-15 18:19:42.706422 PST | DiscountedReturnsMax     712.284\n",
      "2016-12-15 18:19:42.707552 PST | DiscountedReturnsMin     712.284\n",
      "2016-12-15 18:19:42.708373 PST | TrainingReturnsMean      374.902\n",
      "2016-12-15 18:19:42.709251 PST | TrainingReturnsStd        64.9703\n",
      "2016-12-15 18:19:42.710116 PST | TrainingReturnsMax       439.872\n",
      "2016-12-15 18:19:42.710944 PST | TrainingReturnsMin       309.932\n",
      "2016-12-15 18:19:42.711727 PST | ----------------------  ------------\n",
      "2016-12-15 18:19:42.712772 PST | Epoch #63 | Training started\n"
     ]
    },
    {
     "name": "stderr",
     "output_type": "stream",
     "text": [
      "\n",
      "Total time elapsed: 00:00:00\n"
     ]
    },
    {
     "name": "stdout",
     "output_type": "stream",
     "text": [
      "2016-12-15 18:19:43.355330 PST | Epoch #63 | Training finished. Time: 0.6413228511810303\n",
      "2016-12-15 18:19:43.356097 PST | Epoch #63 | Collecting samples for evaluation\n"
     ]
    },
    {
     "name": "stderr",
     "output_type": "stream",
     "text": [
      "0%                          100%\n",
      "[##############################] | ETA: 00:00:00"
     ]
    },
    {
     "name": "stdout",
     "output_type": "stream",
     "text": [
      "2016-12-15 18:19:43.452770 PST | Epoch #63 | Eval time: 0.09666705131530762\n",
      "2016-12-15 18:19:43.454639 PST | ----------------------  ------------\n",
      "2016-12-15 18:19:43.456098 PST | Epoch                     63\n",
      "2016-12-15 18:19:43.457574 PST | AverageReturn            604.78\n",
      "2016-12-15 18:19:43.458934 PST | PolicySurrogateLoss     -396.83\n",
      "2016-12-15 18:19:43.460016 PST | QfLoss                   959.33\n",
      "2016-12-15 18:19:43.461073 PST | YsMean                   380.949\n",
      "2016-12-15 18:19:43.462346 PST | YsStd                    208.665\n",
      "2016-12-15 18:19:43.463239 PST | YsMax                    664.695\n",
      "2016-12-15 18:19:43.464452 PST | YsMin                     -1.11324\n",
      "2016-12-15 18:19:43.465738 PST | PolicyOutputMean           0.0137688\n",
      "2016-12-15 18:19:43.466558 PST | PolicyOutputStd            0.95947\n",
      "2016-12-15 18:19:43.467643 PST | PolicyOutputMax            1\n",
      "2016-12-15 18:19:43.468609 PST | PolicyOutputMin           -1\n",
      "2016-12-15 18:19:43.469744 PST | TargetPolicyOutputMean     0.0175382\n",
      "2016-12-15 18:19:43.470829 PST | TargetPolicyOutputStd      0.950524\n",
      "2016-12-15 18:19:43.471827 PST | TargetPolicyOutputMax      1\n",
      "2016-12-15 18:19:43.473171 PST | TargetPolicyOutputMin     -1\n",
      "2016-12-15 18:19:43.474146 PST | QfOutputMean             396.83\n",
      "2016-12-15 18:19:43.475181 PST | QfOutputStd              212.039\n",
      "2016-12-15 18:19:43.476129 PST | QfOutputMax              678.964\n",
      "2016-12-15 18:19:43.476932 PST | QfOutputMin              -10.9273\n",
      "2016-12-15 18:19:43.478025 PST | TargetQfOutputMean       384.411\n",
      "2016-12-15 18:19:43.479081 PST | TargetQfOutputStd        206.534\n",
      "2016-12-15 18:19:43.480280 PST | TargetQfOutputMax        661.31\n",
      "2016-12-15 18:19:43.481566 PST | TargetQfOutputMin        -11.2108\n",
      "2016-12-15 18:19:43.482428 PST | RewardsMean                9.83382\n",
      "2016-12-15 18:19:43.483470 PST | RewardsStd                 1.26429\n",
      "2016-12-15 18:19:43.484455 PST | RewardsMax                 9.99988\n",
      "2016-12-15 18:19:43.485725 PST | RewardsMin                 0\n",
      "2016-12-15 18:19:43.486733 PST | ReturnsMean              604.78\n",
      "2016-12-15 18:19:43.487846 PST | ReturnsStd               104.977\n",
      "2016-12-15 18:19:43.488826 PST | ReturnsMax               709.757\n",
      "2016-12-15 18:19:43.489848 PST | ReturnsMin               499.803\n",
      "2016-12-15 18:19:43.490624 PST | DiscountedReturnsMean    452.403\n",
      "2016-12-15 18:19:43.491577 PST | DiscountedReturnsStd      57.5535\n",
      "2016-12-15 18:19:43.492474 PST | DiscountedReturnsMax     509.956\n",
      "2016-12-15 18:19:43.493354 PST | DiscountedReturnsMin     394.849\n",
      "2016-12-15 18:19:43.494226 PST | TrainingReturnsMean      599.844\n",
      "2016-12-15 18:19:43.495364 PST | TrainingReturnsStd       309.96\n",
      "2016-12-15 18:19:43.496632 PST | TrainingReturnsMax       909.804\n",
      "2016-12-15 18:19:43.497477 PST | TrainingReturnsMin       289.884\n",
      "2016-12-15 18:19:43.498633 PST | ----------------------  ------------\n",
      "2016-12-15 18:19:43.499678 PST | Epoch #64 | Training started\n"
     ]
    },
    {
     "name": "stderr",
     "output_type": "stream",
     "text": [
      "\n",
      "Total time elapsed: 00:00:00\n"
     ]
    },
    {
     "name": "stdout",
     "output_type": "stream",
     "text": [
      "2016-12-15 18:19:44.080003 PST | Epoch #64 | Training finished. Time: 0.5794069766998291\n",
      "2016-12-15 18:19:44.080837 PST | Epoch #64 | Collecting samples for evaluation\n"
     ]
    },
    {
     "name": "stderr",
     "output_type": "stream",
     "text": [
      "0%                          100%\n",
      "[##############################] | ETA: 00:00:00"
     ]
    },
    {
     "name": "stdout",
     "output_type": "stream",
     "text": [
      "2016-12-15 18:19:44.205960 PST | Epoch #64 | Eval time: 0.12511014938354492\n",
      "2016-12-15 18:19:44.207930 PST | ----------------------  ------------\n",
      "2016-12-15 18:19:44.209012 PST | Epoch                     64\n",
      "2016-12-15 18:19:44.210222 PST | AverageReturn            859.685\n",
      "2016-12-15 18:19:44.211444 PST | PolicySurrogateLoss     -485.631\n",
      "2016-12-15 18:19:44.212306 PST | QfLoss                  1831.07\n",
      "2016-12-15 18:19:44.213242 PST | YsMean                   463.756\n",
      "2016-12-15 18:19:44.214452 PST | YsStd                    200.158\n",
      "2016-12-15 18:19:44.215554 PST | YsMax                    646.993\n",
      "2016-12-15 18:19:44.216757 PST | YsMin                    -17.3254\n",
      "2016-12-15 18:19:44.217798 PST | PolicyOutputMean          -0.0389358\n",
      "2016-12-15 18:19:44.218831 PST | PolicyOutputStd            0.954805\n",
      "2016-12-15 18:19:44.219919 PST | PolicyOutputMax            1\n",
      "2016-12-15 18:19:44.220968 PST | PolicyOutputMin           -1\n",
      "2016-12-15 18:19:44.221896 PST | TargetPolicyOutputMean    -0.0487298\n",
      "2016-12-15 18:19:44.222614 PST | TargetPolicyOutputStd      0.950545\n",
      "2016-12-15 18:19:44.223385 PST | TargetPolicyOutputMax      1\n",
      "2016-12-15 18:19:44.224081 PST | TargetPolicyOutputMin     -1\n",
      "2016-12-15 18:19:44.224994 PST | QfOutputMean             485.631\n",
      "2016-12-15 18:19:44.225740 PST | QfOutputStd              200.747\n",
      "2016-12-15 18:19:44.226550 PST | QfOutputMax              670.22\n",
      "2016-12-15 18:19:44.227369 PST | QfOutputMin              -21.216\n",
      "2016-12-15 18:19:44.228062 PST | TargetQfOutputMean       465.327\n",
      "2016-12-15 18:19:44.228928 PST | TargetQfOutputStd        196.282\n",
      "2016-12-15 18:19:44.230058 PST | TargetQfOutputMax        643.428\n",
      "2016-12-15 18:19:44.230832 PST | TargetQfOutputMin        -27.5809\n",
      "2016-12-15 18:19:44.231508 PST | RewardsMean                9.88144\n",
      "2016-12-15 18:19:44.232208 PST | RewardsStd                 1.06555\n",
      "2016-12-15 18:19:44.232908 PST | RewardsMax                 9.99999\n",
      "2016-12-15 18:19:44.233776 PST | RewardsMin                 0\n",
      "2016-12-15 18:19:44.234472 PST | ReturnsMean              859.685\n",
      "2016-12-15 18:19:44.235285 PST | ReturnsStd                99.9922\n",
      "2016-12-15 18:19:44.236007 PST | ReturnsMax               959.678\n",
      "2016-12-15 18:19:44.236794 PST | ReturnsMin               759.693\n",
      "2016-12-15 18:19:44.237507 PST | DiscountedReturnsMean    576.364\n",
      "2016-12-15 18:19:44.238206 PST | DiscountedReturnsStd      42.4211\n",
      "2016-12-15 18:19:44.238961 PST | DiscountedReturnsMax     618.785\n",
      "2016-12-15 18:19:44.239691 PST | DiscountedReturnsMin     533.943\n",
      "2016-12-15 18:19:44.240477 PST | TrainingReturnsMean      789.676\n",
      "2016-12-15 18:19:44.241340 PST | TrainingReturnsStd         0\n",
      "2016-12-15 18:19:44.242053 PST | TrainingReturnsMax       789.676\n",
      "2016-12-15 18:19:44.242793 PST | TrainingReturnsMin       789.676\n",
      "2016-12-15 18:19:44.243637 PST | ----------------------  ------------\n",
      "2016-12-15 18:19:44.244316 PST | Epoch #65 | Training started\n"
     ]
    },
    {
     "name": "stderr",
     "output_type": "stream",
     "text": [
      "\n",
      "Total time elapsed: 00:00:00\n"
     ]
    },
    {
     "name": "stdout",
     "output_type": "stream",
     "text": [
      "2016-12-15 18:19:45.021061 PST | Epoch #65 | Training finished. Time: 0.7760388851165771\n",
      "2016-12-15 18:19:45.022071 PST | Epoch #65 | Collecting samples for evaluation\n"
     ]
    },
    {
     "name": "stderr",
     "output_type": "stream",
     "text": [
      "0%                          100%\n",
      "[##############################] | ETA: 00:00:00"
     ]
    },
    {
     "name": "stdout",
     "output_type": "stream",
     "text": [
      "2016-12-15 18:19:45.135824 PST | Epoch #65 | Eval time: 0.11374592781066895\n",
      "2016-12-15 18:19:45.137703 PST | ----------------------  ------------\n",
      "2016-12-15 18:19:45.139224 PST | Epoch                     65\n",
      "2016-12-15 18:19:45.140200 PST | AverageReturn           1349.71\n",
      "2016-12-15 18:19:45.141203 PST | PolicySurrogateLoss     -524.672\n",
      "2016-12-15 18:19:45.142196 PST | QfLoss                   946.47\n",
      "2016-12-15 18:19:45.143113 PST | YsMean                   512.302\n",
      "2016-12-15 18:19:45.143956 PST | YsStd                    191.305\n",
      "2016-12-15 18:19:45.145012 PST | YsMax                    687.158\n",
      "2016-12-15 18:19:45.146071 PST | YsMin                      0\n",
      "2016-12-15 18:19:45.147048 PST | PolicyOutputMean           0.0228897\n",
      "2016-12-15 18:19:45.148329 PST | PolicyOutputStd            0.960242\n",
      "2016-12-15 18:19:45.149734 PST | PolicyOutputMax            1\n",
      "2016-12-15 18:19:45.151015 PST | PolicyOutputMin           -1\n",
      "2016-12-15 18:19:45.152242 PST | TargetPolicyOutputMean     0.0418968\n",
      "2016-12-15 18:19:45.153587 PST | TargetPolicyOutputStd      0.953427\n",
      "2016-12-15 18:19:45.154968 PST | TargetPolicyOutputMax      1\n",
      "2016-12-15 18:19:45.156347 PST | TargetPolicyOutputMin     -1\n",
      "2016-12-15 18:19:45.157758 PST | QfOutputMean             524.672\n",
      "2016-12-15 18:19:45.159157 PST | QfOutputStd              191.174\n",
      "2016-12-15 18:19:45.160442 PST | QfOutputMax              701.436\n",
      "2016-12-15 18:19:45.161934 PST | QfOutputMin               65.5024\n",
      "2016-12-15 18:19:45.163859 PST | TargetQfOutputMean       511.964\n",
      "2016-12-15 18:19:45.165509 PST | TargetQfOutputStd        188.237\n",
      "2016-12-15 18:19:45.166534 PST | TargetQfOutputMax        683.999\n",
      "2016-12-15 18:19:45.167826 PST | TargetQfOutputMin         61.4406\n",
      "2016-12-15 18:19:45.168952 PST | RewardsMean                9.92433\n",
      "2016-12-15 18:19:45.170265 PST | RewardsStd                 0.854153\n",
      "2016-12-15 18:19:45.171344 PST | RewardsMax                 9.99997\n",
      "2016-12-15 18:19:45.172394 PST | RewardsMin                 0\n",
      "2016-12-15 18:19:45.173668 PST | ReturnsMean             1349.71\n",
      "2016-12-15 18:19:45.175259 PST | ReturnsStd                 0\n",
      "2016-12-15 18:19:45.176480 PST | ReturnsMax              1349.71\n",
      "2016-12-15 18:19:45.177657 PST | ReturnsMin              1349.71\n",
      "2016-12-15 18:19:45.178766 PST | DiscountedReturnsMean    742.382\n",
      "2016-12-15 18:19:45.180075 PST | DiscountedReturnsStd       0\n",
      "2016-12-15 18:19:45.181206 PST | DiscountedReturnsMax     742.382\n",
      "2016-12-15 18:19:45.182611 PST | DiscountedReturnsMin     742.382\n",
      "2016-12-15 18:19:45.183671 PST | TrainingReturnsMean      479.805\n",
      "2016-12-15 18:19:45.184927 PST | TrainingReturnsStd        49.9669\n",
      "2016-12-15 18:19:45.186006 PST | TrainingReturnsMax       529.772\n",
      "2016-12-15 18:19:45.187314 PST | TrainingReturnsMin       429.839\n",
      "2016-12-15 18:19:45.188296 PST | ----------------------  ------------\n",
      "2016-12-15 18:19:45.189529 PST | Epoch #66 | Training started\n"
     ]
    },
    {
     "name": "stderr",
     "output_type": "stream",
     "text": [
      "\n",
      "Total time elapsed: 00:00:00\n"
     ]
    },
    {
     "name": "stdout",
     "output_type": "stream",
     "text": [
      "2016-12-15 18:19:45.855669 PST | Epoch #66 | Training finished. Time: 0.6649367809295654\n",
      "2016-12-15 18:19:45.856442 PST | Epoch #66 | Collecting samples for evaluation\n"
     ]
    },
    {
     "name": "stderr",
     "output_type": "stream",
     "text": [
      "0%                          100%\n",
      "[##############################] | ETA: 00:00:00"
     ]
    },
    {
     "name": "stdout",
     "output_type": "stream",
     "text": [
      "2016-12-15 18:19:45.993602 PST | Epoch #66 | Eval time: 0.13715004920959473\n",
      "2016-12-15 18:19:45.996599 PST | ----------------------  -------------\n",
      "2016-12-15 18:19:45.997640 PST | Epoch                     66\n",
      "2016-12-15 18:19:45.998613 PST | AverageReturn           1004.72\n",
      "2016-12-15 18:19:45.999954 PST | PolicySurrogateLoss     -506.086\n",
      "2016-12-15 18:19:46.001811 PST | QfLoss                  1575.14\n",
      "2016-12-15 18:19:46.003233 PST | YsMean                   490.616\n",
      "2016-12-15 18:19:46.004090 PST | YsStd                    193.685\n",
      "2016-12-15 18:19:46.005628 PST | YsMax                    686.315\n",
      "2016-12-15 18:19:46.006644 PST | YsMin                      0\n",
      "2016-12-15 18:19:46.007743 PST | PolicyOutputMean           0.00567073\n",
      "2016-12-15 18:19:46.008841 PST | PolicyOutputStd            0.966326\n",
      "2016-12-15 18:19:46.010005 PST | PolicyOutputMax            1\n",
      "2016-12-15 18:19:46.011156 PST | PolicyOutputMin           -1\n",
      "2016-12-15 18:19:46.012352 PST | TargetPolicyOutputMean    -0.0253533\n",
      "2016-12-15 18:19:46.013441 PST | TargetPolicyOutputStd      0.955148\n",
      "2016-12-15 18:19:46.014507 PST | TargetPolicyOutputMax      1\n",
      "2016-12-15 18:19:46.015696 PST | TargetPolicyOutputMin     -1\n",
      "2016-12-15 18:19:46.017274 PST | QfOutputMean             506.086\n",
      "2016-12-15 18:19:46.018745 PST | QfOutputStd              193.195\n",
      "2016-12-15 18:19:46.019778 PST | QfOutputMax              700.303\n",
      "2016-12-15 18:19:46.020635 PST | QfOutputMin               12.0334\n",
      "2016-12-15 18:19:46.021690 PST | TargetQfOutputMean       491.761\n",
      "2016-12-15 18:19:46.022722 PST | TargetQfOutputStd        189.778\n",
      "2016-12-15 18:19:46.023878 PST | TargetQfOutputMax        683.15\n",
      "2016-12-15 18:19:46.024713 PST | TargetQfOutputMin          7.10518\n",
      "2016-12-15 18:19:46.025783 PST | RewardsMean                9.89874\n",
      "2016-12-15 18:19:46.026847 PST | RewardsStd                 0.987414\n",
      "2016-12-15 18:19:46.027923 PST | RewardsMax                 9.99998\n",
      "2016-12-15 18:19:46.029043 PST | RewardsMin                 0\n",
      "2016-12-15 18:19:46.030109 PST | ReturnsMean             1004.72\n",
      "2016-12-15 18:19:46.031197 PST | ReturnsStd               145.004\n",
      "2016-12-15 18:19:46.032042 PST | ReturnsMax              1149.73\n",
      "2016-12-15 18:19:46.033180 PST | ReturnsMin               859.717\n",
      "2016-12-15 18:19:46.034049 PST | DiscountedReturnsMean    631.78\n",
      "2016-12-15 18:19:46.035019 PST | DiscountedReturnsStd      53.2745\n",
      "2016-12-15 18:19:46.036075 PST | DiscountedReturnsMax     685.054\n",
      "2016-12-15 18:19:46.037082 PST | DiscountedReturnsMin     578.505\n",
      "2016-12-15 18:19:46.038105 PST | TrainingReturnsMean      403.254\n",
      "2016-12-15 18:19:46.039124 PST | TrainingReturnsStd       103.386\n",
      "2016-12-15 18:19:46.039875 PST | TrainingReturnsMax       499.923\n",
      "2016-12-15 18:19:46.040664 PST | TrainingReturnsMin       259.923\n",
      "2016-12-15 18:19:46.041342 PST | ----------------------  -------------\n",
      "2016-12-15 18:19:46.042136 PST | Epoch #67 | Training started\n"
     ]
    },
    {
     "name": "stderr",
     "output_type": "stream",
     "text": [
      "\n",
      "Total time elapsed: 00:00:00\n"
     ]
    },
    {
     "name": "stdout",
     "output_type": "stream",
     "text": [
      "2016-12-15 18:19:46.626383 PST | Epoch #67 | Training finished. Time: 0.5834619998931885\n",
      "2016-12-15 18:19:46.627182 PST | Epoch #67 | Collecting samples for evaluation\n"
     ]
    },
    {
     "name": "stderr",
     "output_type": "stream",
     "text": [
      "0%                          100%\n",
      "[##############################] | ETA: 00:00:00"
     ]
    },
    {
     "name": "stdout",
     "output_type": "stream",
     "text": [
      "2016-12-15 18:19:46.716496 PST | Epoch #67 | Eval time: 0.08930587768554688\n",
      "2016-12-15 18:19:46.718453 PST | ----------------------  ------------\n",
      "2016-12-15 18:19:46.719398 PST | Epoch                     67\n",
      "2016-12-15 18:19:46.720094 PST | AverageReturn            644.738\n",
      "2016-12-15 18:19:46.720946 PST | PolicySurrogateLoss     -475.468\n",
      "2016-12-15 18:19:46.721628 PST | QfLoss                  1853.91\n",
      "2016-12-15 18:19:46.722347 PST | YsMean                   450.751\n",
      "2016-12-15 18:19:46.722990 PST | YsStd                    214.172\n",
      "2016-12-15 18:19:46.723851 PST | YsMax                    674.655\n",
      "2016-12-15 18:19:46.724562 PST | YsMin                     -7.51641\n",
      "2016-12-15 18:19:46.725367 PST | PolicyOutputMean          -0.0511834\n",
      "2016-12-15 18:19:46.726214 PST | PolicyOutputStd            0.952141\n",
      "2016-12-15 18:19:46.727147 PST | PolicyOutputMax            1\n",
      "2016-12-15 18:19:46.727808 PST | PolicyOutputMin           -1\n",
      "2016-12-15 18:19:46.728636 PST | TargetPolicyOutputMean    -0.0263039\n",
      "2016-12-15 18:19:46.729379 PST | TargetPolicyOutputStd      0.946135\n",
      "2016-12-15 18:19:46.730085 PST | TargetPolicyOutputMax      1\n",
      "2016-12-15 18:19:46.730801 PST | TargetPolicyOutputMin     -1\n",
      "2016-12-15 18:19:46.731554 PST | QfOutputMean             475.468\n",
      "2016-12-15 18:19:46.732479 PST | QfOutputStd              214.495\n",
      "2016-12-15 18:19:46.733166 PST | QfOutputMax              693.833\n",
      "2016-12-15 18:19:46.733878 PST | QfOutputMin              -14.7583\n",
      "2016-12-15 18:19:46.734746 PST | TargetQfOutputMean       455.204\n",
      "2016-12-15 18:19:46.735563 PST | TargetQfOutputStd        210.1\n",
      "2016-12-15 18:19:46.736546 PST | TargetQfOutputMax        671.369\n",
      "2016-12-15 18:19:46.737232 PST | TargetQfOutputMin        -17.6738\n",
      "2016-12-15 18:19:46.738026 PST | RewardsMean                9.84333\n",
      "2016-12-15 18:19:46.738939 PST | RewardsStd                 1.22565\n",
      "2016-12-15 18:19:46.739630 PST | RewardsMax                 9.99998\n",
      "2016-12-15 18:19:46.740484 PST | RewardsMin                 0\n",
      "2016-12-15 18:19:46.741289 PST | ReturnsMean              644.738\n",
      "2016-12-15 18:19:46.742060 PST | ReturnsStd                45.0053\n",
      "2016-12-15 18:19:46.742745 PST | ReturnsMax               689.744\n",
      "2016-12-15 18:19:46.743576 PST | ReturnsMin               599.733\n",
      "2016-12-15 18:19:46.744288 PST | DiscountedReturnsMean    476.334\n",
      "2016-12-15 18:19:46.744967 PST | DiscountedReturnsStd      23.6697\n",
      "2016-12-15 18:19:46.745593 PST | DiscountedReturnsMax     500.003\n",
      "2016-12-15 18:19:46.746341 PST | DiscountedReturnsMin     452.664\n",
      "2016-12-15 18:19:46.747463 PST | ----------------------  ------------\n",
      "2016-12-15 18:19:46.748445 PST | Epoch #68 | Training started\n"
     ]
    },
    {
     "name": "stderr",
     "output_type": "stream",
     "text": [
      "\n",
      "Total time elapsed: 00:00:00\n"
     ]
    },
    {
     "name": "stdout",
     "output_type": "stream",
     "text": [
      "2016-12-15 18:19:47.510520 PST | Epoch #68 | Training finished. Time: 0.7609021663665771\n",
      "2016-12-15 18:19:47.511376 PST | Epoch #68 | Collecting samples for evaluation\n"
     ]
    },
    {
     "name": "stderr",
     "output_type": "stream",
     "text": [
      "0%                          100%\n",
      "[##############################] | ETA: 00:00:00"
     ]
    },
    {
     "name": "stdout",
     "output_type": "stream",
     "text": [
      "2016-12-15 18:19:47.586302 PST | Epoch #68 | Eval time: 0.07491683959960938\n",
      "2016-12-15 18:19:47.588377 PST | ----------------------  ------------\n",
      "2016-12-15 18:19:47.589464 PST | Epoch                     68\n",
      "2016-12-15 18:19:47.590460 PST | AverageReturn            604.788\n",
      "2016-12-15 18:19:47.591393 PST | PolicySurrogateLoss     -501.227\n",
      "2016-12-15 18:19:47.592429 PST | QfLoss                  2966.2\n",
      "2016-12-15 18:19:47.593686 PST | YsMean                   474.021\n",
      "2016-12-15 18:19:47.594806 PST | YsStd                    196.813\n",
      "2016-12-15 18:19:47.595870 PST | YsMax                    690.137\n",
      "2016-12-15 18:19:47.598137 PST | YsMin                      0\n",
      "2016-12-15 18:19:47.600702 PST | PolicyOutputMean          -0.0323782\n",
      "2016-12-15 18:19:47.602773 PST | PolicyOutputStd            0.966946\n",
      "2016-12-15 18:19:47.604434 PST | PolicyOutputMax            1\n",
      "2016-12-15 18:19:47.605648 PST | PolicyOutputMin           -1\n",
      "2016-12-15 18:19:47.607299 PST | TargetPolicyOutputMean    -0.0410571\n",
      "2016-12-15 18:19:47.608452 PST | TargetPolicyOutputStd      0.959597\n",
      "2016-12-15 18:19:47.609516 PST | TargetPolicyOutputMax      1\n",
      "2016-12-15 18:19:47.610673 PST | TargetPolicyOutputMin     -1\n",
      "2016-12-15 18:19:47.611533 PST | QfOutputMean             501.227\n",
      "2016-12-15 18:19:47.612717 PST | QfOutputStd              190.195\n",
      "2016-12-15 18:19:47.613719 PST | QfOutputMax              711.489\n",
      "2016-12-15 18:19:47.614868 PST | QfOutputMin               21.3829\n",
      "2016-12-15 18:19:47.615815 PST | TargetQfOutputMean       479.59\n",
      "2016-12-15 18:19:47.617151 PST | TargetQfOutputStd        190.43\n",
      "2016-12-15 18:19:47.618330 PST | TargetQfOutputMax        687.008\n",
      "2016-12-15 18:19:47.619344 PST | TargetQfOutputMin          5.65491\n",
      "2016-12-15 18:19:47.620378 PST | RewardsMean                9.83396\n",
      "2016-12-15 18:19:47.621353 PST | RewardsStd                 1.26431\n",
      "2016-12-15 18:19:47.622295 PST | RewardsMax                 9.99985\n",
      "2016-12-15 18:19:47.623103 PST | RewardsMin                 0\n",
      "2016-12-15 18:19:47.624152 PST | ReturnsMean              604.788\n",
      "2016-12-15 18:19:47.625037 PST | ReturnsStd                85.0091\n",
      "2016-12-15 18:19:47.626059 PST | ReturnsMax               689.797\n",
      "2016-12-15 18:19:47.627265 PST | ReturnsMin               519.779\n",
      "2016-12-15 18:19:47.628163 PST | DiscountedReturnsMean    453.446\n",
      "2016-12-15 18:19:47.629169 PST | DiscountedReturnsStd      46.5865\n",
      "2016-12-15 18:19:47.630494 PST | DiscountedReturnsMax     500.032\n",
      "2016-12-15 18:19:47.631484 PST | DiscountedReturnsMin     406.859\n",
      "2016-12-15 18:19:47.632338 PST | TrainingReturnsMean      959.768\n",
      "2016-12-15 18:19:47.633367 PST | TrainingReturnsStd       209.986\n",
      "2016-12-15 18:19:47.634195 PST | TrainingReturnsMax      1169.75\n",
      "2016-12-15 18:19:47.635391 PST | TrainingReturnsMin       749.783\n",
      "2016-12-15 18:19:47.636590 PST | ----------------------  ------------\n",
      "2016-12-15 18:19:47.637693 PST | Epoch #69 | Training started\n"
     ]
    },
    {
     "name": "stderr",
     "output_type": "stream",
     "text": [
      "\n",
      "Total time elapsed: 00:00:00\n"
     ]
    },
    {
     "name": "stdout",
     "output_type": "stream",
     "text": [
      "2016-12-15 18:19:48.215376 PST | Epoch #69 | Training finished. Time: 0.5767920017242432\n",
      "2016-12-15 18:19:48.216487 PST | Epoch #69 | Collecting samples for evaluation\n"
     ]
    },
    {
     "name": "stderr",
     "output_type": "stream",
     "text": [
      "0%                          100%\n",
      "[##############################] | ETA: 00:00:00"
     ]
    },
    {
     "name": "stdout",
     "output_type": "stream",
     "text": [
      "2016-12-15 18:19:48.321408 PST | Epoch #69 | Eval time: 0.10488104820251465\n",
      "2016-12-15 18:19:48.324292 PST | ----------------------  -------------\n",
      "2016-12-15 18:19:48.326960 PST | Epoch                     69\n",
      "2016-12-15 18:19:48.330285 PST | AverageReturn            724.779\n",
      "2016-12-15 18:19:48.332349 PST | PolicySurrogateLoss     -479.498\n",
      "2016-12-15 18:19:48.335433 PST | QfLoss                  1366.07\n",
      "2016-12-15 18:19:48.338224 PST | YsMean                   461.199\n",
      "2016-12-15 18:19:48.339340 PST | YsStd                    216.516\n",
      "2016-12-15 18:19:48.340084 PST | YsMax                    724.327\n",
      "2016-12-15 18:19:48.340838 PST | YsMin                      0\n",
      "2016-12-15 18:19:48.341703 PST | PolicyOutputMean           0.00531963\n",
      "2016-12-15 18:19:48.342737 PST | PolicyOutputStd            0.974683\n",
      "2016-12-15 18:19:48.343609 PST | PolicyOutputMax            1\n",
      "2016-12-15 18:19:48.344308 PST | PolicyOutputMin           -1\n",
      "2016-12-15 18:19:48.345152 PST | TargetPolicyOutputMean    -0.0160174\n",
      "2016-12-15 18:19:48.345846 PST | TargetPolicyOutputStd      0.965611\n",
      "2016-12-15 18:19:48.346637 PST | TargetPolicyOutputMax      1\n",
      "2016-12-15 18:19:48.347620 PST | TargetPolicyOutputMin     -1\n",
      "2016-12-15 18:19:48.349154 PST | QfOutputMean             479.498\n",
      "2016-12-15 18:19:48.351408 PST | QfOutputStd              216.784\n",
      "2016-12-15 18:19:48.352708 PST | QfOutputMax              735.235\n",
      "2016-12-15 18:19:48.353887 PST | QfOutputMin               11.0656\n",
      "2016-12-15 18:19:48.355317 PST | TargetQfOutputMean       465.069\n",
      "2016-12-15 18:19:48.356624 PST | TargetQfOutputStd        213.166\n",
      "2016-12-15 18:19:48.357657 PST | TargetQfOutputMax        721.549\n",
      "2016-12-15 18:19:48.358808 PST | TargetQfOutputMin          6.05837\n",
      "2016-12-15 18:19:48.359762 PST | RewardsMean                9.86094\n",
      "2016-12-15 18:19:48.360811 PST | RewardsStd                 1.15811\n",
      "2016-12-15 18:19:48.361963 PST | RewardsMax                 9.99965\n",
      "2016-12-15 18:19:48.363053 PST | RewardsMin                 0\n",
      "2016-12-15 18:19:48.364120 PST | ReturnsMean              724.779\n",
      "2016-12-15 18:19:48.365268 PST | ReturnsStd               144.977\n",
      "2016-12-15 18:19:48.366268 PST | ReturnsMax               869.756\n",
      "2016-12-15 18:19:48.367216 PST | ReturnsMin               579.803\n",
      "2016-12-15 18:19:48.368656 PST | DiscountedReturnsMean    512.163\n",
      "2016-12-15 18:19:48.370057 PST | DiscountedReturnsStd      70.5645\n",
      "2016-12-15 18:19:48.371455 PST | DiscountedReturnsMax     582.728\n",
      "2016-12-15 18:19:48.372742 PST | DiscountedReturnsMin     441.599\n",
      "2016-12-15 18:19:48.374193 PST | TrainingReturnsMean      309.902\n",
      "2016-12-15 18:19:48.377054 PST | TrainingReturnsStd       225.488\n",
      "2016-12-15 18:19:48.379889 PST | TrainingReturnsMax       569.857\n",
      "2016-12-15 18:19:48.382791 PST | TrainingReturnsMin        19.9718\n",
      "2016-12-15 18:19:48.385843 PST | ----------------------  -------------\n",
      "2016-12-15 18:19:48.388725 PST | Epoch #70 | Training started\n"
     ]
    },
    {
     "name": "stderr",
     "output_type": "stream",
     "text": [
      "\n",
      "Total time elapsed: 00:00:00\n"
     ]
    },
    {
     "name": "stdout",
     "output_type": "stream",
     "text": [
      "2016-12-15 18:19:49.003696 PST | Epoch #70 | Training finished. Time: 0.613426923751831\n",
      "2016-12-15 18:19:49.004718 PST | Epoch #70 | Collecting samples for evaluation\n"
     ]
    },
    {
     "name": "stderr",
     "output_type": "stream",
     "text": [
      "0%                          100%\n",
      "[##############################] | ETA: 00:00:00"
     ]
    },
    {
     "name": "stdout",
     "output_type": "stream",
     "text": [
      "2016-12-15 18:19:49.133124 PST | Epoch #70 | Eval time: 0.1284010410308838\n",
      "2016-12-15 18:19:49.134823 PST | ----------------------  ------------\n",
      "2016-12-15 18:19:49.135553 PST | Epoch                     70\n",
      "2016-12-15 18:19:49.136412 PST | AverageReturn            849.712\n",
      "2016-12-15 18:19:49.137140 PST | PolicySurrogateLoss     -563.987\n",
      "2016-12-15 18:19:49.137835 PST | QfLoss                  2092.36\n",
      "2016-12-15 18:19:49.138559 PST | YsMean                   544.675\n",
      "2016-12-15 18:19:49.139238 PST | YsStd                    212.862\n",
      "2016-12-15 18:19:49.139989 PST | YsMax                    738.389\n",
      "2016-12-15 18:19:49.140727 PST | YsMin                      0\n",
      "2016-12-15 18:19:49.141440 PST | PolicyOutputMean          -0.0331187\n",
      "2016-12-15 18:19:49.142174 PST | PolicyOutputStd            0.959573\n",
      "2016-12-15 18:19:49.142890 PST | PolicyOutputMax            1\n",
      "2016-12-15 18:19:49.143529 PST | PolicyOutputMin           -1\n",
      "2016-12-15 18:19:49.144339 PST | TargetPolicyOutputMean    -0.0365686\n",
      "2016-12-15 18:19:49.145025 PST | TargetPolicyOutputStd      0.951929\n",
      "2016-12-15 18:19:49.145847 PST | TargetPolicyOutputMax      1\n",
      "2016-12-15 18:19:49.146510 PST | TargetPolicyOutputMin     -1\n",
      "2016-12-15 18:19:49.147312 PST | QfOutputMean             563.987\n",
      "2016-12-15 18:19:49.148254 PST | QfOutputStd              210.817\n",
      "2016-12-15 18:19:49.149177 PST | QfOutputMax              746.535\n",
      "2016-12-15 18:19:49.150113 PST | QfOutputMin                8.21849\n",
      "2016-12-15 18:19:49.150972 PST | TargetQfOutputMean       548.202\n",
      "2016-12-15 18:19:49.151824 PST | TargetQfOutputStd        207.121\n",
      "2016-12-15 18:19:49.153016 PST | TargetQfOutputMax        735.748\n",
      "2016-12-15 18:19:49.153924 PST | TargetQfOutputMin          6.22574\n",
      "2016-12-15 18:19:49.155059 PST | RewardsMean                9.88038\n",
      "2016-12-15 18:19:49.156234 PST | RewardsStd                 1.07169\n",
      "2016-12-15 18:19:49.157498 PST | RewardsMax                 9.99998\n",
      "2016-12-15 18:19:49.158756 PST | RewardsMin                 0\n",
      "2016-12-15 18:19:49.159890 PST | ReturnsMean              849.712\n",
      "2016-12-15 18:19:49.161009 PST | ReturnsStd               110.002\n",
      "2016-12-15 18:19:49.162499 PST | ReturnsMax               959.714\n",
      "2016-12-15 18:19:49.163608 PST | ReturnsMin               739.711\n",
      "2016-12-15 18:19:49.165300 PST | DiscountedReturnsMean    571.646\n",
      "2016-12-15 18:19:49.166125 PST | DiscountedReturnsStd      47.1592\n",
      "2016-12-15 18:19:49.167143 PST | DiscountedReturnsMax     618.805\n",
      "2016-12-15 18:19:49.168261 PST | DiscountedReturnsMin     524.487\n",
      "2016-12-15 18:19:49.169370 PST | TrainingReturnsMean      679.721\n",
      "2016-12-15 18:19:49.170220 PST | TrainingReturnsStd         0\n",
      "2016-12-15 18:19:49.171090 PST | TrainingReturnsMax       679.721\n",
      "2016-12-15 18:19:49.171900 PST | TrainingReturnsMin       679.721\n",
      "2016-12-15 18:19:49.172885 PST | ----------------------  ------------\n",
      "2016-12-15 18:19:49.173947 PST | Epoch #71 | Training started\n"
     ]
    },
    {
     "name": "stderr",
     "output_type": "stream",
     "text": [
      "\n",
      "Total time elapsed: 00:00:00\n"
     ]
    },
    {
     "name": "stdout",
     "output_type": "stream",
     "text": [
      "2016-12-15 18:19:49.796564 PST | Epoch #71 | Training finished. Time: 0.6214399337768555\n",
      "2016-12-15 18:19:49.797358 PST | Epoch #71 | Collecting samples for evaluation\n"
     ]
    },
    {
     "name": "stderr",
     "output_type": "stream",
     "text": [
      "0%                          100%\n",
      "[##############################] | ETA: 00:00:00"
     ]
    },
    {
     "name": "stdout",
     "output_type": "stream",
     "text": [
      "2016-12-15 18:19:49.925210 PST | Epoch #71 | Eval time: 0.12784290313720703\n",
      "2016-12-15 18:19:49.926950 PST | ----------------------  -------------\n",
      "2016-12-15 18:19:49.927654 PST | Epoch                     71\n",
      "2016-12-15 18:19:49.928481 PST | AverageReturn            879.712\n",
      "2016-12-15 18:19:49.929148 PST | PolicySurrogateLoss     -558.633\n",
      "2016-12-15 18:19:49.930050 PST | QfLoss                  2256.85\n",
      "2016-12-15 18:19:49.931213 PST | YsMean                   547.079\n",
      "2016-12-15 18:19:49.932275 PST | YsStd                    217.598\n",
      "2016-12-15 18:19:49.932973 PST | YsMax                    746.948\n",
      "2016-12-15 18:19:49.934015 PST | YsMin                      0\n",
      "2016-12-15 18:19:49.934756 PST | PolicyOutputMean          -0.0353734\n",
      "2016-12-15 18:19:49.935599 PST | PolicyOutputStd            0.961295\n",
      "2016-12-15 18:19:49.936338 PST | PolicyOutputMax            1\n",
      "2016-12-15 18:19:49.937037 PST | PolicyOutputMin           -1\n",
      "2016-12-15 18:19:49.937788 PST | TargetPolicyOutputMean     0.00921124\n",
      "2016-12-15 18:19:49.938921 PST | TargetPolicyOutputStd      0.951809\n",
      "2016-12-15 18:19:49.939811 PST | TargetPolicyOutputMax      1\n",
      "2016-12-15 18:19:49.940549 PST | TargetPolicyOutputMin     -1\n",
      "2016-12-15 18:19:49.941501 PST | QfOutputMean             558.633\n",
      "2016-12-15 18:19:49.942379 PST | QfOutputStd              215.171\n",
      "2016-12-15 18:19:49.943146 PST | QfOutputMax              758.289\n",
      "2016-12-15 18:19:49.943848 PST | QfOutputMin               -3.5632\n",
      "2016-12-15 18:19:49.944771 PST | TargetQfOutputMean       550.499\n",
      "2016-12-15 18:19:49.945608 PST | TargetQfOutputStd        212.359\n",
      "2016-12-15 18:19:49.946227 PST | TargetQfOutputMax        744.393\n",
      "2016-12-15 18:19:49.947142 PST | TargetQfOutputMin         -5.33293\n",
      "2016-12-15 18:19:49.948411 PST | RewardsMean                9.8844\n",
      "2016-12-15 18:19:49.949294 PST | RewardsStd                 1.05369\n",
      "2016-12-15 18:19:49.950256 PST | RewardsMax                 9.99989\n",
      "2016-12-15 18:19:49.951167 PST | RewardsMin                 0\n",
      "2016-12-15 18:19:49.952309 PST | ReturnsMean              879.712\n",
      "2016-12-15 18:19:49.953426 PST | ReturnsStd                69.9834\n",
      "2016-12-15 18:19:49.954378 PST | ReturnsMax               949.695\n",
      "2016-12-15 18:19:49.955546 PST | ReturnsMin               809.728\n",
      "2016-12-15 18:19:49.956550 PST | DiscountedReturnsMean    585.866\n",
      "2016-12-15 18:19:49.957514 PST | DiscountedReturnsStd      29.0793\n",
      "2016-12-15 18:19:49.958534 PST | DiscountedReturnsMax     614.946\n",
      "2016-12-15 18:19:49.959626 PST | DiscountedReturnsMin     556.787\n",
      "2016-12-15 18:19:49.960517 PST | TrainingReturnsMean      429.901\n",
      "2016-12-15 18:19:49.961609 PST | TrainingReturnsStd       419.922\n",
      "2016-12-15 18:19:49.962695 PST | TrainingReturnsMax       849.823\n",
      "2016-12-15 18:19:49.963588 PST | TrainingReturnsMin         9.97923\n",
      "2016-12-15 18:19:49.964488 PST | ----------------------  -------------\n",
      "2016-12-15 18:19:49.965523 PST | Epoch #72 | Training started\n"
     ]
    },
    {
     "name": "stderr",
     "output_type": "stream",
     "text": [
      "\n",
      "Total time elapsed: 00:00:00\n"
     ]
    },
    {
     "name": "stdout",
     "output_type": "stream",
     "text": [
      "2016-12-15 18:19:50.696346 PST | Epoch #72 | Training finished. Time: 0.7297089099884033\n",
      "2016-12-15 18:19:50.701291 PST | Epoch #72 | Collecting samples for evaluation\n"
     ]
    },
    {
     "name": "stderr",
     "output_type": "stream",
     "text": [
      "0%                          100%\n",
      "[##############################] | ETA: 00:00:00"
     ]
    },
    {
     "name": "stdout",
     "output_type": "stream",
     "text": [
      "2016-12-15 18:19:51.005355 PST | Epoch #72 | Eval time: 0.30414509773254395\n",
      "2016-12-15 18:19:51.007939 PST | ----------------------  ------------\n",
      "2016-12-15 18:19:51.008911 PST | Epoch                     72\n",
      "2016-12-15 18:19:51.010756 PST | AverageReturn            909.721\n",
      "2016-12-15 18:19:51.012345 PST | PolicySurrogateLoss     -573.064\n",
      "2016-12-15 18:19:51.013979 PST | QfLoss                  2370.74\n",
      "2016-12-15 18:19:51.015287 PST | YsMean                   547.578\n",
      "2016-12-15 18:19:51.016803 PST | YsStd                    221.391\n",
      "2016-12-15 18:19:51.019675 PST | YsMax                    768.012\n",
      "2016-12-15 18:19:51.021157 PST | YsMin                      0\n",
      "2016-12-15 18:19:51.022476 PST | PolicyOutputMean          -0.0341104\n",
      "2016-12-15 18:19:51.023376 PST | PolicyOutputStd            0.954364\n",
      "2016-12-15 18:19:51.024701 PST | PolicyOutputMax            1\n",
      "2016-12-15 18:19:51.025472 PST | PolicyOutputMin           -1\n",
      "2016-12-15 18:19:51.026305 PST | TargetPolicyOutputMean     0.0918156\n",
      "2016-12-15 18:19:51.027227 PST | TargetPolicyOutputStd      0.935619\n",
      "2016-12-15 18:19:51.028097 PST | TargetPolicyOutputMax      1\n"
     ]
    },
    {
     "name": "stderr",
     "output_type": "stream",
     "text": [
      "\n",
      "Total time elapsed: 00:00:00\n"
     ]
    },
    {
     "name": "stdout",
     "output_type": "stream",
     "text": [
      "2016-12-15 18:19:51.028909 PST | TargetPolicyOutputMin     -1\n",
      "2016-12-15 18:19:51.030286 PST | QfOutputMean             573.064\n",
      "2016-12-15 18:19:51.031336 PST | QfOutputStd              217.022\n",
      "2016-12-15 18:19:51.032221 PST | QfOutputMax              787.819\n",
      "2016-12-15 18:19:51.033140 PST | QfOutputMin                4.61881\n",
      "2016-12-15 18:19:51.034162 PST | TargetQfOutputMean       550.848\n",
      "2016-12-15 18:19:51.035097 PST | TargetQfOutputStd        216.627\n",
      "2016-12-15 18:19:51.036223 PST | TargetQfOutputMax        765.669\n",
      "2016-12-15 18:19:51.037299 PST | TargetQfOutputMin         -4.59347\n",
      "2016-12-15 18:19:51.038506 PST | RewardsMean                9.88827\n",
      "2016-12-15 18:19:51.039576 PST | RewardsStd                 1.03658\n",
      "2016-12-15 18:19:51.040455 PST | RewardsMax                 9.99997\n",
      "2016-12-15 18:19:51.041573 PST | RewardsMin                 0\n",
      "2016-12-15 18:19:51.042762 PST | ReturnsMean              909.721\n",
      "2016-12-15 18:19:51.044049 PST | ReturnsStd               259.95\n",
      "2016-12-15 18:19:51.045051 PST | ReturnsMax              1169.67\n",
      "2016-12-15 18:19:51.046030 PST | ReturnsMin               649.771\n",
      "2016-12-15 18:19:51.046737 PST | DiscountedReturnsMean    585.408\n",
      "2016-12-15 18:19:51.047982 PST | DiscountedReturnsStd     105.9\n",
      "2016-12-15 18:19:51.049569 PST | DiscountedReturnsMax     691.308\n",
      "2016-12-15 18:19:51.050827 PST | DiscountedReturnsMin     479.507\n",
      "2016-12-15 18:19:51.052071 PST | TrainingReturnsMean      659.832\n",
      "2016-12-15 18:19:51.054296 PST | TrainingReturnsStd       379.937\n",
      "2016-12-15 18:19:51.055699 PST | TrainingReturnsMax      1039.77\n",
      "2016-12-15 18:19:51.057360 PST | TrainingReturnsMin       279.895\n",
      "2016-12-15 18:19:51.058778 PST | ----------------------  ------------\n",
      "2016-12-15 18:19:51.060523 PST | Epoch #73 | Training started\n",
      "2016-12-15 18:19:51.881426 PST | Epoch #73 | Training finished. Time: 0.8197920322418213\n",
      "2016-12-15 18:19:51.882282 PST | Epoch #73 | Collecting samples for evaluation\n"
     ]
    },
    {
     "name": "stderr",
     "output_type": "stream",
     "text": [
      "0%                          100%\n",
      "[##############################] | ETA: 00:00:00"
     ]
    },
    {
     "name": "stdout",
     "output_type": "stream",
     "text": [
      "2016-12-15 18:19:51.973919 PST | Epoch #73 | Eval time: 0.09162688255310059\n",
      "2016-12-15 18:19:51.975619 PST | ----------------------  ------------\n",
      "2016-12-15 18:19:51.976371 PST | Epoch                     73\n",
      "2016-12-15 18:19:51.977366 PST | AverageReturn            399.842\n",
      "2016-12-15 18:19:51.978065 PST | PolicySurrogateLoss     -501.112\n",
      "2016-12-15 18:19:51.978950 PST | QfLoss                  6138.49\n",
      "2016-12-15 18:19:51.979689 PST | YsMean                   466.855\n",
      "2016-12-15 18:19:51.980440 PST | YsStd                    244.574\n",
      "2016-12-15 18:19:51.981218 PST | YsMax                    761.427\n",
      "2016-12-15 18:19:51.982003 PST | YsMin                      0\n",
      "2016-12-15 18:19:51.982717 PST | PolicyOutputMean          -0.0637487\n",
      "2016-12-15 18:19:51.983790 PST | PolicyOutputStd            0.964931\n",
      "2016-12-15 18:19:51.984520 PST | PolicyOutputMax            1\n",
      "2016-12-15 18:19:51.985688 PST | PolicyOutputMin           -1\n",
      "2016-12-15 18:19:51.986614 PST | TargetPolicyOutputMean    -0.0349311\n",
      "2016-12-15 18:19:51.987486 PST | TargetPolicyOutputStd      0.969758\n",
      "2016-12-15 18:19:51.988225 PST | TargetPolicyOutputMax      1\n",
      "2016-12-15 18:19:51.989121 PST | TargetPolicyOutputMin     -1\n",
      "2016-12-15 18:19:51.990134 PST | QfOutputMean             501.112\n",
      "2016-12-15 18:19:51.990843 PST | QfOutputStd              240.421\n",
      "2016-12-15 18:19:51.991714 PST | QfOutputMax              778.531\n",
      "2016-12-15 18:19:51.992561 PST | QfOutputMin                2.78016\n",
      "2016-12-15 18:19:51.993250 PST | TargetQfOutputMean       479.32\n",
      "2016-12-15 18:19:51.994005 PST | TargetQfOutputStd        238.617\n",
      "2016-12-15 18:19:51.994678 PST | TargetQfOutputMax        759.019\n",
      "2016-12-15 18:19:51.995549 PST | TargetQfOutputMin         -4.45095\n",
      "2016-12-15 18:19:51.996403 PST | RewardsMean                9.75225\n",
      "2016-12-15 18:19:51.997236 PST | RewardsStd                 1.54197\n",
      "2016-12-15 18:19:51.998713 PST | RewardsMax                 9.99951\n",
      "2016-12-15 18:19:51.999958 PST | RewardsMin                 0\n",
      "2016-12-15 18:19:52.001995 PST | ReturnsMean              399.842\n",
      "2016-12-15 18:19:52.002991 PST | ReturnsStd               283.203\n",
      "2016-12-15 18:19:52.005051 PST | ReturnsMax               619.77\n",
      "2016-12-15 18:19:52.006730 PST | ReturnsMin                 0\n",
      "2016-12-15 18:19:52.008124 PST | DiscountedReturnsMean    301.715\n",
      "2016-12-15 18:19:52.009385 PST | DiscountedReturnsStd     213.534\n",
      "2016-12-15 18:19:52.010712 PST | DiscountedReturnsMax     463.581\n",
      "2016-12-15 18:19:52.012075 PST | DiscountedReturnsMin       0\n",
      "2016-12-15 18:19:52.013720 PST | TrainingReturnsMean      459.846\n",
      "2016-12-15 18:19:52.015276 PST | TrainingReturnsStd       409.927\n",
      "2016-12-15 18:19:52.016613 PST | TrainingReturnsMax       869.773\n",
      "2016-12-15 18:19:52.017765 PST | TrainingReturnsMin        49.9193\n",
      "2016-12-15 18:19:52.019784 PST | ----------------------  ------------\n",
      "2016-12-15 18:19:52.021502 PST | Epoch #74 | Training started\n"
     ]
    },
    {
     "name": "stderr",
     "output_type": "stream",
     "text": [
      "\n",
      "Total time elapsed: 00:00:00\n"
     ]
    },
    {
     "name": "stdout",
     "output_type": "stream",
     "text": [
      "2016-12-15 18:19:52.737559 PST | Epoch #74 | Training finished. Time: 0.7145888805389404\n",
      "2016-12-15 18:19:52.738427 PST | Epoch #74 | Collecting samples for evaluation\n"
     ]
    },
    {
     "name": "stderr",
     "output_type": "stream",
     "text": [
      "0%                          100%\n",
      "[##############################] | ETA: 00:00:00"
     ]
    },
    {
     "name": "stdout",
     "output_type": "stream",
     "text": [
      "2016-12-15 18:19:52.827049 PST | Epoch #74 | Eval time: 0.08861184120178223\n",
      "2016-12-15 18:19:52.828914 PST | ----------------------  ------------\n",
      "2016-12-15 18:19:52.829867 PST | Epoch                     74\n",
      "2016-12-15 18:19:52.831046 PST | AverageReturn           1349.74\n",
      "2016-12-15 18:19:52.832143 PST | PolicySurrogateLoss     -615.289\n",
      "2016-12-15 18:19:52.833195 PST | QfLoss                   967.169\n",
      "2016-12-15 18:19:52.834486 PST | YsMean                   599.508\n",
      "2016-12-15 18:19:52.835403 PST | YsStd                    228.354\n",
      "2016-12-15 18:19:52.836403 PST | YsMax                    812.75\n",
      "2016-12-15 18:19:52.837653 PST | YsMin                      0\n",
      "2016-12-15 18:19:52.838790 PST | PolicyOutputMean           0.0184443\n",
      "2016-12-15 18:19:52.840026 PST | PolicyOutputStd            0.960603\n",
      "2016-12-15 18:19:52.841245 PST | PolicyOutputMax            1\n",
      "2016-12-15 18:19:52.842630 PST | PolicyOutputMin           -1\n",
      "2016-12-15 18:19:52.845426 PST | TargetPolicyOutputMean    -0.0303456\n",
      "2016-12-15 18:19:52.847971 PST | TargetPolicyOutputStd      0.953443\n",
      "2016-12-15 18:19:52.850806 PST | TargetPolicyOutputMax      1\n",
      "2016-12-15 18:19:52.853186 PST | TargetPolicyOutputMin     -1\n",
      "2016-12-15 18:19:52.855952 PST | QfOutputMean             615.289\n",
      "2016-12-15 18:19:52.857405 PST | QfOutputStd              229.856\n",
      "2016-12-15 18:19:52.858246 PST | QfOutputMax              826.859\n",
      "2016-12-15 18:19:52.859088 PST | QfOutputMin               92.5318\n",
      "2016-12-15 18:19:52.860523 PST | TargetQfOutputMean       600.968\n",
      "2016-12-15 18:19:52.862717 PST | TargetQfOutputStd        225.005\n",
      "2016-12-15 18:19:52.864677 PST | TargetQfOutputMax        810.863\n",
      "2016-12-15 18:19:52.867322 PST | TargetQfOutputMin         87.032\n",
      "2016-12-15 18:19:52.868785 PST | RewardsMean                9.92456\n",
      "2016-12-15 18:19:52.870306 PST | RewardsStd                 0.854172\n",
      "2016-12-15 18:19:52.871605 PST | RewardsMax                 9.99989\n",
      "2016-12-15 18:19:52.872665 PST | RewardsMin                 0\n",
      "2016-12-15 18:19:52.874195 PST | ReturnsMean             1349.74\n",
      "2016-12-15 18:19:52.875119 PST | ReturnsStd                 0\n",
      "2016-12-15 18:19:52.876034 PST | ReturnsMax              1349.74\n",
      "2016-12-15 18:19:52.877125 PST | ReturnsMin              1349.74\n",
      "2016-12-15 18:19:52.878223 PST | DiscountedReturnsMean    742.386\n",
      "2016-12-15 18:19:52.879339 PST | DiscountedReturnsStd       0\n",
      "2016-12-15 18:19:52.880484 PST | DiscountedReturnsMax     742.386\n",
      "2016-12-15 18:19:52.881583 PST | DiscountedReturnsMin     742.386\n",
      "2016-12-15 18:19:52.882827 PST | TrainingReturnsMean      629.748\n",
      "2016-12-15 18:19:52.883898 PST | TrainingReturnsStd        59.9091\n",
      "2016-12-15 18:19:52.884723 PST | TrainingReturnsMax       689.657\n",
      "2016-12-15 18:19:52.885845 PST | TrainingReturnsMin       569.839\n",
      "2016-12-15 18:19:52.886901 PST | ----------------------  ------------\n",
      "2016-12-15 18:19:52.888034 PST | Epoch #75 | Training started\n"
     ]
    },
    {
     "name": "stderr",
     "output_type": "stream",
     "text": [
      "\n",
      "Total time elapsed: 00:00:00\n"
     ]
    },
    {
     "name": "stdout",
     "output_type": "stream",
     "text": [
      "2016-12-15 18:19:53.554010 PST | Epoch #75 | Training finished. Time: 0.6649370193481445\n",
      "2016-12-15 18:19:53.554866 PST | Epoch #75 | Collecting samples for evaluation\n"
     ]
    },
    {
     "name": "stderr",
     "output_type": "stream",
     "text": [
      "0%                          100%\n",
      "[##############################] | ETA: 00:00:00"
     ]
    },
    {
     "name": "stdout",
     "output_type": "stream",
     "text": [
      "2016-12-15 18:19:53.672533 PST | Epoch #75 | Eval time: 0.11765503883361816\n",
      "2016-12-15 18:19:53.674439 PST | ----------------------  ------------\n",
      "2016-12-15 18:19:53.675321 PST | Epoch                     75\n",
      "2016-12-15 18:19:53.676411 PST | AverageReturn            819.72\n",
      "2016-12-15 18:19:53.677607 PST | PolicySurrogateLoss     -566.143\n",
      "2016-12-15 18:19:53.678541 PST | QfLoss                  1910.68\n",
      "2016-12-15 18:19:53.679399 PST | YsMean                   558.21\n",
      "2016-12-15 18:19:53.680199 PST | YsStd                    244.478\n",
      "2016-12-15 18:19:53.681336 PST | YsMax                    802.727\n",
      "2016-12-15 18:19:53.682433 PST | YsMin                      0\n",
      "2016-12-15 18:19:53.683706 PST | PolicyOutputMean          -0.0389184\n",
      "2016-12-15 18:19:53.684499 PST | PolicyOutputStd            0.968916\n",
      "2016-12-15 18:19:53.685411 PST | PolicyOutputMax            1\n",
      "2016-12-15 18:19:53.686523 PST | PolicyOutputMin           -1\n",
      "2016-12-15 18:19:53.687631 PST | TargetPolicyOutputMean    -0.0326025\n",
      "2016-12-15 18:19:53.688736 PST | TargetPolicyOutputStd      0.960921\n",
      "2016-12-15 18:19:53.689554 PST | TargetPolicyOutputMax      1\n",
      "2016-12-15 18:19:53.690771 PST | TargetPolicyOutputMin     -1\n",
      "2016-12-15 18:19:53.691942 PST | QfOutputMean             566.143\n",
      "2016-12-15 18:19:53.693015 PST | QfOutputStd              244.169\n",
      "2016-12-15 18:19:53.694024 PST | QfOutputMax              812.244\n",
      "2016-12-15 18:19:53.695224 PST | QfOutputMin                2.03657\n",
      "2016-12-15 18:19:53.696362 PST | TargetQfOutputMean       563.003\n",
      "2016-12-15 18:19:53.697284 PST | TargetQfOutputStd        239.931\n",
      "2016-12-15 18:19:53.698332 PST | TargetQfOutputMax        800.736\n",
      "2016-12-15 18:19:53.699433 PST | TargetQfOutputMin          4.03395\n",
      "2016-12-15 18:19:53.700424 PST | RewardsMean                9.87615\n",
      "2016-12-15 18:19:53.701515 PST | RewardsStd                 1.09065\n",
      "2016-12-15 18:19:53.702758 PST | RewardsMax                 9.99991\n",
      "2016-12-15 18:19:53.703725 PST | RewardsMin                 0\n",
      "2016-12-15 18:19:53.704892 PST | ReturnsMean              819.72\n",
      "2016-12-15 18:19:53.705725 PST | ReturnsStd               110\n",
      "2016-12-15 18:19:53.706783 PST | ReturnsMax               929.72\n",
      "2016-12-15 18:19:53.707680 PST | ReturnsMin               709.72\n",
      "2016-12-15 18:19:53.708682 PST | DiscountedReturnsMean    558.539\n",
      "2016-12-15 18:19:53.709957 PST | DiscountedReturnsStd      48.6044\n",
      "2016-12-15 18:19:53.711006 PST | DiscountedReturnsMax     607.143\n",
      "2016-12-15 18:19:53.711769 PST | DiscountedReturnsMin     509.934\n",
      "2016-12-15 18:19:53.712920 PST | TrainingReturnsMean      459.828\n",
      "2016-12-15 18:19:53.713920 PST | TrainingReturnsStd       139.949\n",
      "2016-12-15 18:19:53.715224 PST | TrainingReturnsMax       599.776\n",
      "2016-12-15 18:19:53.716165 PST | TrainingReturnsMin       319.879\n",
      "2016-12-15 18:19:53.717326 PST | ----------------------  ------------\n",
      "2016-12-15 18:19:53.718221 PST | Epoch #76 | Training started\n"
     ]
    },
    {
     "name": "stderr",
     "output_type": "stream",
     "text": [
      "\n",
      "Total time elapsed: 00:00:00\n"
     ]
    },
    {
     "name": "stdout",
     "output_type": "stream",
     "text": [
      "2016-12-15 18:19:54.372089 PST | Epoch #76 | Training finished. Time: 0.6529550552368164\n",
      "2016-12-15 18:19:54.374071 PST | Epoch #76 | Collecting samples for evaluation\n"
     ]
    },
    {
     "name": "stderr",
     "output_type": "stream",
     "text": [
      "0%                          100%\n",
      "[##############################] | ETA: 00:00:00"
     ]
    },
    {
     "name": "stdout",
     "output_type": "stream",
     "text": [
      "2016-12-15 18:19:54.519787 PST | Epoch #76 | Eval time: 0.14571285247802734\n",
      "2016-12-15 18:19:54.523032 PST | ----------------------  -------------\n",
      "2016-12-15 18:19:54.524283 PST | Epoch                     76\n",
      "2016-12-15 18:19:54.525546 PST | AverageReturn           1109.78\n",
      "2016-12-15 18:19:54.526607 PST | PolicySurrogateLoss     -598.369\n",
      "2016-12-15 18:19:54.527636 PST | QfLoss                  1315.65\n",
      "2016-12-15 18:19:54.528821 PST | YsMean                   580.512\n",
      "2016-12-15 18:19:54.536330 PST | YsStd                    244.734\n",
      "2016-12-15 18:19:54.537730 PST | YsMax                    825.567\n",
      "2016-12-15 18:19:54.538910 PST | YsMin                      0\n",
      "2016-12-15 18:19:54.540085 PST | PolicyOutputMean           0.0332428\n",
      "2016-12-15 18:19:54.541474 PST | PolicyOutputStd            0.953023\n",
      "2016-12-15 18:19:54.542811 PST | PolicyOutputMax            1\n",
      "2016-12-15 18:19:54.544017 PST | PolicyOutputMin           -1\n",
      "2016-12-15 18:19:54.545229 PST | TargetPolicyOutputMean     0.00959703\n",
      "2016-12-15 18:19:54.546409 PST | TargetPolicyOutputStd      0.949928\n",
      "2016-12-15 18:19:54.547601 PST | TargetPolicyOutputMax      1\n",
      "2016-12-15 18:19:54.548837 PST | TargetPolicyOutputMin     -1\n",
      "2016-12-15 18:19:54.550067 PST | QfOutputMean             598.369\n",
      "2016-12-15 18:19:54.551229 PST | QfOutputStd              246.71\n",
      "2016-12-15 18:19:54.552527 PST | QfOutputMax              842.205\n",
      "2016-12-15 18:19:54.554324 PST | QfOutputMin              103.669\n",
      "2016-12-15 18:19:54.555603 PST | TargetQfOutputMean       583.314\n",
      "2016-12-15 18:19:54.558910 PST | TargetQfOutputStd        241.566\n",
      "2016-12-15 18:19:54.560951 PST | TargetQfOutputMax        823.808\n",
      "2016-12-15 18:19:54.562861 PST | TargetQfOutputMin         99.2064\n",
      "2016-12-15 18:19:54.563953 PST | RewardsMean                9.90875\n",
      "2016-12-15 18:19:54.565163 PST | RewardsStd                 0.940498\n",
      "2016-12-15 18:19:54.567337 PST | RewardsMax                 9.99994\n",
      "2016-12-15 18:19:54.568468 PST | RewardsMin                 0\n",
      "2016-12-15 18:19:54.569623 PST | ReturnsMean             1109.78\n",
      "2016-12-15 18:19:54.570768 PST | ReturnsStd                 0\n",
      "2016-12-15 18:19:54.571999 PST | ReturnsMax              1109.78\n",
      "2016-12-15 18:19:54.573093 PST | ReturnsMin              1109.78\n",
      "2016-12-15 18:19:54.574336 PST | DiscountedReturnsMean    672.158\n",
      "2016-12-15 18:19:54.575415 PST | DiscountedReturnsStd       0\n",
      "2016-12-15 18:19:54.576710 PST | DiscountedReturnsMax     672.158\n"
     ]
    },
    {
     "name": "stderr",
     "output_type": "stream",
     "text": [
      "\n",
      "Total time elapsed: 00:00:00\n"
     ]
    },
    {
     "name": "stdout",
     "output_type": "stream",
     "text": [
      "2016-12-15 18:19:54.578025 PST | DiscountedReturnsMin     672.158\n",
      "2016-12-15 18:19:54.579663 PST | TrainingReturnsMean      549.846\n",
      "2016-12-15 18:19:54.580932 PST | TrainingReturnsStd       299.929\n",
      "2016-12-15 18:19:54.582174 PST | TrainingReturnsMax       849.775\n",
      "2016-12-15 18:19:54.583353 PST | TrainingReturnsMin       249.918\n",
      "2016-12-15 18:19:54.584656 PST | ----------------------  -------------\n",
      "2016-12-15 18:19:54.585774 PST | Epoch #77 | Training started\n",
      "2016-12-15 18:19:55.254832 PST | Epoch #77 | Training finished. Time: 0.6677718162536621\n",
      "2016-12-15 18:19:55.255949 PST | Epoch #77 | Collecting samples for evaluation\n"
     ]
    },
    {
     "name": "stderr",
     "output_type": "stream",
     "text": [
      "0%                          100%\n",
      "[##############################] | ETA: 00:00:00"
     ]
    },
    {
     "name": "stdout",
     "output_type": "stream",
     "text": [
      "2016-12-15 18:19:55.345566 PST | Epoch #77 | Eval time: 0.08960986137390137\n",
      "2016-12-15 18:19:55.347628 PST | ----------------------  ------------\n",
      "2016-12-15 18:19:55.348566 PST | Epoch                     77\n",
      "2016-12-15 18:19:55.349729 PST | AverageReturn           1279.68\n",
      "2016-12-15 18:19:55.350764 PST | PolicySurrogateLoss     -665.698\n",
      "2016-12-15 18:19:55.351809 PST | QfLoss                  1604.39\n",
      "2016-12-15 18:19:55.352716 PST | YsMean                   655.971\n",
      "2016-12-15 18:19:55.353873 PST | YsStd                    238.131\n",
      "2016-12-15 18:19:55.354762 PST | YsMax                    852.778\n",
      "2016-12-15 18:19:55.355738 PST | YsMin                      0\n",
      "2016-12-15 18:19:55.356913 PST | PolicyOutputMean          -0.0290001\n",
      "2016-12-15 18:19:55.358101 PST | PolicyOutputStd            0.947381\n",
      "2016-12-15 18:19:55.359182 PST | PolicyOutputMax            1\n",
      "2016-12-15 18:19:55.360108 PST | PolicyOutputMin           -1\n",
      "2016-12-15 18:19:55.360967 PST | TargetPolicyOutputMean    -0.0245284\n",
      "2016-12-15 18:19:55.361986 PST | TargetPolicyOutputStd      0.947713\n",
      "2016-12-15 18:19:55.363095 PST | TargetPolicyOutputMax      1\n",
      "2016-12-15 18:19:55.364949 PST | TargetPolicyOutputMin     -1\n",
      "2016-12-15 18:19:55.366563 PST | QfOutputMean             665.698\n",
      "2016-12-15 18:19:55.367838 PST | QfOutputStd              233.291\n",
      "2016-12-15 18:19:55.372723 PST | QfOutputMax              856.539\n",
      "2016-12-15 18:19:55.376353 PST | QfOutputMin               16.5304\n",
      "2016-12-15 18:19:55.381420 PST | TargetQfOutputMean       658.767\n",
      "2016-12-15 18:19:55.383113 PST | TargetQfOutputStd        233.622\n",
      "2016-12-15 18:19:55.384044 PST | TargetQfOutputMax        851.293\n",
      "2016-12-15 18:19:55.385312 PST | TargetQfOutputMin          8.4772\n",
      "2016-12-15 18:19:55.387756 PST | RewardsMean                9.91997\n",
      "2016-12-15 18:19:55.389723 PST | RewardsStd                 0.876816\n",
      "2016-12-15 18:19:55.390837 PST | RewardsMax                 9.99987\n",
      "2016-12-15 18:19:55.391756 PST | RewardsMin                 0\n",
      "2016-12-15 18:19:55.392657 PST | ReturnsMean             1279.68\n",
      "2016-12-15 18:19:55.393696 PST | ReturnsStd                 0\n",
      "2016-12-15 18:19:55.394994 PST | ReturnsMax              1279.68\n",
      "2016-12-15 18:19:55.396173 PST | ReturnsMin              1279.68\n",
      "2016-12-15 18:19:55.397654 PST | DiscountedReturnsMean    723.606\n",
      "2016-12-15 18:19:55.398485 PST | DiscountedReturnsStd       0\n",
      "2016-12-15 18:19:55.399543 PST | DiscountedReturnsMax     723.606\n",
      "2016-12-15 18:19:55.400868 PST | DiscountedReturnsMin     723.606\n",
      "2016-12-15 18:19:55.401983 PST | TrainingReturnsMean      284.943\n",
      "2016-12-15 18:19:55.403222 PST | TrainingReturnsStd       114.987\n",
      "2016-12-15 18:19:55.404456 PST | TrainingReturnsMax       399.93\n",
      "2016-12-15 18:19:55.405659 PST | TrainingReturnsMin       169.957\n",
      "2016-12-15 18:19:55.406683 PST | ----------------------  ------------\n",
      "2016-12-15 18:19:55.407804 PST | Epoch #78 | Training started\n"
     ]
    },
    {
     "name": "stderr",
     "output_type": "stream",
     "text": [
      "\n",
      "Total time elapsed: 00:00:00\n"
     ]
    },
    {
     "name": "stdout",
     "output_type": "stream",
     "text": [
      "2016-12-15 18:19:56.074982 PST | Epoch #78 | Training finished. Time: 0.6662919521331787\n",
      "2016-12-15 18:19:56.075950 PST | Epoch #78 | Collecting samples for evaluation\n"
     ]
    },
    {
     "name": "stderr",
     "output_type": "stream",
     "text": [
      "0%                          100%\n",
      "[##############################] | ETA: 00:00:00"
     ]
    },
    {
     "name": "stdout",
     "output_type": "stream",
     "text": [
      "2016-12-15 18:19:56.184642 PST | Epoch #78 | Eval time: 0.10868501663208008\n",
      "2016-12-15 18:19:56.186340 PST | ----------------------  -------------\n",
      "2016-12-15 18:19:56.187199 PST | Epoch                     78\n",
      "2016-12-15 18:19:56.188015 PST | AverageReturn            744.77\n",
      "2016-12-15 18:19:56.188879 PST | PolicySurrogateLoss     -544.185\n",
      "2016-12-15 18:19:56.189584 PST | QfLoss                  2237.71\n",
      "2016-12-15 18:19:56.190338 PST | YsMean                   521.169\n",
      "2016-12-15 18:19:56.190983 PST | YsStd                    260.791\n",
      "2016-12-15 18:19:56.191707 PST | YsMax                    850.539\n",
      "2016-12-15 18:19:56.192551 PST | YsMin                      0\n",
      "2016-12-15 18:19:56.193236 PST | PolicyOutputMean          -0.00108421\n",
      "2016-12-15 18:19:56.193974 PST | PolicyOutputStd            0.953882\n",
      "2016-12-15 18:19:56.194940 PST | PolicyOutputMax            1\n",
      "2016-12-15 18:19:56.195693 PST | PolicyOutputMin           -1\n",
      "2016-12-15 18:19:56.196540 PST | TargetPolicyOutputMean     0.0233298\n",
      "2016-12-15 18:19:56.197475 PST | TargetPolicyOutputStd      0.94928\n",
      "2016-12-15 18:19:56.198530 PST | TargetPolicyOutputMax      1\n",
      "2016-12-15 18:19:56.199394 PST | TargetPolicyOutputMin     -1\n",
      "2016-12-15 18:19:56.200360 PST | QfOutputMean             544.185\n",
      "2016-12-15 18:19:56.201501 PST | QfOutputStd              262.955\n",
      "2016-12-15 18:19:56.202433 PST | QfOutputMax              872.003\n",
      "2016-12-15 18:19:56.203440 PST | QfOutputMin               16.4803\n",
      "2016-12-15 18:19:56.204394 PST | TargetQfOutputMean       527.205\n",
      "2016-12-15 18:19:56.205551 PST | TargetQfOutputStd        258.36\n",
      "2016-12-15 18:19:56.206372 PST | TargetQfOutputMax        849.041\n",
      "2016-12-15 18:19:56.207192 PST | TargetQfOutputMin         15.3206\n",
      "2016-12-15 18:19:56.208292 PST | RewardsMean                9.8645\n",
      "2016-12-15 18:19:56.209617 PST | RewardsStd                 1.14288\n",
      "2016-12-15 18:19:56.210848 PST | RewardsMax                 9.99987\n",
      "2016-12-15 18:19:56.212017 PST | RewardsMin                 0\n",
      "2016-12-15 18:19:56.213115 PST | ReturnsMean              744.77\n",
      "2016-12-15 18:19:56.214235 PST | ReturnsStd                 4.98175\n",
      "2016-12-15 18:19:56.215137 PST | ReturnsMax               749.752\n",
      "2016-12-15 18:19:56.216201 PST | ReturnsMin               739.788\n",
      "2016-12-15 18:19:56.217092 PST | DiscountedReturnsMean    526.884\n",
      "2016-12-15 18:19:56.218053 PST | DiscountedReturnsStd       2.37223\n",
      "2016-12-15 18:19:56.219089 PST | DiscountedReturnsMax     529.257\n",
      "2016-12-15 18:19:56.219932 PST | DiscountedReturnsMin     524.512\n",
      "2016-12-15 18:19:56.220980 PST | TrainingReturnsMean      969.793\n",
      "2016-12-15 18:19:56.221884 PST | TrainingReturnsStd         0\n",
      "2016-12-15 18:19:56.223018 PST | TrainingReturnsMax       969.793\n",
      "2016-12-15 18:19:56.224000 PST | TrainingReturnsMin       969.793\n",
      "2016-12-15 18:19:56.224952 PST | ----------------------  -------------\n",
      "2016-12-15 18:19:56.225991 PST | Epoch #79 | Training started\n"
     ]
    },
    {
     "name": "stderr",
     "output_type": "stream",
     "text": [
      "\n",
      "Total time elapsed: 00:00:00\n"
     ]
    },
    {
     "name": "stdout",
     "output_type": "stream",
     "text": [
      "2016-12-15 18:19:57.020428 PST | Epoch #79 | Training finished. Time: 0.7934949398040771\n",
      "2016-12-15 18:19:57.021203 PST | Epoch #79 | Collecting samples for evaluation\n"
     ]
    },
    {
     "name": "stderr",
     "output_type": "stream",
     "text": [
      "0%                          100%\n",
      "[##############################] | ETA: 00:00:00"
     ]
    },
    {
     "name": "stdout",
     "output_type": "stream",
     "text": [
      "2016-12-15 18:19:57.165677 PST | Epoch #79 | Eval time: 0.14446187019348145\n",
      "2016-12-15 18:19:57.168665 PST | ----------------------  ------------\n",
      "2016-12-15 18:19:57.170239 PST | Epoch                     79\n",
      "2016-12-15 18:19:57.173867 PST | AverageReturn           1999.68\n",
      "2016-12-15 18:19:57.176404 PST | PolicySurrogateLoss     -705.071\n",
      "2016-12-15 18:19:57.178296 PST | QfLoss                  1565.26\n",
      "2016-12-15 18:19:57.180349 PST | YsMean                   689.868\n",
      "2016-12-15 18:19:57.182210 PST | YsStd                    215.841\n",
      "2016-12-15 18:19:57.184498 PST | YsMax                    887.885\n",
      "2016-12-15 18:19:57.186107 PST | YsMin                      0\n",
      "2016-12-15 18:19:57.187063 PST | PolicyOutputMean           0.0185251\n",
      "2016-12-15 18:19:57.187813 PST | PolicyOutputStd            0.955575\n",
      "2016-12-15 18:19:57.188741 PST | PolicyOutputMax            1\n",
      "2016-12-15 18:19:57.189493 PST | PolicyOutputMin           -1\n",
      "2016-12-15 18:19:57.190329 PST | TargetPolicyOutputMean    -0.0310872\n",
      "2016-12-15 18:19:57.191211 PST | TargetPolicyOutputStd      0.944475\n",
      "2016-12-15 18:19:57.191926 PST | TargetPolicyOutputMax      1\n",
      "2016-12-15 18:19:57.192816 PST | TargetPolicyOutputMin     -1\n",
      "2016-12-15 18:19:57.193538 PST | QfOutputMean             705.071\n",
      "2016-12-15 18:19:57.194409 PST | QfOutputStd              216.883\n",
      "2016-12-15 18:19:57.195524 PST | QfOutputMax              906.756\n",
      "2016-12-15 18:19:57.196885 PST | QfOutputMin              128.991\n",
      "2016-12-15 18:19:57.197963 PST | TargetQfOutputMean       690.888\n",
      "2016-12-15 18:19:57.199252 PST | TargetQfOutputStd        212.589\n",
      "2016-12-15 18:19:57.201306 PST | TargetQfOutputMax        886.754\n",
      "2016-12-15 18:19:57.202195 PST | TargetQfOutputMin        125.667\n",
      "2016-12-15 18:19:57.203594 PST | RewardsMean                9.94865\n",
      "2016-12-15 18:19:57.204985 PST | RewardsStd                 0.703477\n",
      "2016-12-15 18:19:57.207710 PST | RewardsMax                 9.99994\n",
      "2016-12-15 18:19:57.211367 PST | RewardsMin                 0\n",
      "2016-12-15 18:19:57.214347 PST | ReturnsMean             1999.68\n",
      "2016-12-15 18:19:57.215270 PST | ReturnsStd                 0\n",
      "2016-12-15 18:19:57.216341 PST | ReturnsMax              1999.68\n",
      "2016-12-15 18:19:57.217312 PST | ReturnsMin              1999.68\n",
      "2016-12-15 18:19:57.218425 PST | DiscountedReturnsMean    865.894\n",
      "2016-12-15 18:19:57.219676 PST | DiscountedReturnsStd       0\n",
      "2016-12-15 18:19:57.220593 PST | DiscountedReturnsMax     865.894\n",
      "2016-12-15 18:19:57.221738 PST | DiscountedReturnsMin     865.894\n"
     ]
    },
    {
     "name": "stderr",
     "output_type": "stream",
     "text": [
      "\n",
      "Total time elapsed: 00:00:00\n"
     ]
    },
    {
     "name": "stdout",
     "output_type": "stream",
     "text": [
      "2016-12-15 18:19:57.222637 PST | TrainingReturnsMean      499.872\n",
      "2016-12-15 18:19:57.261827 PST | TrainingReturnsStd       309.926\n",
      "2016-12-15 18:19:57.266708 PST | TrainingReturnsMax       809.798\n",
      "2016-12-15 18:19:57.269979 PST | TrainingReturnsMin       189.945\n",
      "2016-12-15 18:19:57.273807 PST | ----------------------  ------------\n",
      "2016-12-15 18:19:57.281091 PST | Epoch #80 | Training started\n",
      "2016-12-15 18:19:58.063448 PST | Epoch #80 | Training finished. Time: 0.7793350219726562\n",
      "2016-12-15 18:19:58.065232 PST | Epoch #80 | Collecting samples for evaluation\n"
     ]
    },
    {
     "name": "stderr",
     "output_type": "stream",
     "text": [
      "0%                          100%\n",
      "[##############################] | ETA: 00:00:00"
     ]
    },
    {
     "name": "stdout",
     "output_type": "stream",
     "text": [
      "2016-12-15 18:19:58.209210 PST | Epoch #80 | Eval time: 0.14395713806152344\n",
      "2016-12-15 18:19:58.212544 PST | ----------------------  --------------\n",
      "2016-12-15 18:19:58.213971 PST | Epoch                     80\n",
      "2016-12-15 18:19:58.214899 PST | AverageReturn            964.797\n",
      "2016-12-15 18:19:58.215888 PST | PolicySurrogateLoss     -600.665\n",
      "2016-12-15 18:19:58.216870 PST | QfLoss                  1404.27\n",
      "2016-12-15 18:19:58.217910 PST | YsMean                   586.7\n",
      "2016-12-15 18:19:58.218799 PST | YsStd                    257.108\n",
      "2016-12-15 18:19:58.219841 PST | YsMax                    905.783\n",
      "2016-12-15 18:19:58.221014 PST | YsMin                      0\n",
      "2016-12-15 18:19:58.221903 PST | PolicyOutputMean          -0.000438322\n",
      "2016-12-15 18:19:58.223025 PST | PolicyOutputStd            0.944204\n",
      "2016-12-15 18:19:58.223995 PST | PolicyOutputMax            1\n",
      "2016-12-15 18:19:58.225362 PST | PolicyOutputMin           -1\n",
      "2016-12-15 18:19:58.226954 PST | TargetPolicyOutputMean     0.0299878\n",
      "2016-12-15 18:19:58.227984 PST | TargetPolicyOutputStd      0.939901\n",
      "2016-12-15 18:19:58.228829 PST | TargetPolicyOutputMax      1\n",
      "2016-12-15 18:19:58.229968 PST | TargetPolicyOutputMin     -1\n",
      "2016-12-15 18:19:58.230964 PST | QfOutputMean             600.665\n",
      "2016-12-15 18:19:58.231813 PST | QfOutputStd              254.186\n",
      "2016-12-15 18:19:58.232940 PST | QfOutputMax              913.29\n",
      "2016-12-15 18:19:58.235029 PST | QfOutputMin               51.8086\n",
      "2016-12-15 18:19:58.236012 PST | TargetQfOutputMean       591.267\n",
      "2016-12-15 18:19:58.237530 PST | TargetQfOutputStd        253.886\n",
      "2016-12-15 18:19:58.238487 PST | TargetQfOutputMax        904.833\n",
      "2016-12-15 18:19:58.239352 PST | TargetQfOutputMin         44.9347\n",
      "2016-12-15 18:19:58.240513 PST | RewardsMean                9.89535\n",
      "2016-12-15 18:19:58.243207 PST | RewardsStd                 1.00732\n",
      "2016-12-15 18:19:58.244324 PST | RewardsMax                 9.99992\n",
      "2016-12-15 18:19:58.245136 PST | RewardsMin                 0\n",
      "2016-12-15 18:19:58.246316 PST | ReturnsMean              964.797\n",
      "2016-12-15 18:19:58.247606 PST | ReturnsStd               165\n",
      "2016-12-15 18:19:58.248965 PST | ReturnsMax              1129.8\n",
      "2016-12-15 18:19:58.250524 PST | ReturnsMin               799.796\n",
      "2016-12-15 18:19:58.251642 PST | DiscountedReturnsMean    615.52\n",
      "2016-12-15 18:19:58.252835 PST | DiscountedReturnsStd      63.1701\n",
      "2016-12-15 18:19:58.254045 PST | DiscountedReturnsMax     678.69\n",
      "2016-12-15 18:19:58.255219 PST | DiscountedReturnsMin     552.35\n",
      "2016-12-15 18:19:58.256612 PST | TrainingReturnsMean      599.875\n",
      "2016-12-15 18:19:58.257673 PST | TrainingReturnsStd         0\n",
      "2016-12-15 18:19:58.258969 PST | TrainingReturnsMax       599.875\n",
      "2016-12-15 18:19:58.260213 PST | TrainingReturnsMin       599.875\n",
      "2016-12-15 18:19:58.261503 PST | ----------------------  --------------\n",
      "2016-12-15 18:19:58.262485 PST | Epoch #81 | Training started\n"
     ]
    },
    {
     "name": "stderr",
     "output_type": "stream",
     "text": [
      "\n",
      "Total time elapsed: 00:00:00\n"
     ]
    },
    {
     "name": "stdout",
     "output_type": "stream",
     "text": [
      "2016-12-15 18:19:58.856501 PST | Epoch #81 | Training finished. Time: 0.5931119918823242\n",
      "2016-12-15 18:19:58.857268 PST | Epoch #81 | Collecting samples for evaluation\n"
     ]
    },
    {
     "name": "stderr",
     "output_type": "stream",
     "text": [
      "0%                          100%\n",
      "[##############################] | ETA: 00:00:00"
     ]
    },
    {
     "name": "stdout",
     "output_type": "stream",
     "text": [
      "2016-12-15 18:19:58.961150 PST | Epoch #81 | Eval time: 0.10386896133422852\n",
      "2016-12-15 18:19:58.964546 PST | ----------------------  ------------\n",
      "2016-12-15 18:19:58.965930 PST | Epoch                     81\n",
      "2016-12-15 18:19:58.967069 PST | AverageReturn            724.811\n",
      "2016-12-15 18:19:58.968106 PST | PolicySurrogateLoss     -518.936\n",
      "2016-12-15 18:19:58.969149 PST | QfLoss                  5155.08\n",
      "2016-12-15 18:19:58.970239 PST | YsMean                   507.883\n",
      "2016-12-15 18:19:58.971338 PST | YsStd                    254.979\n",
      "2016-12-15 18:19:58.972389 PST | YsMax                    930.534\n",
      "2016-12-15 18:19:58.973463 PST | YsMin                      0\n",
      "2016-12-15 18:19:58.974567 PST | PolicyOutputMean           0.0464806\n",
      "2016-12-15 18:19:58.975773 PST | PolicyOutputStd            0.948671\n",
      "2016-12-15 18:19:58.977012 PST | PolicyOutputMax            1\n",
      "2016-12-15 18:19:58.978118 PST | PolicyOutputMin           -1\n",
      "2016-12-15 18:19:58.979295 PST | TargetPolicyOutputMean     0.0971925\n",
      "2016-12-15 18:19:58.983193 PST | TargetPolicyOutputStd      0.937392\n",
      "2016-12-15 18:19:58.984599 PST | TargetPolicyOutputMax      1\n",
      "2016-12-15 18:19:58.985834 PST | TargetPolicyOutputMin     -1\n",
      "2016-12-15 18:19:58.987132 PST | QfOutputMean             518.936\n",
      "2016-12-15 18:19:58.988323 PST | QfOutputStd              255.164\n",
      "2016-12-15 18:19:58.989479 PST | QfOutputMax              929.581\n",
      "2016-12-15 18:19:58.990624 PST | QfOutputMin              131.148\n",
      "2016-12-15 18:19:58.991870 PST | TargetQfOutputMean       514.755\n",
      "2016-12-15 18:19:58.993186 PST | TargetQfOutputStd        253.672\n",
      "2016-12-15 18:19:58.994308 PST | TargetQfOutputMax        929.85\n",
      "2016-12-15 18:19:58.995646 PST | TargetQfOutputMin        134.069\n",
      "2016-12-15 18:19:58.997024 PST | RewardsMean                9.86137\n",
      "2016-12-15 18:19:58.998308 PST | RewardsStd                 1.15816\n",
      "2016-12-15 18:19:59.002622 PST | RewardsMax                 9.99996\n",
      "2016-12-15 18:19:59.004250 PST | RewardsMin                 0\n",
      "2016-12-15 18:19:59.005693 PST | ReturnsMean              724.811\n",
      "2016-12-15 18:19:59.006997 PST | ReturnsStd               145\n",
      "2016-12-15 18:19:59.010119 PST | ReturnsMax               869.81\n",
      "2016-12-15 18:19:59.011379 PST | ReturnsMin               579.811\n",
      "2016-12-15 18:19:59.012817 PST | DiscountedReturnsMean    512.165\n",
      "2016-12-15 18:19:59.014944 PST | DiscountedReturnsStd      70.5873\n",
      "2016-12-15 18:19:59.016558 PST | DiscountedReturnsMax     582.752\n",
      "2016-12-15 18:19:59.017748 PST | DiscountedReturnsMin     441.577\n",
      "2016-12-15 18:19:59.019025 PST | TrainingReturnsMean      669.87\n",
      "2016-12-15 18:19:59.020289 PST | TrainingReturnsStd       279.954\n",
      "2016-12-15 18:19:59.021531 PST | TrainingReturnsMax       949.824\n",
      "2016-12-15 18:19:59.022585 PST | TrainingReturnsMin       389.916\n",
      "2016-12-15 18:19:59.023883 PST | ----------------------  ------------\n",
      "2016-12-15 18:19:59.025062 PST | Epoch #82 | Training started\n"
     ]
    },
    {
     "name": "stderr",
     "output_type": "stream",
     "text": [
      "\n",
      "Total time elapsed: 00:00:00\n"
     ]
    },
    {
     "name": "stdout",
     "output_type": "stream",
     "text": [
      "2016-12-15 18:19:59.641207 PST | Epoch #82 | Training finished. Time: 0.6148960590362549\n",
      "2016-12-15 18:19:59.642067 PST | Epoch #82 | Collecting samples for evaluation\n"
     ]
    },
    {
     "name": "stderr",
     "output_type": "stream",
     "text": [
      "0%                          100%\n",
      "[##############################] | ETA: 00:00:00"
     ]
    },
    {
     "name": "stdout",
     "output_type": "stream",
     "text": [
      "2016-12-15 18:19:59.736177 PST | Epoch #82 | Eval time: 0.09410381317138672\n",
      "2016-12-15 18:19:59.739021 PST | ----------------------  ------------\n",
      "2016-12-15 18:19:59.739859 PST | Epoch                     82\n",
      "2016-12-15 18:19:59.740977 PST | AverageReturn           1219.79\n",
      "2016-12-15 18:19:59.742094 PST | PolicySurrogateLoss     -641.726\n",
      "2016-12-15 18:19:59.742894 PST | QfLoss                  1058.97\n",
      "2016-12-15 18:19:59.743556 PST | YsMean                   632.241\n",
      "2016-12-15 18:19:59.744265 PST | YsStd                    258.569\n",
      "2016-12-15 18:19:59.745153 PST | YsMax                    929.472\n",
      "2016-12-15 18:19:59.745896 PST | YsMin                      0\n",
      "2016-12-15 18:19:59.746720 PST | PolicyOutputMean           0.030385\n",
      "2016-12-15 18:19:59.747437 PST | PolicyOutputStd            0.973109\n",
      "2016-12-15 18:19:59.748706 PST | PolicyOutputMax            1\n",
      "2016-12-15 18:19:59.750062 PST | PolicyOutputMin           -1\n",
      "2016-12-15 18:19:59.751146 PST | TargetPolicyOutputMean     0.0350697\n",
      "2016-12-15 18:19:59.752049 PST | TargetPolicyOutputStd      0.972163\n",
      "2016-12-15 18:19:59.753144 PST | TargetPolicyOutputMax      1\n",
      "2016-12-15 18:19:59.754419 PST | TargetPolicyOutputMin     -1\n",
      "2016-12-15 18:19:59.755618 PST | QfOutputMean             641.726\n",
      "2016-12-15 18:19:59.756615 PST | QfOutputStd              262.021\n",
      "2016-12-15 18:19:59.757865 PST | QfOutputMax              944.352\n",
      "2016-12-15 18:19:59.759084 PST | QfOutputMin              160.773\n",
      "2016-12-15 18:19:59.759935 PST | TargetQfOutputMean       635.674\n",
      "2016-12-15 18:19:59.760984 PST | TargetQfOutputStd        255.574\n",
      "2016-12-15 18:19:59.761829 PST | TargetQfOutputMax        928.76\n",
      "2016-12-15 18:19:59.762938 PST | TargetQfOutputMin        162.955\n",
      "2016-12-15 18:19:59.763726 PST | RewardsMean                9.91701\n",
      "2016-12-15 18:19:59.764995 PST | RewardsStd                 0.897845\n",
      "2016-12-15 18:19:59.766243 PST | RewardsMax                 9.99963\n",
      "2016-12-15 18:19:59.767059 PST | RewardsMin                 0\n",
      "2016-12-15 18:19:59.768120 PST | ReturnsMean             1219.79\n",
      "2016-12-15 18:19:59.769409 PST | ReturnsStd                 0\n",
      "2016-12-15 18:19:59.770586 PST | ReturnsMax              1219.79\n",
      "2016-12-15 18:19:59.771507 PST | ReturnsMin              1219.79\n",
      "2016-12-15 18:19:59.772505 PST | DiscountedReturnsMean    706.469\n",
      "2016-12-15 18:19:59.773996 PST | DiscountedReturnsStd       0\n",
      "2016-12-15 18:19:59.774831 PST | DiscountedReturnsMax     706.469\n",
      "2016-12-15 18:19:59.775845 PST | DiscountedReturnsMin     706.469\n",
      "2016-12-15 18:19:59.776872 PST | TrainingReturnsMean      699.801\n",
      "2016-12-15 18:19:59.777926 PST | TrainingReturnsStd       219.907\n",
      "2016-12-15 18:19:59.778900 PST | TrainingReturnsMax       919.709\n",
      "2016-12-15 18:19:59.779814 PST | TrainingReturnsMin       479.894\n",
      "2016-12-15 18:19:59.780524 PST | ----------------------  ------------\n",
      "2016-12-15 18:19:59.781652 PST | Epoch #83 | Training started\n"
     ]
    },
    {
     "name": "stderr",
     "output_type": "stream",
     "text": [
      "\n",
      "Total time elapsed: 00:00:00\n"
     ]
    },
    {
     "name": "stdout",
     "output_type": "stream",
     "text": [
      "2016-12-15 18:20:00.371983 PST | Epoch #83 | Training finished. Time: 0.5892109870910645\n",
      "2016-12-15 18:20:00.373113 PST | Epoch #83 | Collecting samples for evaluation\n"
     ]
    },
    {
     "name": "stderr",
     "output_type": "stream",
     "text": [
      "0%                          100%\n",
      "[##############################] | ETA: 00:00:00"
     ]
    },
    {
     "name": "stdout",
     "output_type": "stream",
     "text": [
      "2016-12-15 18:20:00.479706 PST | Epoch #83 | Eval time: 0.10658693313598633\n",
      "2016-12-15 18:20:00.482156 PST | ----------------------  -------------\n",
      "2016-12-15 18:20:00.483998 PST | Epoch                     83\n",
      "2016-12-15 18:20:00.484976 PST | AverageReturn            779.801\n",
      "2016-12-15 18:20:00.485843 PST | PolicySurrogateLoss     -600.283\n",
      "2016-12-15 18:20:00.486531 PST | QfLoss                  3481.26\n",
      "2016-12-15 18:20:00.487380 PST | YsMean                   584.7\n",
      "2016-12-15 18:20:00.488092 PST | YsStd                    269.688\n",
      "2016-12-15 18:20:00.489134 PST | YsMax                    952.737\n",
      "2016-12-15 18:20:00.489955 PST | YsMin                      0\n",
      "2016-12-15 18:20:00.490791 PST | PolicyOutputMean          -0.010927\n",
      "2016-12-15 18:20:00.492032 PST | PolicyOutputStd            0.953013\n",
      "2016-12-15 18:20:00.493519 PST | PolicyOutputMax            1\n",
      "2016-12-15 18:20:00.494432 PST | PolicyOutputMin           -1\n",
      "2016-12-15 18:20:00.495172 PST | TargetPolicyOutputMean     0.00715263\n",
      "2016-12-15 18:20:00.495973 PST | TargetPolicyOutputStd      0.951263\n",
      "2016-12-15 18:20:00.496794 PST | TargetPolicyOutputMax      1\n",
      "2016-12-15 18:20:00.498737 PST | TargetPolicyOutputMin     -1\n",
      "2016-12-15 18:20:00.499816 PST | QfOutputMean             600.283\n",
      "2016-12-15 18:20:00.501198 PST | QfOutputStd              268.873\n",
      "2016-12-15 18:20:00.502113 PST | QfOutputMax              965.552\n",
      "2016-12-15 18:20:00.503208 PST | QfOutputMin               67.3363\n",
      "2016-12-15 18:20:00.504220 PST | TargetQfOutputMean       591.848\n",
      "2016-12-15 18:20:00.505105 PST | TargetQfOutputStd        266.165\n",
      "2016-12-15 18:20:00.506492 PST | TargetQfOutputMax        952.276\n",
      "2016-12-15 18:20:00.507639 PST | TargetQfOutputMin         63.9891\n",
      "2016-12-15 18:20:00.508802 PST | RewardsMean                9.87089\n",
      "2016-12-15 18:20:00.510055 PST | RewardsStd                 1.11766\n",
      "2016-12-15 18:20:00.510986 PST | RewardsMax                 9.99991\n",
      "2016-12-15 18:20:00.512026 PST | RewardsMin                 0\n",
      "2016-12-15 18:20:00.512886 PST | ReturnsMean              779.801\n",
      "2016-12-15 18:20:00.513899 PST | ReturnsStd                70.0253\n",
      "2016-12-15 18:20:00.515263 PST | ReturnsMax               849.826\n",
      "2016-12-15 18:20:00.516525 PST | ReturnsMin               709.775\n",
      "2016-12-15 18:20:00.517847 PST | DiscountedReturnsMean    542.12\n",
      "2016-12-15 18:20:00.518659 PST | DiscountedReturnsStd      32.1838\n",
      "2016-12-15 18:20:00.519594 PST | DiscountedReturnsMax     574.304\n",
      "2016-12-15 18:20:00.520833 PST | DiscountedReturnsMin     509.936\n",
      "2016-12-15 18:20:00.521827 PST | TrainingReturnsMean      929.813\n",
      "2016-12-15 18:20:00.522687 PST | TrainingReturnsStd         0\n",
      "2016-12-15 18:20:00.524109 PST | TrainingReturnsMax       929.813\n",
      "2016-12-15 18:20:00.525331 PST | TrainingReturnsMin       929.813\n",
      "2016-12-15 18:20:00.526270 PST | ----------------------  -------------\n",
      "2016-12-15 18:20:00.527423 PST | Epoch #84 | Training started\n"
     ]
    },
    {
     "name": "stderr",
     "output_type": "stream",
     "text": [
      "\n",
      "Total time elapsed: 00:00:00\n"
     ]
    },
    {
     "name": "stdout",
     "output_type": "stream",
     "text": [
      "2016-12-15 18:20:01.122918 PST | Epoch #84 | Training finished. Time: 0.5945630073547363\n",
      "2016-12-15 18:20:01.123824 PST | Epoch #84 | Collecting samples for evaluation\n"
     ]
    },
    {
     "name": "stderr",
     "output_type": "stream",
     "text": [
      "0%                          100%\n",
      "[##############################] | ETA: 00:00:00"
     ]
    },
    {
     "name": "stdout",
     "output_type": "stream",
     "text": [
      "2016-12-15 18:20:01.221327 PST | Epoch #84 | Eval time: 0.09749603271484375\n",
      "2016-12-15 18:20:01.223230 PST | ----------------------  ------------\n",
      "2016-12-15 18:20:01.224299 PST | Epoch                     84\n",
      "2016-12-15 18:20:01.225127 PST | AverageReturn            699.863\n",
      "2016-12-15 18:20:01.225800 PST | PolicySurrogateLoss     -786.672\n",
      "2016-12-15 18:20:01.226671 PST | QfLoss                  7042.42\n",
      "2016-12-15 18:20:01.227516 PST | YsMean                   761.871\n",
      "2016-12-15 18:20:01.228335 PST | YsStd                    256.367\n",
      "2016-12-15 18:20:01.229102 PST | YsMax                    957.414\n",
      "2016-12-15 18:20:01.230258 PST | YsMin                      0\n",
      "2016-12-15 18:20:01.231023 PST | PolicyOutputMean          -0.0216499\n",
      "2016-12-15 18:20:01.232021 PST | PolicyOutputStd            0.952887\n",
      "2016-12-15 18:20:01.232688 PST | PolicyOutputMax            1\n",
      "2016-12-15 18:20:01.233713 PST | PolicyOutputMin           -1\n",
      "2016-12-15 18:20:01.234456 PST | TargetPolicyOutputMean     0.0109495\n",
      "2016-12-15 18:20:01.235297 PST | TargetPolicyOutputStd      0.94021\n",
      "2016-12-15 18:20:01.235981 PST | TargetPolicyOutputMax      1\n",
      "2016-12-15 18:20:01.236679 PST | TargetPolicyOutputMin     -1\n",
      "2016-12-15 18:20:01.237403 PST | QfOutputMean             786.672\n",
      "2016-12-15 18:20:01.238429 PST | QfOutputStd              244.735\n",
      "2016-12-15 18:20:01.239334 PST | QfOutputMax              973.903\n",
      "2016-12-15 18:20:01.240159 PST | QfOutputMin               52.4426\n",
      "2016-12-15 18:20:01.241212 PST | TargetQfOutputMean       772.22\n",
      "2016-12-15 18:20:01.242300 PST | TargetQfOutputStd        242.516\n",
      "2016-12-15 18:20:01.243008 PST | TargetQfOutputMax        956.986\n",
      "2016-12-15 18:20:01.244090 PST | TargetQfOutputMin         56.2155\n",
      "2016-12-15 18:20:01.244869 PST | RewardsMean                9.85723\n",
      "2016-12-15 18:20:01.245755 PST | RewardsStd                 1.17817\n",
      "2016-12-15 18:20:01.247031 PST | RewardsMax                 9.99997\n",
      "2016-12-15 18:20:01.248207 PST | RewardsMin                 0\n",
      "2016-12-15 18:20:01.249676 PST | ReturnsMean              699.863\n",
      "2016-12-15 18:20:01.250988 PST | ReturnsStd               699.863\n",
      "2016-12-15 18:20:01.251875 PST | ReturnsMax              1399.73\n",
      "2016-12-15 18:20:01.253043 PST | ReturnsMin                 0\n",
      "2016-12-15 18:20:01.254515 PST | DiscountedReturnsMean    377.505\n",
      "2016-12-15 18:20:01.255768 PST | DiscountedReturnsStd     377.505\n",
      "2016-12-15 18:20:01.256798 PST | DiscountedReturnsMax     755.011\n",
      "2016-12-15 18:20:01.257879 PST | DiscountedReturnsMin       0\n",
      "2016-12-15 18:20:01.258740 PST | TrainingReturnsMean      176.594\n",
      "2016-12-15 18:20:01.259714 PST | TrainingReturnsStd       131.969\n",
      "2016-12-15 18:20:01.260895 PST | TrainingReturnsMax       349.897\n",
      "2016-12-15 18:20:01.262166 PST | TrainingReturnsMin        29.9573\n",
      "2016-12-15 18:20:01.263269 PST | ----------------------  ------------\n",
      "2016-12-15 18:20:01.264685 PST | Epoch #85 | Training started\n"
     ]
    },
    {
     "name": "stderr",
     "output_type": "stream",
     "text": [
      "\n",
      "Total time elapsed: 00:00:00\n"
     ]
    },
    {
     "name": "stdout",
     "output_type": "stream",
     "text": [
      "2016-12-15 18:20:01.881266 PST | Epoch #85 | Training finished. Time: 0.6156539916992188\n",
      "2016-12-15 18:20:01.882073 PST | Epoch #85 | Collecting samples for evaluation\n"
     ]
    },
    {
     "name": "stderr",
     "output_type": "stream",
     "text": [
      "0%                          100%\n",
      "[##############################] | ETA: 00:00:00"
     ]
    },
    {
     "name": "stdout",
     "output_type": "stream",
     "text": [
      "2016-12-15 18:20:02.014753 PST | Epoch #85 | Eval time: 0.13266515731811523\n",
      "2016-12-15 18:20:02.017000 PST | ----------------------  -------------\n",
      "2016-12-15 18:20:02.017924 PST | Epoch                     85\n",
      "2016-12-15 18:20:02.018825 PST | AverageReturn           1829.67\n",
      "2016-12-15 18:20:02.019473 PST | PolicySurrogateLoss     -820.777\n",
      "2016-12-15 18:20:02.020618 PST | QfLoss                  2148.04\n",
      "2016-12-15 18:20:02.021363 PST | YsMean                   804.669\n",
      "2016-12-15 18:20:02.022073 PST | YsStd                    214.246\n",
      "2016-12-15 18:20:02.022801 PST | YsMax                    972.798\n",
      "2016-12-15 18:20:02.023566 PST | YsMin                      0\n",
      "2016-12-15 18:20:02.024369 PST | PolicyOutputMean          -0.0212465\n",
      "2016-12-15 18:20:02.025028 PST | PolicyOutputStd            0.963726\n",
      "2016-12-15 18:20:02.025783 PST | PolicyOutputMax            1\n",
      "2016-12-15 18:20:02.026436 PST | PolicyOutputMin           -1\n",
      "2016-12-15 18:20:02.027252 PST | TargetPolicyOutputMean     0.00740278\n",
      "2016-12-15 18:20:02.028067 PST | TargetPolicyOutputStd      0.953873\n",
      "2016-12-15 18:20:02.029037 PST | TargetPolicyOutputMax      1\n",
      "2016-12-15 18:20:02.029746 PST | TargetPolicyOutputMin     -1\n",
      "2016-12-15 18:20:02.030431 PST | QfOutputMean             820.777\n",
      "2016-12-15 18:20:02.031220 PST | QfOutputStd              208.833\n",
      "2016-12-15 18:20:02.031915 PST | QfOutputMax              987.685\n",
      "2016-12-15 18:20:02.033086 PST | QfOutputMin              106.397\n",
      "2016-12-15 18:20:02.033923 PST | TargetQfOutputMean       807.698\n",
      "2016-12-15 18:20:02.034665 PST | TargetQfOutputStd        208.037\n",
      "2016-12-15 18:20:02.035431 PST | TargetQfOutputMax        972.525\n",
      "2016-12-15 18:20:02.036245 PST | TargetQfOutputMin         85.9928\n",
      "2016-12-15 18:20:02.037090 PST | RewardsMean                9.94386\n",
      "2016-12-15 18:20:02.037793 PST | RewardsStd                 0.735073\n",
      "2016-12-15 18:20:02.038656 PST | RewardsMax                 9.9999\n",
      "2016-12-15 18:20:02.039408 PST | RewardsMin                 0\n",
      "2016-12-15 18:20:02.040124 PST | ReturnsMean             1829.67\n",
      "2016-12-15 18:20:02.040801 PST | ReturnsStd                 0\n",
      "2016-12-15 18:20:02.041526 PST | ReturnsMax              1829.67\n",
      "2016-12-15 18:20:02.042373 PST | ReturnsMin              1829.67\n",
      "2016-12-15 18:20:02.043191 PST | DiscountedReturnsMean    840.931\n",
      "2016-12-15 18:20:02.044016 PST | DiscountedReturnsStd       0\n",
      "2016-12-15 18:20:02.044905 PST | DiscountedReturnsMax     840.931\n",
      "2016-12-15 18:20:02.045713 PST | DiscountedReturnsMin     840.931\n",
      "2016-12-15 18:20:02.046481 PST | TrainingReturnsMean      271.906\n",
      "2016-12-15 18:20:02.047246 PST | TrainingReturnsStd       228.719\n",
      "2016-12-15 18:20:02.048656 PST | TrainingReturnsMax       599.807\n",
      "2016-12-15 18:20:02.050193 PST | TrainingReturnsMin        29.9594\n",
      "2016-12-15 18:20:02.051138 PST | ----------------------  -------------\n",
      "2016-12-15 18:20:02.052247 PST | Epoch #86 | Training started\n"
     ]
    },
    {
     "name": "stderr",
     "output_type": "stream",
     "text": [
      "\n",
      "Total time elapsed: 00:00:00\n"
     ]
    },
    {
     "name": "stdout",
     "output_type": "stream",
     "text": [
      "2016-12-15 18:20:02.645099 PST | Epoch #86 | Training finished. Time: 0.5916547775268555\n",
      "2016-12-15 18:20:02.645930 PST | Epoch #86 | Collecting samples for evaluation\n"
     ]
    },
    {
     "name": "stderr",
     "output_type": "stream",
     "text": [
      "0%                          100%\n",
      "[##############################] | ETA: 00:00:00"
     ]
    },
    {
     "name": "stdout",
     "output_type": "stream",
     "text": [
      "2016-12-15 18:20:02.775011 PST | Epoch #86 | Eval time: 0.1290750503540039\n",
      "2016-12-15 18:20:02.776690 PST | ----------------------  -------------\n",
      "2016-12-15 18:20:02.777658 PST | Epoch                     86\n",
      "2016-12-15 18:20:02.778371 PST | AverageReturn            934.815\n",
      "2016-12-15 18:20:02.779052 PST | PolicySurrogateLoss     -665.685\n",
      "2016-12-15 18:20:02.779766 PST | QfLoss                  3739.92\n",
      "2016-12-15 18:20:02.780467 PST | YsMean                   650.364\n",
      "2016-12-15 18:20:02.781456 PST | YsStd                    270.213\n",
      "2016-12-15 18:20:02.782209 PST | YsMax                    979.949\n",
      "2016-12-15 18:20:02.783023 PST | YsMin                      0\n",
      "2016-12-15 18:20:02.783795 PST | PolicyOutputMean          -0.00149578\n",
      "2016-12-15 18:20:02.784712 PST | PolicyOutputStd            0.965732\n",
      "2016-12-15 18:20:02.785371 PST | PolicyOutputMax            1\n",
      "2016-12-15 18:20:02.786164 PST | PolicyOutputMin           -1\n",
      "2016-12-15 18:20:02.786939 PST | TargetPolicyOutputMean    -0.00942993\n",
      "2016-12-15 18:20:02.787840 PST | TargetPolicyOutputStd      0.964608\n",
      "2016-12-15 18:20:02.788507 PST | TargetPolicyOutputMax      1\n",
      "2016-12-15 18:20:02.789345 PST | TargetPolicyOutputMin     -1\n",
      "2016-12-15 18:20:02.790058 PST | QfOutputMean             665.685\n",
      "2016-12-15 18:20:02.790743 PST | QfOutputStd              271.959\n",
      "2016-12-15 18:20:02.791411 PST | QfOutputMax             1002.65\n",
      "2016-12-15 18:20:02.792076 PST | QfOutputMin              138.366\n",
      "2016-12-15 18:20:02.792932 PST | TargetQfOutputMean       656.748\n",
      "2016-12-15 18:20:02.793612 PST | TargetQfOutputStd        265.822\n",
      "2016-12-15 18:20:02.794625 PST | TargetQfOutputMax        979.747\n",
      "2016-12-15 18:20:02.795440 PST | TargetQfOutputMin        125.05\n",
      "2016-12-15 18:20:02.796188 PST | RewardsMean                9.89222\n",
      "2016-12-15 18:20:02.796903 PST | RewardsStd                 1.02303\n",
      "2016-12-15 18:20:02.798048 PST | RewardsMax                 9.99995\n",
      "2016-12-15 18:20:02.798982 PST | RewardsMin                 0\n",
      "2016-12-15 18:20:02.799741 PST | ReturnsMean              934.815\n",
      "2016-12-15 18:20:02.800600 PST | ReturnsStd               314.967\n",
      "2016-12-15 18:20:02.801612 PST | ReturnsMax              1249.78\n",
      "2016-12-15 18:20:02.802830 PST | ReturnsMin               619.848\n",
      "2016-12-15 18:20:02.803773 PST | DiscountedReturnsMean    589.393\n",
      "2016-12-15 18:20:02.804533 PST | DiscountedReturnsStd     125.786\n",
      "2016-12-15 18:20:02.805655 PST | DiscountedReturnsMax     715.179\n",
      "2016-12-15 18:20:02.806606 PST | DiscountedReturnsMin     463.607\n",
      "2016-12-15 18:20:02.807804 PST | TrainingReturnsMean      849.85\n",
      "2016-12-15 18:20:02.808835 PST | TrainingReturnsStd         0\n",
      "2016-12-15 18:20:02.810049 PST | TrainingReturnsMax       849.85\n",
      "2016-12-15 18:20:02.811030 PST | TrainingReturnsMin       849.85\n",
      "2016-12-15 18:20:02.811836 PST | ----------------------  -------------\n",
      "2016-12-15 18:20:02.812968 PST | Epoch #87 | Training started\n"
     ]
    },
    {
     "name": "stderr",
     "output_type": "stream",
     "text": [
      "\n",
      "Total time elapsed: 00:00:00\n"
     ]
    },
    {
     "name": "stdout",
     "output_type": "stream",
     "text": [
      "2016-12-15 18:20:03.386422 PST | Epoch #87 | Training finished. Time: 0.5725798606872559\n",
      "2016-12-15 18:20:03.387342 PST | Epoch #87 | Collecting samples for evaluation\n"
     ]
    },
    {
     "name": "stderr",
     "output_type": "stream",
     "text": [
      "0%                          100%\n",
      "[##############################] | ETA: 00:00:00"
     ]
    },
    {
     "name": "stdout",
     "output_type": "stream",
     "text": [
      "2016-12-15 18:20:03.461930 PST | Epoch #87 | Eval time: 0.07457900047302246\n",
      "2016-12-15 18:20:03.464969 PST | ----------------------  -------------\n",
      "2016-12-15 18:20:03.467087 PST | Epoch                     87\n",
      "2016-12-15 18:20:03.468125 PST | AverageReturn            989.826\n",
      "2016-12-15 18:20:03.468822 PST | PolicySurrogateLoss     -780.607\n",
      "2016-12-15 18:20:03.469537 PST | QfLoss                  3329.81\n",
      "2016-12-15 18:20:03.470208 PST | YsMean                   747.791\n",
      "2016-12-15 18:20:03.470945 PST | YsStd                    247.898\n",
      "2016-12-15 18:20:03.471784 PST | YsMax                    993.574\n",
      "2016-12-15 18:20:03.472507 PST | YsMin                      0\n",
      "2016-12-15 18:20:03.473344 PST | PolicyOutputMean          -0.0222213\n",
      "2016-12-15 18:20:03.474050 PST | PolicyOutputStd            0.95278\n",
      "2016-12-15 18:20:03.474836 PST | PolicyOutputMax            1\n",
      "2016-12-15 18:20:03.475485 PST | PolicyOutputMin           -1\n",
      "2016-12-15 18:20:03.476190 PST | TargetPolicyOutputMean     0.00765701\n",
      "2016-12-15 18:20:03.476871 PST | TargetPolicyOutputStd      0.937948\n",
      "2016-12-15 18:20:03.477674 PST | TargetPolicyOutputMax      1\n",
      "2016-12-15 18:20:03.478467 PST | TargetPolicyOutputMin     -1\n",
      "2016-12-15 18:20:03.479276 PST | QfOutputMean             780.607\n",
      "2016-12-15 18:20:03.480164 PST | QfOutputStd              235.779\n",
      "2016-12-15 18:20:03.481657 PST | QfOutputMax             1017.09\n",
      "2016-12-15 18:20:03.482638 PST | QfOutputMin              208.358\n",
      "2016-12-15 18:20:03.483419 PST | TargetQfOutputMean       754.737\n",
      "2016-12-15 18:20:03.484122 PST | TargetQfOutputStd        239.335\n",
      "2016-12-15 18:20:03.484857 PST | TargetQfOutputMax        993.51\n",
      "2016-12-15 18:20:03.485644 PST | TargetQfOutputMin        179.771\n",
      "2016-12-15 18:20:03.486348 PST | RewardsMean                9.89826\n",
      "2016-12-15 18:20:03.486999 PST | RewardsStd                 0.994813\n",
      "2016-12-15 18:20:03.488058 PST | RewardsMax                 9.99991\n",
      "2016-12-15 18:20:03.490399 PST | RewardsMin                 0\n",
      "2016-12-15 18:20:03.491555 PST | ReturnsMean              989.826\n",
      "2016-12-15 18:20:03.492331 PST | ReturnsStd                 0\n",
      "2016-12-15 18:20:03.493075 PST | ReturnsMax               989.826\n",
      "2016-12-15 18:20:03.493864 PST | ReturnsMin               989.826\n",
      "2016-12-15 18:20:03.494660 PST | DiscountedReturnsMean    630.167\n",
      "2016-12-15 18:20:03.495316 PST | DiscountedReturnsStd       0\n",
      "2016-12-15 18:20:03.496032 PST | DiscountedReturnsMax     630.167\n",
      "2016-12-15 18:20:03.497027 PST | DiscountedReturnsMin     630.167\n",
      "2016-12-15 18:20:03.498291 PST | TrainingReturnsMean      649.87\n",
      "2016-12-15 18:20:03.500587 PST | TrainingReturnsStd         0\n",
      "2016-12-15 18:20:03.501978 PST | TrainingReturnsMax       649.87\n",
      "2016-12-15 18:20:03.503124 PST | TrainingReturnsMin       649.87\n",
      "2016-12-15 18:20:03.505027 PST | ----------------------  -------------\n",
      "2016-12-15 18:20:03.506809 PST | Epoch #88 | Training started\n"
     ]
    },
    {
     "name": "stderr",
     "output_type": "stream",
     "text": [
      "\n",
      "Total time elapsed: 00:00:00\n"
     ]
    },
    {
     "name": "stdout",
     "output_type": "stream",
     "text": [
      "2016-12-15 18:20:04.076721 PST | Epoch #88 | Training finished. Time: 0.5684030055999756\n",
      "2016-12-15 18:20:04.077636 PST | Epoch #88 | Collecting samples for evaluation\n"
     ]
    },
    {
     "name": "stderr",
     "output_type": "stream",
     "text": [
      "0%                          100%\n",
      "[##############################] | ETA: 00:00:00"
     ]
    },
    {
     "name": "stdout",
     "output_type": "stream",
     "text": [
      "2016-12-15 18:20:04.181960 PST | Epoch #88 | Eval time: 0.10431289672851562\n",
      "2016-12-15 18:20:04.183970 PST | ----------------------  ------------\n",
      "2016-12-15 18:20:04.184761 PST | Epoch                     88\n",
      "2016-12-15 18:20:04.185596 PST | AverageReturn           1499.75\n",
      "2016-12-15 18:20:04.186320 PST | PolicySurrogateLoss     -726.394\n",
      "2016-12-15 18:20:04.187327 PST | QfLoss                  1943.96\n",
      "2016-12-15 18:20:04.188126 PST | YsMean                   706.278\n",
      "2016-12-15 18:20:04.188902 PST | YsStd                    267.367\n",
      "2016-12-15 18:20:04.189598 PST | YsMax                    999.448\n",
      "2016-12-15 18:20:04.190488 PST | YsMin                      0\n",
      "2016-12-15 18:20:04.191427 PST | PolicyOutputMean           0.0166736\n",
      "2016-12-15 18:20:04.192290 PST | PolicyOutputStd            0.935414\n",
      "2016-12-15 18:20:04.193032 PST | PolicyOutputMax            1\n",
      "2016-12-15 18:20:04.193793 PST | PolicyOutputMin           -1\n",
      "2016-12-15 18:20:04.194494 PST | TargetPolicyOutputMean     0.0039928\n",
      "2016-12-15 18:20:04.195306 PST | TargetPolicyOutputStd      0.931208\n",
      "2016-12-15 18:20:04.196018 PST | TargetPolicyOutputMax      1\n",
      "2016-12-15 18:20:04.196835 PST | TargetPolicyOutputMin     -1\n",
      "2016-12-15 18:20:04.197662 PST | QfOutputMean             726.394\n",
      "2016-12-15 18:20:04.198924 PST | QfOutputStd              267.342\n",
      "2016-12-15 18:20:04.199808 PST | QfOutputMax             1015.62\n",
      "2016-12-15 18:20:04.200938 PST | QfOutputMin              177.089\n",
      "2016-12-15 18:20:04.202090 PST | TargetQfOutputMean       709.676\n",
      "2016-12-15 18:20:04.203182 PST | TargetQfOutputStd        264.445\n",
      "2016-12-15 18:20:04.204227 PST | TargetQfOutputMax        999.443\n",
      "2016-12-15 18:20:04.205222 PST | TargetQfOutputMin        165.824\n",
      "2016-12-15 18:20:04.206482 PST | RewardsMean                9.93209\n",
      "2016-12-15 18:20:04.207653 PST | RewardsStd                 0.810953\n",
      "2016-12-15 18:20:04.208545 PST | RewardsMax                 9.99998\n",
      "2016-12-15 18:20:04.209405 PST | RewardsMin                 0\n",
      "2016-12-15 18:20:04.210501 PST | ReturnsMean             1499.75\n",
      "2016-12-15 18:20:04.211410 PST | ReturnsStd                 0\n",
      "2016-12-15 18:20:04.212523 PST | ReturnsMax              1499.75\n",
      "2016-12-15 18:20:04.213384 PST | ReturnsMin              1499.75\n",
      "2016-12-15 18:20:04.214468 PST | DiscountedReturnsMean    778.434\n",
      "2016-12-15 18:20:04.215767 PST | DiscountedReturnsStd       0\n",
      "2016-12-15 18:20:04.216598 PST | DiscountedReturnsMax     778.434\n",
      "2016-12-15 18:20:04.217388 PST | DiscountedReturnsMin     778.434\n",
      "2016-12-15 18:20:04.218204 PST | TrainingReturnsMean      809.814\n",
      "2016-12-15 18:20:04.219117 PST | TrainingReturnsStd         0\n",
      "2016-12-15 18:20:04.219908 PST | TrainingReturnsMax       809.814\n",
      "2016-12-15 18:20:04.221173 PST | TrainingReturnsMin       809.814\n",
      "2016-12-15 18:20:04.222369 PST | ----------------------  ------------\n",
      "2016-12-15 18:20:04.223443 PST | Epoch #89 | Training started\n"
     ]
    },
    {
     "name": "stderr",
     "output_type": "stream",
     "text": [
      "\n",
      "Total time elapsed: 00:00:00\n"
     ]
    },
    {
     "name": "stdout",
     "output_type": "stream",
     "text": [
      "2016-12-15 18:20:04.821555 PST | Epoch #89 | Training finished. Time: 0.5969388484954834\n",
      "2016-12-15 18:20:04.822498 PST | Epoch #89 | Collecting samples for evaluation\n"
     ]
    },
    {
     "name": "stderr",
     "output_type": "stream",
     "text": [
      "0%                          100%\n",
      "[##############################] | ETA: 00:00:00"
     ]
    },
    {
     "name": "stdout",
     "output_type": "stream",
     "text": [
      "2016-12-15 18:20:04.897093 PST | Epoch #89 | Eval time: 0.07458996772766113\n",
      "2016-12-15 18:20:04.898895 PST | ----------------------  ------------\n",
      "2016-12-15 18:20:04.900224 PST | Epoch                     89\n",
      "2016-12-15 18:20:04.901400 PST | AverageReturn           1059.83\n",
      "2016-12-15 18:20:04.902553 PST | PolicySurrogateLoss     -823.691\n",
      "2016-12-15 18:20:04.903608 PST | QfLoss                  2778.86\n",
      "2016-12-15 18:20:04.904418 PST | YsMean                   796.314\n",
      "2016-12-15 18:20:04.905529 PST | YsStd                    258.72\n",
      "2016-12-15 18:20:04.906710 PST | YsMax                   1034.63\n",
      "2016-12-15 18:20:04.907828 PST | YsMin                      0\n",
      "2016-12-15 18:20:04.909002 PST | PolicyOutputMean          -0.0329886\n",
      "2016-12-15 18:20:04.909997 PST | PolicyOutputStd            0.942437\n",
      "2016-12-15 18:20:04.911156 PST | PolicyOutputMax            1\n",
      "2016-12-15 18:20:04.912313 PST | PolicyOutputMin           -1\n",
      "2016-12-15 18:20:04.913406 PST | TargetPolicyOutputMean     0.0425497\n",
      "2016-12-15 18:20:04.914485 PST | TargetPolicyOutputStd      0.944839\n",
      "2016-12-15 18:20:04.915721 PST | TargetPolicyOutputMax      1\n",
      "2016-12-15 18:20:04.916984 PST | TargetPolicyOutputMin     -1\n",
      "2016-12-15 18:20:04.918291 PST | QfOutputMean             823.691\n",
      "2016-12-15 18:20:04.919602 PST | QfOutputStd              248.338\n",
      "2016-12-15 18:20:04.921358 PST | QfOutputMax             1053.9\n",
      "2016-12-15 18:20:04.922482 PST | QfOutputMin              161.017\n",
      "2016-12-15 18:20:04.923709 PST | TargetQfOutputMean       803.378\n",
      "2016-12-15 18:20:04.924577 PST | TargetQfOutputStd        249.879\n",
      "2016-12-15 18:20:04.925647 PST | TargetQfOutputMax       1034.98\n",
      "2016-12-15 18:20:04.926716 PST | TargetQfOutputMin        161.353\n",
      "2016-12-15 18:20:04.927682 PST | RewardsMean                9.90493\n",
      "2016-12-15 18:20:04.928736 PST | RewardsStd                 0.962052\n",
      "2016-12-15 18:20:04.929762 PST | RewardsMax                 9.99981\n",
      "2016-12-15 18:20:04.930839 PST | RewardsMin                 0\n",
      "2016-12-15 18:20:04.931955 PST | ReturnsMean             1059.83\n",
      "2016-12-15 18:20:04.933223 PST | ReturnsStd                 0\n",
      "2016-12-15 18:20:04.934056 PST | ReturnsMax              1059.83\n",
      "2016-12-15 18:20:04.935026 PST | ReturnsMin              1059.83\n",
      "2016-12-15 18:20:04.936084 PST | DiscountedReturnsMean    655.288\n",
      "2016-12-15 18:20:04.937035 PST | DiscountedReturnsStd       0\n",
      "2016-12-15 18:20:04.937796 PST | DiscountedReturnsMax     655.288\n",
      "2016-12-15 18:20:04.938526 PST | DiscountedReturnsMin     655.288\n",
      "2016-12-15 18:20:04.939534 PST | TrainingReturnsMean      834.81\n",
      "2016-12-15 18:20:04.940507 PST | TrainingReturnsStd       334.916\n",
      "2016-12-15 18:20:04.941217 PST | TrainingReturnsMax      1169.73\n",
      "2016-12-15 18:20:04.941908 PST | TrainingReturnsMin       499.894\n",
      "2016-12-15 18:20:04.942652 PST | ----------------------  ------------\n",
      "2016-12-15 18:20:04.943401 PST | Epoch #90 | Training started\n"
     ]
    },
    {
     "name": "stderr",
     "output_type": "stream",
     "text": [
      "\n",
      "Total time elapsed: 00:00:00\n"
     ]
    },
    {
     "name": "stdout",
     "output_type": "stream",
     "text": [
      "2016-12-15 18:20:05.779795 PST | Epoch #90 | Training finished. Time: 0.8356759548187256\n",
      "2016-12-15 18:20:05.781629 PST | Epoch #90 | Collecting samples for evaluation\n"
     ]
    },
    {
     "name": "stderr",
     "output_type": "stream",
     "text": [
      "0%                          100%\n",
      "[##############################] | ETA: 00:00:00"
     ]
    },
    {
     "name": "stdout",
     "output_type": "stream",
     "text": [
      "2016-12-15 18:20:05.865632 PST | Epoch #90 | Eval time: 0.08401703834533691\n",
      "2016-12-15 18:20:05.868439 PST | ----------------------  --------------\n",
      "2016-12-15 18:20:05.869767 PST | Epoch                     90\n",
      "2016-12-15 18:20:05.870659 PST | AverageReturn           1069.77\n",
      "2016-12-15 18:20:05.871995 PST | PolicySurrogateLoss     -644.796\n",
      "2016-12-15 18:20:05.873113 PST | QfLoss                  1737.91\n",
      "2016-12-15 18:20:05.874304 PST | YsMean                   629.776\n",
      "2016-12-15 18:20:05.875088 PST | YsStd                    272.098\n",
      "2016-12-15 18:20:05.876211 PST | YsMax                   1008.52\n",
      "2016-12-15 18:20:05.877140 PST | YsMin                      0\n",
      "2016-12-15 18:20:05.877962 PST | PolicyOutputMean           0.0277355\n",
      "2016-12-15 18:20:05.878987 PST | PolicyOutputStd            0.961283\n",
      "2016-12-15 18:20:05.879879 PST | PolicyOutputMax            1\n",
      "2016-12-15 18:20:05.881059 PST | PolicyOutputMin           -1\n",
      "2016-12-15 18:20:05.882080 PST | TargetPolicyOutputMean    -0.000690529\n",
      "2016-12-15 18:20:05.883145 PST | TargetPolicyOutputStd      0.959272\n",
      "2016-12-15 18:20:05.884279 PST | TargetPolicyOutputMax      1\n",
      "2016-12-15 18:20:05.885398 PST | TargetPolicyOutputMin     -1\n",
      "2016-12-15 18:20:05.886438 PST | QfOutputMean             644.796\n",
      "2016-12-15 18:20:05.887502 PST | QfOutputStd              276.602\n",
      "2016-12-15 18:20:05.888352 PST | QfOutputMax             1029.33\n",
      "2016-12-15 18:20:05.889367 PST | QfOutputMin              161.508\n",
      "2016-12-15 18:20:05.890505 PST | TargetQfOutputMean       635.206\n",
      "2016-12-15 18:20:05.892016 PST | TargetQfOutputStd        269.942\n",
      "2016-12-15 18:20:05.892797 PST | TargetQfOutputMax       1008.61\n",
      "2016-12-15 18:20:05.893979 PST | TargetQfOutputMin        159.369\n",
      "2016-12-15 18:20:05.895039 PST | RewardsMean                9.9053\n",
      "2016-12-15 18:20:05.896214 PST | RewardsStd                 0.957583\n",
      "2016-12-15 18:20:05.897052 PST | RewardsMax                 9.99991\n",
      "2016-12-15 18:20:05.898781 PST | RewardsMin                 0\n",
      "2016-12-15 18:20:05.900158 PST | ReturnsMean             1069.77\n",
      "2016-12-15 18:20:05.902000 PST | ReturnsStd                 0\n",
      "2016-12-15 18:20:05.903593 PST | ReturnsMax              1069.77\n",
      "2016-12-15 18:20:05.904981 PST | ReturnsMin              1069.77\n",
      "2016-12-15 18:20:05.906400 PST | DiscountedReturnsMean    658.696\n",
      "2016-12-15 18:20:05.908031 PST | DiscountedReturnsStd       0\n",
      "2016-12-15 18:20:05.909297 PST | DiscountedReturnsMax     658.696\n",
      "2016-12-15 18:20:05.910868 PST | DiscountedReturnsMin     658.696\n",
      "2016-12-15 18:20:05.912147 PST | ----------------------  --------------\n",
      "2016-12-15 18:20:05.913519 PST | Epoch #91 | Training started\n"
     ]
    },
    {
     "name": "stderr",
     "output_type": "stream",
     "text": [
      "\n",
      "Total time elapsed: 00:00:00\n"
     ]
    },
    {
     "name": "stdout",
     "output_type": "stream",
     "text": [
      "2016-12-15 18:20:06.518703 PST | Epoch #91 | Training finished. Time: 0.6041948795318604\n",
      "2016-12-15 18:20:06.519576 PST | Epoch #91 | Collecting samples for evaluation\n"
     ]
    },
    {
     "name": "stderr",
     "output_type": "stream",
     "text": [
      "0%                          100%\n",
      "[##############################] | ETA: 00:00:00"
     ]
    },
    {
     "name": "stdout",
     "output_type": "stream",
     "text": [
      "2016-12-15 18:20:06.593238 PST | Epoch #91 | Eval time: 0.07365298271179199\n",
      "2016-12-15 18:20:06.595490 PST | ----------------------  --------------\n",
      "2016-12-15 18:20:06.596491 PST | Epoch                     91\n",
      "2016-12-15 18:20:06.597705 PST | AverageReturn           1039.85\n",
      "2016-12-15 18:20:06.599000 PST | PolicySurrogateLoss     -837.063\n",
      "2016-12-15 18:20:06.600241 PST | QfLoss                  2723.76\n",
      "2016-12-15 18:20:06.601558 PST | YsMean                   819.231\n",
      "2016-12-15 18:20:06.602678 PST | YsStd                    246.363\n",
      "2016-12-15 18:20:06.603615 PST | YsMax                   1059.48\n",
      "2016-12-15 18:20:06.604480 PST | YsMin                      0\n",
      "2016-12-15 18:20:06.605687 PST | PolicyOutputMean          -0.0176737\n",
      "2016-12-15 18:20:06.606977 PST | PolicyOutputStd            0.949319\n",
      "2016-12-15 18:20:06.607858 PST | PolicyOutputMax            1\n",
      "2016-12-15 18:20:06.608977 PST | PolicyOutputMin           -1\n",
      "2016-12-15 18:20:06.610103 PST | TargetPolicyOutputMean     0.000804806\n",
      "2016-12-15 18:20:06.611012 PST | TargetPolicyOutputStd      0.945173\n",
      "2016-12-15 18:20:06.612291 PST | TargetPolicyOutputMax      1\n",
      "2016-12-15 18:20:06.613179 PST | TargetPolicyOutputMin     -1\n",
      "2016-12-15 18:20:06.614180 PST | QfOutputMean             837.063\n",
      "2016-12-15 18:20:06.615207 PST | QfOutputStd              238.582\n",
      "2016-12-15 18:20:06.616014 PST | QfOutputMax             1074.77\n",
      "2016-12-15 18:20:06.616942 PST | QfOutputMin              240.903\n",
      "2016-12-15 18:20:06.618132 PST | TargetQfOutputMean       826.979\n",
      "2016-12-15 18:20:06.619063 PST | TargetQfOutputStd        235.826\n",
      "2016-12-15 18:20:06.620116 PST | TargetQfOutputMax       1060.08\n",
      "2016-12-15 18:20:06.620991 PST | TargetQfOutputMin        236.947\n",
      "2016-12-15 18:20:06.622229 PST | RewardsMean                9.9033\n",
      "2016-12-15 18:20:06.623101 PST | RewardsStd                 0.971098\n",
      "2016-12-15 18:20:06.624057 PST | RewardsMax                 9.99971\n",
      "2016-12-15 18:20:06.625391 PST | RewardsMin                 0\n",
      "2016-12-15 18:20:06.626250 PST | ReturnsMean             1039.85\n",
      "2016-12-15 18:20:06.627270 PST | ReturnsStd                 0\n",
      "2016-12-15 18:20:06.628395 PST | ReturnsMax              1039.85\n",
      "2016-12-15 18:20:06.629461 PST | ReturnsMin              1039.85\n",
      "2016-12-15 18:20:06.630469 PST | DiscountedReturnsMean    648.3\n",
      "2016-12-15 18:20:06.631251 PST | DiscountedReturnsStd       0\n",
      "2016-12-15 18:20:06.632316 PST | DiscountedReturnsMax     648.3\n",
      "2016-12-15 18:20:06.633396 PST | DiscountedReturnsMin     648.3\n",
      "2016-12-15 18:20:06.634403 PST | TrainingReturnsMean     1459.81\n",
      "2016-12-15 18:20:06.635479 PST | TrainingReturnsStd         0\n",
      "2016-12-15 18:20:06.636452 PST | TrainingReturnsMax      1459.81\n",
      "2016-12-15 18:20:06.637565 PST | TrainingReturnsMin      1459.81\n",
      "2016-12-15 18:20:06.638420 PST | ----------------------  --------------\n",
      "2016-12-15 18:20:06.639292 PST | Epoch #92 | Training started\n"
     ]
    },
    {
     "name": "stderr",
     "output_type": "stream",
     "text": [
      "\n",
      "Total time elapsed: 00:00:00\n"
     ]
    },
    {
     "name": "stdout",
     "output_type": "stream",
     "text": [
      "2016-12-15 18:20:07.235412 PST | Epoch #92 | Training finished. Time: 0.5952529907226562\n",
      "2016-12-15 18:20:07.236271 PST | Epoch #92 | Collecting samples for evaluation\n"
     ]
    },
    {
     "name": "stderr",
     "output_type": "stream",
     "text": [
      "0%                          100%\n",
      "[##############################] | ETA: 00:00:00"
     ]
    },
    {
     "name": "stdout",
     "output_type": "stream",
     "text": [
      "2016-12-15 18:20:07.333105 PST | Epoch #92 | Eval time: 0.09682679176330566\n",
      "2016-12-15 18:20:07.335605 PST | ----------------------  ------------\n",
      "2016-12-15 18:20:07.336409 PST | Epoch                     92\n",
      "2016-12-15 18:20:07.337691 PST | AverageReturn           1299.75\n",
      "2016-12-15 18:20:07.338648 PST | PolicySurrogateLoss     -658.603\n",
      "2016-12-15 18:20:07.339549 PST | QfLoss                  3583.95\n",
      "2016-12-15 18:20:07.340542 PST | YsMean                   643.055\n",
      "2016-12-15 18:20:07.341644 PST | YsStd                    252.063\n",
      "2016-12-15 18:20:07.342624 PST | YsMax                   1022.28\n",
      "2016-12-15 18:20:07.343950 PST | YsMin                      0\n",
      "2016-12-15 18:20:07.344885 PST | PolicyOutputMean           0.0273917\n",
      "2016-12-15 18:20:07.346154 PST | PolicyOutputStd            0.96297\n",
      "2016-12-15 18:20:07.347150 PST | PolicyOutputMax            1\n",
      "2016-12-15 18:20:07.348473 PST | PolicyOutputMin           -1\n",
      "2016-12-15 18:20:07.349717 PST | TargetPolicyOutputMean     0.0271186\n",
      "2016-12-15 18:20:07.350973 PST | TargetPolicyOutputStd      0.957368\n",
      "2016-12-15 18:20:07.352179 PST | TargetPolicyOutputMax      1\n",
      "2016-12-15 18:20:07.353068 PST | TargetPolicyOutputMin     -1\n",
      "2016-12-15 18:20:07.354346 PST | QfOutputMean             658.603\n",
      "2016-12-15 18:20:07.356588 PST | QfOutputStd              252.025\n",
      "2016-12-15 18:20:07.358002 PST | QfOutputMax             1034.28\n",
      "2016-12-15 18:20:07.359310 PST | QfOutputMin              180.111\n",
      "2016-12-15 18:20:07.360190 PST | TargetQfOutputMean       647.208\n",
      "2016-12-15 18:20:07.361461 PST | TargetQfOutputStd        250.14\n",
      "2016-12-15 18:20:07.362448 PST | TargetQfOutputMax       1022.51\n",
      "2016-12-15 18:20:07.363199 PST | TargetQfOutputMin        171.639\n",
      "2016-12-15 18:20:07.364274 PST | RewardsMean                9.92173\n",
      "2016-12-15 18:20:07.365652 PST | RewardsStd                 0.870195\n",
      "2016-12-15 18:20:07.366767 PST | RewardsMax                 9.99944\n",
      "2016-12-15 18:20:07.368734 PST | RewardsMin                 0\n",
      "2016-12-15 18:20:07.370616 PST | ReturnsMean             1299.75\n",
      "2016-12-15 18:20:07.372921 PST | ReturnsStd                 0\n",
      "2016-12-15 18:20:07.374338 PST | ReturnsMax              1299.75\n",
      "2016-12-15 18:20:07.378787 PST | ReturnsMin              1299.75\n",
      "2016-12-15 18:20:07.379925 PST | DiscountedReturnsMean    729.1\n",
      "2016-12-15 18:20:07.381097 PST | DiscountedReturnsStd       0\n",
      "2016-12-15 18:20:07.383229 PST | DiscountedReturnsMax     729.1\n",
      "2016-12-15 18:20:07.385563 PST | DiscountedReturnsMin     729.1\n",
      "2016-12-15 18:20:07.387320 PST | TrainingReturnsMean      519.89\n",
      "2016-12-15 18:20:07.388545 PST | TrainingReturnsStd       329.958\n",
      "2016-12-15 18:20:07.389524 PST | TrainingReturnsMax       849.848\n",
      "2016-12-15 18:20:07.391128 PST | TrainingReturnsMin       189.932\n",
      "2016-12-15 18:20:07.392756 PST | ----------------------  ------------\n",
      "2016-12-15 18:20:07.393677 PST | Epoch #93 | Training started\n"
     ]
    },
    {
     "name": "stderr",
     "output_type": "stream",
     "text": [
      "\n",
      "Total time elapsed: 00:00:00\n"
     ]
    },
    {
     "name": "stdout",
     "output_type": "stream",
     "text": [
      "2016-12-15 18:20:08.339892 PST | Epoch #93 | Training finished. Time: 0.945073127746582\n",
      "2016-12-15 18:20:08.341885 PST | Epoch #93 | Collecting samples for evaluation\n"
     ]
    },
    {
     "name": "stderr",
     "output_type": "stream",
     "text": [
      "0%                          100%\n",
      "[##############################] | ETA: 00:00:00"
     ]
    },
    {
     "name": "stdout",
     "output_type": "stream",
     "text": [
      "2016-12-15 18:20:08.571756 PST | Epoch #93 | Eval time: 0.2303938865661621\n",
      "2016-12-15 18:20:08.573707 PST | ----------------------  -------------\n",
      "2016-12-15 18:20:08.574567 PST | Epoch                     93\n",
      "2016-12-15 18:20:08.575442 PST | AverageReturn           1909.74\n",
      "2016-12-15 18:20:08.576248 PST | PolicySurrogateLoss     -795.326\n",
      "2016-12-15 18:20:08.577059 PST | QfLoss                  2154.34\n",
      "2016-12-15 18:20:08.577851 PST | YsMean                   780.212\n",
      "2016-12-15 18:20:08.578974 PST | YsStd                    273.665\n",
      "2016-12-15 18:20:08.579732 PST | YsMax                   1091.7\n",
      "2016-12-15 18:20:08.580609 PST | YsMin                      0\n",
      "2016-12-15 18:20:08.581406 PST | PolicyOutputMean           0.0124334\n",
      "2016-12-15 18:20:08.582495 PST | PolicyOutputStd            0.958541\n",
      "2016-12-15 18:20:08.583249 PST | PolicyOutputMax            1\n",
      "2016-12-15 18:20:08.584068 PST | PolicyOutputMin           -1\n",
      "2016-12-15 18:20:08.584864 PST | TargetPolicyOutputMean    -0.00280056\n",
      "2016-12-15 18:20:08.585798 PST | TargetPolicyOutputStd      0.951591\n",
      "2016-12-15 18:20:08.586680 PST | TargetPolicyOutputMax      1\n",
      "2016-12-15 18:20:08.587500 PST | TargetPolicyOutputMin     -1\n",
      "2016-12-15 18:20:08.588315 PST | QfOutputMean             795.326\n",
      "2016-12-15 18:20:08.589158 PST | QfOutputStd              272.533\n",
      "2016-12-15 18:20:08.590165 PST | QfOutputMax             1106.53\n",
      "2016-12-15 18:20:08.591095 PST | QfOutputMin              214.828\n",
      "2016-12-15 18:20:08.591934 PST | TargetQfOutputMean       783.408\n",
      "2016-12-15 18:20:08.592755 PST | TargetQfOutputStd        271.069\n",
      "2016-12-15 18:20:08.593547 PST | TargetQfOutputMax       1092.62\n",
      "2016-12-15 18:20:08.594370 PST | TargetQfOutputMin        204.738\n",
      "2016-12-15 18:20:08.595263 PST | RewardsMean                9.94655\n",
      "2016-12-15 18:20:08.596066 PST | RewardsStd                 0.719707\n",
      "2016-12-15 18:20:08.596873 PST | RewardsMax                 9.99997\n",
      "2016-12-15 18:20:08.598014 PST | RewardsMin                 0\n",
      "2016-12-15 18:20:08.599384 PST | ReturnsMean             1909.74\n",
      "2016-12-15 18:20:08.600741 PST | ReturnsStd                 0\n",
      "2016-12-15 18:20:08.602066 PST | ReturnsMax              1909.74\n",
      "2016-12-15 18:20:08.604175 PST | ReturnsMin              1909.74\n",
      "2016-12-15 18:20:08.605519 PST | DiscountedReturnsMean    853.225\n",
      "2016-12-15 18:20:08.606746 PST | DiscountedReturnsStd       0\n",
      "2016-12-15 18:20:08.608179 PST | DiscountedReturnsMax     853.225\n",
      "2016-12-15 18:20:08.609576 PST | DiscountedReturnsMin     853.225\n",
      "2016-12-15 18:20:08.610681 PST | TrainingReturnsMean      919.81\n",
      "2016-12-15 18:20:08.612148 PST | TrainingReturnsStd         0\n",
      "2016-12-15 18:20:08.613667 PST | TrainingReturnsMax       919.81\n",
      "2016-12-15 18:20:08.615126 PST | TrainingReturnsMin       919.81\n",
      "2016-12-15 18:20:08.616401 PST | ----------------------  -------------\n",
      "2016-12-15 18:20:08.618160 PST | Epoch #94 | Training started\n"
     ]
    },
    {
     "name": "stderr",
     "output_type": "stream",
     "text": [
      "\n",
      "Total time elapsed: 00:00:00\n"
     ]
    },
    {
     "name": "stdout",
     "output_type": "stream",
     "text": [
      "2016-12-15 18:20:09.309526 PST | Epoch #94 | Training finished. Time: 0.6838340759277344\n",
      "2016-12-15 18:20:09.310766 PST | Epoch #94 | Collecting samples for evaluation\n"
     ]
    },
    {
     "name": "stderr",
     "output_type": "stream",
     "text": [
      "0%                          100%\n",
      "[##############################] | ETA: 00:00:00"
     ]
    },
    {
     "name": "stdout",
     "output_type": "stream",
     "text": [
      "2016-12-15 18:20:09.447190 PST | Epoch #94 | Eval time: 0.1363987922668457\n",
      "2016-12-15 18:20:09.450656 PST | ----------------------  -------------\n",
      "2016-12-15 18:20:09.451963 PST | Epoch                     94\n",
      "2016-12-15 18:20:09.454631 PST | AverageReturn           1589.78\n",
      "2016-12-15 18:20:09.456878 PST | PolicySurrogateLoss     -804.656\n",
      "2016-12-15 18:20:09.459033 PST | QfLoss                  1974.44\n",
      "2016-12-15 18:20:09.463321 PST | YsMean                   794.291\n",
      "2016-12-15 18:20:09.465800 PST | YsStd                    299.732\n",
      "2016-12-15 18:20:09.467246 PST | YsMax                   1096.8\n",
      "2016-12-15 18:20:09.468780 PST | YsMin                      0\n",
      "2016-12-15 18:20:09.471228 PST | PolicyOutputMean           0.00877246\n",
      "2016-12-15 18:20:09.473500 PST | PolicyOutputStd            0.94821\n",
      "2016-12-15 18:20:09.477038 PST | PolicyOutputMax            1\n",
      "2016-12-15 18:20:09.478812 PST | PolicyOutputMin           -1\n",
      "2016-12-15 18:20:09.481104 PST | TargetPolicyOutputMean     0.0102443\n",
      "2016-12-15 18:20:09.482558 PST | TargetPolicyOutputStd      0.945051\n",
      "2016-12-15 18:20:09.484391 PST | TargetPolicyOutputMax      1\n",
      "2016-12-15 18:20:09.485872 PST | TargetPolicyOutputMin     -1\n",
      "2016-12-15 18:20:09.487069 PST | QfOutputMean             804.656\n",
      "2016-12-15 18:20:09.490152 PST | QfOutputStd              301.612\n",
      "2016-12-15 18:20:09.493565 PST | QfOutputMax             1112.52\n",
      "2016-12-15 18:20:09.495891 PST | QfOutputMin              213.63\n",
      "2016-12-15 18:20:09.498156 PST | TargetQfOutputMean       798.839\n",
      "2016-12-15 18:20:09.500023 PST | TargetQfOutputStd        296.667\n",
      "2016-12-15 18:20:09.502041 PST | TargetQfOutputMax       1097.78\n",
      "2016-12-15 18:20:09.504892 PST | TargetQfOutputMin        212.635\n",
      "2016-12-15 18:20:09.506998 PST | RewardsMean                9.93612\n",
      "2016-12-15 18:20:09.508466 PST | RewardsStd                 0.787986\n",
      "2016-12-15 18:20:09.510296 PST | RewardsMax                 9.99997\n",
      "2016-12-15 18:20:09.511629 PST | RewardsMin                 0\n",
      "2016-12-15 18:20:09.513202 PST | ReturnsMean             1589.78\n"
     ]
    },
    {
     "name": "stderr",
     "output_type": "stream",
     "text": [
      "\n",
      "Total time elapsed: 00:00:00\n"
     ]
    },
    {
     "name": "stdout",
     "output_type": "stream",
     "text": [
      "2016-12-15 18:20:09.514370 PST | ReturnsStd                 0\n",
      "2016-12-15 18:20:09.515812 PST | ReturnsMax              1589.78\n",
      "2016-12-15 18:20:09.516757 PST | ReturnsMin              1589.78\n",
      "2016-12-15 18:20:09.518086 PST | DiscountedReturnsMean    797.591\n",
      "2016-12-15 18:20:09.519167 PST | DiscountedReturnsStd       0\n",
      "2016-12-15 18:20:09.520065 PST | DiscountedReturnsMax     797.591\n",
      "2016-12-15 18:20:09.521083 PST | DiscountedReturnsMin     797.591\n",
      "2016-12-15 18:20:09.521966 PST | TrainingReturnsMean     1049.73\n",
      "2016-12-15 18:20:09.522840 PST | TrainingReturnsStd         0\n",
      "2016-12-15 18:20:09.523868 PST | TrainingReturnsMax      1049.73\n",
      "2016-12-15 18:20:09.524810 PST | TrainingReturnsMin      1049.73\n",
      "2016-12-15 18:20:09.525678 PST | ----------------------  -------------\n",
      "2016-12-15 18:20:09.526842 PST | Epoch #95 | Training started\n",
      "2016-12-15 18:20:10.290810 PST | Epoch #95 | Training finished. Time: 0.7627379894256592\n",
      "2016-12-15 18:20:10.291786 PST | Epoch #95 | Collecting samples for evaluation\n"
     ]
    },
    {
     "name": "stderr",
     "output_type": "stream",
     "text": [
      "0%                          100%\n",
      "[##############################] | ETA: 00:00:00"
     ]
    },
    {
     "name": "stdout",
     "output_type": "stream",
     "text": [
      "2016-12-15 18:20:10.379890 PST | Epoch #95 | Eval time: 0.08809494972229004\n",
      "2016-12-15 18:20:10.381631 PST | ----------------------  -------------\n",
      "2016-12-15 18:20:10.382481 PST | Epoch                     95\n",
      "2016-12-15 18:20:10.383453 PST | AverageReturn            989.821\n",
      "2016-12-15 18:20:10.384153 PST | PolicySurrogateLoss     -886.075\n",
      "2016-12-15 18:20:10.385152 PST | QfLoss                  4507.31\n",
      "2016-12-15 18:20:10.386814 PST | YsMean                   870.195\n",
      "2016-12-15 18:20:10.388040 PST | YsStd                    263.936\n",
      "2016-12-15 18:20:10.388941 PST | YsMax                   1158.5\n",
      "2016-12-15 18:20:10.390056 PST | YsMin                      0\n",
      "2016-12-15 18:20:10.391187 PST | PolicyOutputMean          -0.0261732\n",
      "2016-12-15 18:20:10.392138 PST | PolicyOutputStd            0.926558\n",
      "2016-12-15 18:20:10.392876 PST | PolicyOutputMax            1\n",
      "2016-12-15 18:20:10.394010 PST | PolicyOutputMin           -1\n",
      "2016-12-15 18:20:10.394714 PST | TargetPolicyOutputMean     0.00943987\n",
      "2016-12-15 18:20:10.395513 PST | TargetPolicyOutputStd      0.937795\n",
      "2016-12-15 18:20:10.396676 PST | TargetPolicyOutputMax      1\n",
      "2016-12-15 18:20:10.397619 PST | TargetPolicyOutputMin     -1\n",
      "2016-12-15 18:20:10.399108 PST | QfOutputMean             886.075\n",
      "2016-12-15 18:20:10.400649 PST | QfOutputStd              248.355\n",
      "2016-12-15 18:20:10.404035 PST | QfOutputMax             1163.05\n",
      "2016-12-15 18:20:10.406336 PST | QfOutputMin              309.167\n",
      "2016-12-15 18:20:10.407908 PST | TargetQfOutputMean       879.568\n",
      "2016-12-15 18:20:10.409332 PST | TargetQfOutputStd        252.179\n",
      "2016-12-15 18:20:10.410403 PST | TargetQfOutputMax       1160.1\n",
      "2016-12-15 18:20:10.411504 PST | TargetQfOutputMin        302.265\n",
      "2016-12-15 18:20:10.412411 PST | RewardsMean                9.89821\n",
      "2016-12-15 18:20:10.413362 PST | RewardsStd                 0.994808\n",
      "2016-12-15 18:20:10.414660 PST | RewardsMax                 9.99991\n",
      "2016-12-15 18:20:10.415684 PST | RewardsMin                 0\n",
      "2016-12-15 18:20:10.416707 PST | ReturnsMean              989.821\n",
      "2016-12-15 18:20:10.418175 PST | ReturnsStd                 0\n",
      "2016-12-15 18:20:10.419551 PST | ReturnsMax               989.821\n",
      "2016-12-15 18:20:10.421145 PST | ReturnsMin               989.821\n",
      "2016-12-15 18:20:10.422785 PST | DiscountedReturnsMean    630.147\n",
      "2016-12-15 18:20:10.423870 PST | DiscountedReturnsStd       0\n",
      "2016-12-15 18:20:10.425393 PST | DiscountedReturnsMax     630.147\n",
      "2016-12-15 18:20:10.426271 PST | DiscountedReturnsMin     630.147\n",
      "2016-12-15 18:20:10.427294 PST | ----------------------  -------------\n",
      "2016-12-15 18:20:10.428302 PST | Epoch #96 | Training started\n"
     ]
    },
    {
     "name": "stderr",
     "output_type": "stream",
     "text": [
      "\n",
      "Total time elapsed: 00:00:00\n"
     ]
    },
    {
     "name": "stdout",
     "output_type": "stream",
     "text": [
      "2016-12-15 18:20:11.160356 PST | Epoch #96 | Training finished. Time: 0.7295770645141602\n",
      "2016-12-15 18:20:11.161286 PST | Epoch #96 | Collecting samples for evaluation\n"
     ]
    },
    {
     "name": "stderr",
     "output_type": "stream",
     "text": [
      "0%                          100%\n",
      "[##############################] | ETA: 00:00:00"
     ]
    },
    {
     "name": "stdout",
     "output_type": "stream",
     "text": [
      "2016-12-15 18:20:11.315714 PST | Epoch #96 | Eval time: 0.15442204475402832\n",
      "2016-12-15 18:20:11.317742 PST | ----------------------  ------------\n",
      "2016-12-15 18:20:11.318892 PST | Epoch                     96\n",
      "2016-12-15 18:20:11.319786 PST | AverageReturn           2399.66\n",
      "2016-12-15 18:20:11.320598 PST | PolicySurrogateLoss     -849.362\n",
      "2016-12-15 18:20:11.321737 PST | QfLoss                  1819.73\n",
      "2016-12-15 18:20:11.322633 PST | YsMean                   831.968\n",
      "2016-12-15 18:20:11.323841 PST | YsStd                    265.676\n",
      "2016-12-15 18:20:11.325051 PST | YsMax                   1133.15\n",
      "2016-12-15 18:20:11.326124 PST | YsMin                      0\n",
      "2016-12-15 18:20:11.327048 PST | PolicyOutputMean           0.0082079\n",
      "2016-12-15 18:20:11.328157 PST | PolicyOutputStd            0.963211\n",
      "2016-12-15 18:20:11.329184 PST | PolicyOutputMax            1\n",
      "2016-12-15 18:20:11.330050 PST | PolicyOutputMin           -1\n",
      "2016-12-15 18:20:11.331269 PST | TargetPolicyOutputMean    -0.0128312\n",
      "2016-12-15 18:20:11.332760 PST | TargetPolicyOutputStd      0.95799\n",
      "2016-12-15 18:20:11.333912 PST | TargetPolicyOutputMax      1\n",
      "2016-12-15 18:20:11.334970 PST | TargetPolicyOutputMin     -1\n",
      "2016-12-15 18:20:11.336146 PST | QfOutputMean             849.362\n",
      "2016-12-15 18:20:11.337048 PST | QfOutputStd              268.259\n",
      "2016-12-15 18:20:11.338208 PST | QfOutputMax             1145.59\n",
      "2016-12-15 18:20:11.339497 PST | QfOutputMin              190.58\n",
      "2016-12-15 18:20:11.340339 PST | TargetQfOutputMean       834.766\n",
      "2016-12-15 18:20:11.341419 PST | TargetQfOutputStd        263.269\n",
      "2016-12-15 18:20:11.343805 PST | TargetQfOutputMax       1134.5\n",
      "2016-12-15 18:20:11.345088 PST | TargetQfOutputMin        180.607\n",
      "2016-12-15 18:20:11.346634 PST | RewardsMean                9.95711\n",
      "2016-12-15 18:20:11.348784 PST | RewardsStd                 0.642729\n",
      "2016-12-15 18:20:11.349947 PST | RewardsMax                 9.99989\n",
      "2016-12-15 18:20:11.351354 PST | RewardsMin                 0\n",
      "2016-12-15 18:20:11.352533 PST | ReturnsMean             2399.66\n",
      "2016-12-15 18:20:11.353454 PST | ReturnsStd                 0\n",
      "2016-12-15 18:20:11.354690 PST | ReturnsMax              2399.66\n",
      "2016-12-15 18:20:11.355793 PST | ReturnsMin              2399.66\n",
      "2016-12-15 18:20:11.356993 PST | DiscountedReturnsMean    910.247\n",
      "2016-12-15 18:20:11.357932 PST | DiscountedReturnsStd       0\n",
      "2016-12-15 18:20:11.358864 PST | DiscountedReturnsMax     910.247\n",
      "2016-12-15 18:20:11.360106 PST | DiscountedReturnsMin     910.247\n",
      "2016-12-15 18:20:11.361116 PST | TrainingReturnsMean      577.378\n",
      "2016-12-15 18:20:11.362379 PST | TrainingReturnsStd       704.151\n",
      "2016-12-15 18:20:11.363468 PST | TrainingReturnsMax      1729.74\n",
      "2016-12-15 18:20:11.364628 PST | TrainingReturnsMin         0\n"
     ]
    },
    {
     "name": "stderr",
     "output_type": "stream",
     "text": [
      "\n",
      "Total time elapsed: 00:00:00\n"
     ]
    },
    {
     "name": "stdout",
     "output_type": "stream",
     "text": [
      "2016-12-15 18:20:11.365756 PST | ----------------------  ------------\n",
      "2016-12-15 18:20:11.367151 PST | Epoch #97 | Training started\n",
      "2016-12-15 18:20:11.928102 PST | Epoch #97 | Training finished. Time: 0.5596699714660645\n",
      "2016-12-15 18:20:11.929033 PST | Epoch #97 | Collecting samples for evaluation\n"
     ]
    },
    {
     "name": "stderr",
     "output_type": "stream",
     "text": [
      "0%                          100%\n",
      "[##############################] | ETA: 00:00:00"
     ]
    },
    {
     "name": "stdout",
     "output_type": "stream",
     "text": [
      "2016-12-15 18:20:12.047769 PST | Epoch #97 | Eval time: 0.11871790885925293\n",
      "2016-12-15 18:20:12.049842 PST | ----------------------  ------------\n",
      "2016-12-15 18:20:12.050894 PST | Epoch                     97\n",
      "2016-12-15 18:20:12.052046 PST | AverageReturn           1759.74\n",
      "2016-12-15 18:20:12.053010 PST | PolicySurrogateLoss     -796.553\n",
      "2016-12-15 18:20:12.053871 PST | QfLoss                  1871.35\n",
      "2016-12-15 18:20:12.054877 PST | YsMean                   786.119\n",
      "2016-12-15 18:20:12.056127 PST | YsStd                    303.321\n",
      "2016-12-15 18:20:12.056938 PST | YsMax                   1159.96\n",
      "2016-12-15 18:20:12.057948 PST | YsMin                      0\n",
      "2016-12-15 18:20:12.059165 PST | PolicyOutputMean           0.0157855\n",
      "2016-12-15 18:20:12.060266 PST | PolicyOutputStd            0.95139\n",
      "2016-12-15 18:20:12.061100 PST | PolicyOutputMax            1\n",
      "2016-12-15 18:20:12.062072 PST | PolicyOutputMin           -1\n",
      "2016-12-15 18:20:12.062906 PST | TargetPolicyOutputMean    -0.0126924\n",
      "2016-12-15 18:20:12.063912 PST | TargetPolicyOutputStd      0.943857\n",
      "2016-12-15 18:20:12.064863 PST | TargetPolicyOutputMax      1\n",
      "2016-12-15 18:20:12.065845 PST | TargetPolicyOutputMin     -1\n",
      "2016-12-15 18:20:12.066787 PST | QfOutputMean             796.553\n",
      "2016-12-15 18:20:12.067684 PST | QfOutputStd              304.514\n",
      "2016-12-15 18:20:12.068510 PST | QfOutputMax             1171.24\n",
      "2016-12-15 18:20:12.069615 PST | QfOutputMin              196.958\n",
      "2016-12-15 18:20:12.070551 PST | TargetQfOutputMean       790.16\n",
      "2016-12-15 18:20:12.071606 PST | TargetQfOutputStd        301.314\n",
      "2016-12-15 18:20:12.072417 PST | TargetQfOutputMax       1161.58\n",
      "2016-12-15 18:20:12.073384 PST | TargetQfOutputMin        193.576\n",
      "2016-12-15 18:20:12.074305 PST | RewardsMean                9.94203\n",
      "2016-12-15 18:20:12.075299 PST | RewardsStd                 0.749409\n",
      "2016-12-15 18:20:12.076419 PST | RewardsMax                10\n",
      "2016-12-15 18:20:12.077338 PST | RewardsMin                 0\n",
      "2016-12-15 18:20:12.078300 PST | ReturnsMean             1759.74\n",
      "2016-12-15 18:20:12.079260 PST | ReturnsStd                 0\n",
      "2016-12-15 18:20:12.080092 PST | ReturnsMax              1759.74\n",
      "2016-12-15 18:20:12.080909 PST | ReturnsMin              1759.74\n",
      "2016-12-15 18:20:12.082174 PST | DiscountedReturnsMean    829.352\n",
      "2016-12-15 18:20:12.082945 PST | DiscountedReturnsStd       0\n",
      "2016-12-15 18:20:12.083963 PST | DiscountedReturnsMax     829.352\n",
      "2016-12-15 18:20:12.084939 PST | DiscountedReturnsMin     829.352\n",
      "2016-12-15 18:20:12.085887 PST | TrainingReturnsMean      373.221\n",
      "2016-12-15 18:20:12.086794 PST | TrainingReturnsStd       247.137\n",
      "2016-12-15 18:20:12.087739 PST | TrainingReturnsMax       649.856\n",
      "2016-12-15 18:20:12.088676 PST | TrainingReturnsMin        49.9167\n",
      "2016-12-15 18:20:12.089597 PST | ----------------------  ------------\n",
      "2016-12-15 18:20:12.090587 PST | Epoch #98 | Training started\n"
     ]
    },
    {
     "name": "stderr",
     "output_type": "stream",
     "text": [
      "\n",
      "Total time elapsed: 00:00:00\n"
     ]
    },
    {
     "name": "stdout",
     "output_type": "stream",
     "text": [
      "2016-12-15 18:20:12.712263 PST | Epoch #98 | Training finished. Time: 0.6205611228942871\n",
      "2016-12-15 18:20:12.713735 PST | Epoch #98 | Collecting samples for evaluation\n"
     ]
    },
    {
     "name": "stderr",
     "output_type": "stream",
     "text": [
      "0%                          100%\n",
      "[##############################] | ETA: 00:00:00"
     ]
    },
    {
     "name": "stdout",
     "output_type": "stream",
     "text": [
      "2016-12-15 18:20:12.818695 PST | Epoch #98 | Eval time: 0.10495591163635254\n",
      "2016-12-15 18:20:12.821102 PST | ----------------------  ------------\n",
      "2016-12-15 18:20:12.822121 PST | Epoch                     98\n",
      "2016-12-15 18:20:12.823911 PST | AverageReturn           1119.84\n",
      "2016-12-15 18:20:12.825130 PST | PolicySurrogateLoss     -763.736\n",
      "2016-12-15 18:20:12.826832 PST | QfLoss                  1668.79\n",
      "2016-12-15 18:20:12.828021 PST | YsMean                   748.712\n",
      "2016-12-15 18:20:12.829705 PST | YsStd                    346.109\n",
      "2016-12-15 18:20:12.831174 PST | YsMax                   1155.78\n",
      "2016-12-15 18:20:12.833643 PST | YsMin                      0\n",
      "2016-12-15 18:20:12.834739 PST | PolicyOutputMean           0.0190392\n",
      "2016-12-15 18:20:12.836536 PST | PolicyOutputStd            0.943138\n",
      "2016-12-15 18:20:12.838358 PST | PolicyOutputMax            1\n",
      "2016-12-15 18:20:12.840175 PST | PolicyOutputMin           -1\n",
      "2016-12-15 18:20:12.841559 PST | TargetPolicyOutputMean    -0.0334178\n",
      "2016-12-15 18:20:12.843041 PST | TargetPolicyOutputStd      0.954748\n",
      "2016-12-15 18:20:12.844570 PST | TargetPolicyOutputMax      1\n",
      "2016-12-15 18:20:12.846151 PST | TargetPolicyOutputMin     -1\n",
      "2016-12-15 18:20:12.847260 PST | QfOutputMean             763.736\n",
      "2016-12-15 18:20:12.848713 PST | QfOutputStd              346.605\n",
      "2016-12-15 18:20:12.850017 PST | QfOutputMax             1180\n",
      "2016-12-15 18:20:12.851734 PST | QfOutputMin              206.284\n",
      "2016-12-15 18:20:12.853566 PST | TargetQfOutputMean       756.071\n",
      "2016-12-15 18:20:12.855223 PST | TargetQfOutputStd        343.836\n",
      "2016-12-15 18:20:12.856526 PST | TargetQfOutputMax       1157.35\n",
      "2016-12-15 18:20:12.858776 PST | TargetQfOutputMin        196.508\n",
      "2016-12-15 18:20:12.860048 PST | RewardsMean                9.91006\n",
      "2016-12-15 18:20:12.861701 PST | RewardsStd                 0.936413\n",
      "2016-12-15 18:20:12.863282 PST | RewardsMax                 9.99973\n",
      "2016-12-15 18:20:12.864951 PST | RewardsMin                 0\n",
      "2016-12-15 18:20:12.866329 PST | ReturnsMean             1119.84\n",
      "2016-12-15 18:20:12.867853 PST | ReturnsStd                 0\n",
      "2016-12-15 18:20:12.868807 PST | ReturnsMax              1119.84\n",
      "2016-12-15 18:20:12.870284 PST | ReturnsMin              1119.84\n",
      "2016-12-15 18:20:12.871660 PST | DiscountedReturnsMean    675.46\n",
      "2016-12-15 18:20:12.873394 PST | DiscountedReturnsStd       0\n",
      "2016-12-15 18:20:12.874617 PST | DiscountedReturnsMax     675.46\n",
      "2016-12-15 18:20:12.876154 PST | DiscountedReturnsMin     675.46\n",
      "2016-12-15 18:20:12.877441 PST | TrainingReturnsMean      274.933\n",
      "2016-12-15 18:20:12.878960 PST | TrainingReturnsStd       115.005\n",
      "2016-12-15 18:20:12.880399 PST | TrainingReturnsMax       389.938\n",
      "2016-12-15 18:20:12.881884 PST | TrainingReturnsMin       159.928\n",
      "2016-12-15 18:20:12.883212 PST | ----------------------  ------------\n",
      "2016-12-15 18:20:12.884670 PST | Epoch #99 | Training started\n"
     ]
    },
    {
     "name": "stderr",
     "output_type": "stream",
     "text": [
      "\n",
      "Total time elapsed: 00:00:00\n"
     ]
    },
    {
     "name": "stdout",
     "output_type": "stream",
     "text": [
      "2016-12-15 18:20:13.595455 PST | Epoch #99 | Training finished. Time: 0.7093439102172852\n",
      "2016-12-15 18:20:13.596653 PST | Epoch #99 | Collecting samples for evaluation\n"
     ]
    },
    {
     "name": "stderr",
     "output_type": "stream",
     "text": [
      "0%                          100%\n",
      "[##############################] | ETA: 00:00:00"
     ]
    },
    {
     "name": "stdout",
     "output_type": "stream",
     "text": [
      "2016-12-15 18:20:13.679356 PST | Epoch #99 | Eval time: 0.08270001411437988\n",
      "2016-12-15 18:20:13.681279 PST | ----------------------  ------------\n",
      "2016-12-15 18:20:13.682079 PST | Epoch                     99\n",
      "2016-12-15 18:20:13.682958 PST | AverageReturn           1009.83\n",
      "2016-12-15 18:20:13.683775 PST | PolicySurrogateLoss     -680.246\n",
      "2016-12-15 18:20:13.684600 PST | QfLoss                  1558.74\n",
      "2016-12-15 18:20:13.685431 PST | YsMean                   674.377\n",
      "2016-12-15 18:20:13.686231 PST | YsStd                    332.853\n",
      "2016-12-15 18:20:13.687029 PST | YsMax                   1171.01\n",
      "2016-12-15 18:20:13.687825 PST | YsMin                      0\n",
      "2016-12-15 18:20:13.688621 PST | PolicyOutputMean           0.0251623\n",
      "2016-12-15 18:20:13.689401 PST | PolicyOutputStd            0.952872\n",
      "2016-12-15 18:20:13.690227 PST | PolicyOutputMax            1\n",
      "2016-12-15 18:20:13.691019 PST | PolicyOutputMin           -1\n",
      "2016-12-15 18:20:13.691814 PST | TargetPolicyOutputMean     0.0726492\n",
      "2016-12-15 18:20:13.692604 PST | TargetPolicyOutputStd      0.951505\n",
      "2016-12-15 18:20:13.693401 PST | TargetPolicyOutputMax      1\n",
      "2016-12-15 18:20:13.694200 PST | TargetPolicyOutputMin     -1\n",
      "2016-12-15 18:20:13.695346 PST | QfOutputMean             680.246\n",
      "2016-12-15 18:20:13.696146 PST | QfOutputStd              338.121\n",
      "2016-12-15 18:20:13.697117 PST | QfOutputMax             1182.04\n",
      "2016-12-15 18:20:13.698068 PST | QfOutputMin              197.963\n",
      "2016-12-15 18:20:13.699280 PST | TargetQfOutputMean       682.147\n",
      "2016-12-15 18:20:13.700516 PST | TargetQfOutputStd        332.153\n",
      "2016-12-15 18:20:13.701875 PST | TargetQfOutputMax       1172.74\n",
      "2016-12-15 18:20:13.703087 PST | TargetQfOutputMin        201.125\n",
      "2016-12-15 18:20:13.704321 PST | RewardsMean                9.90028\n",
      "2016-12-15 18:20:13.705407 PST | RewardsStd                 0.985115\n",
      "2016-12-15 18:20:13.706629 PST | RewardsMax                 9.99986\n",
      "2016-12-15 18:20:13.707845 PST | RewardsMin                 0\n",
      "2016-12-15 18:20:13.708856 PST | ReturnsMean             1009.83\n",
      "2016-12-15 18:20:13.710138 PST | ReturnsStd                 0\n",
      "2016-12-15 18:20:13.711249 PST | ReturnsMax              1009.83\n",
      "2016-12-15 18:20:13.712587 PST | ReturnsMin              1009.83\n",
      "2016-12-15 18:20:13.713802 PST | DiscountedReturnsMean    637.52\n",
      "2016-12-15 18:20:13.714997 PST | DiscountedReturnsStd       0\n",
      "2016-12-15 18:20:13.716168 PST | DiscountedReturnsMax     637.52\n",
      "2016-12-15 18:20:13.717532 PST | DiscountedReturnsMin     637.52\n",
      "2016-12-15 18:20:13.718733 PST | TrainingReturnsMean     1439.74\n",
      "2016-12-15 18:20:13.720096 PST | TrainingReturnsStd         0\n",
      "2016-12-15 18:20:13.721283 PST | TrainingReturnsMax      1439.74\n",
      "2016-12-15 18:20:13.722404 PST | TrainingReturnsMin      1439.74\n",
      "2016-12-15 18:20:13.723539 PST | ----------------------  ------------\n"
     ]
    },
    {
     "name": "stderr",
     "output_type": "stream",
     "text": [
      "\n",
      "Total time elapsed: 00:00:00\n"
     ]
    }
   ],
   "source": [
    "algorithm.train()"
   ]
  },
  {
   "cell_type": "code",
   "execution_count": 4,
   "metadata": {
    "collapsed": false
   },
   "outputs": [
    {
     "name": "stdout",
     "output_type": "stream",
     "text": [
      "1\n",
      "4\n",
      "1.0\n",
      "-1.0\n"
     ]
    }
   ],
   "source": [
    "a_dim = qf.action_dim\n",
    "o_dim = qf.observation_dim\n",
    "o_high = env.spec.action_space.high[0]\n",
    "o_low = env.spec.action_space.low[0]\n",
    "print(a_dim)\n",
    "print(o_dim)\n",
    "print(o_high)\n",
    "print(o_low)"
   ]
  },
  {
   "cell_type": "markdown",
   "metadata": {},
   "source": [
    "# Plot QF"
   ]
  },
  {
   "cell_type": "code",
   "execution_count": 5,
   "metadata": {
    "collapsed": false
   },
   "outputs": [],
   "source": [
    "import matplotlib.pyplot as plt\n",
    "import numpy as np\n",
    "import random"
   ]
  },
  {
   "cell_type": "code",
   "execution_count": 6,
   "metadata": {
    "collapsed": false
   },
   "outputs": [
    {
     "data": {
      "image/png": "[encoded data removed]",
      "text/plain": [
       "<matplotlib.figure.Figure at 0x1140c9cf8>"
      ]
     },
     "metadata": {},
     "output_type": "display_data"
    }
   ],
   "source": [
    "num_actions = 10000\n",
    "\n",
    "actions = np.linspace(-1, 1, num_actions)\n",
    "actions = np.expand_dims(actions, axis=1)\n",
    "random_state_single = np.random.rand(1, o_dim)\n",
    "random_state = np.vstack([random_state_single for _ in range(num_actions)])\n",
    "\n",
    "feed_dict = {\n",
    "    qf.action_input: actions,\n",
    "    qf.observation_input: random_state,\n",
    "}\n",
    "qf_output = qf.sess.run(\n",
    "    qf.output,\n",
    "    feed_dict=feed_dict\n",
    ")\n",
    "\n",
    "plt.plot(actions, qf_output)\n",
    "plt.xlabel('Action')\n",
    "plt.ylabel('QF output')\n",
    "plt.show()"
   ]
  },
  {
   "cell_type": "markdown",
   "metadata": {},
   "source": [
    "# Inspect correctness of this quadratic function"
   ]
  },
  {
   "cell_type": "code",
   "execution_count": 7,
   "metadata": {
    "collapsed": false,
    "scrolled": true
   },
   "outputs": [
    {
     "ename": "AttributeError",
     "evalue": "'FeedForwardCritic' object has no attribute '_internal_qf'",
     "output_type": "error",
     "traceback": [
      "\u001b[0;31m---------------------------------------------------------------------------\u001b[0m",
      "\u001b[0;31mAttributeError\u001b[0m                            Traceback (most recent call last)",
      "\u001b[0;32m<ipython-input-7-43633fd3b850>\u001b[0m in \u001b[0;36m<module>\u001b[0;34m()\u001b[0m\n\u001b[1;32m      4\u001b[0m }\n\u001b[1;32m      5\u001b[0m L_params, L, implicit_policy_output = qf.sess.run(\n\u001b[0;32m----> 6\u001b[0;31m     \u001b[0;34m[\u001b[0m\u001b[0mqf\u001b[0m\u001b[0;34m.\u001b[0m\u001b[0m_internal_qf\u001b[0m\u001b[0;34m.\u001b[0m\u001b[0mL_params\u001b[0m\u001b[0;34m.\u001b[0m\u001b[0moutput\u001b[0m\u001b[0;34m,\u001b[0m \u001b[0mqf\u001b[0m\u001b[0;34m.\u001b[0m\u001b[0m_internal_qf\u001b[0m\u001b[0;34m.\u001b[0m\u001b[0mL\u001b[0m\u001b[0;34m,\u001b[0m \u001b[0mqf\u001b[0m\u001b[0;34m.\u001b[0m\u001b[0mimplicit_policy\u001b[0m\u001b[0;34m.\u001b[0m\u001b[0moutput\u001b[0m\u001b[0;34m]\u001b[0m\u001b[0;34m,\u001b[0m\u001b[0;34m\u001b[0m\u001b[0m\n\u001b[0m\u001b[1;32m      7\u001b[0m     \u001b[0mfeed_dict\u001b[0m\u001b[0;34m=\u001b[0m\u001b[0mfeed_dict\u001b[0m\u001b[0;34m\u001b[0m\u001b[0m\n\u001b[1;32m      8\u001b[0m )\n",
      "\u001b[0;31mAttributeError\u001b[0m: 'FeedForwardCritic' object has no attribute '_internal_qf'"
     ]
    }
   ],
   "source": [
    "feed_dict = {\n",
    "    qf.action_input: actions,\n",
    "    qf.observation_input: random_state,\n",
    "}\n",
    "L_params, L, implicit_policy_output = qf.sess.run(\n",
    "    [qf._internal_qf.L_params.output, qf._internal_qf.L, qf.implicit_policy.output],\n",
    "    feed_dict=feed_dict\n",
    ")\n",
    "\n",
    "expected_values = -0.5 * ((actions - implicit_policy_output) * L[0][0][0])**2\n",
    "plt.plot(actions, expected_values)\n",
    "plt.xlabel('Action')\n",
    "plt.ylabel('Expected QF output')\n",
    "plt.show()"
   ]
  },
  {
   "cell_type": "code",
   "execution_count": 131,
   "metadata": {
    "collapsed": false
   },
   "outputs": [
    {
     "data": {
      "image/png": "[encoded data removed]",
      "text/plain": [
       "<matplotlib.figure.Figure at 0x11cb71ac8>"
      ]
     },
     "metadata": {},
     "output_type": "display_data"
    }
   ],
   "source": [
    "plt.plot(actions, np.abs(expected_values - qf_output))\n",
    "plt.xlabel('Action')\n",
    "plt.ylabel('QF output error')\n",
    "plt.show()"
   ]
  },
  {
   "cell_type": "markdown",
   "metadata": {},
   "source": [
    "Make sure diagonal values are exponentiated corrected"
   ]
  },
  {
   "cell_type": "code",
   "execution_count": 132,
   "metadata": {
    "collapsed": false
   },
   "outputs": [
    {
     "name": "stdout",
     "output_type": "stream",
     "text": [
      "[[ 0.04021066]]\n",
      "[ 0.04021066]\n"
     ]
    }
   ],
   "source": [
    "print(L[0])\n",
    "print(np.exp(L_params[0]))"
   ]
  },
  {
   "cell_type": "markdown",
   "metadata": {},
   "source": [
    "Make sure max action is the one taken by the implicit policy"
   ]
  },
  {
   "cell_type": "code",
   "execution_count": 133,
   "metadata": {
    "collapsed": false
   },
   "outputs": [
    {
     "name": "stdout",
     "output_type": "stream",
     "text": [
      "[[-0.04270427]]\n",
      "[-0.04267078]\n"
     ]
    }
   ],
   "source": [
    "max_index = np.argmax(qf_output, axis=0)\n",
    "print(actions[max_index])\n",
    "print(implicit_policy_output[0])"
   ]
  },
  {
   "cell_type": "markdown",
   "metadata": {},
   "source": [
    "# Plot implicit policy"
   ]
  },
  {
   "cell_type": "code",
   "execution_count": 8,
   "metadata": {
    "collapsed": false
   },
   "outputs": [
    {
     "data": {
      "image/png": "[encoded data removed]",
      "text/plain": [
       "<matplotlib.figure.Figure at 0x11c873b70>"
      ]
     },
     "metadata": {},
     "output_type": "display_data"
    },
    {
     "data": {
      "image/png": "[encoded data removed]",
      "text/plain": [
       "<matplotlib.figure.Figure at 0x11d2200f0>"
      ]
     },
     "metadata": {},
     "output_type": "display_data"
    },
    {
     "data": {
      "image/png": "[encoded data removed]",
      "text/plain": [
       "<matplotlib.figure.Figure at 0x11c8bf780>"
      ]
     },
     "metadata": {},
     "output_type": "display_data"
    },
    {
     "data": {
      "image/png": "[encoded data removed]",
      "text/plain": [
       "<matplotlib.figure.Figure at 0x11d203860>"
      ]
     },
     "metadata": {},
     "output_type": "display_data"
    }
   ],
   "source": [
    "dim_changing = 1\n",
    "for dim_changing in range(4):\n",
    "    num_states = 1000\n",
    "    random_state2 = np.random.rand(1, o_dim)\n",
    "    linear_states = np.vstack([random_state2 for _ in range(num_states)])\n",
    "    linear_states[:, dim_changing] = np.linspace(o_low, o_high, num_states)\n",
    "#     print(linear_states.shape)\n",
    "    \n",
    "    policy_output = np.vstack([qf.sess.run(\n",
    "        policy.output,\n",
    "        feed_dict={\n",
    "            policy.observation_input: np.array([state]),\n",
    "        }\n",
    "    ) for state in linear_states])\n",
    "    policy_logits = np.arctanh(policy_output)\n",
    "    \n",
    "    plt.plot(linear_states[:, dim_changing], policy_output)\n",
    "    plt.xlabel('State {0} dimension'.format(dim_changing))\n",
    "    plt.ylabel('Policy Output')\n",
    "    plt.show()"
   ]
  }
 ],
 "metadata": {
  "kernelspec": {
   "display_name": "Python 3",
   "language": "python",
   "name": "python3"
  },
  "language_info": {
   "codemirror_mode": {
    "name": "ipython",
    "version": 3
   },
   "file_extension": ".py",
   "mimetype": "text/x-python",
   "name": "python",
   "nbconvert_exporter": "python",
   "pygments_lexer": "ipython3",
   "version": "3.5.2"
  },
  "widgets": {
   "state": {},
   "version": "1.1.2"
  }
 },
 "nbformat": 4,
 "nbformat_minor": 2
}
